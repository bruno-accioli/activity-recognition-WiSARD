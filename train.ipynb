{
 "cells": [
  {
   "cell_type": "code",
   "execution_count": 1,
   "metadata": {},
   "outputs": [],
   "source": [
    "from pathlib import Path\n",
    "from time import time\n",
    "import pickle\n",
    "\n",
    "import numpy as np\n",
    "import pandas as pd\n",
    "import seaborn as sns\n",
    "import wisardpkg as wp\n",
    "from sklearn.metrics import accuracy_score\n",
    "from sklearn.model_selection import StratifiedKFold\n",
    "from sklearn.model_selection import GroupKFold\n",
    "from sklearn.model_selection import ParameterGrid\n",
    "from sklearn.metrics import ConfusionMatrixDisplay\n",
    "from sklearn.metrics import confusion_matrix\n",
    "from sklearn.model_selection import GridSearchCV\n",
    "from sklearn.ensemble import BaggingClassifier\n",
    "from sklearn.pipeline import Pipeline\n",
    "from sklearn.feature_selection import SelectPercentile\n",
    "from sklearn.feature_selection import chi2\n",
    "from tqdm import tqdm\n",
    "import matplotlib.pyplot as plt\n",
    "\n",
    "from feature_resizing import WisardFeatureResizer\n",
    "from thermometer_encoder import ThermometerEncoder\n",
    "from wisard_classifier import WisardClassifier\n",
    "\n",
    "dataset_dir = Path('UCI HAR Dataset')\n",
    "\n",
    "def plot_confusion_matrix(y_true, y_pred, display_labels=None, normalize='true'):\n",
    "    if display_labels is None:\n",
    "        display_labels = np.unique(y_true)\n",
    "            \n",
    "    cm = confusion_matrix(y_true, y_pred, normalize=normalize)\n",
    "    disp = ConfusionMatrixDisplay(confusion_matrix=cm,\n",
    "                                  display_labels=display_labels)\n",
    "    disp.plot(xticks_rotation=90)\n",
    "    disp.ax_.grid(False)\n",
    "\n",
    "\n",
    "def train_and_evaluate_model(model, X_train, y_train, X_test, y_test):\n",
    "    model.fit(X_train, y_train)\n",
    "\n",
    "    pred_train = model.predict(X_train)\n",
    "    pred_test = model.predict(X_test)\n",
    "\n",
    "    training_accuracy = accuracy_score(y_train.astype(str), pred_train.astype(str))\n",
    "    test_accuracy = accuracy_score(y_test.astype(str), pred_test.astype(str))\n",
    "\n",
    "    print(f'Training Accuracy: {training_accuracy:.4f}')\n",
    "    print(f'Test Accuracy: {test_accuracy:.4f}')\n",
    "\n",
    "    display_labels = ['WALKING', 'WALKING_UPSTAIRS', 'WALKING_DOWNSTAIRS',\n",
    "                      'SITTING', 'STANDING', 'LAYING']\n",
    "    plot_confusion_matrix(y_test.astype(str), pred_test.astype(str), \n",
    "                          display_labels=display_labels)\n",
    "    plot_confusion_matrix(y_test.astype(str), pred_test.astype(str), \n",
    "                          display_labels=display_labels,\n",
    "                          normalize=None)"
   ]
  },
  {
   "cell_type": "markdown",
   "metadata": {},
   "source": [
    "# Loading Data"
   ]
  },
  {
   "cell_type": "markdown",
   "metadata": {},
   "source": [
    "## Total Body acceleration"
   ]
  },
  {
   "cell_type": "code",
   "execution_count": 2,
   "metadata": {},
   "outputs": [],
   "source": [
    "train_total_acc_x = pd.read_csv(dataset_dir/'train/Inertial Signals/total_acc_x_train.txt', \n",
    "                          header=None, delim_whitespace=True).values\n",
    "train_total_acc_y = pd.read_csv(dataset_dir/'train/Inertial Signals/total_acc_y_train.txt', \n",
    "                          header=None, delim_whitespace=True).values\n",
    "train_total_acc_z = pd.read_csv(dataset_dir/'train/Inertial Signals/total_acc_z_train.txt', \n",
    "                          header=None, delim_whitespace=True).values\n",
    "\n",
    "test_total_acc_x = pd.read_csv(dataset_dir/'test/Inertial Signals/total_acc_x_test.txt', \n",
    "                          header=None, delim_whitespace=True).values\n",
    "test_total_acc_y = pd.read_csv(dataset_dir/'test/Inertial Signals/total_acc_y_test.txt', \n",
    "                          header=None, delim_whitespace=True).values\n",
    "test_total_acc_z = pd.read_csv(dataset_dir/'test/Inertial Signals/total_acc_z_test.txt', \n",
    "                          header=None, delim_whitespace=True).values"
   ]
  },
  {
   "cell_type": "code",
   "execution_count": 3,
   "metadata": {},
   "outputs": [
    {
     "data": {
      "text/plain": [
       "(7352, 128)"
      ]
     },
     "execution_count": 3,
     "metadata": {},
     "output_type": "execute_result"
    }
   ],
   "source": [
    "train_total_acc_x.shape"
   ]
  },
  {
   "cell_type": "code",
   "execution_count": 4,
   "metadata": {},
   "outputs": [
    {
     "data": {
      "text/plain": [
       "(2947, 128)"
      ]
     },
     "execution_count": 4,
     "metadata": {},
     "output_type": "execute_result"
    }
   ],
   "source": [
    "test_total_acc_x.shape"
   ]
  },
  {
   "cell_type": "markdown",
   "metadata": {},
   "source": [
    "## Estimated Body acceleration"
   ]
  },
  {
   "cell_type": "code",
   "execution_count": 5,
   "metadata": {},
   "outputs": [],
   "source": [
    "train_body_acc_x = pd.read_csv(dataset_dir/'train/Inertial Signals/body_acc_x_train.txt', \n",
    "                          header=None, delim_whitespace=True).values\n",
    "train_body_acc_y = pd.read_csv(dataset_dir/'train/Inertial Signals/body_acc_y_train.txt', \n",
    "                          header=None, delim_whitespace=True).values\n",
    "train_body_acc_z = pd.read_csv(dataset_dir/'train/Inertial Signals/body_acc_z_train.txt', \n",
    "                          header=None, delim_whitespace=True).values\n",
    "\n",
    "test_body_acc_x = pd.read_csv(dataset_dir/'test/Inertial Signals/body_acc_x_test.txt', \n",
    "                          header=None, delim_whitespace=True).values\n",
    "test_body_acc_y = pd.read_csv(dataset_dir/'test/Inertial Signals/body_acc_y_test.txt', \n",
    "                          header=None, delim_whitespace=True).values\n",
    "test_body_acc_z = pd.read_csv(dataset_dir/'test/Inertial Signals/body_acc_z_test.txt', \n",
    "                          header=None, delim_whitespace=True).values"
   ]
  },
  {
   "cell_type": "code",
   "execution_count": 6,
   "metadata": {},
   "outputs": [
    {
     "data": {
      "text/plain": [
       "(7352, 128)"
      ]
     },
     "execution_count": 6,
     "metadata": {},
     "output_type": "execute_result"
    }
   ],
   "source": [
    "train_body_acc_x.shape"
   ]
  },
  {
   "cell_type": "code",
   "execution_count": 7,
   "metadata": {},
   "outputs": [
    {
     "data": {
      "text/plain": [
       "(2947, 128)"
      ]
     },
     "execution_count": 7,
     "metadata": {},
     "output_type": "execute_result"
    }
   ],
   "source": [
    "test_body_acc_x.shape"
   ]
  },
  {
   "cell_type": "markdown",
   "metadata": {},
   "source": [
    "## Triaxial Angular velocity from the gyroscope"
   ]
  },
  {
   "cell_type": "code",
   "execution_count": 8,
   "metadata": {},
   "outputs": [],
   "source": [
    "train_gyro_x = pd.read_csv(dataset_dir/'train/Inertial Signals/body_gyro_x_train.txt', \n",
    "                          header=None, delim_whitespace=True).values\n",
    "train_gyro_y = pd.read_csv(dataset_dir/'train/Inertial Signals/body_gyro_y_train.txt', \n",
    "                          header=None, delim_whitespace=True).values\n",
    "train_gyro_z = pd.read_csv(dataset_dir/'train/Inertial Signals/body_gyro_z_train.txt', \n",
    "                          header=None, delim_whitespace=True).values\n",
    "\n",
    "test_gyro_x = pd.read_csv(dataset_dir/'test/Inertial Signals/body_gyro_x_test.txt', \n",
    "                          header=None, delim_whitespace=True).values\n",
    "test_gyro_y = pd.read_csv(dataset_dir/'test/Inertial Signals/body_gyro_y_test.txt', \n",
    "                          header=None, delim_whitespace=True).values\n",
    "test_gyro_z = pd.read_csv(dataset_dir/'test/Inertial Signals/body_gyro_z_test.txt', \n",
    "                          header=None, delim_whitespace=True).values"
   ]
  },
  {
   "cell_type": "code",
   "execution_count": 9,
   "metadata": {},
   "outputs": [
    {
     "data": {
      "text/plain": [
       "(7352, 128)"
      ]
     },
     "execution_count": 9,
     "metadata": {},
     "output_type": "execute_result"
    }
   ],
   "source": [
    "train_gyro_x.shape"
   ]
  },
  {
   "cell_type": "code",
   "execution_count": 10,
   "metadata": {},
   "outputs": [
    {
     "data": {
      "text/plain": [
       "(2947, 128)"
      ]
     },
     "execution_count": 10,
     "metadata": {},
     "output_type": "execute_result"
    }
   ],
   "source": [
    "test_gyro_x.shape"
   ]
  },
  {
   "cell_type": "markdown",
   "metadata": {},
   "source": [
    "## Engineered features"
   ]
  },
  {
   "cell_type": "code",
   "execution_count": 11,
   "metadata": {},
   "outputs": [],
   "source": [
    "train_eng = pd.read_csv(dataset_dir/'train/X_train.txt', \n",
    "                        header=None, delim_whitespace=True).values\n",
    "\n",
    "test_eng = pd.read_csv(dataset_dir/'test/X_test.txt', \n",
    "                       header=None, delim_whitespace=True).values"
   ]
  },
  {
   "cell_type": "code",
   "execution_count": 12,
   "metadata": {},
   "outputs": [
    {
     "data": {
      "text/plain": [
       "(7352, 561)"
      ]
     },
     "execution_count": 12,
     "metadata": {},
     "output_type": "execute_result"
    }
   ],
   "source": [
    "train_eng.shape"
   ]
  },
  {
   "cell_type": "code",
   "execution_count": 13,
   "metadata": {},
   "outputs": [
    {
     "data": {
      "text/plain": [
       "(2947, 561)"
      ]
     },
     "execution_count": 13,
     "metadata": {},
     "output_type": "execute_result"
    }
   ],
   "source": [
    "test_eng.shape"
   ]
  },
  {
   "cell_type": "markdown",
   "metadata": {},
   "source": [
    "## Subjects"
   ]
  },
  {
   "cell_type": "code",
   "execution_count": 14,
   "metadata": {},
   "outputs": [
    {
     "data": {
      "text/plain": [
       "(7352, 1)"
      ]
     },
     "execution_count": 14,
     "metadata": {},
     "output_type": "execute_result"
    }
   ],
   "source": [
    "train_subjects = pd.read_csv(dataset_dir/'train/subject_train.txt', delim_whitespace=True, header=None).values\n",
    "\n",
    "train_subjects.shape"
   ]
  },
  {
   "cell_type": "code",
   "execution_count": 15,
   "metadata": {},
   "outputs": [
    {
     "data": {
      "text/plain": [
       "(2947, 1)"
      ]
     },
     "execution_count": 15,
     "metadata": {},
     "output_type": "execute_result"
    }
   ],
   "source": [
    "test_subjects = pd.read_csv(dataset_dir/'test/subject_test.txt', delim_whitespace=True, header=None).values\n",
    "\n",
    "test_subjects.shape"
   ]
  },
  {
   "cell_type": "markdown",
   "metadata": {},
   "source": [
    "## Labels\n",
    "\n",
    "There are 6 types os activites to be recognized in the dataset:\n",
    "\n",
    "1. WALKING\n",
    "2. WALKING_UPSTAIRS\n",
    "3. WALKING_DOWNSTAIRS\n",
    "4. SITTING\n",
    "5. STANDING\n",
    "6. LAYING"
   ]
  },
  {
   "cell_type": "code",
   "execution_count": 16,
   "metadata": {},
   "outputs": [
    {
     "data": {
      "text/plain": [
       "(7352, 1)"
      ]
     },
     "execution_count": 16,
     "metadata": {},
     "output_type": "execute_result"
    }
   ],
   "source": [
    "train_labels = pd.read_csv(dataset_dir/'train/y_train.txt', delim_whitespace=True, header=None).values\n",
    "\n",
    "train_labels.shape"
   ]
  },
  {
   "cell_type": "code",
   "execution_count": 17,
   "metadata": {},
   "outputs": [
    {
     "data": {
      "text/plain": [
       "(2947, 1)"
      ]
     },
     "execution_count": 17,
     "metadata": {},
     "output_type": "execute_result"
    }
   ],
   "source": [
    "test_labels = pd.read_csv(dataset_dir/'test/y_test.txt', delim_whitespace=True, header=None).values\n",
    "\n",
    "test_labels.shape"
   ]
  },
  {
   "cell_type": "code",
   "execution_count": 18,
   "metadata": {},
   "outputs": [
    {
     "data": {
      "text/plain": [
       "6    1944\n",
       "5    1906\n",
       "4    1777\n",
       "1    1722\n",
       "2    1544\n",
       "3    1406\n",
       "dtype: int64"
      ]
     },
     "execution_count": 18,
     "metadata": {},
     "output_type": "execute_result"
    }
   ],
   "source": [
    "pd.DataFrame(np.concatenate((train_labels, test_labels), axis=0)).value_counts()"
   ]
  },
  {
   "cell_type": "markdown",
   "metadata": {},
   "source": [
    "# 2. Data transformation\n",
    "\n",
    "The sampled signals will be transformed to a 2D matrix where each column represents a different feature and each row represents the subsequent timestep value of each feature. So, the final array will have indexes representing [sample, timestep, feature]."
   ]
  },
  {
   "cell_type": "code",
   "execution_count": 19,
   "metadata": {},
   "outputs": [],
   "source": [
    "def group_signals(signals_list):\n",
    "    signals_set = list()\n",
    "    for signal in signals_list:\n",
    "        signals_set.append(signal)\n",
    "    signals_set = np.dstack(signals_set)\n",
    "    return signals_set"
   ]
  },
  {
   "cell_type": "code",
   "execution_count": 20,
   "metadata": {},
   "outputs": [
    {
     "data": {
      "text/plain": [
       "(7352, 128, 9)"
      ]
     },
     "execution_count": 20,
     "metadata": {},
     "output_type": "execute_result"
    }
   ],
   "source": [
    "train_signals = [train_total_acc_x, train_total_acc_y, train_total_acc_z,\n",
    "                 train_body_acc_x, train_body_acc_y, train_body_acc_z,\n",
    "                 train_gyro_x, train_gyro_y, train_gyro_z]\n",
    "\n",
    "train_set_signals = group_signals(train_signals)\n",
    "train_set_signals.shape"
   ]
  },
  {
   "cell_type": "code",
   "execution_count": 21,
   "metadata": {},
   "outputs": [
    {
     "data": {
      "text/plain": [
       "(2947, 128, 9)"
      ]
     },
     "execution_count": 21,
     "metadata": {},
     "output_type": "execute_result"
    }
   ],
   "source": [
    "test_signals = [test_total_acc_x, test_total_acc_y, test_total_acc_z,\n",
    "                 test_body_acc_x, test_body_acc_y, test_body_acc_z,\n",
    "                 test_gyro_x, test_gyro_y, test_gyro_z]\n",
    "test_set_signals = group_signals(test_signals)\n",
    "test_set_signals.shape"
   ]
  },
  {
   "cell_type": "markdown",
   "metadata": {},
   "source": [
    "# 3. Model training"
   ]
  },
  {
   "cell_type": "markdown",
   "metadata": {},
   "source": [
    "## 3.1. Model 1: WiSARD\n",
    "\n",
    "This model uses Thermometer encoding and the enginnered features to make the prediction."
   ]
  },
  {
   "cell_type": "code",
   "execution_count": 22,
   "metadata": {},
   "outputs": [],
   "source": [
    "def cross_validation_model1(X, y, n_splits=5, addressSize=[50], thermometer_size=[5], bleachingActivated=[True], \n",
    "                            thermometer_columns=None):\n",
    "    grid_search_results = []\n",
    "    best_params = None\n",
    "    best_accuracy = -1\n",
    "    \n",
    "    if not thermometer_columns:\n",
    "        thermometer_columns = list(range(X.shape[1]))\n",
    "    \n",
    "    param_grid_dict = dict()\n",
    "    param_grid_dict['thermometer_size'] = thermometer_size\n",
    "    param_grid_dict['addressSize'] = addressSize\n",
    "    param_grid_dict['bleachingActivated'] = bleachingActivated\n",
    "    \n",
    "    skf = StratifiedKFold(n_splits=n_splits)\n",
    "    \n",
    "    param_grid = ParameterGrid(param_grid_dict)\n",
    "    \n",
    "    param_grid_combinations = len(list(param_grid))\n",
    "    n_combs = n_splits * param_grid_combinations\n",
    "    progress = tqdm(total=n_combs, position=0, leave=True)\n",
    "    \n",
    "    for params in param_grid:\n",
    "        print(params)\n",
    "        training_time = []\n",
    "        training_prediction_time = []\n",
    "        validation_prediction_time = []\n",
    "        thermometer_time = []\n",
    "        training_accuracy = []\n",
    "        validation_accuracy = []\n",
    "        for train_index, val_index in skf.split(X, y):\n",
    "            X_train = X[train_index, :]\n",
    "            y_train = y[train_index]\n",
    "            y_train_str = [str(l) for l in y_train]\n",
    "            \n",
    "            X_val = X[val_index, :]\n",
    "            y_val = y[val_index]\n",
    "            y_val_str = [str(l) for l in y_val]\n",
    "            \n",
    "            model = wp.Wisard(params['addressSize'], bleachingActivated=params['bleachingActivated'])\n",
    "            thermometer = ThermometerEncoder(thermometer_columns, n_bits=params['thermometer_size'])\n",
    "            \n",
    "            start = time()\n",
    "            X_train = thermometer.fit_transform(X_train).astype(int).tolist()\n",
    "            X_val = thermometer.transform(X_val).astype(int).tolist()\n",
    "            end = time()\n",
    "            thermometer_time.append(end-start)\n",
    "            \n",
    "            start = time()\n",
    "            model.train(X_train, y_train_str)\n",
    "            end = time()\n",
    "            training_time.append(end-start)\n",
    "            \n",
    "            start = time()\n",
    "            pred_train = model.classify(X_train)\n",
    "            end = time()\n",
    "            training_prediction_time.append(end-start)\n",
    "            \n",
    "            start = time()\n",
    "            pred_val = model.classify(X_val)\n",
    "            end = time()\n",
    "            validation_prediction_time.append(end-start)\n",
    "            \n",
    "            training_accuracy.append(accuracy_score(y_train_str, pred_train))\n",
    "            \n",
    "            validation_accuracy.append(accuracy_score(y_val_str, pred_val))\n",
    "            \n",
    "            progress.update()\n",
    "        \n",
    "        cv_result = {'training_time_mean': np.mean(training_time),\n",
    "                     'training_time_std': np.std(training_time),\n",
    "                     'training_prediction_time_mean': np.mean(training_prediction_time),\n",
    "                     'training_prediction_time_std': np.std(training_prediction_time),\n",
    "                     'validation_prediction_time_mean': np.mean(validation_prediction_time),\n",
    "                     'validation_prediction_time_std': np.std(validation_prediction_time),\n",
    "                     'thermometer_time_mean': np.mean(thermometer_time),\n",
    "                     'thermometer_time_std': np.std(thermometer_time),\n",
    "                     'training_accuracy_mean': np.mean(training_accuracy),\n",
    "                     'training_accuracy_std': np.std(training_accuracy),\n",
    "                     'validation_accuracy_mean': np.mean(validation_accuracy),\n",
    "                     'validation_accuracy_std': np.std(validation_accuracy)}\n",
    "        \n",
    "        cv_result = {**params, **cv_result}\n",
    "        \n",
    "        grid_search_results.append(cv_result)\n",
    "        \n",
    "        if (cv_result['validation_accuracy_mean'] > best_accuracy):\n",
    "            best_accuracy = cv_result['validation_accuracy_mean']\n",
    "            best_params = params\n",
    "        \n",
    "        print(f\"Train acc. mean: {cv_result['training_accuracy_mean']:.4f} | Validation acc. mean: {cv_result['validation_accuracy_mean']:.4f}\\n\")\n",
    "    \n",
    "    grid_search_results = pd.DataFrame(grid_search_results)\n",
    "    grid_search_results['rank'] = grid_search_results['validation_accuracy_mean'].rank(ascending=False)\n",
    "    \n",
    "    return grid_search_results, best_params\n",
    "\n",
    "\n",
    "def cross_validation_model1(X, y, subjects, n_splits=5, addressSize=[50], \n",
    "                            bleachingActivated=[True], thermometer_size=[20]):\n",
    "    \n",
    "    model = Pipeline([('thermometer', ThermometerEncoder(quantile_based=False)), \n",
    "                     ('wisard', WisardClassifier())])\n",
    "    \n",
    "    param_grid = [{'thermometer__n_bits': thermometer_size,\n",
    "                   'wisard__address_size': addressSize}]\n",
    "    \n",
    "    cv = GroupKFold(n_splits=n_splits)\n",
    "    gs = GridSearchCV(model, param_grid, cv=cv, n_jobs=2, verbose=4)\n",
    "    \n",
    "    gs.fit(X, y, groups=subjects)\n",
    "    \n",
    "    return gs.cv_results_, gs.best_params_"
   ]
  },
  {
   "cell_type": "code",
   "execution_count": 29,
   "metadata": {
    "scrolled": true
   },
   "outputs": [
    {
     "name": "stdout",
     "output_type": "stream",
     "text": [
      "Fitting 5 folds for each of 36 candidates, totalling 180 fits\n"
     ]
    }
   ],
   "source": [
    "addressSize = [8, 10, 12, 14, 16, 18]\n",
    "thermometer_size = [40, 50, 60, 70, 80, 90]\n",
    "gs_model1, best_params_model1 = cross_validation_model1(train_eng, train_labels, train_subjects, n_splits=5, \n",
    "                                                        addressSize=addressSize, thermometer_size=thermometer_size, \n",
    "                                                        bleachingActivated=[True, False])"
   ]
  },
  {
   "cell_type": "code",
   "execution_count": 30,
   "metadata": {},
   "outputs": [
    {
     "data": {
      "text/plain": [
       "{'thermometer__n_bits': 90, 'wisard__address_size': 18}"
      ]
     },
     "execution_count": 30,
     "metadata": {},
     "output_type": "execute_result"
    }
   ],
   "source": [
    "with open('results/model1_best_params.pickle', 'wb') as file:\n",
    "    pickle.dump(best_params_model1, file)\n",
    "    \n",
    "best_params_model1"
   ]
  },
  {
   "cell_type": "code",
   "execution_count": 31,
   "metadata": {},
   "outputs": [
    {
     "data": {
      "text/html": [
       "<div>\n",
       "<style scoped>\n",
       "    .dataframe tbody tr th:only-of-type {\n",
       "        vertical-align: middle;\n",
       "    }\n",
       "\n",
       "    .dataframe tbody tr th {\n",
       "        vertical-align: top;\n",
       "    }\n",
       "\n",
       "    .dataframe thead th {\n",
       "        text-align: right;\n",
       "    }\n",
       "</style>\n",
       "<table border=\"1\" class=\"dataframe\">\n",
       "  <thead>\n",
       "    <tr style=\"text-align: right;\">\n",
       "      <th></th>\n",
       "      <th>mean_fit_time</th>\n",
       "      <th>std_fit_time</th>\n",
       "      <th>mean_score_time</th>\n",
       "      <th>std_score_time</th>\n",
       "      <th>param_thermometer__n_bits</th>\n",
       "      <th>param_wisard__address_size</th>\n",
       "      <th>params</th>\n",
       "      <th>split0_test_score</th>\n",
       "      <th>split1_test_score</th>\n",
       "      <th>split2_test_score</th>\n",
       "      <th>split3_test_score</th>\n",
       "      <th>split4_test_score</th>\n",
       "      <th>mean_test_score</th>\n",
       "      <th>std_test_score</th>\n",
       "      <th>rank_test_score</th>\n",
       "    </tr>\n",
       "  </thead>\n",
       "  <tbody>\n",
       "    <tr>\n",
       "      <th>0</th>\n",
       "      <td>17.066845</td>\n",
       "      <td>1.682982</td>\n",
       "      <td>9.510866</td>\n",
       "      <td>0.246013</td>\n",
       "      <td>90</td>\n",
       "      <td>18</td>\n",
       "      <td>{'thermometer__n_bits': 90, 'wisard__address_s...</td>\n",
       "      <td>0.796479</td>\n",
       "      <td>0.841549</td>\n",
       "      <td>0.944954</td>\n",
       "      <td>0.903546</td>\n",
       "      <td>0.905045</td>\n",
       "      <td>0.878315</td>\n",
       "      <td>0.052613</td>\n",
       "      <td>1</td>\n",
       "    </tr>\n",
       "    <tr>\n",
       "      <th>1</th>\n",
       "      <td>16.229752</td>\n",
       "      <td>0.189793</td>\n",
       "      <td>10.993691</td>\n",
       "      <td>0.707442</td>\n",
       "      <td>90</td>\n",
       "      <td>16</td>\n",
       "      <td>{'thermometer__n_bits': 90, 'wisard__address_s...</td>\n",
       "      <td>0.786620</td>\n",
       "      <td>0.847183</td>\n",
       "      <td>0.938603</td>\n",
       "      <td>0.900000</td>\n",
       "      <td>0.899703</td>\n",
       "      <td>0.874422</td>\n",
       "      <td>0.052657</td>\n",
       "      <td>2</td>\n",
       "    </tr>\n",
       "    <tr>\n",
       "      <th>2</th>\n",
       "      <td>11.939881</td>\n",
       "      <td>0.809144</td>\n",
       "      <td>7.658699</td>\n",
       "      <td>0.766632</td>\n",
       "      <td>70</td>\n",
       "      <td>18</td>\n",
       "      <td>{'thermometer__n_bits': 70, 'wisard__address_s...</td>\n",
       "      <td>0.795070</td>\n",
       "      <td>0.838028</td>\n",
       "      <td>0.937191</td>\n",
       "      <td>0.900000</td>\n",
       "      <td>0.898516</td>\n",
       "      <td>0.873761</td>\n",
       "      <td>0.050584</td>\n",
       "      <td>3</td>\n",
       "    </tr>\n",
       "    <tr>\n",
       "      <th>3</th>\n",
       "      <td>12.053583</td>\n",
       "      <td>0.841440</td>\n",
       "      <td>8.214288</td>\n",
       "      <td>0.529839</td>\n",
       "      <td>70</td>\n",
       "      <td>16</td>\n",
       "      <td>{'thermometer__n_bits': 70, 'wisard__address_s...</td>\n",
       "      <td>0.792958</td>\n",
       "      <td>0.847183</td>\n",
       "      <td>0.934368</td>\n",
       "      <td>0.892908</td>\n",
       "      <td>0.893175</td>\n",
       "      <td>0.872118</td>\n",
       "      <td>0.048247</td>\n",
       "      <td>4</td>\n",
       "    </tr>\n",
       "    <tr>\n",
       "      <th>4</th>\n",
       "      <td>16.377369</td>\n",
       "      <td>2.205780</td>\n",
       "      <td>9.461696</td>\n",
       "      <td>0.684820</td>\n",
       "      <td>80</td>\n",
       "      <td>18</td>\n",
       "      <td>{'thermometer__n_bits': 80, 'wisard__address_s...</td>\n",
       "      <td>0.795070</td>\n",
       "      <td>0.844366</td>\n",
       "      <td>0.931546</td>\n",
       "      <td>0.887234</td>\n",
       "      <td>0.899703</td>\n",
       "      <td>0.871584</td>\n",
       "      <td>0.047384</td>\n",
       "      <td>5</td>\n",
       "    </tr>\n",
       "    <tr>\n",
       "      <th>5</th>\n",
       "      <td>11.964073</td>\n",
       "      <td>1.924165</td>\n",
       "      <td>6.877695</td>\n",
       "      <td>0.711564</td>\n",
       "      <td>60</td>\n",
       "      <td>18</td>\n",
       "      <td>{'thermometer__n_bits': 60, 'wisard__address_s...</td>\n",
       "      <td>0.785211</td>\n",
       "      <td>0.849296</td>\n",
       "      <td>0.921665</td>\n",
       "      <td>0.900000</td>\n",
       "      <td>0.896142</td>\n",
       "      <td>0.870463</td>\n",
       "      <td>0.048723</td>\n",
       "      <td>6</td>\n",
       "    </tr>\n",
       "    <tr>\n",
       "      <th>6</th>\n",
       "      <td>14.569508</td>\n",
       "      <td>0.855140</td>\n",
       "      <td>9.938658</td>\n",
       "      <td>0.670966</td>\n",
       "      <td>80</td>\n",
       "      <td>16</td>\n",
       "      <td>{'thermometer__n_bits': 80, 'wisard__address_s...</td>\n",
       "      <td>0.783099</td>\n",
       "      <td>0.849296</td>\n",
       "      <td>0.941426</td>\n",
       "      <td>0.885106</td>\n",
       "      <td>0.890208</td>\n",
       "      <td>0.869827</td>\n",
       "      <td>0.052380</td>\n",
       "      <td>7</td>\n",
       "    </tr>\n",
       "    <tr>\n",
       "      <th>7</th>\n",
       "      <td>7.942177</td>\n",
       "      <td>0.418580</td>\n",
       "      <td>4.610472</td>\n",
       "      <td>0.342649</td>\n",
       "      <td>50</td>\n",
       "      <td>18</td>\n",
       "      <td>{'thermometer__n_bits': 50, 'wisard__address_s...</td>\n",
       "      <td>0.784507</td>\n",
       "      <td>0.842254</td>\n",
       "      <td>0.934368</td>\n",
       "      <td>0.891489</td>\n",
       "      <td>0.896142</td>\n",
       "      <td>0.869752</td>\n",
       "      <td>0.051705</td>\n",
       "      <td>8</td>\n",
       "    </tr>\n",
       "    <tr>\n",
       "      <th>8</th>\n",
       "      <td>16.131705</td>\n",
       "      <td>2.408733</td>\n",
       "      <td>10.715128</td>\n",
       "      <td>1.249670</td>\n",
       "      <td>80</td>\n",
       "      <td>14</td>\n",
       "      <td>{'thermometer__n_bits': 80, 'wisard__address_s...</td>\n",
       "      <td>0.792254</td>\n",
       "      <td>0.836620</td>\n",
       "      <td>0.940014</td>\n",
       "      <td>0.890780</td>\n",
       "      <td>0.886647</td>\n",
       "      <td>0.869263</td>\n",
       "      <td>0.050531</td>\n",
       "      <td>9</td>\n",
       "    </tr>\n",
       "    <tr>\n",
       "      <th>9</th>\n",
       "      <td>9.617191</td>\n",
       "      <td>0.550254</td>\n",
       "      <td>7.158533</td>\n",
       "      <td>0.393271</td>\n",
       "      <td>60</td>\n",
       "      <td>16</td>\n",
       "      <td>{'thermometer__n_bits': 60, 'wisard__address_s...</td>\n",
       "      <td>0.788732</td>\n",
       "      <td>0.827465</td>\n",
       "      <td>0.949894</td>\n",
       "      <td>0.882979</td>\n",
       "      <td>0.893175</td>\n",
       "      <td>0.868449</td>\n",
       "      <td>0.055660</td>\n",
       "      <td>10</td>\n",
       "    </tr>\n",
       "    <tr>\n",
       "      <th>10</th>\n",
       "      <td>15.986726</td>\n",
       "      <td>0.537324</td>\n",
       "      <td>11.107071</td>\n",
       "      <td>0.791644</td>\n",
       "      <td>90</td>\n",
       "      <td>14</td>\n",
       "      <td>{'thermometer__n_bits': 90, 'wisard__address_s...</td>\n",
       "      <td>0.778873</td>\n",
       "      <td>0.823239</td>\n",
       "      <td>0.947071</td>\n",
       "      <td>0.894326</td>\n",
       "      <td>0.897923</td>\n",
       "      <td>0.868287</td>\n",
       "      <td>0.059645</td>\n",
       "      <td>11</td>\n",
       "    </tr>\n",
       "    <tr>\n",
       "      <th>11</th>\n",
       "      <td>12.092174</td>\n",
       "      <td>1.580223</td>\n",
       "      <td>8.038685</td>\n",
       "      <td>0.608499</td>\n",
       "      <td>70</td>\n",
       "      <td>14</td>\n",
       "      <td>{'thermometer__n_bits': 70, 'wisard__address_s...</td>\n",
       "      <td>0.778873</td>\n",
       "      <td>0.831690</td>\n",
       "      <td>0.935074</td>\n",
       "      <td>0.888652</td>\n",
       "      <td>0.890801</td>\n",
       "      <td>0.865018</td>\n",
       "      <td>0.054153</td>\n",
       "      <td>12</td>\n",
       "    </tr>\n",
       "    <tr>\n",
       "      <th>12</th>\n",
       "      <td>9.562463</td>\n",
       "      <td>0.259272</td>\n",
       "      <td>7.522774</td>\n",
       "      <td>0.479485</td>\n",
       "      <td>60</td>\n",
       "      <td>14</td>\n",
       "      <td>{'thermometer__n_bits': 60, 'wisard__address_s...</td>\n",
       "      <td>0.791549</td>\n",
       "      <td>0.835915</td>\n",
       "      <td>0.929428</td>\n",
       "      <td>0.880851</td>\n",
       "      <td>0.884866</td>\n",
       "      <td>0.864522</td>\n",
       "      <td>0.046982</td>\n",
       "      <td>13</td>\n",
       "    </tr>\n",
       "    <tr>\n",
       "      <th>13</th>\n",
       "      <td>6.865470</td>\n",
       "      <td>0.131500</td>\n",
       "      <td>4.040028</td>\n",
       "      <td>0.345422</td>\n",
       "      <td>40</td>\n",
       "      <td>18</td>\n",
       "      <td>{'thermometer__n_bits': 40, 'wisard__address_s...</td>\n",
       "      <td>0.776761</td>\n",
       "      <td>0.822535</td>\n",
       "      <td>0.928723</td>\n",
       "      <td>0.896454</td>\n",
       "      <td>0.896736</td>\n",
       "      <td>0.864242</td>\n",
       "      <td>0.055935</td>\n",
       "      <td>14</td>\n",
       "    </tr>\n",
       "    <tr>\n",
       "      <th>14</th>\n",
       "      <td>7.681657</td>\n",
       "      <td>0.591044</td>\n",
       "      <td>5.637492</td>\n",
       "      <td>0.326617</td>\n",
       "      <td>50</td>\n",
       "      <td>12</td>\n",
       "      <td>{'thermometer__n_bits': 50, 'wisard__address_s...</td>\n",
       "      <td>0.780282</td>\n",
       "      <td>0.828169</td>\n",
       "      <td>0.925900</td>\n",
       "      <td>0.895035</td>\n",
       "      <td>0.890208</td>\n",
       "      <td>0.863919</td>\n",
       "      <td>0.052487</td>\n",
       "      <td>15</td>\n",
       "    </tr>\n",
       "    <tr>\n",
       "      <th>15</th>\n",
       "      <td>15.729911</td>\n",
       "      <td>0.917982</td>\n",
       "      <td>11.978607</td>\n",
       "      <td>1.144732</td>\n",
       "      <td>90</td>\n",
       "      <td>12</td>\n",
       "      <td>{'thermometer__n_bits': 90, 'wisard__address_s...</td>\n",
       "      <td>0.776761</td>\n",
       "      <td>0.833099</td>\n",
       "      <td>0.935074</td>\n",
       "      <td>0.878723</td>\n",
       "      <td>0.887834</td>\n",
       "      <td>0.862298</td>\n",
       "      <td>0.053642</td>\n",
       "      <td>16</td>\n",
       "    </tr>\n",
       "    <tr>\n",
       "      <th>16</th>\n",
       "      <td>6.957132</td>\n",
       "      <td>0.324562</td>\n",
       "      <td>4.589866</td>\n",
       "      <td>0.224515</td>\n",
       "      <td>40</td>\n",
       "      <td>16</td>\n",
       "      <td>{'thermometer__n_bits': 40, 'wisard__address_s...</td>\n",
       "      <td>0.778169</td>\n",
       "      <td>0.832394</td>\n",
       "      <td>0.923783</td>\n",
       "      <td>0.886525</td>\n",
       "      <td>0.887240</td>\n",
       "      <td>0.861622</td>\n",
       "      <td>0.050910</td>\n",
       "      <td>17</td>\n",
       "    </tr>\n",
       "    <tr>\n",
       "      <th>17</th>\n",
       "      <td>7.959197</td>\n",
       "      <td>0.218198</td>\n",
       "      <td>5.538182</td>\n",
       "      <td>0.215013</td>\n",
       "      <td>50</td>\n",
       "      <td>16</td>\n",
       "      <td>{'thermometer__n_bits': 50, 'wisard__address_s...</td>\n",
       "      <td>0.778873</td>\n",
       "      <td>0.824648</td>\n",
       "      <td>0.928723</td>\n",
       "      <td>0.887234</td>\n",
       "      <td>0.887834</td>\n",
       "      <td>0.861462</td>\n",
       "      <td>0.053028</td>\n",
       "      <td>18</td>\n",
       "    </tr>\n",
       "    <tr>\n",
       "      <th>18</th>\n",
       "      <td>7.682193</td>\n",
       "      <td>0.162771</td>\n",
       "      <td>5.016434</td>\n",
       "      <td>0.385776</td>\n",
       "      <td>50</td>\n",
       "      <td>14</td>\n",
       "      <td>{'thermometer__n_bits': 50, 'wisard__address_s...</td>\n",
       "      <td>0.768310</td>\n",
       "      <td>0.835211</td>\n",
       "      <td>0.945660</td>\n",
       "      <td>0.868794</td>\n",
       "      <td>0.879525</td>\n",
       "      <td>0.859500</td>\n",
       "      <td>0.057994</td>\n",
       "      <td>19</td>\n",
       "    </tr>\n",
       "    <tr>\n",
       "      <th>19</th>\n",
       "      <td>16.208116</td>\n",
       "      <td>2.578129</td>\n",
       "      <td>10.011078</td>\n",
       "      <td>1.035321</td>\n",
       "      <td>70</td>\n",
       "      <td>10</td>\n",
       "      <td>{'thermometer__n_bits': 70, 'wisard__address_s...</td>\n",
       "      <td>0.779577</td>\n",
       "      <td>0.828873</td>\n",
       "      <td>0.929428</td>\n",
       "      <td>0.872340</td>\n",
       "      <td>0.887240</td>\n",
       "      <td>0.859492</td>\n",
       "      <td>0.051284</td>\n",
       "      <td>20</td>\n",
       "    </tr>\n",
       "    <tr>\n",
       "      <th>20</th>\n",
       "      <td>18.236819</td>\n",
       "      <td>4.589119</td>\n",
       "      <td>10.992527</td>\n",
       "      <td>0.768593</td>\n",
       "      <td>80</td>\n",
       "      <td>12</td>\n",
       "      <td>{'thermometer__n_bits': 80, 'wisard__address_s...</td>\n",
       "      <td>0.780986</td>\n",
       "      <td>0.832394</td>\n",
       "      <td>0.934368</td>\n",
       "      <td>0.858156</td>\n",
       "      <td>0.887834</td>\n",
       "      <td>0.858748</td>\n",
       "      <td>0.051587</td>\n",
       "      <td>21</td>\n",
       "    </tr>\n",
       "    <tr>\n",
       "      <th>21</th>\n",
       "      <td>13.825417</td>\n",
       "      <td>1.699859</td>\n",
       "      <td>10.526673</td>\n",
       "      <td>1.522069</td>\n",
       "      <td>70</td>\n",
       "      <td>12</td>\n",
       "      <td>{'thermometer__n_bits': 70, 'wisard__address_s...</td>\n",
       "      <td>0.777465</td>\n",
       "      <td>0.824648</td>\n",
       "      <td>0.927311</td>\n",
       "      <td>0.870922</td>\n",
       "      <td>0.889021</td>\n",
       "      <td>0.857873</td>\n",
       "      <td>0.052022</td>\n",
       "      <td>22</td>\n",
       "    </tr>\n",
       "    <tr>\n",
       "      <th>22</th>\n",
       "      <td>9.724916</td>\n",
       "      <td>0.860230</td>\n",
       "      <td>7.923129</td>\n",
       "      <td>0.567906</td>\n",
       "      <td>60</td>\n",
       "      <td>12</td>\n",
       "      <td>{'thermometer__n_bits': 60, 'wisard__address_s...</td>\n",
       "      <td>0.789437</td>\n",
       "      <td>0.819014</td>\n",
       "      <td>0.923783</td>\n",
       "      <td>0.867376</td>\n",
       "      <td>0.884866</td>\n",
       "      <td>0.856895</td>\n",
       "      <td>0.047648</td>\n",
       "      <td>23</td>\n",
       "    </tr>\n",
       "    <tr>\n",
       "      <th>23</th>\n",
       "      <td>16.954368</td>\n",
       "      <td>1.188778</td>\n",
       "      <td>11.852208</td>\n",
       "      <td>0.813836</td>\n",
       "      <td>90</td>\n",
       "      <td>10</td>\n",
       "      <td>{'thermometer__n_bits': 90, 'wisard__address_s...</td>\n",
       "      <td>0.792958</td>\n",
       "      <td>0.818310</td>\n",
       "      <td>0.921665</td>\n",
       "      <td>0.860284</td>\n",
       "      <td>0.887834</td>\n",
       "      <td>0.856210</td>\n",
       "      <td>0.046343</td>\n",
       "      <td>24</td>\n",
       "    </tr>\n",
       "    <tr>\n",
       "      <th>24</th>\n",
       "      <td>15.530847</td>\n",
       "      <td>0.848876</td>\n",
       "      <td>12.127747</td>\n",
       "      <td>2.714365</td>\n",
       "      <td>80</td>\n",
       "      <td>10</td>\n",
       "      <td>{'thermometer__n_bits': 80, 'wisard__address_s...</td>\n",
       "      <td>0.765493</td>\n",
       "      <td>0.823944</td>\n",
       "      <td>0.924488</td>\n",
       "      <td>0.870922</td>\n",
       "      <td>0.890801</td>\n",
       "      <td>0.855130</td>\n",
       "      <td>0.055389</td>\n",
       "      <td>25</td>\n",
       "    </tr>\n",
       "    <tr>\n",
       "      <th>25</th>\n",
       "      <td>6.825677</td>\n",
       "      <td>0.715051</td>\n",
       "      <td>4.910107</td>\n",
       "      <td>0.584990</td>\n",
       "      <td>40</td>\n",
       "      <td>12</td>\n",
       "      <td>{'thermometer__n_bits': 40, 'wisard__address_s...</td>\n",
       "      <td>0.767606</td>\n",
       "      <td>0.824648</td>\n",
       "      <td>0.925194</td>\n",
       "      <td>0.873050</td>\n",
       "      <td>0.877151</td>\n",
       "      <td>0.853530</td>\n",
       "      <td>0.053464</td>\n",
       "      <td>26</td>\n",
       "    </tr>\n",
       "    <tr>\n",
       "      <th>26</th>\n",
       "      <td>18.974420</td>\n",
       "      <td>2.292326</td>\n",
       "      <td>14.649129</td>\n",
       "      <td>1.397053</td>\n",
       "      <td>90</td>\n",
       "      <td>8</td>\n",
       "      <td>{'thermometer__n_bits': 90, 'wisard__address_s...</td>\n",
       "      <td>0.785915</td>\n",
       "      <td>0.813380</td>\n",
       "      <td>0.925194</td>\n",
       "      <td>0.856738</td>\n",
       "      <td>0.884866</td>\n",
       "      <td>0.853219</td>\n",
       "      <td>0.049621</td>\n",
       "      <td>27</td>\n",
       "    </tr>\n",
       "    <tr>\n",
       "      <th>27</th>\n",
       "      <td>6.388621</td>\n",
       "      <td>0.413469</td>\n",
       "      <td>4.268795</td>\n",
       "      <td>0.508931</td>\n",
       "      <td>40</td>\n",
       "      <td>14</td>\n",
       "      <td>{'thermometer__n_bits': 40, 'wisard__address_s...</td>\n",
       "      <td>0.775352</td>\n",
       "      <td>0.807746</td>\n",
       "      <td>0.918843</td>\n",
       "      <td>0.878014</td>\n",
       "      <td>0.881899</td>\n",
       "      <td>0.852371</td>\n",
       "      <td>0.052671</td>\n",
       "      <td>28</td>\n",
       "    </tr>\n",
       "    <tr>\n",
       "      <th>28</th>\n",
       "      <td>9.150845</td>\n",
       "      <td>0.178806</td>\n",
       "      <td>6.191999</td>\n",
       "      <td>0.447912</td>\n",
       "      <td>50</td>\n",
       "      <td>10</td>\n",
       "      <td>{'thermometer__n_bits': 50, 'wisard__address_s...</td>\n",
       "      <td>0.773944</td>\n",
       "      <td>0.821127</td>\n",
       "      <td>0.904023</td>\n",
       "      <td>0.874468</td>\n",
       "      <td>0.882493</td>\n",
       "      <td>0.851211</td>\n",
       "      <td>0.047294</td>\n",
       "      <td>29</td>\n",
       "    </tr>\n",
       "    <tr>\n",
       "      <th>29</th>\n",
       "      <td>18.626811</td>\n",
       "      <td>3.528768</td>\n",
       "      <td>12.167753</td>\n",
       "      <td>0.822365</td>\n",
       "      <td>80</td>\n",
       "      <td>8</td>\n",
       "      <td>{'thermometer__n_bits': 80, 'wisard__address_s...</td>\n",
       "      <td>0.771831</td>\n",
       "      <td>0.811268</td>\n",
       "      <td>0.922371</td>\n",
       "      <td>0.865248</td>\n",
       "      <td>0.881306</td>\n",
       "      <td>0.850405</td>\n",
       "      <td>0.053028</td>\n",
       "      <td>30</td>\n",
       "    </tr>\n",
       "    <tr>\n",
       "      <th>30</th>\n",
       "      <td>9.274311</td>\n",
       "      <td>0.213112</td>\n",
       "      <td>6.849939</td>\n",
       "      <td>0.516334</td>\n",
       "      <td>60</td>\n",
       "      <td>10</td>\n",
       "      <td>{'thermometer__n_bits': 60, 'wisard__address_s...</td>\n",
       "      <td>0.772535</td>\n",
       "      <td>0.816197</td>\n",
       "      <td>0.910374</td>\n",
       "      <td>0.851773</td>\n",
       "      <td>0.883680</td>\n",
       "      <td>0.846912</td>\n",
       "      <td>0.048741</td>\n",
       "      <td>31</td>\n",
       "    </tr>\n",
       "    <tr>\n",
       "      <th>31</th>\n",
       "      <td>9.430793</td>\n",
       "      <td>0.251934</td>\n",
       "      <td>7.926334</td>\n",
       "      <td>0.576071</td>\n",
       "      <td>60</td>\n",
       "      <td>8</td>\n",
       "      <td>{'thermometer__n_bits': 60, 'wisard__address_s...</td>\n",
       "      <td>0.768310</td>\n",
       "      <td>0.810563</td>\n",
       "      <td>0.918137</td>\n",
       "      <td>0.852482</td>\n",
       "      <td>0.880119</td>\n",
       "      <td>0.845922</td>\n",
       "      <td>0.052348</td>\n",
       "      <td>32</td>\n",
       "    </tr>\n",
       "    <tr>\n",
       "      <th>32</th>\n",
       "      <td>6.777730</td>\n",
       "      <td>0.466362</td>\n",
       "      <td>5.058475</td>\n",
       "      <td>0.526929</td>\n",
       "      <td>40</td>\n",
       "      <td>10</td>\n",
       "      <td>{'thermometer__n_bits': 40, 'wisard__address_s...</td>\n",
       "      <td>0.766197</td>\n",
       "      <td>0.809155</td>\n",
       "      <td>0.918137</td>\n",
       "      <td>0.848227</td>\n",
       "      <td>0.884866</td>\n",
       "      <td>0.845316</td>\n",
       "      <td>0.053746</td>\n",
       "      <td>33</td>\n",
       "    </tr>\n",
       "    <tr>\n",
       "      <th>33</th>\n",
       "      <td>9.133576</td>\n",
       "      <td>0.777862</td>\n",
       "      <td>7.610062</td>\n",
       "      <td>0.765119</td>\n",
       "      <td>50</td>\n",
       "      <td>8</td>\n",
       "      <td>{'thermometer__n_bits': 50, 'wisard__address_s...</td>\n",
       "      <td>0.766197</td>\n",
       "      <td>0.803521</td>\n",
       "      <td>0.911080</td>\n",
       "      <td>0.865957</td>\n",
       "      <td>0.874184</td>\n",
       "      <td>0.844188</td>\n",
       "      <td>0.052124</td>\n",
       "      <td>34</td>\n",
       "    </tr>\n",
       "    <tr>\n",
       "      <th>34</th>\n",
       "      <td>7.369909</td>\n",
       "      <td>0.424998</td>\n",
       "      <td>6.363162</td>\n",
       "      <td>0.371697</td>\n",
       "      <td>40</td>\n",
       "      <td>8</td>\n",
       "      <td>{'thermometer__n_bits': 40, 'wisard__address_s...</td>\n",
       "      <td>0.764789</td>\n",
       "      <td>0.814085</td>\n",
       "      <td>0.913903</td>\n",
       "      <td>0.856738</td>\n",
       "      <td>0.868249</td>\n",
       "      <td>0.843553</td>\n",
       "      <td>0.050606</td>\n",
       "      <td>35</td>\n",
       "    </tr>\n",
       "    <tr>\n",
       "      <th>35</th>\n",
       "      <td>14.783376</td>\n",
       "      <td>2.406301</td>\n",
       "      <td>10.415509</td>\n",
       "      <td>0.829225</td>\n",
       "      <td>70</td>\n",
       "      <td>8</td>\n",
       "      <td>{'thermometer__n_bits': 70, 'wisard__address_s...</td>\n",
       "      <td>0.768310</td>\n",
       "      <td>0.807042</td>\n",
       "      <td>0.920960</td>\n",
       "      <td>0.843262</td>\n",
       "      <td>0.874777</td>\n",
       "      <td>0.842870</td>\n",
       "      <td>0.052838</td>\n",
       "      <td>36</td>\n",
       "    </tr>\n",
       "  </tbody>\n",
       "</table>\n",
       "</div>"
      ],
      "text/plain": [
       "    mean_fit_time  std_fit_time  mean_score_time  std_score_time  \\\n",
       "0       17.066845      1.682982         9.510866        0.246013   \n",
       "1       16.229752      0.189793        10.993691        0.707442   \n",
       "2       11.939881      0.809144         7.658699        0.766632   \n",
       "3       12.053583      0.841440         8.214288        0.529839   \n",
       "4       16.377369      2.205780         9.461696        0.684820   \n",
       "5       11.964073      1.924165         6.877695        0.711564   \n",
       "6       14.569508      0.855140         9.938658        0.670966   \n",
       "7        7.942177      0.418580         4.610472        0.342649   \n",
       "8       16.131705      2.408733        10.715128        1.249670   \n",
       "9        9.617191      0.550254         7.158533        0.393271   \n",
       "10      15.986726      0.537324        11.107071        0.791644   \n",
       "11      12.092174      1.580223         8.038685        0.608499   \n",
       "12       9.562463      0.259272         7.522774        0.479485   \n",
       "13       6.865470      0.131500         4.040028        0.345422   \n",
       "14       7.681657      0.591044         5.637492        0.326617   \n",
       "15      15.729911      0.917982        11.978607        1.144732   \n",
       "16       6.957132      0.324562         4.589866        0.224515   \n",
       "17       7.959197      0.218198         5.538182        0.215013   \n",
       "18       7.682193      0.162771         5.016434        0.385776   \n",
       "19      16.208116      2.578129        10.011078        1.035321   \n",
       "20      18.236819      4.589119        10.992527        0.768593   \n",
       "21      13.825417      1.699859        10.526673        1.522069   \n",
       "22       9.724916      0.860230         7.923129        0.567906   \n",
       "23      16.954368      1.188778        11.852208        0.813836   \n",
       "24      15.530847      0.848876        12.127747        2.714365   \n",
       "25       6.825677      0.715051         4.910107        0.584990   \n",
       "26      18.974420      2.292326        14.649129        1.397053   \n",
       "27       6.388621      0.413469         4.268795        0.508931   \n",
       "28       9.150845      0.178806         6.191999        0.447912   \n",
       "29      18.626811      3.528768        12.167753        0.822365   \n",
       "30       9.274311      0.213112         6.849939        0.516334   \n",
       "31       9.430793      0.251934         7.926334        0.576071   \n",
       "32       6.777730      0.466362         5.058475        0.526929   \n",
       "33       9.133576      0.777862         7.610062        0.765119   \n",
       "34       7.369909      0.424998         6.363162        0.371697   \n",
       "35      14.783376      2.406301        10.415509        0.829225   \n",
       "\n",
       "   param_thermometer__n_bits param_wisard__address_size  \\\n",
       "0                         90                         18   \n",
       "1                         90                         16   \n",
       "2                         70                         18   \n",
       "3                         70                         16   \n",
       "4                         80                         18   \n",
       "5                         60                         18   \n",
       "6                         80                         16   \n",
       "7                         50                         18   \n",
       "8                         80                         14   \n",
       "9                         60                         16   \n",
       "10                        90                         14   \n",
       "11                        70                         14   \n",
       "12                        60                         14   \n",
       "13                        40                         18   \n",
       "14                        50                         12   \n",
       "15                        90                         12   \n",
       "16                        40                         16   \n",
       "17                        50                         16   \n",
       "18                        50                         14   \n",
       "19                        70                         10   \n",
       "20                        80                         12   \n",
       "21                        70                         12   \n",
       "22                        60                         12   \n",
       "23                        90                         10   \n",
       "24                        80                         10   \n",
       "25                        40                         12   \n",
       "26                        90                          8   \n",
       "27                        40                         14   \n",
       "28                        50                         10   \n",
       "29                        80                          8   \n",
       "30                        60                         10   \n",
       "31                        60                          8   \n",
       "32                        40                         10   \n",
       "33                        50                          8   \n",
       "34                        40                          8   \n",
       "35                        70                          8   \n",
       "\n",
       "                                               params  split0_test_score  \\\n",
       "0   {'thermometer__n_bits': 90, 'wisard__address_s...           0.796479   \n",
       "1   {'thermometer__n_bits': 90, 'wisard__address_s...           0.786620   \n",
       "2   {'thermometer__n_bits': 70, 'wisard__address_s...           0.795070   \n",
       "3   {'thermometer__n_bits': 70, 'wisard__address_s...           0.792958   \n",
       "4   {'thermometer__n_bits': 80, 'wisard__address_s...           0.795070   \n",
       "5   {'thermometer__n_bits': 60, 'wisard__address_s...           0.785211   \n",
       "6   {'thermometer__n_bits': 80, 'wisard__address_s...           0.783099   \n",
       "7   {'thermometer__n_bits': 50, 'wisard__address_s...           0.784507   \n",
       "8   {'thermometer__n_bits': 80, 'wisard__address_s...           0.792254   \n",
       "9   {'thermometer__n_bits': 60, 'wisard__address_s...           0.788732   \n",
       "10  {'thermometer__n_bits': 90, 'wisard__address_s...           0.778873   \n",
       "11  {'thermometer__n_bits': 70, 'wisard__address_s...           0.778873   \n",
       "12  {'thermometer__n_bits': 60, 'wisard__address_s...           0.791549   \n",
       "13  {'thermometer__n_bits': 40, 'wisard__address_s...           0.776761   \n",
       "14  {'thermometer__n_bits': 50, 'wisard__address_s...           0.780282   \n",
       "15  {'thermometer__n_bits': 90, 'wisard__address_s...           0.776761   \n",
       "16  {'thermometer__n_bits': 40, 'wisard__address_s...           0.778169   \n",
       "17  {'thermometer__n_bits': 50, 'wisard__address_s...           0.778873   \n",
       "18  {'thermometer__n_bits': 50, 'wisard__address_s...           0.768310   \n",
       "19  {'thermometer__n_bits': 70, 'wisard__address_s...           0.779577   \n",
       "20  {'thermometer__n_bits': 80, 'wisard__address_s...           0.780986   \n",
       "21  {'thermometer__n_bits': 70, 'wisard__address_s...           0.777465   \n",
       "22  {'thermometer__n_bits': 60, 'wisard__address_s...           0.789437   \n",
       "23  {'thermometer__n_bits': 90, 'wisard__address_s...           0.792958   \n",
       "24  {'thermometer__n_bits': 80, 'wisard__address_s...           0.765493   \n",
       "25  {'thermometer__n_bits': 40, 'wisard__address_s...           0.767606   \n",
       "26  {'thermometer__n_bits': 90, 'wisard__address_s...           0.785915   \n",
       "27  {'thermometer__n_bits': 40, 'wisard__address_s...           0.775352   \n",
       "28  {'thermometer__n_bits': 50, 'wisard__address_s...           0.773944   \n",
       "29  {'thermometer__n_bits': 80, 'wisard__address_s...           0.771831   \n",
       "30  {'thermometer__n_bits': 60, 'wisard__address_s...           0.772535   \n",
       "31  {'thermometer__n_bits': 60, 'wisard__address_s...           0.768310   \n",
       "32  {'thermometer__n_bits': 40, 'wisard__address_s...           0.766197   \n",
       "33  {'thermometer__n_bits': 50, 'wisard__address_s...           0.766197   \n",
       "34  {'thermometer__n_bits': 40, 'wisard__address_s...           0.764789   \n",
       "35  {'thermometer__n_bits': 70, 'wisard__address_s...           0.768310   \n",
       "\n",
       "    split1_test_score  split2_test_score  split3_test_score  \\\n",
       "0            0.841549           0.944954           0.903546   \n",
       "1            0.847183           0.938603           0.900000   \n",
       "2            0.838028           0.937191           0.900000   \n",
       "3            0.847183           0.934368           0.892908   \n",
       "4            0.844366           0.931546           0.887234   \n",
       "5            0.849296           0.921665           0.900000   \n",
       "6            0.849296           0.941426           0.885106   \n",
       "7            0.842254           0.934368           0.891489   \n",
       "8            0.836620           0.940014           0.890780   \n",
       "9            0.827465           0.949894           0.882979   \n",
       "10           0.823239           0.947071           0.894326   \n",
       "11           0.831690           0.935074           0.888652   \n",
       "12           0.835915           0.929428           0.880851   \n",
       "13           0.822535           0.928723           0.896454   \n",
       "14           0.828169           0.925900           0.895035   \n",
       "15           0.833099           0.935074           0.878723   \n",
       "16           0.832394           0.923783           0.886525   \n",
       "17           0.824648           0.928723           0.887234   \n",
       "18           0.835211           0.945660           0.868794   \n",
       "19           0.828873           0.929428           0.872340   \n",
       "20           0.832394           0.934368           0.858156   \n",
       "21           0.824648           0.927311           0.870922   \n",
       "22           0.819014           0.923783           0.867376   \n",
       "23           0.818310           0.921665           0.860284   \n",
       "24           0.823944           0.924488           0.870922   \n",
       "25           0.824648           0.925194           0.873050   \n",
       "26           0.813380           0.925194           0.856738   \n",
       "27           0.807746           0.918843           0.878014   \n",
       "28           0.821127           0.904023           0.874468   \n",
       "29           0.811268           0.922371           0.865248   \n",
       "30           0.816197           0.910374           0.851773   \n",
       "31           0.810563           0.918137           0.852482   \n",
       "32           0.809155           0.918137           0.848227   \n",
       "33           0.803521           0.911080           0.865957   \n",
       "34           0.814085           0.913903           0.856738   \n",
       "35           0.807042           0.920960           0.843262   \n",
       "\n",
       "    split4_test_score  mean_test_score  std_test_score  rank_test_score  \n",
       "0            0.905045         0.878315        0.052613                1  \n",
       "1            0.899703         0.874422        0.052657                2  \n",
       "2            0.898516         0.873761        0.050584                3  \n",
       "3            0.893175         0.872118        0.048247                4  \n",
       "4            0.899703         0.871584        0.047384                5  \n",
       "5            0.896142         0.870463        0.048723                6  \n",
       "6            0.890208         0.869827        0.052380                7  \n",
       "7            0.896142         0.869752        0.051705                8  \n",
       "8            0.886647         0.869263        0.050531                9  \n",
       "9            0.893175         0.868449        0.055660               10  \n",
       "10           0.897923         0.868287        0.059645               11  \n",
       "11           0.890801         0.865018        0.054153               12  \n",
       "12           0.884866         0.864522        0.046982               13  \n",
       "13           0.896736         0.864242        0.055935               14  \n",
       "14           0.890208         0.863919        0.052487               15  \n",
       "15           0.887834         0.862298        0.053642               16  \n",
       "16           0.887240         0.861622        0.050910               17  \n",
       "17           0.887834         0.861462        0.053028               18  \n",
       "18           0.879525         0.859500        0.057994               19  \n",
       "19           0.887240         0.859492        0.051284               20  \n",
       "20           0.887834         0.858748        0.051587               21  \n",
       "21           0.889021         0.857873        0.052022               22  \n",
       "22           0.884866         0.856895        0.047648               23  \n",
       "23           0.887834         0.856210        0.046343               24  \n",
       "24           0.890801         0.855130        0.055389               25  \n",
       "25           0.877151         0.853530        0.053464               26  \n",
       "26           0.884866         0.853219        0.049621               27  \n",
       "27           0.881899         0.852371        0.052671               28  \n",
       "28           0.882493         0.851211        0.047294               29  \n",
       "29           0.881306         0.850405        0.053028               30  \n",
       "30           0.883680         0.846912        0.048741               31  \n",
       "31           0.880119         0.845922        0.052348               32  \n",
       "32           0.884866         0.845316        0.053746               33  \n",
       "33           0.874184         0.844188        0.052124               34  \n",
       "34           0.868249         0.843553        0.050606               35  \n",
       "35           0.874777         0.842870        0.052838               36  "
      ]
     },
     "execution_count": 31,
     "metadata": {},
     "output_type": "execute_result"
    }
   ],
   "source": [
    "gs_model1 = pd.DataFrame(gs_model1).sort_values('rank_test_score').reset_index(drop=True)\n",
    "\n",
    "with open('results/model1_gs_results.pickle', 'wb') as file:\n",
    "    pickle.dump(gs_model1, file)\n",
    "\n",
    "gs_model1"
   ]
  },
  {
   "cell_type": "code",
   "execution_count": 32,
   "metadata": {},
   "outputs": [],
   "source": [
    "with open('results/model1_gs_results.pickle', 'rb') as file:\n",
    "    gs_model1 = pickle.load(file)"
   ]
  },
  {
   "cell_type": "code",
   "execution_count": 33,
   "metadata": {},
   "outputs": [],
   "source": [
    "with open('results/model1_best_params.pickle', 'rb') as file:\n",
    "    best_params_model1 = pickle.load(file)"
   ]
  },
  {
   "cell_type": "code",
   "execution_count": 34,
   "metadata": {},
   "outputs": [
    {
     "name": "stdout",
     "output_type": "stream",
     "text": [
      "Training Accuracy: 0.9974\n",
      "Test Accuracy: 0.9074\n"
     ]
    },
    {
     "data": {
      "image/png": "[encoded data removed]",
      "text/plain": [
       "<Figure size 432x288 with 2 Axes>"
      ]
     },
     "metadata": {
      "needs_background": "light"
     },
     "output_type": "display_data"
    },
    {
     "data": {
      "image/png": "[encoded data removed]",
      "text/plain": [
       "<Figure size 432x288 with 2 Axes>"
      ]
     },
     "metadata": {
      "needs_background": "light"
     },
     "output_type": "display_data"
    }
   ],
   "source": [
    "model1 = Pipeline([('thermometer', ThermometerEncoder(quantile_based=False)), \n",
    "                  ('wisard', WisardClassifier())])\n",
    "\n",
    "model1.set_params(**best_params_model1)\n",
    "\n",
    "train_and_evaluate_model(model1, train_eng, train_labels, test_eng, test_labels)"
   ]
  },
  {
   "cell_type": "code",
   "execution_count": 28,
   "metadata": {},
   "outputs": [
    {
     "name": "stdout",
     "output_type": "stream",
     "text": [
      "Training Accuracy: 0.9967\n",
      "Test Accuracy: 0.9097\n"
     ]
    },
    {
     "data": {
      "image/png": "[encoded data removed]",
      "text/plain": [
       "<Figure size 432x288 with 2 Axes>"
      ]
     },
     "metadata": {
      "needs_background": "light"
     },
     "output_type": "display_data"
    },
    {
     "data": {
      "image/png": "[encoded data removed]",
      "text/plain": [
       "<Figure size 432x288 with 2 Axes>"
      ]
     },
     "metadata": {
      "needs_background": "light"
     },
     "output_type": "display_data"
    }
   ],
   "source": [
    "model1_2 = Pipeline([('thermometer', ThermometerEncoder(quantile_based=False)), \n",
    "                  ('wisard', WisardClassifier())])\n",
    "\n",
    "model1_2.set_params(**best_params_model1_2)\n",
    "\n",
    "train_and_evaluate_model(model1_2, train_eng, train_labels, test_eng, test_labels)"
   ]
  },
  {
   "cell_type": "markdown",
   "metadata": {},
   "source": [
    "## 3.2. Model 2: WiSARD with quantile thermometer\n",
    "\n",
    "This model uses Thermometer encoding with quantile based bins and the enginnered features to make the prediction."
   ]
  },
  {
   "cell_type": "code",
   "execution_count": 35,
   "metadata": {},
   "outputs": [],
   "source": [
    "def cross_validation_model2(X, y, n_splits=5, addressSize=[50], thermometer_size=[5], bleachingActivated=[True], \n",
    "                            thermometer_columns=None, quantile_based=[True]):\n",
    "    grid_search_results = []\n",
    "    best_params = None\n",
    "    best_accuracy = -1\n",
    "    \n",
    "    if not thermometer_columns:\n",
    "        thermometer_columns = list(range(X.shape[1]))\n",
    "    \n",
    "    param_grid_dict = dict()\n",
    "    param_grid_dict['thermometer_size'] = thermometer_size\n",
    "    param_grid_dict['addressSize'] = addressSize\n",
    "    param_grid_dict['bleachingActivated'] = bleachingActivated\n",
    "    param_grid_dict['quantile_based'] = quantile_based\n",
    "    \n",
    "    skf = StratifiedKFold(n_splits=n_splits)\n",
    "    \n",
    "    param_grid = ParameterGrid(param_grid_dict)\n",
    "    \n",
    "    param_grid_combinations = len(list(param_grid))\n",
    "    n_combs = n_splits * param_grid_combinations\n",
    "    progress = tqdm(total=n_combs, position=0, leave=True)\n",
    "    \n",
    "    for params in param_grid:\n",
    "        print(params)\n",
    "        training_time = []\n",
    "        training_prediction_time = []\n",
    "        validation_prediction_time = []\n",
    "        thermometer_time = []\n",
    "        training_accuracy = []\n",
    "        validation_accuracy = []\n",
    "        for train_index, val_index in skf.split(X, y):\n",
    "            X_train = X[train_index, :]\n",
    "            y_train = y[train_index]\n",
    "            y_train_str = [str(l) for l in y_train]\n",
    "            \n",
    "            X_val = X[val_index, :]\n",
    "            y_val = y[val_index]\n",
    "            y_val_str = [str(l) for l in y_val]\n",
    "            \n",
    "            model = wp.Wisard(params['addressSize'], bleachingActivated=params['bleachingActivated'])\n",
    "            thermometer = ThermometerEncoder(thermometer_columns, n_bits=params['thermometer_size'],\n",
    "                                            quantile_based=params['quantile_based'])\n",
    "            \n",
    "            start = time()\n",
    "            X_train = thermometer.fit_transform(X_train).astype(int).tolist()\n",
    "            X_val = thermometer.transform(X_val).astype(int).tolist()\n",
    "            end = time()\n",
    "            thermometer_time.append(end-start)\n",
    "            \n",
    "            start = time()\n",
    "            model.train(X_train, y_train_str)\n",
    "            end = time()\n",
    "            training_time.append(end-start)\n",
    "            \n",
    "            start = time()\n",
    "            pred_train = model.classify(X_train)\n",
    "            end = time()\n",
    "            training_prediction_time.append(end-start)\n",
    "            \n",
    "            start = time()\n",
    "            pred_val = model.classify(X_val)\n",
    "            end = time()\n",
    "            validation_prediction_time.append(end-start)\n",
    "            \n",
    "            training_accuracy.append(accuracy_score(y_train_str, pred_train))\n",
    "            \n",
    "            validation_accuracy.append(accuracy_score(y_val_str, pred_val))\n",
    "            \n",
    "            progress.update()\n",
    "        \n",
    "        cv_result = {'training_time_mean': np.mean(training_time),\n",
    "                     'training_time_std': np.std(training_time),\n",
    "                     'training_prediction_time_mean': np.mean(training_prediction_time),\n",
    "                     'training_prediction_time_std': np.std(training_prediction_time),\n",
    "                     'validation_prediction_time_mean': np.mean(validation_prediction_time),\n",
    "                     'validation_prediction_time_std': np.std(validation_prediction_time),\n",
    "                     'thermometer_time_mean': np.mean(thermometer_time),\n",
    "                     'thermometer_time_std': np.std(thermometer_time),\n",
    "                     'training_accuracy_mean': np.mean(training_accuracy),\n",
    "                     'training_accuracy_std': np.std(training_accuracy),\n",
    "                     'validation_accuracy_mean': np.mean(validation_accuracy),\n",
    "                     'validation_accuracy_std': np.std(validation_accuracy)}\n",
    "        \n",
    "        cv_result = {**params, **cv_result}\n",
    "        \n",
    "        grid_search_results.append(cv_result)\n",
    "        \n",
    "        if (cv_result['validation_accuracy_mean'] > best_accuracy):\n",
    "            best_accuracy = cv_result['validation_accuracy_mean']\n",
    "            best_params = params\n",
    "        \n",
    "        print(f\"Train acc. mean: {cv_result['training_accuracy_mean']:.4f} | Validation acc. mean: {cv_result['validation_accuracy_mean']:.4f}\\n\")\n",
    "    \n",
    "    grid_search_results = pd.DataFrame(grid_search_results)\n",
    "    grid_search_results['rank'] = grid_search_results['validation_accuracy_mean'].rank(ascending=False)\n",
    "    \n",
    "    return grid_search_results, best_params\n",
    "\n",
    "def cross_validation_model2(X, y, subjects, n_splits=5, addressSize=[50], \n",
    "                            bleachingActivated=[True], thermometer_size=[20], \n",
    "                            quantile_based=[True]):\n",
    "    model = Pipeline([('thermometer', ThermometerEncoder()), \n",
    "                     ('wisard', WisardClassifier())])\n",
    "    \n",
    "    param_grid = [{'thermometer__n_bits': thermometer_size,\n",
    "                   'thermometer__quantile_based': quantile_based,\n",
    "                   'wisard__address_size': addressSize}]\n",
    "    \n",
    "    cv = GroupKFold(n_splits=n_splits)\n",
    "    gs = GridSearchCV(model, param_grid, cv=cv, n_jobs=2, verbose=4)\n",
    "    \n",
    "    gs.fit(X, y, groups=subjects)\n",
    "    \n",
    "    return gs.cv_results_, gs.best_params_"
   ]
  },
  {
   "cell_type": "code",
   "execution_count": 36,
   "metadata": {
    "scrolled": true
   },
   "outputs": [
    {
     "name": "stdout",
     "output_type": "stream",
     "text": [
      "Fitting 5 folds for each of 36 candidates, totalling 180 fits\n"
     ]
    }
   ],
   "source": [
    "addressSize = [8, 10, 12, 14, 16, 18]\n",
    "thermometer_size = [40, 50, 60, 70, 80, 90]\n",
    "gs_model2, best_params_model2 = cross_validation_model2(train_eng, train_labels, train_subjects, n_splits=5, \n",
    "                                                        addressSize=addressSize, thermometer_size=thermometer_size, \n",
    "                                                        bleachingActivated=[True, False], quantile_based=[True])"
   ]
  },
  {
   "cell_type": "code",
   "execution_count": 37,
   "metadata": {},
   "outputs": [
    {
     "data": {
      "text/plain": [
       "{'thermometer__n_bits': 80,\n",
       " 'thermometer__quantile_based': True,\n",
       " 'wisard__address_size': 10}"
      ]
     },
     "execution_count": 37,
     "metadata": {},
     "output_type": "execute_result"
    }
   ],
   "source": [
    "with open('results/model2_best_params.pickle', 'wb') as file:\n",
    "    pickle.dump(best_params_model2, file)\n",
    "    \n",
    "best_params_model2"
   ]
  },
  {
   "cell_type": "code",
   "execution_count": 38,
   "metadata": {},
   "outputs": [
    {
     "data": {
      "text/html": [
       "<div>\n",
       "<style scoped>\n",
       "    .dataframe tbody tr th:only-of-type {\n",
       "        vertical-align: middle;\n",
       "    }\n",
       "\n",
       "    .dataframe tbody tr th {\n",
       "        vertical-align: top;\n",
       "    }\n",
       "\n",
       "    .dataframe thead th {\n",
       "        text-align: right;\n",
       "    }\n",
       "</style>\n",
       "<table border=\"1\" class=\"dataframe\">\n",
       "  <thead>\n",
       "    <tr style=\"text-align: right;\">\n",
       "      <th></th>\n",
       "      <th>mean_fit_time</th>\n",
       "      <th>std_fit_time</th>\n",
       "      <th>mean_score_time</th>\n",
       "      <th>std_score_time</th>\n",
       "      <th>param_thermometer__n_bits</th>\n",
       "      <th>param_thermometer__quantile_based</th>\n",
       "      <th>param_wisard__address_size</th>\n",
       "      <th>params</th>\n",
       "      <th>split0_test_score</th>\n",
       "      <th>split1_test_score</th>\n",
       "      <th>split2_test_score</th>\n",
       "      <th>split3_test_score</th>\n",
       "      <th>split4_test_score</th>\n",
       "      <th>mean_test_score</th>\n",
       "      <th>std_test_score</th>\n",
       "      <th>rank_test_score</th>\n",
       "    </tr>\n",
       "  </thead>\n",
       "  <tbody>\n",
       "    <tr>\n",
       "      <th>0</th>\n",
       "      <td>18.499789</td>\n",
       "      <td>1.944940</td>\n",
       "      <td>11.102821</td>\n",
       "      <td>1.104562</td>\n",
       "      <td>80</td>\n",
       "      <td>True</td>\n",
       "      <td>10</td>\n",
       "      <td>{'thermometer__n_bits': 80, 'thermometer__quan...</td>\n",
       "      <td>0.811972</td>\n",
       "      <td>0.897183</td>\n",
       "      <td>0.962597</td>\n",
       "      <td>0.936879</td>\n",
       "      <td>0.907418</td>\n",
       "      <td>0.903210</td>\n",
       "      <td>0.051066</td>\n",
       "      <td>1</td>\n",
       "    </tr>\n",
       "    <tr>\n",
       "      <th>1</th>\n",
       "      <td>18.419056</td>\n",
       "      <td>0.792026</td>\n",
       "      <td>11.328142</td>\n",
       "      <td>1.061058</td>\n",
       "      <td>80</td>\n",
       "      <td>True</td>\n",
       "      <td>12</td>\n",
       "      <td>{'thermometer__n_bits': 80, 'thermometer__quan...</td>\n",
       "      <td>0.809155</td>\n",
       "      <td>0.900704</td>\n",
       "      <td>0.954834</td>\n",
       "      <td>0.939716</td>\n",
       "      <td>0.908605</td>\n",
       "      <td>0.902603</td>\n",
       "      <td>0.050750</td>\n",
       "      <td>2</td>\n",
       "    </tr>\n",
       "    <tr>\n",
       "      <th>2</th>\n",
       "      <td>16.020330</td>\n",
       "      <td>1.974298</td>\n",
       "      <td>11.402025</td>\n",
       "      <td>1.357966</td>\n",
       "      <td>70</td>\n",
       "      <td>True</td>\n",
       "      <td>8</td>\n",
       "      <td>{'thermometer__n_bits': 70, 'thermometer__quan...</td>\n",
       "      <td>0.804225</td>\n",
       "      <td>0.892958</td>\n",
       "      <td>0.966831</td>\n",
       "      <td>0.935461</td>\n",
       "      <td>0.908012</td>\n",
       "      <td>0.901497</td>\n",
       "      <td>0.054771</td>\n",
       "      <td>3</td>\n",
       "    </tr>\n",
       "    <tr>\n",
       "      <th>3</th>\n",
       "      <td>6.806651</td>\n",
       "      <td>0.651978</td>\n",
       "      <td>4.464564</td>\n",
       "      <td>0.244882</td>\n",
       "      <td>40</td>\n",
       "      <td>True</td>\n",
       "      <td>10</td>\n",
       "      <td>{'thermometer__n_bits': 40, 'thermometer__quan...</td>\n",
       "      <td>0.813380</td>\n",
       "      <td>0.898592</td>\n",
       "      <td>0.947071</td>\n",
       "      <td>0.938298</td>\n",
       "      <td>0.908012</td>\n",
       "      <td>0.901071</td>\n",
       "      <td>0.047425</td>\n",
       "      <td>4</td>\n",
       "    </tr>\n",
       "    <tr>\n",
       "      <th>4</th>\n",
       "      <td>9.559117</td>\n",
       "      <td>0.621906</td>\n",
       "      <td>6.160989</td>\n",
       "      <td>0.485238</td>\n",
       "      <td>50</td>\n",
       "      <td>True</td>\n",
       "      <td>10</td>\n",
       "      <td>{'thermometer__n_bits': 50, 'thermometer__quan...</td>\n",
       "      <td>0.813380</td>\n",
       "      <td>0.893662</td>\n",
       "      <td>0.956951</td>\n",
       "      <td>0.936170</td>\n",
       "      <td>0.905045</td>\n",
       "      <td>0.901042</td>\n",
       "      <td>0.049224</td>\n",
       "      <td>5</td>\n",
       "    </tr>\n",
       "    <tr>\n",
       "      <th>5</th>\n",
       "      <td>27.583598</td>\n",
       "      <td>3.348984</td>\n",
       "      <td>14.435915</td>\n",
       "      <td>2.426086</td>\n",
       "      <td>90</td>\n",
       "      <td>True</td>\n",
       "      <td>14</td>\n",
       "      <td>{'thermometer__n_bits': 90, 'thermometer__quan...</td>\n",
       "      <td>0.808451</td>\n",
       "      <td>0.897183</td>\n",
       "      <td>0.957657</td>\n",
       "      <td>0.936879</td>\n",
       "      <td>0.903858</td>\n",
       "      <td>0.900806</td>\n",
       "      <td>0.051157</td>\n",
       "      <td>6</td>\n",
       "    </tr>\n",
       "    <tr>\n",
       "      <th>6</th>\n",
       "      <td>19.890291</td>\n",
       "      <td>0.947774</td>\n",
       "      <td>10.935202</td>\n",
       "      <td>1.590028</td>\n",
       "      <td>80</td>\n",
       "      <td>True</td>\n",
       "      <td>14</td>\n",
       "      <td>{'thermometer__n_bits': 80, 'thermometer__quan...</td>\n",
       "      <td>0.808451</td>\n",
       "      <td>0.890845</td>\n",
       "      <td>0.958363</td>\n",
       "      <td>0.941135</td>\n",
       "      <td>0.905045</td>\n",
       "      <td>0.900768</td>\n",
       "      <td>0.052127</td>\n",
       "      <td>7</td>\n",
       "    </tr>\n",
       "    <tr>\n",
       "      <th>7</th>\n",
       "      <td>18.527955</td>\n",
       "      <td>1.111412</td>\n",
       "      <td>12.990050</td>\n",
       "      <td>2.018017</td>\n",
       "      <td>80</td>\n",
       "      <td>True</td>\n",
       "      <td>8</td>\n",
       "      <td>{'thermometer__n_bits': 80, 'thermometer__quan...</td>\n",
       "      <td>0.805634</td>\n",
       "      <td>0.898592</td>\n",
       "      <td>0.951306</td>\n",
       "      <td>0.937589</td>\n",
       "      <td>0.909792</td>\n",
       "      <td>0.900582</td>\n",
       "      <td>0.051081</td>\n",
       "      <td>8</td>\n",
       "    </tr>\n",
       "    <tr>\n",
       "      <th>8</th>\n",
       "      <td>23.047468</td>\n",
       "      <td>0.928216</td>\n",
       "      <td>13.545949</td>\n",
       "      <td>1.269136</td>\n",
       "      <td>90</td>\n",
       "      <td>True</td>\n",
       "      <td>10</td>\n",
       "      <td>{'thermometer__n_bits': 90, 'thermometer__quan...</td>\n",
       "      <td>0.810563</td>\n",
       "      <td>0.893662</td>\n",
       "      <td>0.960480</td>\n",
       "      <td>0.937589</td>\n",
       "      <td>0.899703</td>\n",
       "      <td>0.900399</td>\n",
       "      <td>0.051204</td>\n",
       "      <td>9</td>\n",
       "    </tr>\n",
       "    <tr>\n",
       "      <th>9</th>\n",
       "      <td>11.080250</td>\n",
       "      <td>0.296432</td>\n",
       "      <td>8.110192</td>\n",
       "      <td>1.387651</td>\n",
       "      <td>60</td>\n",
       "      <td>True</td>\n",
       "      <td>12</td>\n",
       "      <td>{'thermometer__n_bits': 60, 'thermometer__quan...</td>\n",
       "      <td>0.804930</td>\n",
       "      <td>0.899296</td>\n",
       "      <td>0.957657</td>\n",
       "      <td>0.929078</td>\n",
       "      <td>0.910979</td>\n",
       "      <td>0.900388</td>\n",
       "      <td>0.051630</td>\n",
       "      <td>10</td>\n",
       "    </tr>\n",
       "    <tr>\n",
       "      <th>10</th>\n",
       "      <td>23.960899</td>\n",
       "      <td>1.298159</td>\n",
       "      <td>14.987042</td>\n",
       "      <td>0.970436</td>\n",
       "      <td>90</td>\n",
       "      <td>True</td>\n",
       "      <td>8</td>\n",
       "      <td>{'thermometer__n_bits': 90, 'thermometer__quan...</td>\n",
       "      <td>0.809155</td>\n",
       "      <td>0.899296</td>\n",
       "      <td>0.959068</td>\n",
       "      <td>0.925532</td>\n",
       "      <td>0.908605</td>\n",
       "      <td>0.900331</td>\n",
       "      <td>0.049936</td>\n",
       "      <td>11</td>\n",
       "    </tr>\n",
       "    <tr>\n",
       "      <th>11</th>\n",
       "      <td>14.312483</td>\n",
       "      <td>0.581732</td>\n",
       "      <td>9.381319</td>\n",
       "      <td>0.581442</td>\n",
       "      <td>70</td>\n",
       "      <td>True</td>\n",
       "      <td>12</td>\n",
       "      <td>{'thermometer__n_bits': 70, 'thermometer__quan...</td>\n",
       "      <td>0.810563</td>\n",
       "      <td>0.897183</td>\n",
       "      <td>0.949188</td>\n",
       "      <td>0.941844</td>\n",
       "      <td>0.902671</td>\n",
       "      <td>0.900290</td>\n",
       "      <td>0.049364</td>\n",
       "      <td>12</td>\n",
       "    </tr>\n",
       "    <tr>\n",
       "      <th>12</th>\n",
       "      <td>9.727669</td>\n",
       "      <td>0.555152</td>\n",
       "      <td>6.614056</td>\n",
       "      <td>0.714690</td>\n",
       "      <td>50</td>\n",
       "      <td>True</td>\n",
       "      <td>12</td>\n",
       "      <td>{'thermometer__n_bits': 50, 'thermometer__quan...</td>\n",
       "      <td>0.807746</td>\n",
       "      <td>0.899296</td>\n",
       "      <td>0.952717</td>\n",
       "      <td>0.937589</td>\n",
       "      <td>0.903858</td>\n",
       "      <td>0.900241</td>\n",
       "      <td>0.050434</td>\n",
       "      <td>13</td>\n",
       "    </tr>\n",
       "    <tr>\n",
       "      <th>13</th>\n",
       "      <td>13.810009</td>\n",
       "      <td>0.559016</td>\n",
       "      <td>9.594907</td>\n",
       "      <td>1.089028</td>\n",
       "      <td>70</td>\n",
       "      <td>True</td>\n",
       "      <td>10</td>\n",
       "      <td>{'thermometer__n_bits': 70, 'thermometer__quan...</td>\n",
       "      <td>0.809155</td>\n",
       "      <td>0.900704</td>\n",
       "      <td>0.949188</td>\n",
       "      <td>0.934043</td>\n",
       "      <td>0.906231</td>\n",
       "      <td>0.899864</td>\n",
       "      <td>0.048725</td>\n",
       "      <td>14</td>\n",
       "    </tr>\n",
       "    <tr>\n",
       "      <th>14</th>\n",
       "      <td>11.326014</td>\n",
       "      <td>0.928895</td>\n",
       "      <td>7.520773</td>\n",
       "      <td>0.454524</td>\n",
       "      <td>60</td>\n",
       "      <td>True</td>\n",
       "      <td>10</td>\n",
       "      <td>{'thermometer__n_bits': 60, 'thermometer__quan...</td>\n",
       "      <td>0.802113</td>\n",
       "      <td>0.890845</td>\n",
       "      <td>0.953423</td>\n",
       "      <td>0.936170</td>\n",
       "      <td>0.912760</td>\n",
       "      <td>0.899062</td>\n",
       "      <td>0.052889</td>\n",
       "      <td>15</td>\n",
       "    </tr>\n",
       "    <tr>\n",
       "      <th>15</th>\n",
       "      <td>7.329580</td>\n",
       "      <td>0.420614</td>\n",
       "      <td>4.367874</td>\n",
       "      <td>0.336724</td>\n",
       "      <td>40</td>\n",
       "      <td>True</td>\n",
       "      <td>14</td>\n",
       "      <td>{'thermometer__n_bits': 40, 'thermometer__quan...</td>\n",
       "      <td>0.803521</td>\n",
       "      <td>0.899296</td>\n",
       "      <td>0.954834</td>\n",
       "      <td>0.936170</td>\n",
       "      <td>0.901484</td>\n",
       "      <td>0.899061</td>\n",
       "      <td>0.052195</td>\n",
       "      <td>16</td>\n",
       "    </tr>\n",
       "    <tr>\n",
       "      <th>16</th>\n",
       "      <td>24.473940</td>\n",
       "      <td>0.223082</td>\n",
       "      <td>14.436472</td>\n",
       "      <td>1.386637</td>\n",
       "      <td>90</td>\n",
       "      <td>True</td>\n",
       "      <td>12</td>\n",
       "      <td>{'thermometer__n_bits': 90, 'thermometer__quan...</td>\n",
       "      <td>0.809859</td>\n",
       "      <td>0.887324</td>\n",
       "      <td>0.960480</td>\n",
       "      <td>0.936170</td>\n",
       "      <td>0.900297</td>\n",
       "      <td>0.898826</td>\n",
       "      <td>0.051469</td>\n",
       "      <td>17</td>\n",
       "    </tr>\n",
       "    <tr>\n",
       "      <th>17</th>\n",
       "      <td>21.358110</td>\n",
       "      <td>0.676312</td>\n",
       "      <td>10.607615</td>\n",
       "      <td>0.739208</td>\n",
       "      <td>80</td>\n",
       "      <td>True</td>\n",
       "      <td>16</td>\n",
       "      <td>{'thermometer__n_bits': 80, 'thermometer__quan...</td>\n",
       "      <td>0.804225</td>\n",
       "      <td>0.896479</td>\n",
       "      <td>0.947777</td>\n",
       "      <td>0.937589</td>\n",
       "      <td>0.904451</td>\n",
       "      <td>0.898104</td>\n",
       "      <td>0.050759</td>\n",
       "      <td>18</td>\n",
       "    </tr>\n",
       "    <tr>\n",
       "      <th>18</th>\n",
       "      <td>12.231833</td>\n",
       "      <td>1.238164</td>\n",
       "      <td>8.796365</td>\n",
       "      <td>0.597771</td>\n",
       "      <td>60</td>\n",
       "      <td>True</td>\n",
       "      <td>8</td>\n",
       "      <td>{'thermometer__n_bits': 60, 'thermometer__quan...</td>\n",
       "      <td>0.809155</td>\n",
       "      <td>0.892958</td>\n",
       "      <td>0.953423</td>\n",
       "      <td>0.928369</td>\n",
       "      <td>0.905045</td>\n",
       "      <td>0.897790</td>\n",
       "      <td>0.048913</td>\n",
       "      <td>19</td>\n",
       "    </tr>\n",
       "    <tr>\n",
       "      <th>19</th>\n",
       "      <td>7.020184</td>\n",
       "      <td>0.440945</td>\n",
       "      <td>4.757027</td>\n",
       "      <td>0.394098</td>\n",
       "      <td>40</td>\n",
       "      <td>True</td>\n",
       "      <td>12</td>\n",
       "      <td>{'thermometer__n_bits': 40, 'thermometer__quan...</td>\n",
       "      <td>0.812676</td>\n",
       "      <td>0.893662</td>\n",
       "      <td>0.954128</td>\n",
       "      <td>0.929078</td>\n",
       "      <td>0.898516</td>\n",
       "      <td>0.897612</td>\n",
       "      <td>0.047780</td>\n",
       "      <td>20</td>\n",
       "    </tr>\n",
       "    <tr>\n",
       "      <th>20</th>\n",
       "      <td>28.754640</td>\n",
       "      <td>2.958115</td>\n",
       "      <td>12.663813</td>\n",
       "      <td>0.825107</td>\n",
       "      <td>90</td>\n",
       "      <td>True</td>\n",
       "      <td>16</td>\n",
       "      <td>{'thermometer__n_bits': 90, 'thermometer__quan...</td>\n",
       "      <td>0.806338</td>\n",
       "      <td>0.891549</td>\n",
       "      <td>0.949894</td>\n",
       "      <td>0.936170</td>\n",
       "      <td>0.903264</td>\n",
       "      <td>0.897443</td>\n",
       "      <td>0.050239</td>\n",
       "      <td>21</td>\n",
       "    </tr>\n",
       "    <tr>\n",
       "      <th>21</th>\n",
       "      <td>9.495906</td>\n",
       "      <td>0.156354</td>\n",
       "      <td>6.198185</td>\n",
       "      <td>0.459799</td>\n",
       "      <td>50</td>\n",
       "      <td>True</td>\n",
       "      <td>14</td>\n",
       "      <td>{'thermometer__n_bits': 50, 'thermometer__quan...</td>\n",
       "      <td>0.802817</td>\n",
       "      <td>0.892254</td>\n",
       "      <td>0.955540</td>\n",
       "      <td>0.929078</td>\n",
       "      <td>0.907418</td>\n",
       "      <td>0.897421</td>\n",
       "      <td>0.051878</td>\n",
       "      <td>22</td>\n",
       "    </tr>\n",
       "    <tr>\n",
       "      <th>22</th>\n",
       "      <td>15.968823</td>\n",
       "      <td>0.434161</td>\n",
       "      <td>8.600613</td>\n",
       "      <td>0.644906</td>\n",
       "      <td>70</td>\n",
       "      <td>True</td>\n",
       "      <td>16</td>\n",
       "      <td>{'thermometer__n_bits': 70, 'thermometer__quan...</td>\n",
       "      <td>0.804225</td>\n",
       "      <td>0.892958</td>\n",
       "      <td>0.948483</td>\n",
       "      <td>0.941135</td>\n",
       "      <td>0.899703</td>\n",
       "      <td>0.897301</td>\n",
       "      <td>0.051437</td>\n",
       "      <td>23</td>\n",
       "    </tr>\n",
       "    <tr>\n",
       "      <th>23</th>\n",
       "      <td>11.907298</td>\n",
       "      <td>0.415474</td>\n",
       "      <td>6.809319</td>\n",
       "      <td>0.762452</td>\n",
       "      <td>60</td>\n",
       "      <td>True</td>\n",
       "      <td>18</td>\n",
       "      <td>{'thermometer__n_bits': 60, 'thermometer__quan...</td>\n",
       "      <td>0.807746</td>\n",
       "      <td>0.892254</td>\n",
       "      <td>0.946366</td>\n",
       "      <td>0.940426</td>\n",
       "      <td>0.899110</td>\n",
       "      <td>0.897180</td>\n",
       "      <td>0.049630</td>\n",
       "      <td>24</td>\n",
       "    </tr>\n",
       "    <tr>\n",
       "      <th>24</th>\n",
       "      <td>10.626822</td>\n",
       "      <td>0.959052</td>\n",
       "      <td>8.154661</td>\n",
       "      <td>0.713640</td>\n",
       "      <td>50</td>\n",
       "      <td>True</td>\n",
       "      <td>8</td>\n",
       "      <td>{'thermometer__n_bits': 50, 'thermometer__quan...</td>\n",
       "      <td>0.808451</td>\n",
       "      <td>0.889437</td>\n",
       "      <td>0.950600</td>\n",
       "      <td>0.929787</td>\n",
       "      <td>0.907418</td>\n",
       "      <td>0.897139</td>\n",
       "      <td>0.048897</td>\n",
       "      <td>25</td>\n",
       "    </tr>\n",
       "    <tr>\n",
       "      <th>25</th>\n",
       "      <td>26.772115</td>\n",
       "      <td>1.902646</td>\n",
       "      <td>11.718547</td>\n",
       "      <td>0.262088</td>\n",
       "      <td>90</td>\n",
       "      <td>True</td>\n",
       "      <td>18</td>\n",
       "      <td>{'thermometer__n_bits': 90, 'thermometer__quan...</td>\n",
       "      <td>0.802113</td>\n",
       "      <td>0.884507</td>\n",
       "      <td>0.954834</td>\n",
       "      <td>0.942553</td>\n",
       "      <td>0.901484</td>\n",
       "      <td>0.897098</td>\n",
       "      <td>0.054036</td>\n",
       "      <td>26</td>\n",
       "    </tr>\n",
       "    <tr>\n",
       "      <th>26</th>\n",
       "      <td>14.712948</td>\n",
       "      <td>0.681156</td>\n",
       "      <td>8.715495</td>\n",
       "      <td>0.780468</td>\n",
       "      <td>70</td>\n",
       "      <td>True</td>\n",
       "      <td>14</td>\n",
       "      <td>{'thermometer__n_bits': 70, 'thermometer__quan...</td>\n",
       "      <td>0.800704</td>\n",
       "      <td>0.890141</td>\n",
       "      <td>0.954128</td>\n",
       "      <td>0.936170</td>\n",
       "      <td>0.903858</td>\n",
       "      <td>0.897000</td>\n",
       "      <td>0.053226</td>\n",
       "      <td>27</td>\n",
       "    </tr>\n",
       "    <tr>\n",
       "      <th>27</th>\n",
       "      <td>11.665934</td>\n",
       "      <td>0.563187</td>\n",
       "      <td>7.440534</td>\n",
       "      <td>1.008321</td>\n",
       "      <td>60</td>\n",
       "      <td>True</td>\n",
       "      <td>14</td>\n",
       "      <td>{'thermometer__n_bits': 60, 'thermometer__quan...</td>\n",
       "      <td>0.808451</td>\n",
       "      <td>0.883099</td>\n",
       "      <td>0.955540</td>\n",
       "      <td>0.934043</td>\n",
       "      <td>0.903858</td>\n",
       "      <td>0.896998</td>\n",
       "      <td>0.050755</td>\n",
       "      <td>28</td>\n",
       "    </tr>\n",
       "    <tr>\n",
       "      <th>28</th>\n",
       "      <td>20.971684</td>\n",
       "      <td>0.652539</td>\n",
       "      <td>10.060220</td>\n",
       "      <td>0.722354</td>\n",
       "      <td>80</td>\n",
       "      <td>True</td>\n",
       "      <td>18</td>\n",
       "      <td>{'thermometer__n_bits': 80, 'thermometer__quan...</td>\n",
       "      <td>0.808451</td>\n",
       "      <td>0.887324</td>\n",
       "      <td>0.943543</td>\n",
       "      <td>0.940426</td>\n",
       "      <td>0.903858</td>\n",
       "      <td>0.896720</td>\n",
       "      <td>0.049058</td>\n",
       "      <td>29</td>\n",
       "    </tr>\n",
       "    <tr>\n",
       "      <th>29</th>\n",
       "      <td>9.394095</td>\n",
       "      <td>0.108772</td>\n",
       "      <td>5.341100</td>\n",
       "      <td>0.367566</td>\n",
       "      <td>50</td>\n",
       "      <td>True</td>\n",
       "      <td>16</td>\n",
       "      <td>{'thermometer__n_bits': 50, 'thermometer__quan...</td>\n",
       "      <td>0.804225</td>\n",
       "      <td>0.888028</td>\n",
       "      <td>0.941426</td>\n",
       "      <td>0.940426</td>\n",
       "      <td>0.907418</td>\n",
       "      <td>0.896305</td>\n",
       "      <td>0.050305</td>\n",
       "      <td>30</td>\n",
       "    </tr>\n",
       "    <tr>\n",
       "      <th>30</th>\n",
       "      <td>10.223070</td>\n",
       "      <td>0.582081</td>\n",
       "      <td>5.317039</td>\n",
       "      <td>0.457426</td>\n",
       "      <td>50</td>\n",
       "      <td>True</td>\n",
       "      <td>18</td>\n",
       "      <td>{'thermometer__n_bits': 50, 'thermometer__quan...</td>\n",
       "      <td>0.802113</td>\n",
       "      <td>0.888732</td>\n",
       "      <td>0.950600</td>\n",
       "      <td>0.934043</td>\n",
       "      <td>0.903264</td>\n",
       "      <td>0.895750</td>\n",
       "      <td>0.051669</td>\n",
       "      <td>31</td>\n",
       "    </tr>\n",
       "    <tr>\n",
       "      <th>31</th>\n",
       "      <td>11.823729</td>\n",
       "      <td>0.264562</td>\n",
       "      <td>6.791352</td>\n",
       "      <td>0.388647</td>\n",
       "      <td>60</td>\n",
       "      <td>True</td>\n",
       "      <td>16</td>\n",
       "      <td>{'thermometer__n_bits': 60, 'thermometer__quan...</td>\n",
       "      <td>0.802817</td>\n",
       "      <td>0.883803</td>\n",
       "      <td>0.949188</td>\n",
       "      <td>0.938298</td>\n",
       "      <td>0.901484</td>\n",
       "      <td>0.895118</td>\n",
       "      <td>0.051916</td>\n",
       "      <td>32</td>\n",
       "    </tr>\n",
       "    <tr>\n",
       "      <th>32</th>\n",
       "      <td>8.647882</td>\n",
       "      <td>0.635035</td>\n",
       "      <td>5.881592</td>\n",
       "      <td>0.651199</td>\n",
       "      <td>40</td>\n",
       "      <td>True</td>\n",
       "      <td>8</td>\n",
       "      <td>{'thermometer__n_bits': 40, 'thermometer__quan...</td>\n",
       "      <td>0.800704</td>\n",
       "      <td>0.885915</td>\n",
       "      <td>0.948483</td>\n",
       "      <td>0.925532</td>\n",
       "      <td>0.910386</td>\n",
       "      <td>0.894204</td>\n",
       "      <td>0.050991</td>\n",
       "      <td>33</td>\n",
       "    </tr>\n",
       "    <tr>\n",
       "      <th>33</th>\n",
       "      <td>7.470747</td>\n",
       "      <td>0.317518</td>\n",
       "      <td>3.857449</td>\n",
       "      <td>0.198924</td>\n",
       "      <td>40</td>\n",
       "      <td>True</td>\n",
       "      <td>18</td>\n",
       "      <td>{'thermometer__n_bits': 40, 'thermometer__quan...</td>\n",
       "      <td>0.797887</td>\n",
       "      <td>0.887324</td>\n",
       "      <td>0.952717</td>\n",
       "      <td>0.937589</td>\n",
       "      <td>0.892582</td>\n",
       "      <td>0.893620</td>\n",
       "      <td>0.054095</td>\n",
       "      <td>34</td>\n",
       "    </tr>\n",
       "    <tr>\n",
       "      <th>34</th>\n",
       "      <td>17.591971</td>\n",
       "      <td>0.550075</td>\n",
       "      <td>8.390000</td>\n",
       "      <td>0.868944</td>\n",
       "      <td>70</td>\n",
       "      <td>True</td>\n",
       "      <td>18</td>\n",
       "      <td>{'thermometer__n_bits': 70, 'thermometer__quan...</td>\n",
       "      <td>0.803521</td>\n",
       "      <td>0.879577</td>\n",
       "      <td>0.947071</td>\n",
       "      <td>0.939007</td>\n",
       "      <td>0.897329</td>\n",
       "      <td>0.893301</td>\n",
       "      <td>0.051469</td>\n",
       "      <td>35</td>\n",
       "    </tr>\n",
       "    <tr>\n",
       "      <th>35</th>\n",
       "      <td>8.892393</td>\n",
       "      <td>0.742422</td>\n",
       "      <td>4.711874</td>\n",
       "      <td>0.210979</td>\n",
       "      <td>40</td>\n",
       "      <td>True</td>\n",
       "      <td>16</td>\n",
       "      <td>{'thermometer__n_bits': 40, 'thermometer__quan...</td>\n",
       "      <td>0.799296</td>\n",
       "      <td>0.886620</td>\n",
       "      <td>0.944248</td>\n",
       "      <td>0.927660</td>\n",
       "      <td>0.894955</td>\n",
       "      <td>0.890556</td>\n",
       "      <td>0.050245</td>\n",
       "      <td>36</td>\n",
       "    </tr>\n",
       "  </tbody>\n",
       "</table>\n",
       "</div>"
      ],
      "text/plain": [
       "    mean_fit_time  std_fit_time  mean_score_time  std_score_time  \\\n",
       "0       18.499789      1.944940        11.102821        1.104562   \n",
       "1       18.419056      0.792026        11.328142        1.061058   \n",
       "2       16.020330      1.974298        11.402025        1.357966   \n",
       "3        6.806651      0.651978         4.464564        0.244882   \n",
       "4        9.559117      0.621906         6.160989        0.485238   \n",
       "5       27.583598      3.348984        14.435915        2.426086   \n",
       "6       19.890291      0.947774        10.935202        1.590028   \n",
       "7       18.527955      1.111412        12.990050        2.018017   \n",
       "8       23.047468      0.928216        13.545949        1.269136   \n",
       "9       11.080250      0.296432         8.110192        1.387651   \n",
       "10      23.960899      1.298159        14.987042        0.970436   \n",
       "11      14.312483      0.581732         9.381319        0.581442   \n",
       "12       9.727669      0.555152         6.614056        0.714690   \n",
       "13      13.810009      0.559016         9.594907        1.089028   \n",
       "14      11.326014      0.928895         7.520773        0.454524   \n",
       "15       7.329580      0.420614         4.367874        0.336724   \n",
       "16      24.473940      0.223082        14.436472        1.386637   \n",
       "17      21.358110      0.676312        10.607615        0.739208   \n",
       "18      12.231833      1.238164         8.796365        0.597771   \n",
       "19       7.020184      0.440945         4.757027        0.394098   \n",
       "20      28.754640      2.958115        12.663813        0.825107   \n",
       "21       9.495906      0.156354         6.198185        0.459799   \n",
       "22      15.968823      0.434161         8.600613        0.644906   \n",
       "23      11.907298      0.415474         6.809319        0.762452   \n",
       "24      10.626822      0.959052         8.154661        0.713640   \n",
       "25      26.772115      1.902646        11.718547        0.262088   \n",
       "26      14.712948      0.681156         8.715495        0.780468   \n",
       "27      11.665934      0.563187         7.440534        1.008321   \n",
       "28      20.971684      0.652539        10.060220        0.722354   \n",
       "29       9.394095      0.108772         5.341100        0.367566   \n",
       "30      10.223070      0.582081         5.317039        0.457426   \n",
       "31      11.823729      0.264562         6.791352        0.388647   \n",
       "32       8.647882      0.635035         5.881592        0.651199   \n",
       "33       7.470747      0.317518         3.857449        0.198924   \n",
       "34      17.591971      0.550075         8.390000        0.868944   \n",
       "35       8.892393      0.742422         4.711874        0.210979   \n",
       "\n",
       "   param_thermometer__n_bits param_thermometer__quantile_based  \\\n",
       "0                         80                              True   \n",
       "1                         80                              True   \n",
       "2                         70                              True   \n",
       "3                         40                              True   \n",
       "4                         50                              True   \n",
       "5                         90                              True   \n",
       "6                         80                              True   \n",
       "7                         80                              True   \n",
       "8                         90                              True   \n",
       "9                         60                              True   \n",
       "10                        90                              True   \n",
       "11                        70                              True   \n",
       "12                        50                              True   \n",
       "13                        70                              True   \n",
       "14                        60                              True   \n",
       "15                        40                              True   \n",
       "16                        90                              True   \n",
       "17                        80                              True   \n",
       "18                        60                              True   \n",
       "19                        40                              True   \n",
       "20                        90                              True   \n",
       "21                        50                              True   \n",
       "22                        70                              True   \n",
       "23                        60                              True   \n",
       "24                        50                              True   \n",
       "25                        90                              True   \n",
       "26                        70                              True   \n",
       "27                        60                              True   \n",
       "28                        80                              True   \n",
       "29                        50                              True   \n",
       "30                        50                              True   \n",
       "31                        60                              True   \n",
       "32                        40                              True   \n",
       "33                        40                              True   \n",
       "34                        70                              True   \n",
       "35                        40                              True   \n",
       "\n",
       "   param_wisard__address_size  \\\n",
       "0                          10   \n",
       "1                          12   \n",
       "2                           8   \n",
       "3                          10   \n",
       "4                          10   \n",
       "5                          14   \n",
       "6                          14   \n",
       "7                           8   \n",
       "8                          10   \n",
       "9                          12   \n",
       "10                          8   \n",
       "11                         12   \n",
       "12                         12   \n",
       "13                         10   \n",
       "14                         10   \n",
       "15                         14   \n",
       "16                         12   \n",
       "17                         16   \n",
       "18                          8   \n",
       "19                         12   \n",
       "20                         16   \n",
       "21                         14   \n",
       "22                         16   \n",
       "23                         18   \n",
       "24                          8   \n",
       "25                         18   \n",
       "26                         14   \n",
       "27                         14   \n",
       "28                         18   \n",
       "29                         16   \n",
       "30                         18   \n",
       "31                         16   \n",
       "32                          8   \n",
       "33                         18   \n",
       "34                         18   \n",
       "35                         16   \n",
       "\n",
       "                                               params  split0_test_score  \\\n",
       "0   {'thermometer__n_bits': 80, 'thermometer__quan...           0.811972   \n",
       "1   {'thermometer__n_bits': 80, 'thermometer__quan...           0.809155   \n",
       "2   {'thermometer__n_bits': 70, 'thermometer__quan...           0.804225   \n",
       "3   {'thermometer__n_bits': 40, 'thermometer__quan...           0.813380   \n",
       "4   {'thermometer__n_bits': 50, 'thermometer__quan...           0.813380   \n",
       "5   {'thermometer__n_bits': 90, 'thermometer__quan...           0.808451   \n",
       "6   {'thermometer__n_bits': 80, 'thermometer__quan...           0.808451   \n",
       "7   {'thermometer__n_bits': 80, 'thermometer__quan...           0.805634   \n",
       "8   {'thermometer__n_bits': 90, 'thermometer__quan...           0.810563   \n",
       "9   {'thermometer__n_bits': 60, 'thermometer__quan...           0.804930   \n",
       "10  {'thermometer__n_bits': 90, 'thermometer__quan...           0.809155   \n",
       "11  {'thermometer__n_bits': 70, 'thermometer__quan...           0.810563   \n",
       "12  {'thermometer__n_bits': 50, 'thermometer__quan...           0.807746   \n",
       "13  {'thermometer__n_bits': 70, 'thermometer__quan...           0.809155   \n",
       "14  {'thermometer__n_bits': 60, 'thermometer__quan...           0.802113   \n",
       "15  {'thermometer__n_bits': 40, 'thermometer__quan...           0.803521   \n",
       "16  {'thermometer__n_bits': 90, 'thermometer__quan...           0.809859   \n",
       "17  {'thermometer__n_bits': 80, 'thermometer__quan...           0.804225   \n",
       "18  {'thermometer__n_bits': 60, 'thermometer__quan...           0.809155   \n",
       "19  {'thermometer__n_bits': 40, 'thermometer__quan...           0.812676   \n",
       "20  {'thermometer__n_bits': 90, 'thermometer__quan...           0.806338   \n",
       "21  {'thermometer__n_bits': 50, 'thermometer__quan...           0.802817   \n",
       "22  {'thermometer__n_bits': 70, 'thermometer__quan...           0.804225   \n",
       "23  {'thermometer__n_bits': 60, 'thermometer__quan...           0.807746   \n",
       "24  {'thermometer__n_bits': 50, 'thermometer__quan...           0.808451   \n",
       "25  {'thermometer__n_bits': 90, 'thermometer__quan...           0.802113   \n",
       "26  {'thermometer__n_bits': 70, 'thermometer__quan...           0.800704   \n",
       "27  {'thermometer__n_bits': 60, 'thermometer__quan...           0.808451   \n",
       "28  {'thermometer__n_bits': 80, 'thermometer__quan...           0.808451   \n",
       "29  {'thermometer__n_bits': 50, 'thermometer__quan...           0.804225   \n",
       "30  {'thermometer__n_bits': 50, 'thermometer__quan...           0.802113   \n",
       "31  {'thermometer__n_bits': 60, 'thermometer__quan...           0.802817   \n",
       "32  {'thermometer__n_bits': 40, 'thermometer__quan...           0.800704   \n",
       "33  {'thermometer__n_bits': 40, 'thermometer__quan...           0.797887   \n",
       "34  {'thermometer__n_bits': 70, 'thermometer__quan...           0.803521   \n",
       "35  {'thermometer__n_bits': 40, 'thermometer__quan...           0.799296   \n",
       "\n",
       "    split1_test_score  split2_test_score  split3_test_score  \\\n",
       "0            0.897183           0.962597           0.936879   \n",
       "1            0.900704           0.954834           0.939716   \n",
       "2            0.892958           0.966831           0.935461   \n",
       "3            0.898592           0.947071           0.938298   \n",
       "4            0.893662           0.956951           0.936170   \n",
       "5            0.897183           0.957657           0.936879   \n",
       "6            0.890845           0.958363           0.941135   \n",
       "7            0.898592           0.951306           0.937589   \n",
       "8            0.893662           0.960480           0.937589   \n",
       "9            0.899296           0.957657           0.929078   \n",
       "10           0.899296           0.959068           0.925532   \n",
       "11           0.897183           0.949188           0.941844   \n",
       "12           0.899296           0.952717           0.937589   \n",
       "13           0.900704           0.949188           0.934043   \n",
       "14           0.890845           0.953423           0.936170   \n",
       "15           0.899296           0.954834           0.936170   \n",
       "16           0.887324           0.960480           0.936170   \n",
       "17           0.896479           0.947777           0.937589   \n",
       "18           0.892958           0.953423           0.928369   \n",
       "19           0.893662           0.954128           0.929078   \n",
       "20           0.891549           0.949894           0.936170   \n",
       "21           0.892254           0.955540           0.929078   \n",
       "22           0.892958           0.948483           0.941135   \n",
       "23           0.892254           0.946366           0.940426   \n",
       "24           0.889437           0.950600           0.929787   \n",
       "25           0.884507           0.954834           0.942553   \n",
       "26           0.890141           0.954128           0.936170   \n",
       "27           0.883099           0.955540           0.934043   \n",
       "28           0.887324           0.943543           0.940426   \n",
       "29           0.888028           0.941426           0.940426   \n",
       "30           0.888732           0.950600           0.934043   \n",
       "31           0.883803           0.949188           0.938298   \n",
       "32           0.885915           0.948483           0.925532   \n",
       "33           0.887324           0.952717           0.937589   \n",
       "34           0.879577           0.947071           0.939007   \n",
       "35           0.886620           0.944248           0.927660   \n",
       "\n",
       "    split4_test_score  mean_test_score  std_test_score  rank_test_score  \n",
       "0            0.907418         0.903210        0.051066                1  \n",
       "1            0.908605         0.902603        0.050750                2  \n",
       "2            0.908012         0.901497        0.054771                3  \n",
       "3            0.908012         0.901071        0.047425                4  \n",
       "4            0.905045         0.901042        0.049224                5  \n",
       "5            0.903858         0.900806        0.051157                6  \n",
       "6            0.905045         0.900768        0.052127                7  \n",
       "7            0.909792         0.900582        0.051081                8  \n",
       "8            0.899703         0.900399        0.051204                9  \n",
       "9            0.910979         0.900388        0.051630               10  \n",
       "10           0.908605         0.900331        0.049936               11  \n",
       "11           0.902671         0.900290        0.049364               12  \n",
       "12           0.903858         0.900241        0.050434               13  \n",
       "13           0.906231         0.899864        0.048725               14  \n",
       "14           0.912760         0.899062        0.052889               15  \n",
       "15           0.901484         0.899061        0.052195               16  \n",
       "16           0.900297         0.898826        0.051469               17  \n",
       "17           0.904451         0.898104        0.050759               18  \n",
       "18           0.905045         0.897790        0.048913               19  \n",
       "19           0.898516         0.897612        0.047780               20  \n",
       "20           0.903264         0.897443        0.050239               21  \n",
       "21           0.907418         0.897421        0.051878               22  \n",
       "22           0.899703         0.897301        0.051437               23  \n",
       "23           0.899110         0.897180        0.049630               24  \n",
       "24           0.907418         0.897139        0.048897               25  \n",
       "25           0.901484         0.897098        0.054036               26  \n",
       "26           0.903858         0.897000        0.053226               27  \n",
       "27           0.903858         0.896998        0.050755               28  \n",
       "28           0.903858         0.896720        0.049058               29  \n",
       "29           0.907418         0.896305        0.050305               30  \n",
       "30           0.903264         0.895750        0.051669               31  \n",
       "31           0.901484         0.895118        0.051916               32  \n",
       "32           0.910386         0.894204        0.050991               33  \n",
       "33           0.892582         0.893620        0.054095               34  \n",
       "34           0.897329         0.893301        0.051469               35  \n",
       "35           0.894955         0.890556        0.050245               36  "
      ]
     },
     "execution_count": 38,
     "metadata": {},
     "output_type": "execute_result"
    }
   ],
   "source": [
    "gs_model2 = pd.DataFrame(gs_model2).sort_values('rank_test_score').reset_index(drop=True)\n",
    "\n",
    "with open('results/model2_gs_results.pickle', 'wb') as file:\n",
    "    pickle.dump(gs_model2, file)\n",
    "\n",
    "gs_model2"
   ]
  },
  {
   "cell_type": "code",
   "execution_count": 34,
   "metadata": {},
   "outputs": [],
   "source": [
    "with open('results/model2_gs_results.pickle', 'rb') as file:\n",
    "    gs_model2 = pickle.load(file)"
   ]
  },
  {
   "cell_type": "code",
   "execution_count": 35,
   "metadata": {},
   "outputs": [],
   "source": [
    "with open('results/model2_best_params.pickle', 'rb') as file:\n",
    "    best_params_model2 = pickle.load(file)"
   ]
  },
  {
   "cell_type": "code",
   "execution_count": 40,
   "metadata": {},
   "outputs": [
    {
     "name": "stdout",
     "output_type": "stream",
     "text": [
      "Training Accuracy: 1.0000\n",
      "Test Accuracy: 0.9260\n"
     ]
    },
    {
     "data": {
      "image/png": "[encoded data removed]",
      "text/plain": [
       "<Figure size 432x288 with 2 Axes>"
      ]
     },
     "metadata": {
      "needs_background": "light"
     },
     "output_type": "display_data"
    },
    {
     "data": {
      "image/png": "[encoded data removed]",
      "text/plain": [
       "<Figure size 432x288 with 2 Axes>"
      ]
     },
     "metadata": {
      "needs_background": "light"
     },
     "output_type": "display_data"
    }
   ],
   "source": [
    "model2 = Pipeline([('thermometer', ThermometerEncoder()),\n",
    "                   ('wisard', WisardClassifier())])\n",
    "\n",
    "model2.set_params(**best_params_model2)\n",
    "\n",
    "train_and_evaluate_model(model2, train_eng, train_labels, test_eng, test_labels)"
   ]
  },
  {
   "cell_type": "markdown",
   "metadata": {},
   "source": [
    "## Model 4: Bagging wisard"
   ]
  },
  {
   "cell_type": "code",
   "execution_count": 27,
   "metadata": {},
   "outputs": [],
   "source": [
    "def cross_validation_model4(X, y, subjects, n_splits=5, addressSize=[50], \n",
    "                            bleachingActivated=[True], thermometer_size=[20], \n",
    "                            quantile_based=[True], \n",
    "                            max_features=[0.8], max_samples=[0.8],\n",
    "                            n_estimators=[10]):\n",
    "\n",
    "    ensemble = BaggingClassifier(WisardClassifier(), n_jobs=1, verbose=1)\n",
    "    \n",
    "    model = Pipeline([('thermometer', ThermometerEncoder()), \n",
    "                     ('ensemble', ensemble)])\n",
    "    \n",
    "    param_grid = [{'thermometer__n_bits': thermometer_size,\n",
    "                   'thermometer__quantile_based': quantile_based,\n",
    "                   'ensemble__base_estimator__address_size': addressSize,\n",
    "                   'ensemble__n_estimators': n_estimators,\n",
    "                   'ensemble__max_features': max_features,\n",
    "                   'ensemble__max_samples': max_samples}]\n",
    "    \n",
    "    cv = GroupKFold(n_splits=n_splits)\n",
    "    gs = GridSearchCV(model, param_grid, cv=cv, n_jobs=1, verbose=4)\n",
    "    \n",
    "    gs.fit(X, y, groups=subjects)\n",
    "    \n",
    "    return gs.cv_results_, gs.best_params_"
   ]
  },
  {
   "cell_type": "code",
   "execution_count": 28,
   "metadata": {
    "scrolled": true
   },
   "outputs": [
    {
     "name": "stdout",
     "output_type": "stream",
     "text": [
      "Fitting 5 folds for each of 27 candidates, totalling 135 fits\n"
     ]
    },
    {
     "name": "stderr",
     "output_type": "stream",
     "text": [
      "C:\\Users\\bruno.silva\\AppData\\Local\\Continuum\\anaconda3\\envs\\wisard\\lib\\site-packages\\sklearn\\utils\\validation.py:63: DataConversionWarning: A column-vector y was passed when a 1d array was expected. Please change the shape of y to (n_samples, ), for example using ravel().\n",
      "  return f(*args, **kwargs)\n",
      "[Parallel(n_jobs=1)]: Using backend SequentialBackend with 1 concurrent workers.\n",
      "[Parallel(n_jobs=1)]: Done   1 out of   1 | elapsed:  1.6min finished\n",
      "[Parallel(n_jobs=1)]: Using backend SequentialBackend with 1 concurrent workers.\n",
      "[Parallel(n_jobs=1)]: Done   1 out of   1 | elapsed:   50.2s finished\n"
     ]
    },
    {
     "name": "stdout",
     "output_type": "stream",
     "text": [
      "[CV 1/5] END ensemble__base_estimator__address_size=8, ensemble__max_features=0.8, ensemble__max_samples=0.8, ensemble__n_estimators=10, thermometer__n_bits=60, thermometer__quantile_based=True; total time= 2.4min\n"
     ]
    },
    {
     "name": "stderr",
     "output_type": "stream",
     "text": [
      "C:\\Users\\bruno.silva\\AppData\\Local\\Continuum\\anaconda3\\envs\\wisard\\lib\\site-packages\\sklearn\\utils\\validation.py:63: DataConversionWarning: A column-vector y was passed when a 1d array was expected. Please change the shape of y to (n_samples, ), for example using ravel().\n",
      "  return f(*args, **kwargs)\n",
      "[Parallel(n_jobs=1)]: Using backend SequentialBackend with 1 concurrent workers.\n",
      "[Parallel(n_jobs=1)]: Done   1 out of   1 | elapsed:  1.6min finished\n",
      "[Parallel(n_jobs=1)]: Using backend SequentialBackend with 1 concurrent workers.\n",
      "[Parallel(n_jobs=1)]: Done   1 out of   1 | elapsed:   52.4s finished\n"
     ]
    },
    {
     "name": "stdout",
     "output_type": "stream",
     "text": [
      "[CV 2/5] END ensemble__base_estimator__address_size=8, ensemble__max_features=0.8, ensemble__max_samples=0.8, ensemble__n_estimators=10, thermometer__n_bits=60, thermometer__quantile_based=True; total time= 2.5min\n"
     ]
    },
    {
     "name": "stderr",
     "output_type": "stream",
     "text": [
      "C:\\Users\\bruno.silva\\AppData\\Local\\Continuum\\anaconda3\\envs\\wisard\\lib\\site-packages\\sklearn\\utils\\validation.py:63: DataConversionWarning: A column-vector y was passed when a 1d array was expected. Please change the shape of y to (n_samples, ), for example using ravel().\n",
      "  return f(*args, **kwargs)\n",
      "[Parallel(n_jobs=1)]: Using backend SequentialBackend with 1 concurrent workers.\n",
      "[Parallel(n_jobs=1)]: Done   1 out of   1 | elapsed:  1.7min finished\n",
      "[Parallel(n_jobs=1)]: Using backend SequentialBackend with 1 concurrent workers.\n",
      "[Parallel(n_jobs=1)]: Done   1 out of   1 | elapsed:   56.0s finished\n"
     ]
    },
    {
     "name": "stdout",
     "output_type": "stream",
     "text": [
      "[CV 3/5] END ensemble__base_estimator__address_size=8, ensemble__max_features=0.8, ensemble__max_samples=0.8, ensemble__n_estimators=10, thermometer__n_bits=60, thermometer__quantile_based=True; total time= 2.7min\n"
     ]
    },
    {
     "name": "stderr",
     "output_type": "stream",
     "text": [
      "C:\\Users\\bruno.silva\\AppData\\Local\\Continuum\\anaconda3\\envs\\wisard\\lib\\site-packages\\sklearn\\utils\\validation.py:63: DataConversionWarning: A column-vector y was passed when a 1d array was expected. Please change the shape of y to (n_samples, ), for example using ravel().\n",
      "  return f(*args, **kwargs)\n",
      "[Parallel(n_jobs=1)]: Using backend SequentialBackend with 1 concurrent workers.\n",
      "[Parallel(n_jobs=1)]: Done   1 out of   1 | elapsed:  1.6min finished\n",
      "[Parallel(n_jobs=1)]: Using backend SequentialBackend with 1 concurrent workers.\n",
      "[Parallel(n_jobs=1)]: Done   1 out of   1 | elapsed:   55.7s finished\n"
     ]
    },
    {
     "name": "stdout",
     "output_type": "stream",
     "text": [
      "[CV 4/5] END ensemble__base_estimator__address_size=8, ensemble__max_features=0.8, ensemble__max_samples=0.8, ensemble__n_estimators=10, thermometer__n_bits=60, thermometer__quantile_based=True; total time= 2.6min\n"
     ]
    },
    {
     "name": "stderr",
     "output_type": "stream",
     "text": [
      "C:\\Users\\bruno.silva\\AppData\\Local\\Continuum\\anaconda3\\envs\\wisard\\lib\\site-packages\\sklearn\\utils\\validation.py:63: DataConversionWarning: A column-vector y was passed when a 1d array was expected. Please change the shape of y to (n_samples, ), for example using ravel().\n",
      "  return f(*args, **kwargs)\n",
      "[Parallel(n_jobs=1)]: Using backend SequentialBackend with 1 concurrent workers.\n",
      "[Parallel(n_jobs=1)]: Done   1 out of   1 | elapsed:  1.8min finished\n",
      "[Parallel(n_jobs=1)]: Using backend SequentialBackend with 1 concurrent workers.\n",
      "[Parallel(n_jobs=1)]: Done   1 out of   1 | elapsed:  1.3min finished\n"
     ]
    },
    {
     "name": "stdout",
     "output_type": "stream",
     "text": [
      "[CV 5/5] END ensemble__base_estimator__address_size=8, ensemble__max_features=0.8, ensemble__max_samples=0.8, ensemble__n_estimators=10, thermometer__n_bits=60, thermometer__quantile_based=True; total time= 3.1min\n"
     ]
    },
    {
     "name": "stderr",
     "output_type": "stream",
     "text": [
      "C:\\Users\\bruno.silva\\AppData\\Local\\Continuum\\anaconda3\\envs\\wisard\\lib\\site-packages\\sklearn\\utils\\validation.py:63: DataConversionWarning: A column-vector y was passed when a 1d array was expected. Please change the shape of y to (n_samples, ), for example using ravel().\n",
      "  return f(*args, **kwargs)\n",
      "[Parallel(n_jobs=1)]: Using backend SequentialBackend with 1 concurrent workers.\n",
      "[Parallel(n_jobs=1)]: Done   1 out of   1 | elapsed:  3.1min finished\n",
      "[Parallel(n_jobs=1)]: Using backend SequentialBackend with 1 concurrent workers.\n",
      "[Parallel(n_jobs=1)]: Done   1 out of   1 | elapsed:  1.7min finished\n"
     ]
    },
    {
     "name": "stdout",
     "output_type": "stream",
     "text": [
      "[CV 1/5] END ensemble__base_estimator__address_size=8, ensemble__max_features=0.8, ensemble__max_samples=0.8, ensemble__n_estimators=15, thermometer__n_bits=60, thermometer__quantile_based=True; total time= 4.8min\n"
     ]
    },
    {
     "name": "stderr",
     "output_type": "stream",
     "text": [
      "C:\\Users\\bruno.silva\\AppData\\Local\\Continuum\\anaconda3\\envs\\wisard\\lib\\site-packages\\sklearn\\utils\\validation.py:63: DataConversionWarning: A column-vector y was passed when a 1d array was expected. Please change the shape of y to (n_samples, ), for example using ravel().\n",
      "  return f(*args, **kwargs)\n",
      "[Parallel(n_jobs=1)]: Using backend SequentialBackend with 1 concurrent workers.\n",
      "[Parallel(n_jobs=1)]: Done   1 out of   1 | elapsed:  3.0min finished\n",
      "[Parallel(n_jobs=1)]: Using backend SequentialBackend with 1 concurrent workers.\n",
      "[Parallel(n_jobs=1)]: Done   1 out of   1 | elapsed:  1.6min finished\n"
     ]
    },
    {
     "name": "stdout",
     "output_type": "stream",
     "text": [
      "[CV 2/5] END ensemble__base_estimator__address_size=8, ensemble__max_features=0.8, ensemble__max_samples=0.8, ensemble__n_estimators=15, thermometer__n_bits=60, thermometer__quantile_based=True; total time= 4.7min\n"
     ]
    },
    {
     "name": "stderr",
     "output_type": "stream",
     "text": [
      "C:\\Users\\bruno.silva\\AppData\\Local\\Continuum\\anaconda3\\envs\\wisard\\lib\\site-packages\\sklearn\\utils\\validation.py:63: DataConversionWarning: A column-vector y was passed when a 1d array was expected. Please change the shape of y to (n_samples, ), for example using ravel().\n",
      "  return f(*args, **kwargs)\n",
      "[Parallel(n_jobs=1)]: Using backend SequentialBackend with 1 concurrent workers.\n",
      "[Parallel(n_jobs=1)]: Done   1 out of   1 | elapsed:  3.2min finished\n",
      "[Parallel(n_jobs=1)]: Using backend SequentialBackend with 1 concurrent workers.\n",
      "[Parallel(n_jobs=1)]: Done   1 out of   1 | elapsed:  1.7min finished\n"
     ]
    },
    {
     "name": "stdout",
     "output_type": "stream",
     "text": [
      "[CV 3/5] END ensemble__base_estimator__address_size=8, ensemble__max_features=0.8, ensemble__max_samples=0.8, ensemble__n_estimators=15, thermometer__n_bits=60, thermometer__quantile_based=True; total time= 4.9min\n"
     ]
    },
    {
     "name": "stderr",
     "output_type": "stream",
     "text": [
      "C:\\Users\\bruno.silva\\AppData\\Local\\Continuum\\anaconda3\\envs\\wisard\\lib\\site-packages\\sklearn\\utils\\validation.py:63: DataConversionWarning: A column-vector y was passed when a 1d array was expected. Please change the shape of y to (n_samples, ), for example using ravel().\n",
      "  return f(*args, **kwargs)\n",
      "[Parallel(n_jobs=1)]: Using backend SequentialBackend with 1 concurrent workers.\n",
      "[Parallel(n_jobs=1)]: Done   1 out of   1 | elapsed:  3.0min finished\n",
      "[Parallel(n_jobs=1)]: Using backend SequentialBackend with 1 concurrent workers.\n",
      "[Parallel(n_jobs=1)]: Done   1 out of   1 | elapsed:  1.6min finished\n"
     ]
    },
    {
     "name": "stdout",
     "output_type": "stream",
     "text": [
      "[CV 4/5] END ensemble__base_estimator__address_size=8, ensemble__max_features=0.8, ensemble__max_samples=0.8, ensemble__n_estimators=15, thermometer__n_bits=60, thermometer__quantile_based=True; total time= 4.7min\n"
     ]
    },
    {
     "name": "stderr",
     "output_type": "stream",
     "text": [
      "C:\\Users\\bruno.silva\\AppData\\Local\\Continuum\\anaconda3\\envs\\wisard\\lib\\site-packages\\sklearn\\utils\\validation.py:63: DataConversionWarning: A column-vector y was passed when a 1d array was expected. Please change the shape of y to (n_samples, ), for example using ravel().\n",
      "  return f(*args, **kwargs)\n",
      "[Parallel(n_jobs=1)]: Using backend SequentialBackend with 1 concurrent workers.\n",
      "[Parallel(n_jobs=1)]: Done   1 out of   1 | elapsed:  3.0min finished\n",
      "[Parallel(n_jobs=1)]: Using backend SequentialBackend with 1 concurrent workers.\n",
      "[Parallel(n_jobs=1)]: Done   1 out of   1 | elapsed:  2.0min finished\n"
     ]
    },
    {
     "name": "stdout",
     "output_type": "stream",
     "text": [
      "[CV 5/5] END ensemble__base_estimator__address_size=8, ensemble__max_features=0.8, ensemble__max_samples=0.8, ensemble__n_estimators=15, thermometer__n_bits=60, thermometer__quantile_based=True; total time= 5.0min\n"
     ]
    },
    {
     "name": "stderr",
     "output_type": "stream",
     "text": [
      "C:\\Users\\bruno.silva\\AppData\\Local\\Continuum\\anaconda3\\envs\\wisard\\lib\\site-packages\\sklearn\\utils\\validation.py:63: DataConversionWarning: A column-vector y was passed when a 1d array was expected. Please change the shape of y to (n_samples, ), for example using ravel().\n",
      "  return f(*args, **kwargs)\n",
      "[Parallel(n_jobs=1)]: Using backend SequentialBackend with 1 concurrent workers.\n",
      "[Parallel(n_jobs=1)]: Done   1 out of   1 | elapsed:  4.1min finished\n",
      "[Parallel(n_jobs=1)]: Using backend SequentialBackend with 1 concurrent workers.\n",
      "[Parallel(n_jobs=1)]: Done   1 out of   1 | elapsed:  2.2min finished\n"
     ]
    },
    {
     "name": "stdout",
     "output_type": "stream",
     "text": [
      "[CV 1/5] END ensemble__base_estimator__address_size=8, ensemble__max_features=0.8, ensemble__max_samples=0.8, ensemble__n_estimators=20, thermometer__n_bits=60, thermometer__quantile_based=True; total time= 6.3min\n"
     ]
    },
    {
     "name": "stderr",
     "output_type": "stream",
     "text": [
      "C:\\Users\\bruno.silva\\AppData\\Local\\Continuum\\anaconda3\\envs\\wisard\\lib\\site-packages\\sklearn\\utils\\validation.py:63: DataConversionWarning: A column-vector y was passed when a 1d array was expected. Please change the shape of y to (n_samples, ), for example using ravel().\n",
      "  return f(*args, **kwargs)\n",
      "[Parallel(n_jobs=1)]: Using backend SequentialBackend with 1 concurrent workers.\n",
      "[Parallel(n_jobs=1)]: Done   1 out of   1 | elapsed:  4.2min finished\n",
      "[Parallel(n_jobs=1)]: Using backend SequentialBackend with 1 concurrent workers.\n",
      "[Parallel(n_jobs=1)]: Done   1 out of   1 | elapsed:  2.2min finished\n"
     ]
    },
    {
     "name": "stdout",
     "output_type": "stream",
     "text": [
      "[CV 2/5] END ensemble__base_estimator__address_size=8, ensemble__max_features=0.8, ensemble__max_samples=0.8, ensemble__n_estimators=20, thermometer__n_bits=60, thermometer__quantile_based=True; total time= 6.4min\n"
     ]
    },
    {
     "name": "stderr",
     "output_type": "stream",
     "text": [
      "C:\\Users\\bruno.silva\\AppData\\Local\\Continuum\\anaconda3\\envs\\wisard\\lib\\site-packages\\sklearn\\utils\\validation.py:63: DataConversionWarning: A column-vector y was passed when a 1d array was expected. Please change the shape of y to (n_samples, ), for example using ravel().\n",
      "  return f(*args, **kwargs)\n",
      "[Parallel(n_jobs=1)]: Using backend SequentialBackend with 1 concurrent workers.\n",
      "[Parallel(n_jobs=1)]: Done   1 out of   1 | elapsed:  4.4min finished\n",
      "[Parallel(n_jobs=1)]: Using backend SequentialBackend with 1 concurrent workers.\n",
      "[Parallel(n_jobs=1)]: Done   1 out of   1 | elapsed:  2.2min finished\n"
     ]
    },
    {
     "name": "stdout",
     "output_type": "stream",
     "text": [
      "[CV 3/5] END ensemble__base_estimator__address_size=8, ensemble__max_features=0.8, ensemble__max_samples=0.8, ensemble__n_estimators=20, thermometer__n_bits=60, thermometer__quantile_based=True; total time= 6.7min\n"
     ]
    },
    {
     "name": "stderr",
     "output_type": "stream",
     "text": [
      "C:\\Users\\bruno.silva\\AppData\\Local\\Continuum\\anaconda3\\envs\\wisard\\lib\\site-packages\\sklearn\\utils\\validation.py:63: DataConversionWarning: A column-vector y was passed when a 1d array was expected. Please change the shape of y to (n_samples, ), for example using ravel().\n",
      "  return f(*args, **kwargs)\n",
      "[Parallel(n_jobs=1)]: Using backend SequentialBackend with 1 concurrent workers.\n",
      "[Parallel(n_jobs=1)]: Done   1 out of   1 | elapsed:  4.2min finished\n",
      "[Parallel(n_jobs=1)]: Using backend SequentialBackend with 1 concurrent workers.\n",
      "[Parallel(n_jobs=1)]: Done   1 out of   1 | elapsed:  2.2min finished\n"
     ]
    },
    {
     "name": "stdout",
     "output_type": "stream",
     "text": [
      "[CV 4/5] END ensemble__base_estimator__address_size=8, ensemble__max_features=0.8, ensemble__max_samples=0.8, ensemble__n_estimators=20, thermometer__n_bits=60, thermometer__quantile_based=True; total time= 6.3min\n"
     ]
    },
    {
     "name": "stderr",
     "output_type": "stream",
     "text": [
      "C:\\Users\\bruno.silva\\AppData\\Local\\Continuum\\anaconda3\\envs\\wisard\\lib\\site-packages\\sklearn\\utils\\validation.py:63: DataConversionWarning: A column-vector y was passed when a 1d array was expected. Please change the shape of y to (n_samples, ), for example using ravel().\n",
      "  return f(*args, **kwargs)\n",
      "[Parallel(n_jobs=1)]: Using backend SequentialBackend with 1 concurrent workers.\n",
      "[Parallel(n_jobs=1)]: Done   1 out of   1 | elapsed:  4.1min finished\n",
      "[Parallel(n_jobs=1)]: Using backend SequentialBackend with 1 concurrent workers.\n",
      "[Parallel(n_jobs=1)]: Done   1 out of   1 | elapsed:  2.6min finished\n"
     ]
    },
    {
     "name": "stdout",
     "output_type": "stream",
     "text": [
      "[CV 5/5] END ensemble__base_estimator__address_size=8, ensemble__max_features=0.8, ensemble__max_samples=0.8, ensemble__n_estimators=20, thermometer__n_bits=60, thermometer__quantile_based=True; total time= 6.7min\n"
     ]
    },
    {
     "name": "stderr",
     "output_type": "stream",
     "text": [
      "C:\\Users\\bruno.silva\\AppData\\Local\\Continuum\\anaconda3\\envs\\wisard\\lib\\site-packages\\sklearn\\utils\\validation.py:63: DataConversionWarning: A column-vector y was passed when a 1d array was expected. Please change the shape of y to (n_samples, ), for example using ravel().\n",
      "  return f(*args, **kwargs)\n",
      "[Parallel(n_jobs=1)]: Using backend SequentialBackend with 1 concurrent workers.\n",
      "[Parallel(n_jobs=1)]: Done   1 out of   1 | elapsed:  2.4min finished\n",
      "[Parallel(n_jobs=1)]: Using backend SequentialBackend with 1 concurrent workers.\n",
      "[Parallel(n_jobs=1)]: Done   1 out of   1 | elapsed:  1.1min finished\n"
     ]
    },
    {
     "name": "stdout",
     "output_type": "stream",
     "text": [
      "[CV 1/5] END ensemble__base_estimator__address_size=8, ensemble__max_features=0.8, ensemble__max_samples=0.9, ensemble__n_estimators=10, thermometer__n_bits=60, thermometer__quantile_based=True; total time= 3.5min\n"
     ]
    },
    {
     "name": "stderr",
     "output_type": "stream",
     "text": [
      "C:\\Users\\bruno.silva\\AppData\\Local\\Continuum\\anaconda3\\envs\\wisard\\lib\\site-packages\\sklearn\\utils\\validation.py:63: DataConversionWarning: A column-vector y was passed when a 1d array was expected. Please change the shape of y to (n_samples, ), for example using ravel().\n",
      "  return f(*args, **kwargs)\n",
      "[Parallel(n_jobs=1)]: Using backend SequentialBackend with 1 concurrent workers.\n",
      "[Parallel(n_jobs=1)]: Done   1 out of   1 | elapsed:  2.5min finished\n",
      "[Parallel(n_jobs=1)]: Using backend SequentialBackend with 1 concurrent workers.\n",
      "[Parallel(n_jobs=1)]: Done   1 out of   1 | elapsed:  1.1min finished\n"
     ]
    },
    {
     "name": "stdout",
     "output_type": "stream",
     "text": [
      "[CV 2/5] END ensemble__base_estimator__address_size=8, ensemble__max_features=0.8, ensemble__max_samples=0.9, ensemble__n_estimators=10, thermometer__n_bits=60, thermometer__quantile_based=True; total time= 3.6min\n"
     ]
    },
    {
     "name": "stderr",
     "output_type": "stream",
     "text": [
      "C:\\Users\\bruno.silva\\AppData\\Local\\Continuum\\anaconda3\\envs\\wisard\\lib\\site-packages\\sklearn\\utils\\validation.py:63: DataConversionWarning: A column-vector y was passed when a 1d array was expected. Please change the shape of y to (n_samples, ), for example using ravel().\n",
      "  return f(*args, **kwargs)\n",
      "[Parallel(n_jobs=1)]: Using backend SequentialBackend with 1 concurrent workers.\n",
      "[Parallel(n_jobs=1)]: Done   1 out of   1 | elapsed:  2.4min finished\n",
      "[Parallel(n_jobs=1)]: Using backend SequentialBackend with 1 concurrent workers.\n",
      "[Parallel(n_jobs=1)]: Done   1 out of   1 | elapsed:  1.1min finished\n"
     ]
    },
    {
     "name": "stdout",
     "output_type": "stream",
     "text": [
      "[CV 3/5] END ensemble__base_estimator__address_size=8, ensemble__max_features=0.8, ensemble__max_samples=0.9, ensemble__n_estimators=10, thermometer__n_bits=60, thermometer__quantile_based=True; total time= 3.5min\n"
     ]
    },
    {
     "name": "stderr",
     "output_type": "stream",
     "text": [
      "C:\\Users\\bruno.silva\\AppData\\Local\\Continuum\\anaconda3\\envs\\wisard\\lib\\site-packages\\sklearn\\utils\\validation.py:63: DataConversionWarning: A column-vector y was passed when a 1d array was expected. Please change the shape of y to (n_samples, ), for example using ravel().\n",
      "  return f(*args, **kwargs)\n",
      "[Parallel(n_jobs=1)]: Using backend SequentialBackend with 1 concurrent workers.\n",
      "[Parallel(n_jobs=1)]: Done   1 out of   1 | elapsed:  2.4min finished\n",
      "[Parallel(n_jobs=1)]: Using backend SequentialBackend with 1 concurrent workers.\n",
      "[Parallel(n_jobs=1)]: Done   1 out of   1 | elapsed:  1.1min finished\n"
     ]
    },
    {
     "name": "stdout",
     "output_type": "stream",
     "text": [
      "[CV 4/5] END ensemble__base_estimator__address_size=8, ensemble__max_features=0.8, ensemble__max_samples=0.9, ensemble__n_estimators=10, thermometer__n_bits=60, thermometer__quantile_based=True; total time= 3.5min\n"
     ]
    },
    {
     "name": "stderr",
     "output_type": "stream",
     "text": [
      "C:\\Users\\bruno.silva\\AppData\\Local\\Continuum\\anaconda3\\envs\\wisard\\lib\\site-packages\\sklearn\\utils\\validation.py:63: DataConversionWarning: A column-vector y was passed when a 1d array was expected. Please change the shape of y to (n_samples, ), for example using ravel().\n",
      "  return f(*args, **kwargs)\n",
      "[Parallel(n_jobs=1)]: Using backend SequentialBackend with 1 concurrent workers.\n",
      "[Parallel(n_jobs=1)]: Done   1 out of   1 | elapsed:  2.4min finished\n",
      "[Parallel(n_jobs=1)]: Using backend SequentialBackend with 1 concurrent workers.\n",
      "[Parallel(n_jobs=1)]: Done   1 out of   1 | elapsed:  1.3min finished\n"
     ]
    },
    {
     "name": "stdout",
     "output_type": "stream",
     "text": [
      "[CV 5/5] END ensemble__base_estimator__address_size=8, ensemble__max_features=0.8, ensemble__max_samples=0.9, ensemble__n_estimators=10, thermometer__n_bits=60, thermometer__quantile_based=True; total time= 3.7min\n"
     ]
    },
    {
     "name": "stderr",
     "output_type": "stream",
     "text": [
      "C:\\Users\\bruno.silva\\AppData\\Local\\Continuum\\anaconda3\\envs\\wisard\\lib\\site-packages\\sklearn\\utils\\validation.py:63: DataConversionWarning: A column-vector y was passed when a 1d array was expected. Please change the shape of y to (n_samples, ), for example using ravel().\n",
      "  return f(*args, **kwargs)\n",
      "[Parallel(n_jobs=1)]: Using backend SequentialBackend with 1 concurrent workers.\n",
      "[Parallel(n_jobs=1)]: Done   1 out of   1 | elapsed:  3.6min finished\n",
      "[Parallel(n_jobs=1)]: Using backend SequentialBackend with 1 concurrent workers.\n",
      "[Parallel(n_jobs=1)]: Done   1 out of   1 | elapsed:  1.6min finished\n"
     ]
    },
    {
     "name": "stdout",
     "output_type": "stream",
     "text": [
      "[CV 1/5] END ensemble__base_estimator__address_size=8, ensemble__max_features=0.8, ensemble__max_samples=0.9, ensemble__n_estimators=15, thermometer__n_bits=60, thermometer__quantile_based=True; total time= 5.2min\n"
     ]
    },
    {
     "name": "stderr",
     "output_type": "stream",
     "text": [
      "C:\\Users\\bruno.silva\\AppData\\Local\\Continuum\\anaconda3\\envs\\wisard\\lib\\site-packages\\sklearn\\utils\\validation.py:63: DataConversionWarning: A column-vector y was passed when a 1d array was expected. Please change the shape of y to (n_samples, ), for example using ravel().\n",
      "  return f(*args, **kwargs)\n",
      "[Parallel(n_jobs=1)]: Using backend SequentialBackend with 1 concurrent workers.\n",
      "[Parallel(n_jobs=1)]: Done   1 out of   1 | elapsed:  3.7min finished\n",
      "[Parallel(n_jobs=1)]: Using backend SequentialBackend with 1 concurrent workers.\n",
      "[Parallel(n_jobs=1)]: Done   1 out of   1 | elapsed:  1.7min finished\n"
     ]
    },
    {
     "name": "stdout",
     "output_type": "stream",
     "text": [
      "[CV 2/5] END ensemble__base_estimator__address_size=8, ensemble__max_features=0.8, ensemble__max_samples=0.9, ensemble__n_estimators=15, thermometer__n_bits=60, thermometer__quantile_based=True; total time= 5.5min\n"
     ]
    },
    {
     "name": "stderr",
     "output_type": "stream",
     "text": [
      "C:\\Users\\bruno.silva\\AppData\\Local\\Continuum\\anaconda3\\envs\\wisard\\lib\\site-packages\\sklearn\\utils\\validation.py:63: DataConversionWarning: A column-vector y was passed when a 1d array was expected. Please change the shape of y to (n_samples, ), for example using ravel().\n",
      "  return f(*args, **kwargs)\n",
      "[Parallel(n_jobs=1)]: Using backend SequentialBackend with 1 concurrent workers.\n",
      "[Parallel(n_jobs=1)]: Done   1 out of   1 | elapsed:  3.7min finished\n",
      "[Parallel(n_jobs=1)]: Using backend SequentialBackend with 1 concurrent workers.\n",
      "[Parallel(n_jobs=1)]: Done   1 out of   1 | elapsed:  1.6min finished\n"
     ]
    },
    {
     "name": "stdout",
     "output_type": "stream",
     "text": [
      "[CV 3/5] END ensemble__base_estimator__address_size=8, ensemble__max_features=0.8, ensemble__max_samples=0.9, ensemble__n_estimators=15, thermometer__n_bits=60, thermometer__quantile_based=True; total time= 5.3min\n"
     ]
    },
    {
     "name": "stderr",
     "output_type": "stream",
     "text": [
      "C:\\Users\\bruno.silva\\AppData\\Local\\Continuum\\anaconda3\\envs\\wisard\\lib\\site-packages\\sklearn\\utils\\validation.py:63: DataConversionWarning: A column-vector y was passed when a 1d array was expected. Please change the shape of y to (n_samples, ), for example using ravel().\n",
      "  return f(*args, **kwargs)\n",
      "[Parallel(n_jobs=1)]: Using backend SequentialBackend with 1 concurrent workers.\n",
      "[Parallel(n_jobs=1)]: Done   1 out of   1 | elapsed:  3.8min finished\n",
      "[Parallel(n_jobs=1)]: Using backend SequentialBackend with 1 concurrent workers.\n",
      "[Parallel(n_jobs=1)]: Done   1 out of   1 | elapsed:  1.6min finished\n"
     ]
    },
    {
     "name": "stdout",
     "output_type": "stream",
     "text": [
      "[CV 4/5] END ensemble__base_estimator__address_size=8, ensemble__max_features=0.8, ensemble__max_samples=0.9, ensemble__n_estimators=15, thermometer__n_bits=60, thermometer__quantile_based=True; total time= 5.4min\n"
     ]
    },
    {
     "name": "stderr",
     "output_type": "stream",
     "text": [
      "C:\\Users\\bruno.silva\\AppData\\Local\\Continuum\\anaconda3\\envs\\wisard\\lib\\site-packages\\sklearn\\utils\\validation.py:63: DataConversionWarning: A column-vector y was passed when a 1d array was expected. Please change the shape of y to (n_samples, ), for example using ravel().\n",
      "  return f(*args, **kwargs)\n",
      "[Parallel(n_jobs=1)]: Using backend SequentialBackend with 1 concurrent workers.\n",
      "[Parallel(n_jobs=1)]: Done   1 out of   1 | elapsed:  3.5min finished\n",
      "[Parallel(n_jobs=1)]: Using backend SequentialBackend with 1 concurrent workers.\n",
      "[Parallel(n_jobs=1)]: Done   1 out of   1 | elapsed:  2.1min finished\n"
     ]
    },
    {
     "name": "stdout",
     "output_type": "stream",
     "text": [
      "[CV 5/5] END ensemble__base_estimator__address_size=8, ensemble__max_features=0.8, ensemble__max_samples=0.9, ensemble__n_estimators=15, thermometer__n_bits=60, thermometer__quantile_based=True; total time= 5.6min\n"
     ]
    },
    {
     "name": "stderr",
     "output_type": "stream",
     "text": [
      "C:\\Users\\bruno.silva\\AppData\\Local\\Continuum\\anaconda3\\envs\\wisard\\lib\\site-packages\\sklearn\\utils\\validation.py:63: DataConversionWarning: A column-vector y was passed when a 1d array was expected. Please change the shape of y to (n_samples, ), for example using ravel().\n",
      "  return f(*args, **kwargs)\n",
      "[Parallel(n_jobs=1)]: Using backend SequentialBackend with 1 concurrent workers.\n",
      "[Parallel(n_jobs=1)]: Done   1 out of   1 | elapsed:  6.6min finished\n",
      "[Parallel(n_jobs=1)]: Using backend SequentialBackend with 1 concurrent workers.\n",
      "[Parallel(n_jobs=1)]: Done   1 out of   1 | elapsed:  2.7min finished\n"
     ]
    },
    {
     "name": "stdout",
     "output_type": "stream",
     "text": [
      "[CV 1/5] END ensemble__base_estimator__address_size=8, ensemble__max_features=0.8, ensemble__max_samples=0.9, ensemble__n_estimators=20, thermometer__n_bits=60, thermometer__quantile_based=True; total time= 9.4min\n"
     ]
    },
    {
     "name": "stderr",
     "output_type": "stream",
     "text": [
      "C:\\Users\\bruno.silva\\AppData\\Local\\Continuum\\anaconda3\\envs\\wisard\\lib\\site-packages\\sklearn\\utils\\validation.py:63: DataConversionWarning: A column-vector y was passed when a 1d array was expected. Please change the shape of y to (n_samples, ), for example using ravel().\n",
      "  return f(*args, **kwargs)\n",
      "[Parallel(n_jobs=1)]: Using backend SequentialBackend with 1 concurrent workers.\n",
      "[Parallel(n_jobs=1)]: Done   1 out of   1 | elapsed:  5.6min finished\n",
      "[Parallel(n_jobs=1)]: Using backend SequentialBackend with 1 concurrent workers.\n",
      "[Parallel(n_jobs=1)]: Done   1 out of   1 | elapsed:  2.2min finished\n"
     ]
    },
    {
     "name": "stdout",
     "output_type": "stream",
     "text": [
      "[CV 2/5] END ensemble__base_estimator__address_size=8, ensemble__max_features=0.8, ensemble__max_samples=0.9, ensemble__n_estimators=20, thermometer__n_bits=60, thermometer__quantile_based=True; total time= 7.8min\n"
     ]
    },
    {
     "name": "stderr",
     "output_type": "stream",
     "text": [
      "C:\\Users\\bruno.silva\\AppData\\Local\\Continuum\\anaconda3\\envs\\wisard\\lib\\site-packages\\sklearn\\utils\\validation.py:63: DataConversionWarning: A column-vector y was passed when a 1d array was expected. Please change the shape of y to (n_samples, ), for example using ravel().\n",
      "  return f(*args, **kwargs)\n",
      "[Parallel(n_jobs=1)]: Using backend SequentialBackend with 1 concurrent workers.\n",
      "[Parallel(n_jobs=1)]: Done   1 out of   1 | elapsed:  5.1min finished\n",
      "[Parallel(n_jobs=1)]: Using backend SequentialBackend with 1 concurrent workers.\n",
      "[Parallel(n_jobs=1)]: Done   1 out of   1 | elapsed:  2.2min finished\n"
     ]
    },
    {
     "name": "stdout",
     "output_type": "stream",
     "text": [
      "[CV 3/5] END ensemble__base_estimator__address_size=8, ensemble__max_features=0.8, ensemble__max_samples=0.9, ensemble__n_estimators=20, thermometer__n_bits=60, thermometer__quantile_based=True; total time= 7.4min\n"
     ]
    },
    {
     "name": "stderr",
     "output_type": "stream",
     "text": [
      "C:\\Users\\bruno.silva\\AppData\\Local\\Continuum\\anaconda3\\envs\\wisard\\lib\\site-packages\\sklearn\\utils\\validation.py:63: DataConversionWarning: A column-vector y was passed when a 1d array was expected. Please change the shape of y to (n_samples, ), for example using ravel().\n",
      "  return f(*args, **kwargs)\n",
      "[Parallel(n_jobs=1)]: Using backend SequentialBackend with 1 concurrent workers.\n",
      "[Parallel(n_jobs=1)]: Done   1 out of   1 | elapsed:  5.4min finished\n",
      "[Parallel(n_jobs=1)]: Using backend SequentialBackend with 1 concurrent workers.\n",
      "[Parallel(n_jobs=1)]: Done   1 out of   1 | elapsed:  2.3min finished\n"
     ]
    },
    {
     "name": "stdout",
     "output_type": "stream",
     "text": [
      "[CV 4/5] END ensemble__base_estimator__address_size=8, ensemble__max_features=0.8, ensemble__max_samples=0.9, ensemble__n_estimators=20, thermometer__n_bits=60, thermometer__quantile_based=True; total time= 7.7min\n"
     ]
    },
    {
     "name": "stderr",
     "output_type": "stream",
     "text": [
      "C:\\Users\\bruno.silva\\AppData\\Local\\Continuum\\anaconda3\\envs\\wisard\\lib\\site-packages\\sklearn\\utils\\validation.py:63: DataConversionWarning: A column-vector y was passed when a 1d array was expected. Please change the shape of y to (n_samples, ), for example using ravel().\n",
      "  return f(*args, **kwargs)\n",
      "[Parallel(n_jobs=1)]: Using backend SequentialBackend with 1 concurrent workers.\n",
      "[Parallel(n_jobs=1)]: Done   1 out of   1 | elapsed:  4.9min finished\n",
      "[Parallel(n_jobs=1)]: Using backend SequentialBackend with 1 concurrent workers.\n",
      "[Parallel(n_jobs=1)]: Done   1 out of   1 | elapsed:  2.7min finished\n"
     ]
    },
    {
     "name": "stdout",
     "output_type": "stream",
     "text": [
      "[CV 5/5] END ensemble__base_estimator__address_size=8, ensemble__max_features=0.8, ensemble__max_samples=0.9, ensemble__n_estimators=20, thermometer__n_bits=60, thermometer__quantile_based=True; total time= 7.6min\n"
     ]
    },
    {
     "name": "stderr",
     "output_type": "stream",
     "text": [
      "C:\\Users\\bruno.silva\\AppData\\Local\\Continuum\\anaconda3\\envs\\wisard\\lib\\site-packages\\sklearn\\utils\\validation.py:63: DataConversionWarning: A column-vector y was passed when a 1d array was expected. Please change the shape of y to (n_samples, ), for example using ravel().\n",
      "  return f(*args, **kwargs)\n",
      "[Parallel(n_jobs=1)]: Using backend SequentialBackend with 1 concurrent workers.\n",
      "[Parallel(n_jobs=1)]: Done   1 out of   1 | elapsed:  3.1min finished\n",
      "[Parallel(n_jobs=1)]: Using backend SequentialBackend with 1 concurrent workers.\n",
      "[Parallel(n_jobs=1)]: Done   1 out of   1 | elapsed:  1.3min finished\n"
     ]
    },
    {
     "name": "stdout",
     "output_type": "stream",
     "text": [
      "[CV 1/5] END ensemble__base_estimator__address_size=8, ensemble__max_features=0.8, ensemble__max_samples=1.0, ensemble__n_estimators=10, thermometer__n_bits=60, thermometer__quantile_based=True; total time= 4.4min\n"
     ]
    },
    {
     "name": "stderr",
     "output_type": "stream",
     "text": [
      "C:\\Users\\bruno.silva\\AppData\\Local\\Continuum\\anaconda3\\envs\\wisard\\lib\\site-packages\\sklearn\\utils\\validation.py:63: DataConversionWarning: A column-vector y was passed when a 1d array was expected. Please change the shape of y to (n_samples, ), for example using ravel().\n",
      "  return f(*args, **kwargs)\n",
      "[Parallel(n_jobs=1)]: Using backend SequentialBackend with 1 concurrent workers.\n",
      "[Parallel(n_jobs=1)]: Done   1 out of   1 | elapsed:  2.8min finished\n",
      "[Parallel(n_jobs=1)]: Using backend SequentialBackend with 1 concurrent workers.\n",
      "[Parallel(n_jobs=1)]: Done   1 out of   1 | elapsed:  1.1min finished\n"
     ]
    },
    {
     "name": "stdout",
     "output_type": "stream",
     "text": [
      "[CV 2/5] END ensemble__base_estimator__address_size=8, ensemble__max_features=0.8, ensemble__max_samples=1.0, ensemble__n_estimators=10, thermometer__n_bits=60, thermometer__quantile_based=True; total time= 4.0min\n"
     ]
    },
    {
     "name": "stderr",
     "output_type": "stream",
     "text": [
      "C:\\Users\\bruno.silva\\AppData\\Local\\Continuum\\anaconda3\\envs\\wisard\\lib\\site-packages\\sklearn\\utils\\validation.py:63: DataConversionWarning: A column-vector y was passed when a 1d array was expected. Please change the shape of y to (n_samples, ), for example using ravel().\n",
      "  return f(*args, **kwargs)\n",
      "[Parallel(n_jobs=1)]: Using backend SequentialBackend with 1 concurrent workers.\n",
      "[Parallel(n_jobs=1)]: Done   1 out of   1 | elapsed:  2.9min finished\n",
      "[Parallel(n_jobs=1)]: Using backend SequentialBackend with 1 concurrent workers.\n",
      "[Parallel(n_jobs=1)]: Done   1 out of   1 | elapsed:  1.1min finished\n"
     ]
    },
    {
     "name": "stdout",
     "output_type": "stream",
     "text": [
      "[CV 3/5] END ensemble__base_estimator__address_size=8, ensemble__max_features=0.8, ensemble__max_samples=1.0, ensemble__n_estimators=10, thermometer__n_bits=60, thermometer__quantile_based=True; total time= 4.0min\n"
     ]
    },
    {
     "name": "stderr",
     "output_type": "stream",
     "text": [
      "C:\\Users\\bruno.silva\\AppData\\Local\\Continuum\\anaconda3\\envs\\wisard\\lib\\site-packages\\sklearn\\utils\\validation.py:63: DataConversionWarning: A column-vector y was passed when a 1d array was expected. Please change the shape of y to (n_samples, ), for example using ravel().\n",
      "  return f(*args, **kwargs)\n",
      "[Parallel(n_jobs=1)]: Using backend SequentialBackend with 1 concurrent workers.\n",
      "[Parallel(n_jobs=1)]: Done   1 out of   1 | elapsed:  2.8min finished\n",
      "[Parallel(n_jobs=1)]: Using backend SequentialBackend with 1 concurrent workers.\n",
      "[Parallel(n_jobs=1)]: Done   1 out of   1 | elapsed:  1.1min finished\n"
     ]
    },
    {
     "name": "stdout",
     "output_type": "stream",
     "text": [
      "[CV 4/5] END ensemble__base_estimator__address_size=8, ensemble__max_features=0.8, ensemble__max_samples=1.0, ensemble__n_estimators=10, thermometer__n_bits=60, thermometer__quantile_based=True; total time= 4.0min\n"
     ]
    },
    {
     "name": "stderr",
     "output_type": "stream",
     "text": [
      "C:\\Users\\bruno.silva\\AppData\\Local\\Continuum\\anaconda3\\envs\\wisard\\lib\\site-packages\\sklearn\\utils\\validation.py:63: DataConversionWarning: A column-vector y was passed when a 1d array was expected. Please change the shape of y to (n_samples, ), for example using ravel().\n",
      "  return f(*args, **kwargs)\n",
      "[Parallel(n_jobs=1)]: Using backend SequentialBackend with 1 concurrent workers.\n",
      "[Parallel(n_jobs=1)]: Done   1 out of   1 | elapsed:  2.7min finished\n",
      "[Parallel(n_jobs=1)]: Using backend SequentialBackend with 1 concurrent workers.\n",
      "[Parallel(n_jobs=1)]: Done   1 out of   1 | elapsed:  1.4min finished\n"
     ]
    },
    {
     "name": "stdout",
     "output_type": "stream",
     "text": [
      "[CV 5/5] END ensemble__base_estimator__address_size=8, ensemble__max_features=0.8, ensemble__max_samples=1.0, ensemble__n_estimators=10, thermometer__n_bits=60, thermometer__quantile_based=True; total time= 4.1min\n"
     ]
    },
    {
     "name": "stderr",
     "output_type": "stream",
     "text": [
      "C:\\Users\\bruno.silva\\AppData\\Local\\Continuum\\anaconda3\\envs\\wisard\\lib\\site-packages\\sklearn\\utils\\validation.py:63: DataConversionWarning: A column-vector y was passed when a 1d array was expected. Please change the shape of y to (n_samples, ), for example using ravel().\n",
      "  return f(*args, **kwargs)\n",
      "[Parallel(n_jobs=1)]: Using backend SequentialBackend with 1 concurrent workers.\n",
      "[Parallel(n_jobs=1)]: Done   1 out of   1 | elapsed:  4.3min finished\n",
      "[Parallel(n_jobs=1)]: Using backend SequentialBackend with 1 concurrent workers.\n",
      "[Parallel(n_jobs=1)]: Done   1 out of   1 | elapsed:  1.7min finished\n"
     ]
    },
    {
     "name": "stdout",
     "output_type": "stream",
     "text": [
      "[CV 1/5] END ensemble__base_estimator__address_size=8, ensemble__max_features=0.8, ensemble__max_samples=1.0, ensemble__n_estimators=15, thermometer__n_bits=60, thermometer__quantile_based=True; total time= 6.0min\n"
     ]
    },
    {
     "name": "stderr",
     "output_type": "stream",
     "text": [
      "C:\\Users\\bruno.silva\\AppData\\Local\\Continuum\\anaconda3\\envs\\wisard\\lib\\site-packages\\sklearn\\utils\\validation.py:63: DataConversionWarning: A column-vector y was passed when a 1d array was expected. Please change the shape of y to (n_samples, ), for example using ravel().\n",
      "  return f(*args, **kwargs)\n",
      "[Parallel(n_jobs=1)]: Using backend SequentialBackend with 1 concurrent workers.\n",
      "[Parallel(n_jobs=1)]: Done   1 out of   1 | elapsed:  4.4min finished\n",
      "[Parallel(n_jobs=1)]: Using backend SequentialBackend with 1 concurrent workers.\n",
      "[Parallel(n_jobs=1)]: Done   1 out of   1 | elapsed:  1.7min finished\n"
     ]
    },
    {
     "name": "stdout",
     "output_type": "stream",
     "text": [
      "[CV 2/5] END ensemble__base_estimator__address_size=8, ensemble__max_features=0.8, ensemble__max_samples=1.0, ensemble__n_estimators=15, thermometer__n_bits=60, thermometer__quantile_based=True; total time= 6.1min\n"
     ]
    },
    {
     "name": "stderr",
     "output_type": "stream",
     "text": [
      "C:\\Users\\bruno.silva\\AppData\\Local\\Continuum\\anaconda3\\envs\\wisard\\lib\\site-packages\\sklearn\\utils\\validation.py:63: DataConversionWarning: A column-vector y was passed when a 1d array was expected. Please change the shape of y to (n_samples, ), for example using ravel().\n",
      "  return f(*args, **kwargs)\n",
      "[Parallel(n_jobs=1)]: Using backend SequentialBackend with 1 concurrent workers.\n",
      "[Parallel(n_jobs=1)]: Done   1 out of   1 | elapsed:  4.3min finished\n",
      "[Parallel(n_jobs=1)]: Using backend SequentialBackend with 1 concurrent workers.\n",
      "[Parallel(n_jobs=1)]: Done   1 out of   1 | elapsed:  1.7min finished\n"
     ]
    },
    {
     "name": "stdout",
     "output_type": "stream",
     "text": [
      "[CV 3/5] END ensemble__base_estimator__address_size=8, ensemble__max_features=0.8, ensemble__max_samples=1.0, ensemble__n_estimators=15, thermometer__n_bits=60, thermometer__quantile_based=True; total time= 6.0min\n"
     ]
    },
    {
     "name": "stderr",
     "output_type": "stream",
     "text": [
      "C:\\Users\\bruno.silva\\AppData\\Local\\Continuum\\anaconda3\\envs\\wisard\\lib\\site-packages\\sklearn\\utils\\validation.py:63: DataConversionWarning: A column-vector y was passed when a 1d array was expected. Please change the shape of y to (n_samples, ), for example using ravel().\n",
      "  return f(*args, **kwargs)\n",
      "[Parallel(n_jobs=1)]: Using backend SequentialBackend with 1 concurrent workers.\n",
      "[Parallel(n_jobs=1)]: Done   1 out of   1 | elapsed:  4.5min finished\n",
      "[Parallel(n_jobs=1)]: Using backend SequentialBackend with 1 concurrent workers.\n",
      "[Parallel(n_jobs=1)]: Done   1 out of   1 | elapsed:  1.7min finished\n"
     ]
    },
    {
     "name": "stdout",
     "output_type": "stream",
     "text": [
      "[CV 4/5] END ensemble__base_estimator__address_size=8, ensemble__max_features=0.8, ensemble__max_samples=1.0, ensemble__n_estimators=15, thermometer__n_bits=60, thermometer__quantile_based=True; total time= 6.2min\n"
     ]
    },
    {
     "name": "stderr",
     "output_type": "stream",
     "text": [
      "C:\\Users\\bruno.silva\\AppData\\Local\\Continuum\\anaconda3\\envs\\wisard\\lib\\site-packages\\sklearn\\utils\\validation.py:63: DataConversionWarning: A column-vector y was passed when a 1d array was expected. Please change the shape of y to (n_samples, ), for example using ravel().\n",
      "  return f(*args, **kwargs)\n",
      "[Parallel(n_jobs=1)]: Using backend SequentialBackend with 1 concurrent workers.\n",
      "[Parallel(n_jobs=1)]: Done   1 out of   1 | elapsed:  4.2min finished\n",
      "[Parallel(n_jobs=1)]: Using backend SequentialBackend with 1 concurrent workers.\n",
      "[Parallel(n_jobs=1)]: Done   1 out of   1 | elapsed:  2.1min finished\n"
     ]
    },
    {
     "name": "stdout",
     "output_type": "stream",
     "text": [
      "[CV 5/5] END ensemble__base_estimator__address_size=8, ensemble__max_features=0.8, ensemble__max_samples=1.0, ensemble__n_estimators=15, thermometer__n_bits=60, thermometer__quantile_based=True; total time= 6.3min\n"
     ]
    },
    {
     "name": "stderr",
     "output_type": "stream",
     "text": [
      "C:\\Users\\bruno.silva\\AppData\\Local\\Continuum\\anaconda3\\envs\\wisard\\lib\\site-packages\\sklearn\\utils\\validation.py:63: DataConversionWarning: A column-vector y was passed when a 1d array was expected. Please change the shape of y to (n_samples, ), for example using ravel().\n",
      "  return f(*args, **kwargs)\n",
      "[Parallel(n_jobs=1)]: Using backend SequentialBackend with 1 concurrent workers.\n",
      "[Parallel(n_jobs=1)]: Done   1 out of   1 | elapsed:  5.9min finished\n",
      "[Parallel(n_jobs=1)]: Using backend SequentialBackend with 1 concurrent workers.\n",
      "[Parallel(n_jobs=1)]: Done   1 out of   1 | elapsed:  2.3min finished\n"
     ]
    },
    {
     "name": "stdout",
     "output_type": "stream",
     "text": [
      "[CV 1/5] END ensemble__base_estimator__address_size=8, ensemble__max_features=0.8, ensemble__max_samples=1.0, ensemble__n_estimators=20, thermometer__n_bits=60, thermometer__quantile_based=True; total time= 8.3min\n"
     ]
    },
    {
     "name": "stderr",
     "output_type": "stream",
     "text": [
      "C:\\Users\\bruno.silva\\AppData\\Local\\Continuum\\anaconda3\\envs\\wisard\\lib\\site-packages\\sklearn\\utils\\validation.py:63: DataConversionWarning: A column-vector y was passed when a 1d array was expected. Please change the shape of y to (n_samples, ), for example using ravel().\n",
      "  return f(*args, **kwargs)\n",
      "[Parallel(n_jobs=1)]: Using backend SequentialBackend with 1 concurrent workers.\n",
      "[Parallel(n_jobs=1)]: Done   1 out of   1 | elapsed:  6.1min finished\n",
      "[Parallel(n_jobs=1)]: Using backend SequentialBackend with 1 concurrent workers.\n",
      "[Parallel(n_jobs=1)]: Done   1 out of   1 | elapsed:  2.3min finished\n"
     ]
    },
    {
     "name": "stdout",
     "output_type": "stream",
     "text": [
      "[CV 2/5] END ensemble__base_estimator__address_size=8, ensemble__max_features=0.8, ensemble__max_samples=1.0, ensemble__n_estimators=20, thermometer__n_bits=60, thermometer__quantile_based=True; total time= 8.4min\n"
     ]
    },
    {
     "name": "stderr",
     "output_type": "stream",
     "text": [
      "C:\\Users\\bruno.silva\\AppData\\Local\\Continuum\\anaconda3\\envs\\wisard\\lib\\site-packages\\sklearn\\utils\\validation.py:63: DataConversionWarning: A column-vector y was passed when a 1d array was expected. Please change the shape of y to (n_samples, ), for example using ravel().\n",
      "  return f(*args, **kwargs)\n",
      "[Parallel(n_jobs=1)]: Using backend SequentialBackend with 1 concurrent workers.\n",
      "[Parallel(n_jobs=1)]: Done   1 out of   1 | elapsed:  6.1min finished\n",
      "[Parallel(n_jobs=1)]: Using backend SequentialBackend with 1 concurrent workers.\n",
      "[Parallel(n_jobs=1)]: Done   1 out of   1 | elapsed:  2.3min finished\n"
     ]
    },
    {
     "name": "stdout",
     "output_type": "stream",
     "text": [
      "[CV 3/5] END ensemble__base_estimator__address_size=8, ensemble__max_features=0.8, ensemble__max_samples=1.0, ensemble__n_estimators=20, thermometer__n_bits=60, thermometer__quantile_based=True; total time= 8.4min\n"
     ]
    },
    {
     "name": "stderr",
     "output_type": "stream",
     "text": [
      "C:\\Users\\bruno.silva\\AppData\\Local\\Continuum\\anaconda3\\envs\\wisard\\lib\\site-packages\\sklearn\\utils\\validation.py:63: DataConversionWarning: A column-vector y was passed when a 1d array was expected. Please change the shape of y to (n_samples, ), for example using ravel().\n",
      "  return f(*args, **kwargs)\n",
      "[Parallel(n_jobs=1)]: Using backend SequentialBackend with 1 concurrent workers.\n",
      "[Parallel(n_jobs=1)]: Done   1 out of   1 | elapsed:  6.2min finished\n",
      "[Parallel(n_jobs=1)]: Using backend SequentialBackend with 1 concurrent workers.\n",
      "[Parallel(n_jobs=1)]: Done   1 out of   1 | elapsed:  2.3min finished\n"
     ]
    },
    {
     "name": "stdout",
     "output_type": "stream",
     "text": [
      "[CV 4/5] END ensemble__base_estimator__address_size=8, ensemble__max_features=0.8, ensemble__max_samples=1.0, ensemble__n_estimators=20, thermometer__n_bits=60, thermometer__quantile_based=True; total time= 8.5min\n"
     ]
    },
    {
     "name": "stderr",
     "output_type": "stream",
     "text": [
      "C:\\Users\\bruno.silva\\AppData\\Local\\Continuum\\anaconda3\\envs\\wisard\\lib\\site-packages\\sklearn\\utils\\validation.py:63: DataConversionWarning: A column-vector y was passed when a 1d array was expected. Please change the shape of y to (n_samples, ), for example using ravel().\n",
      "  return f(*args, **kwargs)\n",
      "[Parallel(n_jobs=1)]: Using backend SequentialBackend with 1 concurrent workers.\n",
      "[Parallel(n_jobs=1)]: Done   1 out of   1 | elapsed:  5.9min finished\n",
      "[Parallel(n_jobs=1)]: Using backend SequentialBackend with 1 concurrent workers.\n",
      "[Parallel(n_jobs=1)]: Done   1 out of   1 | elapsed:  2.8min finished\n"
     ]
    },
    {
     "name": "stdout",
     "output_type": "stream",
     "text": [
      "[CV 5/5] END ensemble__base_estimator__address_size=8, ensemble__max_features=0.8, ensemble__max_samples=1.0, ensemble__n_estimators=20, thermometer__n_bits=60, thermometer__quantile_based=True; total time= 8.7min\n"
     ]
    },
    {
     "name": "stderr",
     "output_type": "stream",
     "text": [
      "C:\\Users\\bruno.silva\\AppData\\Local\\Continuum\\anaconda3\\envs\\wisard\\lib\\site-packages\\sklearn\\utils\\validation.py:63: DataConversionWarning: A column-vector y was passed when a 1d array was expected. Please change the shape of y to (n_samples, ), for example using ravel().\n",
      "  return f(*args, **kwargs)\n",
      "[Parallel(n_jobs=1)]: Using backend SequentialBackend with 1 concurrent workers.\n",
      "[Parallel(n_jobs=1)]: Done   1 out of   1 | elapsed:  2.8min finished\n",
      "[Parallel(n_jobs=1)]: Using backend SequentialBackend with 1 concurrent workers.\n",
      "[Parallel(n_jobs=1)]: Done   1 out of   1 | elapsed:  1.4min finished\n"
     ]
    },
    {
     "name": "stdout",
     "output_type": "stream",
     "text": [
      "[CV 1/5] END ensemble__base_estimator__address_size=8, ensemble__max_features=0.9, ensemble__max_samples=0.8, ensemble__n_estimators=10, thermometer__n_bits=60, thermometer__quantile_based=True; total time= 4.3min\n"
     ]
    },
    {
     "name": "stderr",
     "output_type": "stream",
     "text": [
      "C:\\Users\\bruno.silva\\AppData\\Local\\Continuum\\anaconda3\\envs\\wisard\\lib\\site-packages\\sklearn\\utils\\validation.py:63: DataConversionWarning: A column-vector y was passed when a 1d array was expected. Please change the shape of y to (n_samples, ), for example using ravel().\n",
      "  return f(*args, **kwargs)\n",
      "[Parallel(n_jobs=1)]: Using backend SequentialBackend with 1 concurrent workers.\n",
      "[Parallel(n_jobs=1)]: Done   1 out of   1 | elapsed:  2.9min finished\n",
      "[Parallel(n_jobs=1)]: Using backend SequentialBackend with 1 concurrent workers.\n",
      "[Parallel(n_jobs=1)]: Done   1 out of   1 | elapsed:  1.4min finished\n"
     ]
    },
    {
     "name": "stdout",
     "output_type": "stream",
     "text": [
      "[CV 2/5] END ensemble__base_estimator__address_size=8, ensemble__max_features=0.9, ensemble__max_samples=0.8, ensemble__n_estimators=10, thermometer__n_bits=60, thermometer__quantile_based=True; total time= 4.3min\n"
     ]
    },
    {
     "name": "stderr",
     "output_type": "stream",
     "text": [
      "C:\\Users\\bruno.silva\\AppData\\Local\\Continuum\\anaconda3\\envs\\wisard\\lib\\site-packages\\sklearn\\utils\\validation.py:63: DataConversionWarning: A column-vector y was passed when a 1d array was expected. Please change the shape of y to (n_samples, ), for example using ravel().\n",
      "  return f(*args, **kwargs)\n",
      "[Parallel(n_jobs=1)]: Using backend SequentialBackend with 1 concurrent workers.\n",
      "[Parallel(n_jobs=1)]: Done   1 out of   1 | elapsed:  2.9min finished\n",
      "[Parallel(n_jobs=1)]: Using backend SequentialBackend with 1 concurrent workers.\n",
      "[Parallel(n_jobs=1)]: Done   1 out of   1 | elapsed:  1.4min finished\n"
     ]
    },
    {
     "name": "stdout",
     "output_type": "stream",
     "text": [
      "[CV 3/5] END ensemble__base_estimator__address_size=8, ensemble__max_features=0.9, ensemble__max_samples=0.8, ensemble__n_estimators=10, thermometer__n_bits=60, thermometer__quantile_based=True; total time= 4.3min\n"
     ]
    },
    {
     "name": "stderr",
     "output_type": "stream",
     "text": [
      "C:\\Users\\bruno.silva\\AppData\\Local\\Continuum\\anaconda3\\envs\\wisard\\lib\\site-packages\\sklearn\\utils\\validation.py:63: DataConversionWarning: A column-vector y was passed when a 1d array was expected. Please change the shape of y to (n_samples, ), for example using ravel().\n",
      "  return f(*args, **kwargs)\n",
      "[Parallel(n_jobs=1)]: Using backend SequentialBackend with 1 concurrent workers.\n",
      "[Parallel(n_jobs=1)]: Done   1 out of   1 | elapsed:  3.0min finished\n",
      "[Parallel(n_jobs=1)]: Using backend SequentialBackend with 1 concurrent workers.\n",
      "[Parallel(n_jobs=1)]: Done   1 out of   1 | elapsed:  1.4min finished\n"
     ]
    },
    {
     "name": "stdout",
     "output_type": "stream",
     "text": [
      "[CV 4/5] END ensemble__base_estimator__address_size=8, ensemble__max_features=0.9, ensemble__max_samples=0.8, ensemble__n_estimators=10, thermometer__n_bits=60, thermometer__quantile_based=True; total time= 4.4min\n"
     ]
    },
    {
     "name": "stderr",
     "output_type": "stream",
     "text": [
      "C:\\Users\\bruno.silva\\AppData\\Local\\Continuum\\anaconda3\\envs\\wisard\\lib\\site-packages\\sklearn\\utils\\validation.py:63: DataConversionWarning: A column-vector y was passed when a 1d array was expected. Please change the shape of y to (n_samples, ), for example using ravel().\n",
      "  return f(*args, **kwargs)\n",
      "[Parallel(n_jobs=1)]: Using backend SequentialBackend with 1 concurrent workers.\n",
      "[Parallel(n_jobs=1)]: Done   1 out of   1 | elapsed:  2.8min finished\n",
      "[Parallel(n_jobs=1)]: Using backend SequentialBackend with 1 concurrent workers.\n",
      "[Parallel(n_jobs=1)]: Done   1 out of   1 | elapsed:  1.6min finished\n"
     ]
    },
    {
     "name": "stdout",
     "output_type": "stream",
     "text": [
      "[CV 5/5] END ensemble__base_estimator__address_size=8, ensemble__max_features=0.9, ensemble__max_samples=0.8, ensemble__n_estimators=10, thermometer__n_bits=60, thermometer__quantile_based=True; total time= 4.5min\n"
     ]
    },
    {
     "name": "stderr",
     "output_type": "stream",
     "text": [
      "C:\\Users\\bruno.silva\\AppData\\Local\\Continuum\\anaconda3\\envs\\wisard\\lib\\site-packages\\sklearn\\utils\\validation.py:63: DataConversionWarning: A column-vector y was passed when a 1d array was expected. Please change the shape of y to (n_samples, ), for example using ravel().\n",
      "  return f(*args, **kwargs)\n",
      "[Parallel(n_jobs=1)]: Using backend SequentialBackend with 1 concurrent workers.\n",
      "[Parallel(n_jobs=1)]: Done   1 out of   1 | elapsed:  4.4min finished\n",
      "[Parallel(n_jobs=1)]: Using backend SequentialBackend with 1 concurrent workers.\n",
      "[Parallel(n_jobs=1)]: Done   1 out of   1 | elapsed:  2.2min finished\n"
     ]
    },
    {
     "name": "stdout",
     "output_type": "stream",
     "text": [
      "[CV 1/5] END ensemble__base_estimator__address_size=8, ensemble__max_features=0.9, ensemble__max_samples=0.8, ensemble__n_estimators=15, thermometer__n_bits=60, thermometer__quantile_based=True; total time= 6.7min\n"
     ]
    },
    {
     "name": "stderr",
     "output_type": "stream",
     "text": [
      "C:\\Users\\bruno.silva\\AppData\\Local\\Continuum\\anaconda3\\envs\\wisard\\lib\\site-packages\\sklearn\\utils\\validation.py:63: DataConversionWarning: A column-vector y was passed when a 1d array was expected. Please change the shape of y to (n_samples, ), for example using ravel().\n",
      "  return f(*args, **kwargs)\n",
      "[Parallel(n_jobs=1)]: Using backend SequentialBackend with 1 concurrent workers.\n",
      "[Parallel(n_jobs=1)]: Done   1 out of   1 | elapsed:  4.4min finished\n",
      "[Parallel(n_jobs=1)]: Using backend SequentialBackend with 1 concurrent workers.\n",
      "[Parallel(n_jobs=1)]: Done   1 out of   1 | elapsed:  2.1min finished\n"
     ]
    },
    {
     "name": "stdout",
     "output_type": "stream",
     "text": [
      "[CV 2/5] END ensemble__base_estimator__address_size=8, ensemble__max_features=0.9, ensemble__max_samples=0.8, ensemble__n_estimators=15, thermometer__n_bits=60, thermometer__quantile_based=True; total time= 6.6min\n"
     ]
    },
    {
     "name": "stderr",
     "output_type": "stream",
     "text": [
      "C:\\Users\\bruno.silva\\AppData\\Local\\Continuum\\anaconda3\\envs\\wisard\\lib\\site-packages\\sklearn\\utils\\validation.py:63: DataConversionWarning: A column-vector y was passed when a 1d array was expected. Please change the shape of y to (n_samples, ), for example using ravel().\n",
      "  return f(*args, **kwargs)\n",
      "[Parallel(n_jobs=1)]: Using backend SequentialBackend with 1 concurrent workers.\n",
      "[Parallel(n_jobs=1)]: Done   1 out of   1 | elapsed:  4.5min finished\n",
      "[Parallel(n_jobs=1)]: Using backend SequentialBackend with 1 concurrent workers.\n",
      "[Parallel(n_jobs=1)]: Done   1 out of   1 | elapsed:  2.1min finished\n"
     ]
    },
    {
     "name": "stdout",
     "output_type": "stream",
     "text": [
      "[CV 3/5] END ensemble__base_estimator__address_size=8, ensemble__max_features=0.9, ensemble__max_samples=0.8, ensemble__n_estimators=15, thermometer__n_bits=60, thermometer__quantile_based=True; total time= 6.7min\n"
     ]
    },
    {
     "name": "stderr",
     "output_type": "stream",
     "text": [
      "C:\\Users\\bruno.silva\\AppData\\Local\\Continuum\\anaconda3\\envs\\wisard\\lib\\site-packages\\sklearn\\utils\\validation.py:63: DataConversionWarning: A column-vector y was passed when a 1d array was expected. Please change the shape of y to (n_samples, ), for example using ravel().\n",
      "  return f(*args, **kwargs)\n",
      "[Parallel(n_jobs=1)]: Using backend SequentialBackend with 1 concurrent workers.\n",
      "[Parallel(n_jobs=1)]: Done   1 out of   1 | elapsed:  4.7min finished\n",
      "[Parallel(n_jobs=1)]: Using backend SequentialBackend with 1 concurrent workers.\n",
      "[Parallel(n_jobs=1)]: Done   1 out of   1 | elapsed:  2.1min finished\n"
     ]
    },
    {
     "name": "stdout",
     "output_type": "stream",
     "text": [
      "[CV 4/5] END ensemble__base_estimator__address_size=8, ensemble__max_features=0.9, ensemble__max_samples=0.8, ensemble__n_estimators=15, thermometer__n_bits=60, thermometer__quantile_based=True; total time= 6.9min\n"
     ]
    },
    {
     "name": "stderr",
     "output_type": "stream",
     "text": [
      "C:\\Users\\bruno.silva\\AppData\\Local\\Continuum\\anaconda3\\envs\\wisard\\lib\\site-packages\\sklearn\\utils\\validation.py:63: DataConversionWarning: A column-vector y was passed when a 1d array was expected. Please change the shape of y to (n_samples, ), for example using ravel().\n",
      "  return f(*args, **kwargs)\n",
      "[Parallel(n_jobs=1)]: Using backend SequentialBackend with 1 concurrent workers.\n",
      "[Parallel(n_jobs=1)]: Done   1 out of   1 | elapsed:  4.2min finished\n",
      "[Parallel(n_jobs=1)]: Using backend SequentialBackend with 1 concurrent workers.\n",
      "[Parallel(n_jobs=1)]: Done   1 out of   1 | elapsed:  2.5min finished\n"
     ]
    },
    {
     "name": "stdout",
     "output_type": "stream",
     "text": [
      "[CV 5/5] END ensemble__base_estimator__address_size=8, ensemble__max_features=0.9, ensemble__max_samples=0.8, ensemble__n_estimators=15, thermometer__n_bits=60, thermometer__quantile_based=True; total time= 6.8min\n"
     ]
    },
    {
     "name": "stderr",
     "output_type": "stream",
     "text": [
      "C:\\Users\\bruno.silva\\AppData\\Local\\Continuum\\anaconda3\\envs\\wisard\\lib\\site-packages\\sklearn\\utils\\validation.py:63: DataConversionWarning: A column-vector y was passed when a 1d array was expected. Please change the shape of y to (n_samples, ), for example using ravel().\n",
      "  return f(*args, **kwargs)\n",
      "[Parallel(n_jobs=1)]: Using backend SequentialBackend with 1 concurrent workers.\n",
      "[Parallel(n_jobs=1)]: Done   1 out of   1 | elapsed:  6.1min finished\n",
      "[Parallel(n_jobs=1)]: Using backend SequentialBackend with 1 concurrent workers.\n",
      "[Parallel(n_jobs=1)]: Done   1 out of   1 | elapsed:  2.9min finished\n"
     ]
    },
    {
     "name": "stdout",
     "output_type": "stream",
     "text": [
      "[CV 1/5] END ensemble__base_estimator__address_size=8, ensemble__max_features=0.9, ensemble__max_samples=0.8, ensemble__n_estimators=20, thermometer__n_bits=60, thermometer__quantile_based=True; total time= 9.0min\n"
     ]
    },
    {
     "name": "stderr",
     "output_type": "stream",
     "text": [
      "C:\\Users\\bruno.silva\\AppData\\Local\\Continuum\\anaconda3\\envs\\wisard\\lib\\site-packages\\sklearn\\utils\\validation.py:63: DataConversionWarning: A column-vector y was passed when a 1d array was expected. Please change the shape of y to (n_samples, ), for example using ravel().\n",
      "  return f(*args, **kwargs)\n",
      "[Parallel(n_jobs=1)]: Using backend SequentialBackend with 1 concurrent workers.\n",
      "[Parallel(n_jobs=1)]: Done   1 out of   1 | elapsed:  6.1min finished\n",
      "[Parallel(n_jobs=1)]: Using backend SequentialBackend with 1 concurrent workers.\n",
      "[Parallel(n_jobs=1)]: Done   1 out of   1 | elapsed:  2.9min finished\n"
     ]
    },
    {
     "name": "stdout",
     "output_type": "stream",
     "text": [
      "[CV 2/5] END ensemble__base_estimator__address_size=8, ensemble__max_features=0.9, ensemble__max_samples=0.8, ensemble__n_estimators=20, thermometer__n_bits=60, thermometer__quantile_based=True; total time= 9.1min\n"
     ]
    },
    {
     "name": "stderr",
     "output_type": "stream",
     "text": [
      "C:\\Users\\bruno.silva\\AppData\\Local\\Continuum\\anaconda3\\envs\\wisard\\lib\\site-packages\\sklearn\\utils\\validation.py:63: DataConversionWarning: A column-vector y was passed when a 1d array was expected. Please change the shape of y to (n_samples, ), for example using ravel().\n",
      "  return f(*args, **kwargs)\n",
      "[Parallel(n_jobs=1)]: Using backend SequentialBackend with 1 concurrent workers.\n",
      "[Parallel(n_jobs=1)]: Done   1 out of   1 | elapsed:  6.2min finished\n",
      "[Parallel(n_jobs=1)]: Using backend SequentialBackend with 1 concurrent workers.\n",
      "[Parallel(n_jobs=1)]: Done   1 out of   1 | elapsed:  2.9min finished\n"
     ]
    },
    {
     "name": "stdout",
     "output_type": "stream",
     "text": [
      "[CV 3/5] END ensemble__base_estimator__address_size=8, ensemble__max_features=0.9, ensemble__max_samples=0.8, ensemble__n_estimators=20, thermometer__n_bits=60, thermometer__quantile_based=True; total time= 9.1min\n"
     ]
    },
    {
     "name": "stderr",
     "output_type": "stream",
     "text": [
      "C:\\Users\\bruno.silva\\AppData\\Local\\Continuum\\anaconda3\\envs\\wisard\\lib\\site-packages\\sklearn\\utils\\validation.py:63: DataConversionWarning: A column-vector y was passed when a 1d array was expected. Please change the shape of y to (n_samples, ), for example using ravel().\n",
      "  return f(*args, **kwargs)\n",
      "[Parallel(n_jobs=1)]: Using backend SequentialBackend with 1 concurrent workers.\n",
      "[Parallel(n_jobs=1)]: Done   1 out of   1 | elapsed:  6.3min finished\n",
      "[Parallel(n_jobs=1)]: Using backend SequentialBackend with 1 concurrent workers.\n",
      "[Parallel(n_jobs=1)]: Done   1 out of   1 | elapsed:  2.8min finished\n"
     ]
    },
    {
     "name": "stdout",
     "output_type": "stream",
     "text": [
      "[CV 4/5] END ensemble__base_estimator__address_size=8, ensemble__max_features=0.9, ensemble__max_samples=0.8, ensemble__n_estimators=20, thermometer__n_bits=60, thermometer__quantile_based=True; total time= 9.1min\n"
     ]
    },
    {
     "name": "stderr",
     "output_type": "stream",
     "text": [
      "C:\\Users\\bruno.silva\\AppData\\Local\\Continuum\\anaconda3\\envs\\wisard\\lib\\site-packages\\sklearn\\utils\\validation.py:63: DataConversionWarning: A column-vector y was passed when a 1d array was expected. Please change the shape of y to (n_samples, ), for example using ravel().\n",
      "  return f(*args, **kwargs)\n",
      "[Parallel(n_jobs=1)]: Using backend SequentialBackend with 1 concurrent workers.\n",
      "[Parallel(n_jobs=1)]: Done   1 out of   1 | elapsed:  5.8min finished\n",
      "[Parallel(n_jobs=1)]: Using backend SequentialBackend with 1 concurrent workers.\n",
      "[Parallel(n_jobs=1)]: Done   1 out of   1 | elapsed:  3.4min finished\n"
     ]
    },
    {
     "name": "stdout",
     "output_type": "stream",
     "text": [
      "[CV 5/5] END ensemble__base_estimator__address_size=8, ensemble__max_features=0.9, ensemble__max_samples=0.8, ensemble__n_estimators=20, thermometer__n_bits=60, thermometer__quantile_based=True; total time= 9.3min\n"
     ]
    },
    {
     "name": "stderr",
     "output_type": "stream",
     "text": [
      "C:\\Users\\bruno.silva\\AppData\\Local\\Continuum\\anaconda3\\envs\\wisard\\lib\\site-packages\\sklearn\\utils\\validation.py:63: DataConversionWarning: A column-vector y was passed when a 1d array was expected. Please change the shape of y to (n_samples, ), for example using ravel().\n",
      "  return f(*args, **kwargs)\n",
      "[Parallel(n_jobs=1)]: Using backend SequentialBackend with 1 concurrent workers.\n",
      "[Parallel(n_jobs=1)]: Done   1 out of   1 | elapsed:  3.3min finished\n",
      "[Parallel(n_jobs=1)]: Using backend SequentialBackend with 1 concurrent workers.\n",
      "[Parallel(n_jobs=1)]: Done   1 out of   1 | elapsed:  1.5min finished\n"
     ]
    },
    {
     "name": "stdout",
     "output_type": "stream",
     "text": [
      "[CV 1/5] END ensemble__base_estimator__address_size=8, ensemble__max_features=0.9, ensemble__max_samples=0.9, ensemble__n_estimators=10, thermometer__n_bits=60, thermometer__quantile_based=True; total time= 4.9min\n"
     ]
    },
    {
     "name": "stderr",
     "output_type": "stream",
     "text": [
      "C:\\Users\\bruno.silva\\AppData\\Local\\Continuum\\anaconda3\\envs\\wisard\\lib\\site-packages\\sklearn\\utils\\validation.py:63: DataConversionWarning: A column-vector y was passed when a 1d array was expected. Please change the shape of y to (n_samples, ), for example using ravel().\n",
      "  return f(*args, **kwargs)\n",
      "[Parallel(n_jobs=1)]: Using backend SequentialBackend with 1 concurrent workers.\n",
      "[Parallel(n_jobs=1)]: Done   1 out of   1 | elapsed:  3.4min finished\n",
      "[Parallel(n_jobs=1)]: Using backend SequentialBackend with 1 concurrent workers.\n",
      "[Parallel(n_jobs=1)]: Done   1 out of   1 | elapsed:  1.4min finished\n"
     ]
    },
    {
     "name": "stdout",
     "output_type": "stream",
     "text": [
      "[CV 2/5] END ensemble__base_estimator__address_size=8, ensemble__max_features=0.9, ensemble__max_samples=0.9, ensemble__n_estimators=10, thermometer__n_bits=60, thermometer__quantile_based=True; total time= 4.9min\n"
     ]
    },
    {
     "name": "stderr",
     "output_type": "stream",
     "text": [
      "C:\\Users\\bruno.silva\\AppData\\Local\\Continuum\\anaconda3\\envs\\wisard\\lib\\site-packages\\sklearn\\utils\\validation.py:63: DataConversionWarning: A column-vector y was passed when a 1d array was expected. Please change the shape of y to (n_samples, ), for example using ravel().\n",
      "  return f(*args, **kwargs)\n",
      "[Parallel(n_jobs=1)]: Using backend SequentialBackend with 1 concurrent workers.\n",
      "[Parallel(n_jobs=1)]: Done   1 out of   1 | elapsed:  3.4min finished\n",
      "[Parallel(n_jobs=1)]: Using backend SequentialBackend with 1 concurrent workers.\n",
      "[Parallel(n_jobs=1)]: Done   1 out of   1 | elapsed:  1.5min finished\n"
     ]
    },
    {
     "name": "stdout",
     "output_type": "stream",
     "text": [
      "[CV 3/5] END ensemble__base_estimator__address_size=8, ensemble__max_features=0.9, ensemble__max_samples=0.9, ensemble__n_estimators=10, thermometer__n_bits=60, thermometer__quantile_based=True; total time= 4.9min\n"
     ]
    },
    {
     "name": "stderr",
     "output_type": "stream",
     "text": [
      "C:\\Users\\bruno.silva\\AppData\\Local\\Continuum\\anaconda3\\envs\\wisard\\lib\\site-packages\\sklearn\\utils\\validation.py:63: DataConversionWarning: A column-vector y was passed when a 1d array was expected. Please change the shape of y to (n_samples, ), for example using ravel().\n",
      "  return f(*args, **kwargs)\n",
      "[Parallel(n_jobs=1)]: Using backend SequentialBackend with 1 concurrent workers.\n",
      "[Parallel(n_jobs=1)]: Done   1 out of   1 | elapsed:  3.5min finished\n",
      "[Parallel(n_jobs=1)]: Using backend SequentialBackend with 1 concurrent workers.\n",
      "[Parallel(n_jobs=1)]: Done   1 out of   1 | elapsed:  1.4min finished\n"
     ]
    },
    {
     "name": "stdout",
     "output_type": "stream",
     "text": [
      "[CV 4/5] END ensemble__base_estimator__address_size=8, ensemble__max_features=0.9, ensemble__max_samples=0.9, ensemble__n_estimators=10, thermometer__n_bits=60, thermometer__quantile_based=True; total time= 5.0min\n"
     ]
    },
    {
     "name": "stderr",
     "output_type": "stream",
     "text": [
      "C:\\Users\\bruno.silva\\AppData\\Local\\Continuum\\anaconda3\\envs\\wisard\\lib\\site-packages\\sklearn\\utils\\validation.py:63: DataConversionWarning: A column-vector y was passed when a 1d array was expected. Please change the shape of y to (n_samples, ), for example using ravel().\n",
      "  return f(*args, **kwargs)\n",
      "[Parallel(n_jobs=1)]: Using backend SequentialBackend with 1 concurrent workers.\n",
      "[Parallel(n_jobs=1)]: Done   1 out of   1 | elapsed:  3.3min finished\n",
      "[Parallel(n_jobs=1)]: Using backend SequentialBackend with 1 concurrent workers.\n",
      "[Parallel(n_jobs=1)]: Done   1 out of   1 | elapsed:  1.7min finished\n"
     ]
    },
    {
     "name": "stdout",
     "output_type": "stream",
     "text": [
      "[CV 5/5] END ensemble__base_estimator__address_size=8, ensemble__max_features=0.9, ensemble__max_samples=0.9, ensemble__n_estimators=10, thermometer__n_bits=60, thermometer__quantile_based=True; total time= 5.1min\n"
     ]
    },
    {
     "name": "stderr",
     "output_type": "stream",
     "text": [
      "C:\\Users\\bruno.silva\\AppData\\Local\\Continuum\\anaconda3\\envs\\wisard\\lib\\site-packages\\sklearn\\utils\\validation.py:63: DataConversionWarning: A column-vector y was passed when a 1d array was expected. Please change the shape of y to (n_samples, ), for example using ravel().\n",
      "  return f(*args, **kwargs)\n",
      "[Parallel(n_jobs=1)]: Using backend SequentialBackend with 1 concurrent workers.\n",
      "[Parallel(n_jobs=1)]: Done   1 out of   1 | elapsed:  5.3min finished\n",
      "[Parallel(n_jobs=1)]: Using backend SequentialBackend with 1 concurrent workers.\n",
      "[Parallel(n_jobs=1)]: Done   1 out of   1 | elapsed:  2.2min finished\n"
     ]
    },
    {
     "name": "stdout",
     "output_type": "stream",
     "text": [
      "[CV 1/5] END ensemble__base_estimator__address_size=8, ensemble__max_features=0.9, ensemble__max_samples=0.9, ensemble__n_estimators=15, thermometer__n_bits=60, thermometer__quantile_based=True; total time= 7.6min\n"
     ]
    },
    {
     "name": "stderr",
     "output_type": "stream",
     "text": [
      "C:\\Users\\bruno.silva\\AppData\\Local\\Continuum\\anaconda3\\envs\\wisard\\lib\\site-packages\\sklearn\\utils\\validation.py:63: DataConversionWarning: A column-vector y was passed when a 1d array was expected. Please change the shape of y to (n_samples, ), for example using ravel().\n",
      "  return f(*args, **kwargs)\n",
      "[Parallel(n_jobs=1)]: Using backend SequentialBackend with 1 concurrent workers.\n",
      "[Parallel(n_jobs=1)]: Done   1 out of   1 | elapsed:  5.6min finished\n",
      "[Parallel(n_jobs=1)]: Using backend SequentialBackend with 1 concurrent workers.\n",
      "[Parallel(n_jobs=1)]: Done   1 out of   1 | elapsed:  2.3min finished\n"
     ]
    },
    {
     "name": "stdout",
     "output_type": "stream",
     "text": [
      "[CV 2/5] END ensemble__base_estimator__address_size=8, ensemble__max_features=0.9, ensemble__max_samples=0.9, ensemble__n_estimators=15, thermometer__n_bits=60, thermometer__quantile_based=True; total time= 8.0min\n"
     ]
    },
    {
     "name": "stderr",
     "output_type": "stream",
     "text": [
      "C:\\Users\\bruno.silva\\AppData\\Local\\Continuum\\anaconda3\\envs\\wisard\\lib\\site-packages\\sklearn\\utils\\validation.py:63: DataConversionWarning: A column-vector y was passed when a 1d array was expected. Please change the shape of y to (n_samples, ), for example using ravel().\n",
      "  return f(*args, **kwargs)\n",
      "[Parallel(n_jobs=1)]: Using backend SequentialBackend with 1 concurrent workers.\n",
      "[Parallel(n_jobs=1)]: Done   1 out of   1 | elapsed:  5.4min finished\n",
      "[Parallel(n_jobs=1)]: Using backend SequentialBackend with 1 concurrent workers.\n",
      "[Parallel(n_jobs=1)]: Done   1 out of   1 | elapsed:  2.3min finished\n"
     ]
    },
    {
     "name": "stdout",
     "output_type": "stream",
     "text": [
      "[CV 3/5] END ensemble__base_estimator__address_size=8, ensemble__max_features=0.9, ensemble__max_samples=0.9, ensemble__n_estimators=15, thermometer__n_bits=60, thermometer__quantile_based=True; total time= 7.7min\n"
     ]
    },
    {
     "name": "stderr",
     "output_type": "stream",
     "text": [
      "C:\\Users\\bruno.silva\\AppData\\Local\\Continuum\\anaconda3\\envs\\wisard\\lib\\site-packages\\sklearn\\utils\\validation.py:63: DataConversionWarning: A column-vector y was passed when a 1d array was expected. Please change the shape of y to (n_samples, ), for example using ravel().\n",
      "  return f(*args, **kwargs)\n",
      "[Parallel(n_jobs=1)]: Using backend SequentialBackend with 1 concurrent workers.\n",
      "[Parallel(n_jobs=1)]: Done   1 out of   1 | elapsed:  5.4min finished\n",
      "[Parallel(n_jobs=1)]: Using backend SequentialBackend with 1 concurrent workers.\n",
      "[Parallel(n_jobs=1)]: Done   1 out of   1 | elapsed:  2.2min finished\n"
     ]
    },
    {
     "name": "stdout",
     "output_type": "stream",
     "text": [
      "[CV 4/5] END ensemble__base_estimator__address_size=8, ensemble__max_features=0.9, ensemble__max_samples=0.9, ensemble__n_estimators=15, thermometer__n_bits=60, thermometer__quantile_based=True; total time= 7.6min\n"
     ]
    },
    {
     "name": "stderr",
     "output_type": "stream",
     "text": [
      "C:\\Users\\bruno.silva\\AppData\\Local\\Continuum\\anaconda3\\envs\\wisard\\lib\\site-packages\\sklearn\\utils\\validation.py:63: DataConversionWarning: A column-vector y was passed when a 1d array was expected. Please change the shape of y to (n_samples, ), for example using ravel().\n",
      "  return f(*args, **kwargs)\n",
      "[Parallel(n_jobs=1)]: Using backend SequentialBackend with 1 concurrent workers.\n",
      "[Parallel(n_jobs=1)]: Done   1 out of   1 | elapsed:  5.2min finished\n",
      "[Parallel(n_jobs=1)]: Using backend SequentialBackend with 1 concurrent workers.\n",
      "[Parallel(n_jobs=1)]: Done   1 out of   1 | elapsed:  2.6min finished\n"
     ]
    },
    {
     "name": "stdout",
     "output_type": "stream",
     "text": [
      "[CV 5/5] END ensemble__base_estimator__address_size=8, ensemble__max_features=0.9, ensemble__max_samples=0.9, ensemble__n_estimators=15, thermometer__n_bits=60, thermometer__quantile_based=True; total time= 7.8min\n"
     ]
    },
    {
     "name": "stderr",
     "output_type": "stream",
     "text": [
      "C:\\Users\\bruno.silva\\AppData\\Local\\Continuum\\anaconda3\\envs\\wisard\\lib\\site-packages\\sklearn\\utils\\validation.py:63: DataConversionWarning: A column-vector y was passed when a 1d array was expected. Please change the shape of y to (n_samples, ), for example using ravel().\n",
      "  return f(*args, **kwargs)\n",
      "[Parallel(n_jobs=1)]: Using backend SequentialBackend with 1 concurrent workers.\n",
      "[Parallel(n_jobs=1)]: Done   1 out of   1 | elapsed:  7.4min finished\n",
      "[Parallel(n_jobs=1)]: Using backend SequentialBackend with 1 concurrent workers.\n",
      "[Parallel(n_jobs=1)]: Done   1 out of   1 | elapsed:  3.0min finished\n"
     ]
    },
    {
     "name": "stdout",
     "output_type": "stream",
     "text": [
      "[CV 1/5] END ensemble__base_estimator__address_size=8, ensemble__max_features=0.9, ensemble__max_samples=0.9, ensemble__n_estimators=20, thermometer__n_bits=60, thermometer__quantile_based=True; total time=10.4min\n"
     ]
    },
    {
     "name": "stderr",
     "output_type": "stream",
     "text": [
      "C:\\Users\\bruno.silva\\AppData\\Local\\Continuum\\anaconda3\\envs\\wisard\\lib\\site-packages\\sklearn\\utils\\validation.py:63: DataConversionWarning: A column-vector y was passed when a 1d array was expected. Please change the shape of y to (n_samples, ), for example using ravel().\n",
      "  return f(*args, **kwargs)\n",
      "[Parallel(n_jobs=1)]: Using backend SequentialBackend with 1 concurrent workers.\n",
      "[Parallel(n_jobs=1)]: Done   1 out of   1 | elapsed:  7.5min finished\n",
      "[Parallel(n_jobs=1)]: Using backend SequentialBackend with 1 concurrent workers.\n",
      "[Parallel(n_jobs=1)]: Done   1 out of   1 | elapsed:  3.0min finished\n"
     ]
    },
    {
     "name": "stdout",
     "output_type": "stream",
     "text": [
      "[CV 2/5] END ensemble__base_estimator__address_size=8, ensemble__max_features=0.9, ensemble__max_samples=0.9, ensemble__n_estimators=20, thermometer__n_bits=60, thermometer__quantile_based=True; total time=10.5min\n"
     ]
    },
    {
     "name": "stderr",
     "output_type": "stream",
     "text": [
      "C:\\Users\\bruno.silva\\AppData\\Local\\Continuum\\anaconda3\\envs\\wisard\\lib\\site-packages\\sklearn\\utils\\validation.py:63: DataConversionWarning: A column-vector y was passed when a 1d array was expected. Please change the shape of y to (n_samples, ), for example using ravel().\n",
      "  return f(*args, **kwargs)\n",
      "[Parallel(n_jobs=1)]: Using backend SequentialBackend with 1 concurrent workers.\n",
      "[Parallel(n_jobs=1)]: Done   1 out of   1 | elapsed:  7.3min finished\n",
      "[Parallel(n_jobs=1)]: Using backend SequentialBackend with 1 concurrent workers.\n",
      "[Parallel(n_jobs=1)]: Done   1 out of   1 | elapsed:  3.0min finished\n"
     ]
    },
    {
     "name": "stdout",
     "output_type": "stream",
     "text": [
      "[CV 3/5] END ensemble__base_estimator__address_size=8, ensemble__max_features=0.9, ensemble__max_samples=0.9, ensemble__n_estimators=20, thermometer__n_bits=60, thermometer__quantile_based=True; total time=10.4min\n"
     ]
    },
    {
     "name": "stderr",
     "output_type": "stream",
     "text": [
      "C:\\Users\\bruno.silva\\AppData\\Local\\Continuum\\anaconda3\\envs\\wisard\\lib\\site-packages\\sklearn\\utils\\validation.py:63: DataConversionWarning: A column-vector y was passed when a 1d array was expected. Please change the shape of y to (n_samples, ), for example using ravel().\n",
      "  return f(*args, **kwargs)\n",
      "[Parallel(n_jobs=1)]: Using backend SequentialBackend with 1 concurrent workers.\n",
      "[Parallel(n_jobs=1)]: Done   1 out of   1 | elapsed:  7.5min finished\n",
      "[Parallel(n_jobs=1)]: Using backend SequentialBackend with 1 concurrent workers.\n",
      "[Parallel(n_jobs=1)]: Done   1 out of   1 | elapsed:  2.7min finished\n"
     ]
    },
    {
     "name": "stdout",
     "output_type": "stream",
     "text": [
      "[CV 4/5] END ensemble__base_estimator__address_size=8, ensemble__max_features=0.9, ensemble__max_samples=0.9, ensemble__n_estimators=20, thermometer__n_bits=60, thermometer__quantile_based=True; total time=10.2min\n"
     ]
    },
    {
     "name": "stderr",
     "output_type": "stream",
     "text": [
      "C:\\Users\\bruno.silva\\AppData\\Local\\Continuum\\anaconda3\\envs\\wisard\\lib\\site-packages\\sklearn\\utils\\validation.py:63: DataConversionWarning: A column-vector y was passed when a 1d array was expected. Please change the shape of y to (n_samples, ), for example using ravel().\n",
      "  return f(*args, **kwargs)\n",
      "[Parallel(n_jobs=1)]: Using backend SequentialBackend with 1 concurrent workers.\n",
      "[Parallel(n_jobs=1)]: Done   1 out of   1 | elapsed:  5.6min finished\n",
      "[Parallel(n_jobs=1)]: Using backend SequentialBackend with 1 concurrent workers.\n",
      "[Parallel(n_jobs=1)]: Done   1 out of   1 | elapsed:  3.0min finished\n"
     ]
    },
    {
     "name": "stdout",
     "output_type": "stream",
     "text": [
      "[CV 5/5] END ensemble__base_estimator__address_size=8, ensemble__max_features=0.9, ensemble__max_samples=0.9, ensemble__n_estimators=20, thermometer__n_bits=60, thermometer__quantile_based=True; total time= 8.7min\n"
     ]
    },
    {
     "name": "stderr",
     "output_type": "stream",
     "text": [
      "C:\\Users\\bruno.silva\\AppData\\Local\\Continuum\\anaconda3\\envs\\wisard\\lib\\site-packages\\sklearn\\utils\\validation.py:63: DataConversionWarning: A column-vector y was passed when a 1d array was expected. Please change the shape of y to (n_samples, ), for example using ravel().\n",
      "  return f(*args, **kwargs)\n",
      "[Parallel(n_jobs=1)]: Using backend SequentialBackend with 1 concurrent workers.\n",
      "[Parallel(n_jobs=1)]: Done   1 out of   1 | elapsed:  4.0min finished\n",
      "[Parallel(n_jobs=1)]: Using backend SequentialBackend with 1 concurrent workers.\n",
      "[Parallel(n_jobs=1)]: Done   1 out of   1 | elapsed:  1.5min finished\n"
     ]
    },
    {
     "name": "stdout",
     "output_type": "stream",
     "text": [
      "[CV 1/5] END ensemble__base_estimator__address_size=8, ensemble__max_features=0.9, ensemble__max_samples=1.0, ensemble__n_estimators=10, thermometer__n_bits=60, thermometer__quantile_based=True; total time= 5.5min\n"
     ]
    },
    {
     "name": "stderr",
     "output_type": "stream",
     "text": [
      "C:\\Users\\bruno.silva\\AppData\\Local\\Continuum\\anaconda3\\envs\\wisard\\lib\\site-packages\\sklearn\\utils\\validation.py:63: DataConversionWarning: A column-vector y was passed when a 1d array was expected. Please change the shape of y to (n_samples, ), for example using ravel().\n",
      "  return f(*args, **kwargs)\n",
      "[Parallel(n_jobs=1)]: Using backend SequentialBackend with 1 concurrent workers.\n",
      "[Parallel(n_jobs=1)]: Done   1 out of   1 | elapsed:  4.0min finished\n",
      "[Parallel(n_jobs=1)]: Using backend SequentialBackend with 1 concurrent workers.\n",
      "[Parallel(n_jobs=1)]: Done   1 out of   1 | elapsed:  1.3min finished\n"
     ]
    },
    {
     "name": "stdout",
     "output_type": "stream",
     "text": [
      "[CV 2/5] END ensemble__base_estimator__address_size=8, ensemble__max_features=0.9, ensemble__max_samples=1.0, ensemble__n_estimators=10, thermometer__n_bits=60, thermometer__quantile_based=True; total time= 5.3min\n"
     ]
    },
    {
     "name": "stderr",
     "output_type": "stream",
     "text": [
      "C:\\Users\\bruno.silva\\AppData\\Local\\Continuum\\anaconda3\\envs\\wisard\\lib\\site-packages\\sklearn\\utils\\validation.py:63: DataConversionWarning: A column-vector y was passed when a 1d array was expected. Please change the shape of y to (n_samples, ), for example using ravel().\n",
      "  return f(*args, **kwargs)\n",
      "[Parallel(n_jobs=1)]: Using backend SequentialBackend with 1 concurrent workers.\n",
      "[Parallel(n_jobs=1)]: Done   1 out of   1 | elapsed:  3.2min finished\n",
      "[Parallel(n_jobs=1)]: Using backend SequentialBackend with 1 concurrent workers.\n",
      "[Parallel(n_jobs=1)]: Done   1 out of   1 | elapsed:  1.2min finished\n"
     ]
    },
    {
     "name": "stdout",
     "output_type": "stream",
     "text": [
      "[CV 3/5] END ensemble__base_estimator__address_size=8, ensemble__max_features=0.9, ensemble__max_samples=1.0, ensemble__n_estimators=10, thermometer__n_bits=60, thermometer__quantile_based=True; total time= 4.4min\n"
     ]
    },
    {
     "name": "stderr",
     "output_type": "stream",
     "text": [
      "C:\\Users\\bruno.silva\\AppData\\Local\\Continuum\\anaconda3\\envs\\wisard\\lib\\site-packages\\sklearn\\utils\\validation.py:63: DataConversionWarning: A column-vector y was passed when a 1d array was expected. Please change the shape of y to (n_samples, ), for example using ravel().\n",
      "  return f(*args, **kwargs)\n",
      "[Parallel(n_jobs=1)]: Using backend SequentialBackend with 1 concurrent workers.\n",
      "[Parallel(n_jobs=1)]: Done   1 out of   1 | elapsed:  3.3min finished\n",
      "[Parallel(n_jobs=1)]: Using backend SequentialBackend with 1 concurrent workers.\n",
      "[Parallel(n_jobs=1)]: Done   1 out of   1 | elapsed:  1.5min finished\n"
     ]
    },
    {
     "name": "stdout",
     "output_type": "stream",
     "text": [
      "[CV 4/5] END ensemble__base_estimator__address_size=8, ensemble__max_features=0.9, ensemble__max_samples=1.0, ensemble__n_estimators=10, thermometer__n_bits=60, thermometer__quantile_based=True; total time= 4.8min\n"
     ]
    },
    {
     "name": "stderr",
     "output_type": "stream",
     "text": [
      "C:\\Users\\bruno.silva\\AppData\\Local\\Continuum\\anaconda3\\envs\\wisard\\lib\\site-packages\\sklearn\\utils\\validation.py:63: DataConversionWarning: A column-vector y was passed when a 1d array was expected. Please change the shape of y to (n_samples, ), for example using ravel().\n",
      "  return f(*args, **kwargs)\n",
      "[Parallel(n_jobs=1)]: Using backend SequentialBackend with 1 concurrent workers.\n",
      "[Parallel(n_jobs=1)]: Done   1 out of   1 | elapsed:  4.0min finished\n",
      "[Parallel(n_jobs=1)]: Using backend SequentialBackend with 1 concurrent workers.\n",
      "[Parallel(n_jobs=1)]: Done   1 out of   1 | elapsed:  1.8min finished\n"
     ]
    },
    {
     "name": "stdout",
     "output_type": "stream",
     "text": [
      "[CV 5/5] END ensemble__base_estimator__address_size=8, ensemble__max_features=0.9, ensemble__max_samples=1.0, ensemble__n_estimators=10, thermometer__n_bits=60, thermometer__quantile_based=True; total time= 5.8min\n"
     ]
    },
    {
     "name": "stderr",
     "output_type": "stream",
     "text": [
      "C:\\Users\\bruno.silva\\AppData\\Local\\Continuum\\anaconda3\\envs\\wisard\\lib\\site-packages\\sklearn\\utils\\validation.py:63: DataConversionWarning: A column-vector y was passed when a 1d array was expected. Please change the shape of y to (n_samples, ), for example using ravel().\n",
      "  return f(*args, **kwargs)\n",
      "[Parallel(n_jobs=1)]: Using backend SequentialBackend with 1 concurrent workers.\n",
      "[Parallel(n_jobs=1)]: Done   1 out of   1 | elapsed:  6.3min finished\n",
      "[Parallel(n_jobs=1)]: Using backend SequentialBackend with 1 concurrent workers.\n",
      "[Parallel(n_jobs=1)]: Done   1 out of   1 | elapsed:  2.3min finished\n"
     ]
    },
    {
     "name": "stdout",
     "output_type": "stream",
     "text": [
      "[CV 1/5] END ensemble__base_estimator__address_size=8, ensemble__max_features=0.9, ensemble__max_samples=1.0, ensemble__n_estimators=15, thermometer__n_bits=60, thermometer__quantile_based=True; total time= 8.7min\n"
     ]
    },
    {
     "name": "stderr",
     "output_type": "stream",
     "text": [
      "C:\\Users\\bruno.silva\\AppData\\Local\\Continuum\\anaconda3\\envs\\wisard\\lib\\site-packages\\sklearn\\utils\\validation.py:63: DataConversionWarning: A column-vector y was passed when a 1d array was expected. Please change the shape of y to (n_samples, ), for example using ravel().\n",
      "  return f(*args, **kwargs)\n",
      "[Parallel(n_jobs=1)]: Using backend SequentialBackend with 1 concurrent workers.\n",
      "[Parallel(n_jobs=1)]: Done   1 out of   1 | elapsed:  6.5min finished\n",
      "[Parallel(n_jobs=1)]: Using backend SequentialBackend with 1 concurrent workers.\n",
      "[Parallel(n_jobs=1)]: Done   1 out of   1 | elapsed:  2.3min finished\n"
     ]
    },
    {
     "name": "stdout",
     "output_type": "stream",
     "text": [
      "[CV 2/5] END ensemble__base_estimator__address_size=8, ensemble__max_features=0.9, ensemble__max_samples=1.0, ensemble__n_estimators=15, thermometer__n_bits=60, thermometer__quantile_based=True; total time= 8.8min\n"
     ]
    },
    {
     "name": "stderr",
     "output_type": "stream",
     "text": [
      "C:\\Users\\bruno.silva\\AppData\\Local\\Continuum\\anaconda3\\envs\\wisard\\lib\\site-packages\\sklearn\\utils\\validation.py:63: DataConversionWarning: A column-vector y was passed when a 1d array was expected. Please change the shape of y to (n_samples, ), for example using ravel().\n",
      "  return f(*args, **kwargs)\n",
      "[Parallel(n_jobs=1)]: Using backend SequentialBackend with 1 concurrent workers.\n",
      "[Parallel(n_jobs=1)]: Done   1 out of   1 | elapsed:  6.5min finished\n",
      "[Parallel(n_jobs=1)]: Using backend SequentialBackend with 1 concurrent workers.\n",
      "[Parallel(n_jobs=1)]: Done   1 out of   1 | elapsed:  2.3min finished\n"
     ]
    },
    {
     "name": "stdout",
     "output_type": "stream",
     "text": [
      "[CV 3/5] END ensemble__base_estimator__address_size=8, ensemble__max_features=0.9, ensemble__max_samples=1.0, ensemble__n_estimators=15, thermometer__n_bits=60, thermometer__quantile_based=True; total time= 8.8min\n"
     ]
    },
    {
     "name": "stderr",
     "output_type": "stream",
     "text": [
      "C:\\Users\\bruno.silva\\AppData\\Local\\Continuum\\anaconda3\\envs\\wisard\\lib\\site-packages\\sklearn\\utils\\validation.py:63: DataConversionWarning: A column-vector y was passed when a 1d array was expected. Please change the shape of y to (n_samples, ), for example using ravel().\n",
      "  return f(*args, **kwargs)\n",
      "[Parallel(n_jobs=1)]: Using backend SequentialBackend with 1 concurrent workers.\n",
      "[Parallel(n_jobs=1)]: Done   1 out of   1 | elapsed:  6.6min finished\n",
      "[Parallel(n_jobs=1)]: Using backend SequentialBackend with 1 concurrent workers.\n",
      "[Parallel(n_jobs=1)]: Done   1 out of   1 | elapsed:  2.3min finished\n"
     ]
    },
    {
     "name": "stdout",
     "output_type": "stream",
     "text": [
      "[CV 4/5] END ensemble__base_estimator__address_size=8, ensemble__max_features=0.9, ensemble__max_samples=1.0, ensemble__n_estimators=15, thermometer__n_bits=60, thermometer__quantile_based=True; total time= 8.9min\n"
     ]
    },
    {
     "name": "stderr",
     "output_type": "stream",
     "text": [
      "C:\\Users\\bruno.silva\\AppData\\Local\\Continuum\\anaconda3\\envs\\wisard\\lib\\site-packages\\sklearn\\utils\\validation.py:63: DataConversionWarning: A column-vector y was passed when a 1d array was expected. Please change the shape of y to (n_samples, ), for example using ravel().\n",
      "  return f(*args, **kwargs)\n",
      "[Parallel(n_jobs=1)]: Using backend SequentialBackend with 1 concurrent workers.\n",
      "[Parallel(n_jobs=1)]: Done   1 out of   1 | elapsed:  6.1min finished\n",
      "[Parallel(n_jobs=1)]: Using backend SequentialBackend with 1 concurrent workers.\n",
      "[Parallel(n_jobs=1)]: Done   1 out of   1 | elapsed:  2.8min finished\n"
     ]
    },
    {
     "name": "stdout",
     "output_type": "stream",
     "text": [
      "[CV 5/5] END ensemble__base_estimator__address_size=8, ensemble__max_features=0.9, ensemble__max_samples=1.0, ensemble__n_estimators=15, thermometer__n_bits=60, thermometer__quantile_based=True; total time= 8.9min\n"
     ]
    },
    {
     "name": "stderr",
     "output_type": "stream",
     "text": [
      "C:\\Users\\bruno.silva\\AppData\\Local\\Continuum\\anaconda3\\envs\\wisard\\lib\\site-packages\\sklearn\\utils\\validation.py:63: DataConversionWarning: A column-vector y was passed when a 1d array was expected. Please change the shape of y to (n_samples, ), for example using ravel().\n",
      "  return f(*args, **kwargs)\n",
      "[Parallel(n_jobs=1)]: Using backend SequentialBackend with 1 concurrent workers.\n",
      "[Parallel(n_jobs=1)]: Done   1 out of   1 | elapsed:  8.8min finished\n",
      "[Parallel(n_jobs=1)]: Using backend SequentialBackend with 1 concurrent workers.\n",
      "[Parallel(n_jobs=1)]: Done   1 out of   1 | elapsed:  3.1min finished\n"
     ]
    },
    {
     "name": "stdout",
     "output_type": "stream",
     "text": [
      "[CV 1/5] END ensemble__base_estimator__address_size=8, ensemble__max_features=0.9, ensemble__max_samples=1.0, ensemble__n_estimators=20, thermometer__n_bits=60, thermometer__quantile_based=True; total time=11.9min\n"
     ]
    },
    {
     "name": "stderr",
     "output_type": "stream",
     "text": [
      "C:\\Users\\bruno.silva\\AppData\\Local\\Continuum\\anaconda3\\envs\\wisard\\lib\\site-packages\\sklearn\\utils\\validation.py:63: DataConversionWarning: A column-vector y was passed when a 1d array was expected. Please change the shape of y to (n_samples, ), for example using ravel().\n",
      "  return f(*args, **kwargs)\n",
      "[Parallel(n_jobs=1)]: Using backend SequentialBackend with 1 concurrent workers.\n",
      "[Parallel(n_jobs=1)]: Done   1 out of   1 | elapsed:  8.7min finished\n",
      "[Parallel(n_jobs=1)]: Using backend SequentialBackend with 1 concurrent workers.\n",
      "[Parallel(n_jobs=1)]: Done   1 out of   1 | elapsed:  3.1min finished\n"
     ]
    },
    {
     "name": "stdout",
     "output_type": "stream",
     "text": [
      "[CV 2/5] END ensemble__base_estimator__address_size=8, ensemble__max_features=0.9, ensemble__max_samples=1.0, ensemble__n_estimators=20, thermometer__n_bits=60, thermometer__quantile_based=True; total time=11.8min\n"
     ]
    },
    {
     "name": "stderr",
     "output_type": "stream",
     "text": [
      "C:\\Users\\bruno.silva\\AppData\\Local\\Continuum\\anaconda3\\envs\\wisard\\lib\\site-packages\\sklearn\\utils\\validation.py:63: DataConversionWarning: A column-vector y was passed when a 1d array was expected. Please change the shape of y to (n_samples, ), for example using ravel().\n",
      "  return f(*args, **kwargs)\n",
      "[Parallel(n_jobs=1)]: Using backend SequentialBackend with 1 concurrent workers.\n",
      "[Parallel(n_jobs=1)]: Done   1 out of   1 | elapsed:  7.5min finished\n",
      "[Parallel(n_jobs=1)]: Using backend SequentialBackend with 1 concurrent workers.\n",
      "[Parallel(n_jobs=1)]: Done   1 out of   1 | elapsed:  2.4min finished\n"
     ]
    },
    {
     "name": "stdout",
     "output_type": "stream",
     "text": [
      "[CV 3/5] END ensemble__base_estimator__address_size=8, ensemble__max_features=0.9, ensemble__max_samples=1.0, ensemble__n_estimators=20, thermometer__n_bits=60, thermometer__quantile_based=True; total time= 9.9min\n"
     ]
    },
    {
     "name": "stderr",
     "output_type": "stream",
     "text": [
      "C:\\Users\\bruno.silva\\AppData\\Local\\Continuum\\anaconda3\\envs\\wisard\\lib\\site-packages\\sklearn\\utils\\validation.py:63: DataConversionWarning: A column-vector y was passed when a 1d array was expected. Please change the shape of y to (n_samples, ), for example using ravel().\n",
      "  return f(*args, **kwargs)\n",
      "[Parallel(n_jobs=1)]: Using backend SequentialBackend with 1 concurrent workers.\n",
      "[Parallel(n_jobs=1)]: Done   1 out of   1 | elapsed:  8.6min finished\n",
      "[Parallel(n_jobs=1)]: Using backend SequentialBackend with 1 concurrent workers.\n",
      "[Parallel(n_jobs=1)]: Done   1 out of   1 | elapsed:  3.1min finished\n"
     ]
    },
    {
     "name": "stdout",
     "output_type": "stream",
     "text": [
      "[CV 4/5] END ensemble__base_estimator__address_size=8, ensemble__max_features=0.9, ensemble__max_samples=1.0, ensemble__n_estimators=20, thermometer__n_bits=60, thermometer__quantile_based=True; total time=11.7min\n"
     ]
    },
    {
     "name": "stderr",
     "output_type": "stream",
     "text": [
      "C:\\Users\\bruno.silva\\AppData\\Local\\Continuum\\anaconda3\\envs\\wisard\\lib\\site-packages\\sklearn\\utils\\validation.py:63: DataConversionWarning: A column-vector y was passed when a 1d array was expected. Please change the shape of y to (n_samples, ), for example using ravel().\n",
      "  return f(*args, **kwargs)\n",
      "[Parallel(n_jobs=1)]: Using backend SequentialBackend with 1 concurrent workers.\n",
      "[Parallel(n_jobs=1)]: Done   1 out of   1 | elapsed:  8.3min finished\n",
      "[Parallel(n_jobs=1)]: Using backend SequentialBackend with 1 concurrent workers.\n",
      "[Parallel(n_jobs=1)]: Done   1 out of   1 | elapsed:  3.6min finished\n"
     ]
    },
    {
     "name": "stdout",
     "output_type": "stream",
     "text": [
      "[CV 5/5] END ensemble__base_estimator__address_size=8, ensemble__max_features=0.9, ensemble__max_samples=1.0, ensemble__n_estimators=20, thermometer__n_bits=60, thermometer__quantile_based=True; total time=12.0min\n"
     ]
    },
    {
     "name": "stderr",
     "output_type": "stream",
     "text": [
      "C:\\Users\\bruno.silva\\AppData\\Local\\Continuum\\anaconda3\\envs\\wisard\\lib\\site-packages\\sklearn\\utils\\validation.py:63: DataConversionWarning: A column-vector y was passed when a 1d array was expected. Please change the shape of y to (n_samples, ), for example using ravel().\n",
      "  return f(*args, **kwargs)\n",
      "[Parallel(n_jobs=1)]: Using backend SequentialBackend with 1 concurrent workers.\n",
      "[Parallel(n_jobs=1)]: Done   1 out of   1 | elapsed:  3.9min finished\n",
      "[Parallel(n_jobs=1)]: Using backend SequentialBackend with 1 concurrent workers.\n",
      "[Parallel(n_jobs=1)]: Done   1 out of   1 | elapsed:  1.8min finished\n"
     ]
    },
    {
     "name": "stdout",
     "output_type": "stream",
     "text": [
      "[CV 1/5] END ensemble__base_estimator__address_size=8, ensemble__max_features=1.0, ensemble__max_samples=0.8, ensemble__n_estimators=10, thermometer__n_bits=60, thermometer__quantile_based=True; total time= 5.7min\n"
     ]
    },
    {
     "name": "stderr",
     "output_type": "stream",
     "text": [
      "C:\\Users\\bruno.silva\\AppData\\Local\\Continuum\\anaconda3\\envs\\wisard\\lib\\site-packages\\sklearn\\utils\\validation.py:63: DataConversionWarning: A column-vector y was passed when a 1d array was expected. Please change the shape of y to (n_samples, ), for example using ravel().\n",
      "  return f(*args, **kwargs)\n",
      "[Parallel(n_jobs=1)]: Using backend SequentialBackend with 1 concurrent workers.\n",
      "[Parallel(n_jobs=1)]: Done   1 out of   1 | elapsed:  4.0min finished\n",
      "[Parallel(n_jobs=1)]: Using backend SequentialBackend with 1 concurrent workers.\n",
      "[Parallel(n_jobs=1)]: Done   1 out of   1 | elapsed:  1.8min finished\n"
     ]
    },
    {
     "name": "stdout",
     "output_type": "stream",
     "text": [
      "[CV 2/5] END ensemble__base_estimator__address_size=8, ensemble__max_features=1.0, ensemble__max_samples=0.8, ensemble__n_estimators=10, thermometer__n_bits=60, thermometer__quantile_based=True; total time= 5.9min\n"
     ]
    },
    {
     "name": "stderr",
     "output_type": "stream",
     "text": [
      "C:\\Users\\bruno.silva\\AppData\\Local\\Continuum\\anaconda3\\envs\\wisard\\lib\\site-packages\\sklearn\\utils\\validation.py:63: DataConversionWarning: A column-vector y was passed when a 1d array was expected. Please change the shape of y to (n_samples, ), for example using ravel().\n",
      "  return f(*args, **kwargs)\n",
      "[Parallel(n_jobs=1)]: Using backend SequentialBackend with 1 concurrent workers.\n",
      "[Parallel(n_jobs=1)]: Done   1 out of   1 | elapsed:  4.1min finished\n",
      "[Parallel(n_jobs=1)]: Using backend SequentialBackend with 1 concurrent workers.\n",
      "[Parallel(n_jobs=1)]: Done   1 out of   1 | elapsed:  1.8min finished\n"
     ]
    },
    {
     "name": "stdout",
     "output_type": "stream",
     "text": [
      "[CV 3/5] END ensemble__base_estimator__address_size=8, ensemble__max_features=1.0, ensemble__max_samples=0.8, ensemble__n_estimators=10, thermometer__n_bits=60, thermometer__quantile_based=True; total time= 6.0min\n"
     ]
    },
    {
     "name": "stderr",
     "output_type": "stream",
     "text": [
      "C:\\Users\\bruno.silva\\AppData\\Local\\Continuum\\anaconda3\\envs\\wisard\\lib\\site-packages\\sklearn\\utils\\validation.py:63: DataConversionWarning: A column-vector y was passed when a 1d array was expected. Please change the shape of y to (n_samples, ), for example using ravel().\n",
      "  return f(*args, **kwargs)\n",
      "[Parallel(n_jobs=1)]: Using backend SequentialBackend with 1 concurrent workers.\n",
      "[Parallel(n_jobs=1)]: Done   1 out of   1 | elapsed:  3.1min finished\n",
      "[Parallel(n_jobs=1)]: Using backend SequentialBackend with 1 concurrent workers.\n",
      "[Parallel(n_jobs=1)]: Done   1 out of   1 | elapsed:  1.3min finished\n"
     ]
    },
    {
     "name": "stdout",
     "output_type": "stream",
     "text": [
      "[CV 4/5] END ensemble__base_estimator__address_size=8, ensemble__max_features=1.0, ensemble__max_samples=0.8, ensemble__n_estimators=10, thermometer__n_bits=60, thermometer__quantile_based=True; total time= 4.5min\n"
     ]
    },
    {
     "name": "stderr",
     "output_type": "stream",
     "text": [
      "C:\\Users\\bruno.silva\\AppData\\Local\\Continuum\\anaconda3\\envs\\wisard\\lib\\site-packages\\sklearn\\utils\\validation.py:63: DataConversionWarning: A column-vector y was passed when a 1d array was expected. Please change the shape of y to (n_samples, ), for example using ravel().\n",
      "  return f(*args, **kwargs)\n",
      "[Parallel(n_jobs=1)]: Using backend SequentialBackend with 1 concurrent workers.\n",
      "[Parallel(n_jobs=1)]: Done   1 out of   1 | elapsed:  2.8min finished\n",
      "[Parallel(n_jobs=1)]: Using backend SequentialBackend with 1 concurrent workers.\n",
      "[Parallel(n_jobs=1)]: Done   1 out of   1 | elapsed:  1.7min finished\n"
     ]
    },
    {
     "name": "stdout",
     "output_type": "stream",
     "text": [
      "[CV 5/5] END ensemble__base_estimator__address_size=8, ensemble__max_features=1.0, ensemble__max_samples=0.8, ensemble__n_estimators=10, thermometer__n_bits=60, thermometer__quantile_based=True; total time= 4.5min\n"
     ]
    },
    {
     "name": "stderr",
     "output_type": "stream",
     "text": [
      "C:\\Users\\bruno.silva\\AppData\\Local\\Continuum\\anaconda3\\envs\\wisard\\lib\\site-packages\\sklearn\\utils\\validation.py:63: DataConversionWarning: A column-vector y was passed when a 1d array was expected. Please change the shape of y to (n_samples, ), for example using ravel().\n",
      "  return f(*args, **kwargs)\n",
      "[Parallel(n_jobs=1)]: Using backend SequentialBackend with 1 concurrent workers.\n",
      "[Parallel(n_jobs=1)]: Done   1 out of   1 | elapsed:  5.9min finished\n",
      "[Parallel(n_jobs=1)]: Using backend SequentialBackend with 1 concurrent workers.\n",
      "[Parallel(n_jobs=1)]: Done   1 out of   1 | elapsed:  2.0min finished\n"
     ]
    },
    {
     "name": "stdout",
     "output_type": "stream",
     "text": [
      "[CV 1/5] END ensemble__base_estimator__address_size=8, ensemble__max_features=1.0, ensemble__max_samples=0.8, ensemble__n_estimators=15, thermometer__n_bits=60, thermometer__quantile_based=True; total time= 7.9min\n"
     ]
    },
    {
     "name": "stderr",
     "output_type": "stream",
     "text": [
      "C:\\Users\\bruno.silva\\AppData\\Local\\Continuum\\anaconda3\\envs\\wisard\\lib\\site-packages\\sklearn\\utils\\validation.py:63: DataConversionWarning: A column-vector y was passed when a 1d array was expected. Please change the shape of y to (n_samples, ), for example using ravel().\n",
      "  return f(*args, **kwargs)\n",
      "[Parallel(n_jobs=1)]: Using backend SequentialBackend with 1 concurrent workers.\n",
      "[Parallel(n_jobs=1)]: Done   1 out of   1 | elapsed:  4.5min finished\n",
      "[Parallel(n_jobs=1)]: Using backend SequentialBackend with 1 concurrent workers.\n",
      "[Parallel(n_jobs=1)]: Done   1 out of   1 | elapsed:  2.5min finished\n"
     ]
    },
    {
     "name": "stdout",
     "output_type": "stream",
     "text": [
      "[CV 2/5] END ensemble__base_estimator__address_size=8, ensemble__max_features=1.0, ensemble__max_samples=0.8, ensemble__n_estimators=15, thermometer__n_bits=60, thermometer__quantile_based=True; total time= 7.1min\n"
     ]
    },
    {
     "name": "stderr",
     "output_type": "stream",
     "text": [
      "C:\\Users\\bruno.silva\\AppData\\Local\\Continuum\\anaconda3\\envs\\wisard\\lib\\site-packages\\sklearn\\utils\\validation.py:63: DataConversionWarning: A column-vector y was passed when a 1d array was expected. Please change the shape of y to (n_samples, ), for example using ravel().\n",
      "  return f(*args, **kwargs)\n",
      "[Parallel(n_jobs=1)]: Using backend SequentialBackend with 1 concurrent workers.\n",
      "[Parallel(n_jobs=1)]: Done   1 out of   1 | elapsed:  6.4min finished\n",
      "[Parallel(n_jobs=1)]: Using backend SequentialBackend with 1 concurrent workers.\n",
      "[Parallel(n_jobs=1)]: Done   1 out of   1 | elapsed:  2.8min finished\n"
     ]
    },
    {
     "name": "stdout",
     "output_type": "stream",
     "text": [
      "[CV 3/5] END ensemble__base_estimator__address_size=8, ensemble__max_features=1.0, ensemble__max_samples=0.8, ensemble__n_estimators=15, thermometer__n_bits=60, thermometer__quantile_based=True; total time= 9.2min\n"
     ]
    },
    {
     "name": "stderr",
     "output_type": "stream",
     "text": [
      "C:\\Users\\bruno.silva\\AppData\\Local\\Continuum\\anaconda3\\envs\\wisard\\lib\\site-packages\\sklearn\\utils\\validation.py:63: DataConversionWarning: A column-vector y was passed when a 1d array was expected. Please change the shape of y to (n_samples, ), for example using ravel().\n",
      "  return f(*args, **kwargs)\n",
      "[Parallel(n_jobs=1)]: Using backend SequentialBackend with 1 concurrent workers.\n",
      "[Parallel(n_jobs=1)]: Done   1 out of   1 | elapsed:  6.1min finished\n",
      "[Parallel(n_jobs=1)]: Using backend SequentialBackend with 1 concurrent workers.\n",
      "[Parallel(n_jobs=1)]: Done   1 out of   1 | elapsed:  2.4min finished\n"
     ]
    },
    {
     "name": "stdout",
     "output_type": "stream",
     "text": [
      "[CV 4/5] END ensemble__base_estimator__address_size=8, ensemble__max_features=1.0, ensemble__max_samples=0.8, ensemble__n_estimators=15, thermometer__n_bits=60, thermometer__quantile_based=True; total time= 8.5min\n"
     ]
    },
    {
     "name": "stderr",
     "output_type": "stream",
     "text": [
      "C:\\Users\\bruno.silva\\AppData\\Local\\Continuum\\anaconda3\\envs\\wisard\\lib\\site-packages\\sklearn\\utils\\validation.py:63: DataConversionWarning: A column-vector y was passed when a 1d array was expected. Please change the shape of y to (n_samples, ), for example using ravel().\n",
      "  return f(*args, **kwargs)\n",
      "[Parallel(n_jobs=1)]: Using backend SequentialBackend with 1 concurrent workers.\n",
      "[Parallel(n_jobs=1)]: Done   1 out of   1 | elapsed:  4.2min finished\n",
      "[Parallel(n_jobs=1)]: Using backend SequentialBackend with 1 concurrent workers.\n",
      "[Parallel(n_jobs=1)]: Done   1 out of   1 | elapsed:  2.3min finished\n"
     ]
    },
    {
     "name": "stdout",
     "output_type": "stream",
     "text": [
      "[CV 5/5] END ensemble__base_estimator__address_size=8, ensemble__max_features=1.0, ensemble__max_samples=0.8, ensemble__n_estimators=15, thermometer__n_bits=60, thermometer__quantile_based=True; total time= 6.6min\n"
     ]
    },
    {
     "name": "stderr",
     "output_type": "stream",
     "text": [
      "C:\\Users\\bruno.silva\\AppData\\Local\\Continuum\\anaconda3\\envs\\wisard\\lib\\site-packages\\sklearn\\utils\\validation.py:63: DataConversionWarning: A column-vector y was passed when a 1d array was expected. Please change the shape of y to (n_samples, ), for example using ravel().\n",
      "  return f(*args, **kwargs)\n",
      "[Parallel(n_jobs=1)]: Using backend SequentialBackend with 1 concurrent workers.\n",
      "[Parallel(n_jobs=1)]: Done   1 out of   1 | elapsed:  7.3min finished\n",
      "[Parallel(n_jobs=1)]: Using backend SequentialBackend with 1 concurrent workers.\n",
      "[Parallel(n_jobs=1)]: Done   1 out of   1 | elapsed:  3.4min finished\n"
     ]
    },
    {
     "name": "stdout",
     "output_type": "stream",
     "text": [
      "[CV 1/5] END ensemble__base_estimator__address_size=8, ensemble__max_features=1.0, ensemble__max_samples=0.8, ensemble__n_estimators=20, thermometer__n_bits=60, thermometer__quantile_based=True; total time=10.7min\n"
     ]
    },
    {
     "name": "stderr",
     "output_type": "stream",
     "text": [
      "C:\\Users\\bruno.silva\\AppData\\Local\\Continuum\\anaconda3\\envs\\wisard\\lib\\site-packages\\sklearn\\utils\\validation.py:63: DataConversionWarning: A column-vector y was passed when a 1d array was expected. Please change the shape of y to (n_samples, ), for example using ravel().\n",
      "  return f(*args, **kwargs)\n",
      "[Parallel(n_jobs=1)]: Using backend SequentialBackend with 1 concurrent workers.\n",
      "[Parallel(n_jobs=1)]: Done   1 out of   1 | elapsed:  7.6min finished\n",
      "[Parallel(n_jobs=1)]: Using backend SequentialBackend with 1 concurrent workers.\n",
      "[Parallel(n_jobs=1)]: Done   1 out of   1 | elapsed:  2.8min finished\n"
     ]
    },
    {
     "name": "stdout",
     "output_type": "stream",
     "text": [
      "[CV 2/5] END ensemble__base_estimator__address_size=8, ensemble__max_features=1.0, ensemble__max_samples=0.8, ensemble__n_estimators=20, thermometer__n_bits=60, thermometer__quantile_based=True; total time=10.5min\n"
     ]
    },
    {
     "name": "stderr",
     "output_type": "stream",
     "text": [
      "C:\\Users\\bruno.silva\\AppData\\Local\\Continuum\\anaconda3\\envs\\wisard\\lib\\site-packages\\sklearn\\utils\\validation.py:63: DataConversionWarning: A column-vector y was passed when a 1d array was expected. Please change the shape of y to (n_samples, ), for example using ravel().\n",
      "  return f(*args, **kwargs)\n",
      "[Parallel(n_jobs=1)]: Using backend SequentialBackend with 1 concurrent workers.\n",
      "[Parallel(n_jobs=1)]: Done   1 out of   1 | elapsed:  6.0min finished\n",
      "[Parallel(n_jobs=1)]: Using backend SequentialBackend with 1 concurrent workers.\n",
      "[Parallel(n_jobs=1)]: Done   1 out of   1 | elapsed:  3.3min finished\n"
     ]
    },
    {
     "name": "stdout",
     "output_type": "stream",
     "text": [
      "[CV 3/5] END ensemble__base_estimator__address_size=8, ensemble__max_features=1.0, ensemble__max_samples=0.8, ensemble__n_estimators=20, thermometer__n_bits=60, thermometer__quantile_based=True; total time= 9.3min\n"
     ]
    },
    {
     "name": "stderr",
     "output_type": "stream",
     "text": [
      "C:\\Users\\bruno.silva\\AppData\\Local\\Continuum\\anaconda3\\envs\\wisard\\lib\\site-packages\\sklearn\\utils\\validation.py:63: DataConversionWarning: A column-vector y was passed when a 1d array was expected. Please change the shape of y to (n_samples, ), for example using ravel().\n",
      "  return f(*args, **kwargs)\n",
      "[Parallel(n_jobs=1)]: Using backend SequentialBackend with 1 concurrent workers.\n",
      "[Parallel(n_jobs=1)]: Done   1 out of   1 | elapsed:  7.8min finished\n",
      "[Parallel(n_jobs=1)]: Using backend SequentialBackend with 1 concurrent workers.\n",
      "[Parallel(n_jobs=1)]: Done   1 out of   1 | elapsed:  3.0min finished\n"
     ]
    },
    {
     "name": "stdout",
     "output_type": "stream",
     "text": [
      "[CV 4/5] END ensemble__base_estimator__address_size=8, ensemble__max_features=1.0, ensemble__max_samples=0.8, ensemble__n_estimators=20, thermometer__n_bits=60, thermometer__quantile_based=True; total time=10.8min\n"
     ]
    },
    {
     "name": "stderr",
     "output_type": "stream",
     "text": [
      "C:\\Users\\bruno.silva\\AppData\\Local\\Continuum\\anaconda3\\envs\\wisard\\lib\\site-packages\\sklearn\\utils\\validation.py:63: DataConversionWarning: A column-vector y was passed when a 1d array was expected. Please change the shape of y to (n_samples, ), for example using ravel().\n",
      "  return f(*args, **kwargs)\n",
      "[Parallel(n_jobs=1)]: Using backend SequentialBackend with 1 concurrent workers.\n",
      "[Parallel(n_jobs=1)]: Done   1 out of   1 | elapsed:  5.6min finished\n",
      "[Parallel(n_jobs=1)]: Using backend SequentialBackend with 1 concurrent workers.\n",
      "[Parallel(n_jobs=1)]: Done   1 out of   1 | elapsed:  3.8min finished\n"
     ]
    },
    {
     "name": "stdout",
     "output_type": "stream",
     "text": [
      "[CV 5/5] END ensemble__base_estimator__address_size=8, ensemble__max_features=1.0, ensemble__max_samples=0.8, ensemble__n_estimators=20, thermometer__n_bits=60, thermometer__quantile_based=True; total time= 9.4min\n"
     ]
    },
    {
     "name": "stderr",
     "output_type": "stream",
     "text": [
      "C:\\Users\\bruno.silva\\AppData\\Local\\Continuum\\anaconda3\\envs\\wisard\\lib\\site-packages\\sklearn\\utils\\validation.py:63: DataConversionWarning: A column-vector y was passed when a 1d array was expected. Please change the shape of y to (n_samples, ), for example using ravel().\n",
      "  return f(*args, **kwargs)\n",
      "[Parallel(n_jobs=1)]: Using backend SequentialBackend with 1 concurrent workers.\n",
      "[Parallel(n_jobs=1)]: Done   1 out of   1 | elapsed:  3.7min finished\n",
      "[Parallel(n_jobs=1)]: Using backend SequentialBackend with 1 concurrent workers.\n",
      "[Parallel(n_jobs=1)]: Done   1 out of   1 | elapsed:  1.4min finished\n"
     ]
    },
    {
     "name": "stdout",
     "output_type": "stream",
     "text": [
      "[CV 1/5] END ensemble__base_estimator__address_size=8, ensemble__max_features=1.0, ensemble__max_samples=0.9, ensemble__n_estimators=10, thermometer__n_bits=60, thermometer__quantile_based=True; total time= 5.1min\n"
     ]
    },
    {
     "name": "stderr",
     "output_type": "stream",
     "text": [
      "C:\\Users\\bruno.silva\\AppData\\Local\\Continuum\\anaconda3\\envs\\wisard\\lib\\site-packages\\sklearn\\utils\\validation.py:63: DataConversionWarning: A column-vector y was passed when a 1d array was expected. Please change the shape of y to (n_samples, ), for example using ravel().\n",
      "  return f(*args, **kwargs)\n",
      "[Parallel(n_jobs=1)]: Using backend SequentialBackend with 1 concurrent workers.\n",
      "[Parallel(n_jobs=1)]: Done   1 out of   1 | elapsed:  3.3min finished\n",
      "[Parallel(n_jobs=1)]: Using backend SequentialBackend with 1 concurrent workers.\n",
      "[Parallel(n_jobs=1)]: Done   1 out of   1 | elapsed:  1.3min finished\n"
     ]
    },
    {
     "name": "stdout",
     "output_type": "stream",
     "text": [
      "[CV 2/5] END ensemble__base_estimator__address_size=8, ensemble__max_features=1.0, ensemble__max_samples=0.9, ensemble__n_estimators=10, thermometer__n_bits=60, thermometer__quantile_based=True; total time= 4.6min\n"
     ]
    },
    {
     "name": "stderr",
     "output_type": "stream",
     "text": [
      "C:\\Users\\bruno.silva\\AppData\\Local\\Continuum\\anaconda3\\envs\\wisard\\lib\\site-packages\\sklearn\\utils\\validation.py:63: DataConversionWarning: A column-vector y was passed when a 1d array was expected. Please change the shape of y to (n_samples, ), for example using ravel().\n",
      "  return f(*args, **kwargs)\n",
      "[Parallel(n_jobs=1)]: Using backend SequentialBackend with 1 concurrent workers.\n",
      "[Parallel(n_jobs=1)]: Done   1 out of   1 | elapsed:  3.9min finished\n",
      "[Parallel(n_jobs=1)]: Using backend SequentialBackend with 1 concurrent workers.\n",
      "[Parallel(n_jobs=1)]: Done   1 out of   1 | elapsed:  1.7min finished\n"
     ]
    },
    {
     "name": "stdout",
     "output_type": "stream",
     "text": [
      "[CV 3/5] END ensemble__base_estimator__address_size=8, ensemble__max_features=1.0, ensemble__max_samples=0.9, ensemble__n_estimators=10, thermometer__n_bits=60, thermometer__quantile_based=True; total time= 5.6min\n"
     ]
    },
    {
     "name": "stderr",
     "output_type": "stream",
     "text": [
      "C:\\Users\\bruno.silva\\AppData\\Local\\Continuum\\anaconda3\\envs\\wisard\\lib\\site-packages\\sklearn\\utils\\validation.py:63: DataConversionWarning: A column-vector y was passed when a 1d array was expected. Please change the shape of y to (n_samples, ), for example using ravel().\n",
      "  return f(*args, **kwargs)\n",
      "[Parallel(n_jobs=1)]: Using backend SequentialBackend with 1 concurrent workers.\n",
      "[Parallel(n_jobs=1)]: Done   1 out of   1 | elapsed:  4.2min finished\n",
      "[Parallel(n_jobs=1)]: Using backend SequentialBackend with 1 concurrent workers.\n",
      "[Parallel(n_jobs=1)]: Done   1 out of   1 | elapsed:  1.6min finished\n"
     ]
    },
    {
     "name": "stdout",
     "output_type": "stream",
     "text": [
      "[CV 4/5] END ensemble__base_estimator__address_size=8, ensemble__max_features=1.0, ensemble__max_samples=0.9, ensemble__n_estimators=10, thermometer__n_bits=60, thermometer__quantile_based=True; total time= 5.8min\n"
     ]
    },
    {
     "name": "stderr",
     "output_type": "stream",
     "text": [
      "C:\\Users\\bruno.silva\\AppData\\Local\\Continuum\\anaconda3\\envs\\wisard\\lib\\site-packages\\sklearn\\utils\\validation.py:63: DataConversionWarning: A column-vector y was passed when a 1d array was expected. Please change the shape of y to (n_samples, ), for example using ravel().\n",
      "  return f(*args, **kwargs)\n",
      "[Parallel(n_jobs=1)]: Using backend SequentialBackend with 1 concurrent workers.\n",
      "[Parallel(n_jobs=1)]: Done   1 out of   1 | elapsed:  4.0min finished\n",
      "[Parallel(n_jobs=1)]: Using backend SequentialBackend with 1 concurrent workers.\n",
      "[Parallel(n_jobs=1)]: Done   1 out of   1 | elapsed:  2.0min finished\n"
     ]
    },
    {
     "name": "stdout",
     "output_type": "stream",
     "text": [
      "[CV 5/5] END ensemble__base_estimator__address_size=8, ensemble__max_features=1.0, ensemble__max_samples=0.9, ensemble__n_estimators=10, thermometer__n_bits=60, thermometer__quantile_based=True; total time= 6.0min\n"
     ]
    },
    {
     "name": "stderr",
     "output_type": "stream",
     "text": [
      "C:\\Users\\bruno.silva\\AppData\\Local\\Continuum\\anaconda3\\envs\\wisard\\lib\\site-packages\\sklearn\\utils\\validation.py:63: DataConversionWarning: A column-vector y was passed when a 1d array was expected. Please change the shape of y to (n_samples, ), for example using ravel().\n",
      "  return f(*args, **kwargs)\n",
      "[Parallel(n_jobs=1)]: Using backend SequentialBackend with 1 concurrent workers.\n",
      "[Parallel(n_jobs=1)]: Done   1 out of   1 | elapsed:  6.5min finished\n",
      "[Parallel(n_jobs=1)]: Using backend SequentialBackend with 1 concurrent workers.\n",
      "[Parallel(n_jobs=1)]: Done   1 out of   1 | elapsed:  2.6min finished\n"
     ]
    },
    {
     "name": "stdout",
     "output_type": "stream",
     "text": [
      "[CV 1/5] END ensemble__base_estimator__address_size=8, ensemble__max_features=1.0, ensemble__max_samples=0.9, ensemble__n_estimators=15, thermometer__n_bits=60, thermometer__quantile_based=True; total time= 9.1min\n"
     ]
    },
    {
     "name": "stderr",
     "output_type": "stream",
     "text": [
      "C:\\Users\\bruno.silva\\AppData\\Local\\Continuum\\anaconda3\\envs\\wisard\\lib\\site-packages\\sklearn\\utils\\validation.py:63: DataConversionWarning: A column-vector y was passed when a 1d array was expected. Please change the shape of y to (n_samples, ), for example using ravel().\n",
      "  return f(*args, **kwargs)\n",
      "[Parallel(n_jobs=1)]: Using backend SequentialBackend with 1 concurrent workers.\n",
      "[Parallel(n_jobs=1)]: Done   1 out of   1 | elapsed:  5.8min finished\n",
      "[Parallel(n_jobs=1)]: Using backend SequentialBackend with 1 concurrent workers.\n",
      "[Parallel(n_jobs=1)]: Done   1 out of   1 | elapsed:  2.0min finished\n"
     ]
    },
    {
     "name": "stdout",
     "output_type": "stream",
     "text": [
      "[CV 2/5] END ensemble__base_estimator__address_size=8, ensemble__max_features=1.0, ensemble__max_samples=0.9, ensemble__n_estimators=15, thermometer__n_bits=60, thermometer__quantile_based=True; total time= 7.8min\n"
     ]
    },
    {
     "name": "stderr",
     "output_type": "stream",
     "text": [
      "C:\\Users\\bruno.silva\\AppData\\Local\\Continuum\\anaconda3\\envs\\wisard\\lib\\site-packages\\sklearn\\utils\\validation.py:63: DataConversionWarning: A column-vector y was passed when a 1d array was expected. Please change the shape of y to (n_samples, ), for example using ravel().\n",
      "  return f(*args, **kwargs)\n",
      "[Parallel(n_jobs=1)]: Using backend SequentialBackend with 1 concurrent workers.\n",
      "[Parallel(n_jobs=1)]: Done   1 out of   1 | elapsed:  5.3min finished\n",
      "[Parallel(n_jobs=1)]: Using backend SequentialBackend with 1 concurrent workers.\n",
      "[Parallel(n_jobs=1)]: Done   1 out of   1 | elapsed:  2.5min finished\n"
     ]
    },
    {
     "name": "stdout",
     "output_type": "stream",
     "text": [
      "[CV 3/5] END ensemble__base_estimator__address_size=8, ensemble__max_features=1.0, ensemble__max_samples=0.9, ensemble__n_estimators=15, thermometer__n_bits=60, thermometer__quantile_based=True; total time= 7.8min\n"
     ]
    },
    {
     "name": "stderr",
     "output_type": "stream",
     "text": [
      "C:\\Users\\bruno.silva\\AppData\\Local\\Continuum\\anaconda3\\envs\\wisard\\lib\\site-packages\\sklearn\\utils\\validation.py:63: DataConversionWarning: A column-vector y was passed when a 1d array was expected. Please change the shape of y to (n_samples, ), for example using ravel().\n",
      "  return f(*args, **kwargs)\n",
      "[Parallel(n_jobs=1)]: Using backend SequentialBackend with 1 concurrent workers.\n",
      "[Parallel(n_jobs=1)]: Done   1 out of   1 | elapsed:  6.1min finished\n",
      "[Parallel(n_jobs=1)]: Using backend SequentialBackend with 1 concurrent workers.\n",
      "[Parallel(n_jobs=1)]: Done   1 out of   1 | elapsed:  2.0min finished\n"
     ]
    },
    {
     "name": "stdout",
     "output_type": "stream",
     "text": [
      "[CV 4/5] END ensemble__base_estimator__address_size=8, ensemble__max_features=1.0, ensemble__max_samples=0.9, ensemble__n_estimators=15, thermometer__n_bits=60, thermometer__quantile_based=True; total time= 8.1min\n"
     ]
    },
    {
     "name": "stderr",
     "output_type": "stream",
     "text": [
      "C:\\Users\\bruno.silva\\AppData\\Local\\Continuum\\anaconda3\\envs\\wisard\\lib\\site-packages\\sklearn\\utils\\validation.py:63: DataConversionWarning: A column-vector y was passed when a 1d array was expected. Please change the shape of y to (n_samples, ), for example using ravel().\n",
      "  return f(*args, **kwargs)\n",
      "[Parallel(n_jobs=1)]: Using backend SequentialBackend with 1 concurrent workers.\n",
      "[Parallel(n_jobs=1)]: Done   1 out of   1 | elapsed:  4.9min finished\n",
      "[Parallel(n_jobs=1)]: Using backend SequentialBackend with 1 concurrent workers.\n",
      "[Parallel(n_jobs=1)]: Done   1 out of   1 | elapsed:  3.1min finished\n"
     ]
    },
    {
     "name": "stdout",
     "output_type": "stream",
     "text": [
      "[CV 5/5] END ensemble__base_estimator__address_size=8, ensemble__max_features=1.0, ensemble__max_samples=0.9, ensemble__n_estimators=15, thermometer__n_bits=60, thermometer__quantile_based=True; total time= 8.0min\n"
     ]
    },
    {
     "name": "stderr",
     "output_type": "stream",
     "text": [
      "C:\\Users\\bruno.silva\\AppData\\Local\\Continuum\\anaconda3\\envs\\wisard\\lib\\site-packages\\sklearn\\utils\\validation.py:63: DataConversionWarning: A column-vector y was passed when a 1d array was expected. Please change the shape of y to (n_samples, ), for example using ravel().\n",
      "  return f(*args, **kwargs)\n",
      "[Parallel(n_jobs=1)]: Using backend SequentialBackend with 1 concurrent workers.\n",
      "[Parallel(n_jobs=1)]: Done   1 out of   1 | elapsed:  9.0min finished\n",
      "[Parallel(n_jobs=1)]: Using backend SequentialBackend with 1 concurrent workers.\n",
      "[Parallel(n_jobs=1)]: Done   1 out of   1 | elapsed:  3.4min finished\n"
     ]
    },
    {
     "name": "stdout",
     "output_type": "stream",
     "text": [
      "[CV 1/5] END ensemble__base_estimator__address_size=8, ensemble__max_features=1.0, ensemble__max_samples=0.9, ensemble__n_estimators=20, thermometer__n_bits=60, thermometer__quantile_based=True; total time=12.4min\n"
     ]
    },
    {
     "name": "stderr",
     "output_type": "stream",
     "text": [
      "C:\\Users\\bruno.silva\\AppData\\Local\\Continuum\\anaconda3\\envs\\wisard\\lib\\site-packages\\sklearn\\utils\\validation.py:63: DataConversionWarning: A column-vector y was passed when a 1d array was expected. Please change the shape of y to (n_samples, ), for example using ravel().\n",
      "  return f(*args, **kwargs)\n",
      "[Parallel(n_jobs=1)]: Using backend SequentialBackend with 1 concurrent workers.\n",
      "[Parallel(n_jobs=1)]: Done   1 out of   1 | elapsed:  9.0min finished\n",
      "[Parallel(n_jobs=1)]: Using backend SequentialBackend with 1 concurrent workers.\n",
      "[Parallel(n_jobs=1)]: Done   1 out of   1 | elapsed:  3.4min finished\n"
     ]
    },
    {
     "name": "stdout",
     "output_type": "stream",
     "text": [
      "[CV 2/5] END ensemble__base_estimator__address_size=8, ensemble__max_features=1.0, ensemble__max_samples=0.9, ensemble__n_estimators=20, thermometer__n_bits=60, thermometer__quantile_based=True; total time=12.4min\n"
     ]
    },
    {
     "name": "stderr",
     "output_type": "stream",
     "text": [
      "C:\\Users\\bruno.silva\\AppData\\Local\\Continuum\\anaconda3\\envs\\wisard\\lib\\site-packages\\sklearn\\utils\\validation.py:63: DataConversionWarning: A column-vector y was passed when a 1d array was expected. Please change the shape of y to (n_samples, ), for example using ravel().\n",
      "  return f(*args, **kwargs)\n",
      "[Parallel(n_jobs=1)]: Using backend SequentialBackend with 1 concurrent workers.\n",
      "[Parallel(n_jobs=1)]: Done   1 out of   1 | elapsed:  9.0min finished\n",
      "[Parallel(n_jobs=1)]: Using backend SequentialBackend with 1 concurrent workers.\n",
      "[Parallel(n_jobs=1)]: Done   1 out of   1 | elapsed:  3.4min finished\n"
     ]
    },
    {
     "name": "stdout",
     "output_type": "stream",
     "text": [
      "[CV 3/5] END ensemble__base_estimator__address_size=8, ensemble__max_features=1.0, ensemble__max_samples=0.9, ensemble__n_estimators=20, thermometer__n_bits=60, thermometer__quantile_based=True; total time=12.5min\n"
     ]
    },
    {
     "name": "stderr",
     "output_type": "stream",
     "text": [
      "C:\\Users\\bruno.silva\\AppData\\Local\\Continuum\\anaconda3\\envs\\wisard\\lib\\site-packages\\sklearn\\utils\\validation.py:63: DataConversionWarning: A column-vector y was passed when a 1d array was expected. Please change the shape of y to (n_samples, ), for example using ravel().\n",
      "  return f(*args, **kwargs)\n",
      "[Parallel(n_jobs=1)]: Using backend SequentialBackend with 1 concurrent workers.\n",
      "[Parallel(n_jobs=1)]: Done   1 out of   1 | elapsed:  9.1min finished\n",
      "[Parallel(n_jobs=1)]: Using backend SequentialBackend with 1 concurrent workers.\n",
      "[Parallel(n_jobs=1)]: Done   1 out of   1 | elapsed:  3.4min finished\n"
     ]
    },
    {
     "name": "stdout",
     "output_type": "stream",
     "text": [
      "[CV 4/5] END ensemble__base_estimator__address_size=8, ensemble__max_features=1.0, ensemble__max_samples=0.9, ensemble__n_estimators=20, thermometer__n_bits=60, thermometer__quantile_based=True; total time=12.5min\n"
     ]
    },
    {
     "name": "stderr",
     "output_type": "stream",
     "text": [
      "C:\\Users\\bruno.silva\\AppData\\Local\\Continuum\\anaconda3\\envs\\wisard\\lib\\site-packages\\sklearn\\utils\\validation.py:63: DataConversionWarning: A column-vector y was passed when a 1d array was expected. Please change the shape of y to (n_samples, ), for example using ravel().\n",
      "  return f(*args, **kwargs)\n",
      "[Parallel(n_jobs=1)]: Using backend SequentialBackend with 1 concurrent workers.\n",
      "[Parallel(n_jobs=1)]: Done   1 out of   1 | elapsed:  8.7min finished\n",
      "[Parallel(n_jobs=1)]: Using backend SequentialBackend with 1 concurrent workers.\n",
      "[Parallel(n_jobs=1)]: Done   1 out of   1 | elapsed:  4.1min finished\n"
     ]
    },
    {
     "name": "stdout",
     "output_type": "stream",
     "text": [
      "[CV 5/5] END ensemble__base_estimator__address_size=8, ensemble__max_features=1.0, ensemble__max_samples=0.9, ensemble__n_estimators=20, thermometer__n_bits=60, thermometer__quantile_based=True; total time=12.9min\n"
     ]
    },
    {
     "name": "stderr",
     "output_type": "stream",
     "text": [
      "C:\\Users\\bruno.silva\\AppData\\Local\\Continuum\\anaconda3\\envs\\wisard\\lib\\site-packages\\sklearn\\utils\\validation.py:63: DataConversionWarning: A column-vector y was passed when a 1d array was expected. Please change the shape of y to (n_samples, ), for example using ravel().\n",
      "  return f(*args, **kwargs)\n",
      "[Parallel(n_jobs=1)]: Using backend SequentialBackend with 1 concurrent workers.\n",
      "[Parallel(n_jobs=1)]: Done   1 out of   1 | elapsed:  4.8min finished\n",
      "[Parallel(n_jobs=1)]: Using backend SequentialBackend with 1 concurrent workers.\n",
      "[Parallel(n_jobs=1)]: Done   1 out of   1 | elapsed:  1.7min finished\n"
     ]
    },
    {
     "name": "stdout",
     "output_type": "stream",
     "text": [
      "[CV 1/5] END ensemble__base_estimator__address_size=8, ensemble__max_features=1.0, ensemble__max_samples=1.0, ensemble__n_estimators=10, thermometer__n_bits=60, thermometer__quantile_based=True; total time= 6.5min\n"
     ]
    },
    {
     "name": "stderr",
     "output_type": "stream",
     "text": [
      "C:\\Users\\bruno.silva\\AppData\\Local\\Continuum\\anaconda3\\envs\\wisard\\lib\\site-packages\\sklearn\\utils\\validation.py:63: DataConversionWarning: A column-vector y was passed when a 1d array was expected. Please change the shape of y to (n_samples, ), for example using ravel().\n",
      "  return f(*args, **kwargs)\n",
      "[Parallel(n_jobs=1)]: Using backend SequentialBackend with 1 concurrent workers.\n",
      "[Parallel(n_jobs=1)]: Done   1 out of   1 | elapsed:  4.7min finished\n",
      "[Parallel(n_jobs=1)]: Using backend SequentialBackend with 1 concurrent workers.\n",
      "[Parallel(n_jobs=1)]: Done   1 out of   1 | elapsed:  1.7min finished\n"
     ]
    },
    {
     "name": "stdout",
     "output_type": "stream",
     "text": [
      "[CV 2/5] END ensemble__base_estimator__address_size=8, ensemble__max_features=1.0, ensemble__max_samples=1.0, ensemble__n_estimators=10, thermometer__n_bits=60, thermometer__quantile_based=True; total time= 6.4min\n"
     ]
    },
    {
     "name": "stderr",
     "output_type": "stream",
     "text": [
      "C:\\Users\\bruno.silva\\AppData\\Local\\Continuum\\anaconda3\\envs\\wisard\\lib\\site-packages\\sklearn\\utils\\validation.py:63: DataConversionWarning: A column-vector y was passed when a 1d array was expected. Please change the shape of y to (n_samples, ), for example using ravel().\n",
      "  return f(*args, **kwargs)\n",
      "[Parallel(n_jobs=1)]: Using backend SequentialBackend with 1 concurrent workers.\n",
      "[Parallel(n_jobs=1)]: Done   1 out of   1 | elapsed:  4.8min finished\n",
      "[Parallel(n_jobs=1)]: Using backend SequentialBackend with 1 concurrent workers.\n",
      "[Parallel(n_jobs=1)]: Done   1 out of   1 | elapsed:  1.7min finished\n"
     ]
    },
    {
     "name": "stdout",
     "output_type": "stream",
     "text": [
      "[CV 3/5] END ensemble__base_estimator__address_size=8, ensemble__max_features=1.0, ensemble__max_samples=1.0, ensemble__n_estimators=10, thermometer__n_bits=60, thermometer__quantile_based=True; total time= 6.5min\n"
     ]
    },
    {
     "name": "stderr",
     "output_type": "stream",
     "text": [
      "C:\\Users\\bruno.silva\\AppData\\Local\\Continuum\\anaconda3\\envs\\wisard\\lib\\site-packages\\sklearn\\utils\\validation.py:63: DataConversionWarning: A column-vector y was passed when a 1d array was expected. Please change the shape of y to (n_samples, ), for example using ravel().\n",
      "  return f(*args, **kwargs)\n",
      "[Parallel(n_jobs=1)]: Using backend SequentialBackend with 1 concurrent workers.\n",
      "[Parallel(n_jobs=1)]: Done   1 out of   1 | elapsed:  4.9min finished\n",
      "[Parallel(n_jobs=1)]: Using backend SequentialBackend with 1 concurrent workers.\n",
      "[Parallel(n_jobs=1)]: Done   1 out of   1 | elapsed:  1.7min finished\n"
     ]
    },
    {
     "name": "stdout",
     "output_type": "stream",
     "text": [
      "[CV 4/5] END ensemble__base_estimator__address_size=8, ensemble__max_features=1.0, ensemble__max_samples=1.0, ensemble__n_estimators=10, thermometer__n_bits=60, thermometer__quantile_based=True; total time= 6.6min\n"
     ]
    },
    {
     "name": "stderr",
     "output_type": "stream",
     "text": [
      "C:\\Users\\bruno.silva\\AppData\\Local\\Continuum\\anaconda3\\envs\\wisard\\lib\\site-packages\\sklearn\\utils\\validation.py:63: DataConversionWarning: A column-vector y was passed when a 1d array was expected. Please change the shape of y to (n_samples, ), for example using ravel().\n",
      "  return f(*args, **kwargs)\n",
      "[Parallel(n_jobs=1)]: Using backend SequentialBackend with 1 concurrent workers.\n",
      "[Parallel(n_jobs=1)]: Done   1 out of   1 | elapsed:  4.6min finished\n",
      "[Parallel(n_jobs=1)]: Using backend SequentialBackend with 1 concurrent workers.\n",
      "[Parallel(n_jobs=1)]: Done   1 out of   1 | elapsed:  2.0min finished\n"
     ]
    },
    {
     "name": "stdout",
     "output_type": "stream",
     "text": [
      "[CV 5/5] END ensemble__base_estimator__address_size=8, ensemble__max_features=1.0, ensemble__max_samples=1.0, ensemble__n_estimators=10, thermometer__n_bits=60, thermometer__quantile_based=True; total time= 6.6min\n"
     ]
    },
    {
     "name": "stderr",
     "output_type": "stream",
     "text": [
      "C:\\Users\\bruno.silva\\AppData\\Local\\Continuum\\anaconda3\\envs\\wisard\\lib\\site-packages\\sklearn\\utils\\validation.py:63: DataConversionWarning: A column-vector y was passed when a 1d array was expected. Please change the shape of y to (n_samples, ), for example using ravel().\n",
      "  return f(*args, **kwargs)\n",
      "[Parallel(n_jobs=1)]: Using backend SequentialBackend with 1 concurrent workers.\n",
      "[Parallel(n_jobs=1)]: Done   1 out of   1 | elapsed:  7.7min finished\n",
      "[Parallel(n_jobs=1)]: Using backend SequentialBackend with 1 concurrent workers.\n",
      "[Parallel(n_jobs=1)]: Done   1 out of   1 | elapsed:  2.5min finished\n"
     ]
    },
    {
     "name": "stdout",
     "output_type": "stream",
     "text": [
      "[CV 1/5] END ensemble__base_estimator__address_size=8, ensemble__max_features=1.0, ensemble__max_samples=1.0, ensemble__n_estimators=15, thermometer__n_bits=60, thermometer__quantile_based=True; total time=10.2min\n"
     ]
    },
    {
     "name": "stderr",
     "output_type": "stream",
     "text": [
      "C:\\Users\\bruno.silva\\AppData\\Local\\Continuum\\anaconda3\\envs\\wisard\\lib\\site-packages\\sklearn\\utils\\validation.py:63: DataConversionWarning: A column-vector y was passed when a 1d array was expected. Please change the shape of y to (n_samples, ), for example using ravel().\n",
      "  return f(*args, **kwargs)\n",
      "[Parallel(n_jobs=1)]: Using backend SequentialBackend with 1 concurrent workers.\n",
      "[Parallel(n_jobs=1)]: Done   1 out of   1 | elapsed:  7.3min finished\n",
      "[Parallel(n_jobs=1)]: Using backend SequentialBackend with 1 concurrent workers.\n",
      "[Parallel(n_jobs=1)]: Done   1 out of   1 | elapsed:  2.6min finished\n"
     ]
    },
    {
     "name": "stdout",
     "output_type": "stream",
     "text": [
      "[CV 2/5] END ensemble__base_estimator__address_size=8, ensemble__max_features=1.0, ensemble__max_samples=1.0, ensemble__n_estimators=15, thermometer__n_bits=60, thermometer__quantile_based=True; total time= 9.9min\n"
     ]
    },
    {
     "name": "stderr",
     "output_type": "stream",
     "text": [
      "C:\\Users\\bruno.silva\\AppData\\Local\\Continuum\\anaconda3\\envs\\wisard\\lib\\site-packages\\sklearn\\utils\\validation.py:63: DataConversionWarning: A column-vector y was passed when a 1d array was expected. Please change the shape of y to (n_samples, ), for example using ravel().\n",
      "  return f(*args, **kwargs)\n",
      "[Parallel(n_jobs=1)]: Using backend SequentialBackend with 1 concurrent workers.\n",
      "[Parallel(n_jobs=1)]: Done   1 out of   1 | elapsed:  7.4min finished\n",
      "[Parallel(n_jobs=1)]: Using backend SequentialBackend with 1 concurrent workers.\n",
      "[Parallel(n_jobs=1)]: Done   1 out of   1 | elapsed:  2.6min finished\n"
     ]
    },
    {
     "name": "stdout",
     "output_type": "stream",
     "text": [
      "[CV 3/5] END ensemble__base_estimator__address_size=8, ensemble__max_features=1.0, ensemble__max_samples=1.0, ensemble__n_estimators=15, thermometer__n_bits=60, thermometer__quantile_based=True; total time=10.1min\n"
     ]
    },
    {
     "name": "stderr",
     "output_type": "stream",
     "text": [
      "C:\\Users\\bruno.silva\\AppData\\Local\\Continuum\\anaconda3\\envs\\wisard\\lib\\site-packages\\sklearn\\utils\\validation.py:63: DataConversionWarning: A column-vector y was passed when a 1d array was expected. Please change the shape of y to (n_samples, ), for example using ravel().\n",
      "  return f(*args, **kwargs)\n",
      "[Parallel(n_jobs=1)]: Using backend SequentialBackend with 1 concurrent workers.\n",
      "[Parallel(n_jobs=1)]: Done   1 out of   1 | elapsed:  7.5min finished\n",
      "[Parallel(n_jobs=1)]: Using backend SequentialBackend with 1 concurrent workers.\n",
      "[Parallel(n_jobs=1)]: Done   1 out of   1 | elapsed:  2.6min finished\n"
     ]
    },
    {
     "name": "stdout",
     "output_type": "stream",
     "text": [
      "[CV 4/5] END ensemble__base_estimator__address_size=8, ensemble__max_features=1.0, ensemble__max_samples=1.0, ensemble__n_estimators=15, thermometer__n_bits=60, thermometer__quantile_based=True; total time=10.1min\n"
     ]
    },
    {
     "name": "stderr",
     "output_type": "stream",
     "text": [
      "C:\\Users\\bruno.silva\\AppData\\Local\\Continuum\\anaconda3\\envs\\wisard\\lib\\site-packages\\sklearn\\utils\\validation.py:63: DataConversionWarning: A column-vector y was passed when a 1d array was expected. Please change the shape of y to (n_samples, ), for example using ravel().\n",
      "  return f(*args, **kwargs)\n",
      "[Parallel(n_jobs=1)]: Using backend SequentialBackend with 1 concurrent workers.\n",
      "[Parallel(n_jobs=1)]: Done   1 out of   1 | elapsed:  7.1min finished\n",
      "[Parallel(n_jobs=1)]: Using backend SequentialBackend with 1 concurrent workers.\n",
      "[Parallel(n_jobs=1)]: Done   1 out of   1 | elapsed:  3.2min finished\n"
     ]
    },
    {
     "name": "stdout",
     "output_type": "stream",
     "text": [
      "[CV 5/5] END ensemble__base_estimator__address_size=8, ensemble__max_features=1.0, ensemble__max_samples=1.0, ensemble__n_estimators=15, thermometer__n_bits=60, thermometer__quantile_based=True; total time=10.3min\n"
     ]
    },
    {
     "name": "stderr",
     "output_type": "stream",
     "text": [
      "C:\\Users\\bruno.silva\\AppData\\Local\\Continuum\\anaconda3\\envs\\wisard\\lib\\site-packages\\sklearn\\utils\\validation.py:63: DataConversionWarning: A column-vector y was passed when a 1d array was expected. Please change the shape of y to (n_samples, ), for example using ravel().\n",
      "  return f(*args, **kwargs)\n",
      "[Parallel(n_jobs=1)]: Using backend SequentialBackend with 1 concurrent workers.\n",
      "[Parallel(n_jobs=1)]: Done   1 out of   1 | elapsed: 10.1min finished\n",
      "[Parallel(n_jobs=1)]: Using backend SequentialBackend with 1 concurrent workers.\n",
      "[Parallel(n_jobs=1)]: Done   1 out of   1 | elapsed:  3.5min finished\n"
     ]
    },
    {
     "name": "stdout",
     "output_type": "stream",
     "text": [
      "[CV 1/5] END ensemble__base_estimator__address_size=8, ensemble__max_features=1.0, ensemble__max_samples=1.0, ensemble__n_estimators=20, thermometer__n_bits=60, thermometer__quantile_based=True; total time=13.6min\n"
     ]
    },
    {
     "name": "stderr",
     "output_type": "stream",
     "text": [
      "C:\\Users\\bruno.silva\\AppData\\Local\\Continuum\\anaconda3\\envs\\wisard\\lib\\site-packages\\sklearn\\utils\\validation.py:63: DataConversionWarning: A column-vector y was passed when a 1d array was expected. Please change the shape of y to (n_samples, ), for example using ravel().\n",
      "  return f(*args, **kwargs)\n",
      "[Parallel(n_jobs=1)]: Using backend SequentialBackend with 1 concurrent workers.\n",
      "[Parallel(n_jobs=1)]: Done   1 out of   1 | elapsed: 10.2min finished\n",
      "[Parallel(n_jobs=1)]: Using backend SequentialBackend with 1 concurrent workers.\n",
      "[Parallel(n_jobs=1)]: Done   1 out of   1 | elapsed:  3.5min finished\n"
     ]
    },
    {
     "name": "stdout",
     "output_type": "stream",
     "text": [
      "[CV 2/5] END ensemble__base_estimator__address_size=8, ensemble__max_features=1.0, ensemble__max_samples=1.0, ensemble__n_estimators=20, thermometer__n_bits=60, thermometer__quantile_based=True; total time=13.7min\n"
     ]
    },
    {
     "name": "stderr",
     "output_type": "stream",
     "text": [
      "C:\\Users\\bruno.silva\\AppData\\Local\\Continuum\\anaconda3\\envs\\wisard\\lib\\site-packages\\sklearn\\utils\\validation.py:63: DataConversionWarning: A column-vector y was passed when a 1d array was expected. Please change the shape of y to (n_samples, ), for example using ravel().\n",
      "  return f(*args, **kwargs)\n",
      "[Parallel(n_jobs=1)]: Using backend SequentialBackend with 1 concurrent workers.\n",
      "[Parallel(n_jobs=1)]: Done   1 out of   1 | elapsed: 10.4min finished\n",
      "[Parallel(n_jobs=1)]: Using backend SequentialBackend with 1 concurrent workers.\n",
      "[Parallel(n_jobs=1)]: Done   1 out of   1 | elapsed:  3.5min finished\n"
     ]
    },
    {
     "name": "stdout",
     "output_type": "stream",
     "text": [
      "[CV 3/5] END ensemble__base_estimator__address_size=8, ensemble__max_features=1.0, ensemble__max_samples=1.0, ensemble__n_estimators=20, thermometer__n_bits=60, thermometer__quantile_based=True; total time=13.9min\n"
     ]
    },
    {
     "name": "stderr",
     "output_type": "stream",
     "text": [
      "C:\\Users\\bruno.silva\\AppData\\Local\\Continuum\\anaconda3\\envs\\wisard\\lib\\site-packages\\sklearn\\utils\\validation.py:63: DataConversionWarning: A column-vector y was passed when a 1d array was expected. Please change the shape of y to (n_samples, ), for example using ravel().\n",
      "  return f(*args, **kwargs)\n",
      "[Parallel(n_jobs=1)]: Using backend SequentialBackend with 1 concurrent workers.\n",
      "[Parallel(n_jobs=1)]: Done   1 out of   1 | elapsed: 10.4min finished\n",
      "[Parallel(n_jobs=1)]: Using backend SequentialBackend with 1 concurrent workers.\n",
      "[Parallel(n_jobs=1)]: Done   1 out of   1 | elapsed:  3.4min finished\n"
     ]
    },
    {
     "name": "stdout",
     "output_type": "stream",
     "text": [
      "[CV 4/5] END ensemble__base_estimator__address_size=8, ensemble__max_features=1.0, ensemble__max_samples=1.0, ensemble__n_estimators=20, thermometer__n_bits=60, thermometer__quantile_based=True; total time=13.9min\n"
     ]
    },
    {
     "name": "stderr",
     "output_type": "stream",
     "text": [
      "C:\\Users\\bruno.silva\\AppData\\Local\\Continuum\\anaconda3\\envs\\wisard\\lib\\site-packages\\sklearn\\utils\\validation.py:63: DataConversionWarning: A column-vector y was passed when a 1d array was expected. Please change the shape of y to (n_samples, ), for example using ravel().\n",
      "  return f(*args, **kwargs)\n",
      "[Parallel(n_jobs=1)]: Using backend SequentialBackend with 1 concurrent workers.\n",
      "[Parallel(n_jobs=1)]: Done   1 out of   1 | elapsed:  9.9min finished\n",
      "[Parallel(n_jobs=1)]: Using backend SequentialBackend with 1 concurrent workers.\n",
      "[Parallel(n_jobs=1)]: Done   1 out of   1 | elapsed:  4.2min finished\n"
     ]
    },
    {
     "name": "stdout",
     "output_type": "stream",
     "text": [
      "[CV 5/5] END ensemble__base_estimator__address_size=8, ensemble__max_features=1.0, ensemble__max_samples=1.0, ensemble__n_estimators=20, thermometer__n_bits=60, thermometer__quantile_based=True; total time=14.2min\n"
     ]
    },
    {
     "name": "stderr",
     "output_type": "stream",
     "text": [
      "C:\\Users\\bruno.silva\\AppData\\Local\\Continuum\\anaconda3\\envs\\wisard\\lib\\site-packages\\sklearn\\utils\\validation.py:63: DataConversionWarning: A column-vector y was passed when a 1d array was expected. Please change the shape of y to (n_samples, ), for example using ravel().\n",
      "  return f(*args, **kwargs)\n",
      "[Parallel(n_jobs=1)]: Using backend SequentialBackend with 1 concurrent workers.\n",
      "[Parallel(n_jobs=1)]: Done   1 out of   1 | elapsed:  6.5min finished\n"
     ]
    }
   ],
   "source": [
    "addressSize = [8]\n",
    "thermometer_size = [60]\n",
    "n_estimators = [10, 15, 20]\n",
    "max_features = [0.8, 0.9, 1.0]\n",
    "max_samples = [0.8, 0.9, 1.0]\n",
    "gs_model4, best_params_model4 = cross_validation_model4(train_eng, train_labels, train_subjects, n_splits=5, \n",
    "                                                        addressSize=addressSize, thermometer_size=thermometer_size, \n",
    "                                                        bleachingActivated=[True, False], \n",
    "                                                        n_estimators=n_estimators,\n",
    "                                                        max_features=max_features,\n",
    "                                                        max_samples=max_samples)"
   ]
  },
  {
   "cell_type": "code",
   "execution_count": 29,
   "metadata": {},
   "outputs": [
    {
     "data": {
      "text/plain": [
       "{'ensemble__base_estimator__address_size': 8,\n",
       " 'ensemble__max_features': 0.8,\n",
       " 'ensemble__max_samples': 0.9,\n",
       " 'ensemble__n_estimators': 15,\n",
       " 'thermometer__n_bits': 60,\n",
       " 'thermometer__quantile_based': True}"
      ]
     },
     "execution_count": 29,
     "metadata": {},
     "output_type": "execute_result"
    }
   ],
   "source": [
    "with open('results/model4_best_params.pickle', 'wb') as file:\n",
    "    pickle.dump(best_params_model4, file)\n",
    "    \n",
    "best_params_model4"
   ]
  },
  {
   "cell_type": "code",
   "execution_count": 30,
   "metadata": {},
   "outputs": [
    {
     "data": {
      "text/html": [
       "<div>\n",
       "<style scoped>\n",
       "    .dataframe tbody tr th:only-of-type {\n",
       "        vertical-align: middle;\n",
       "    }\n",
       "\n",
       "    .dataframe tbody tr th {\n",
       "        vertical-align: top;\n",
       "    }\n",
       "\n",
       "    .dataframe thead th {\n",
       "        text-align: right;\n",
       "    }\n",
       "</style>\n",
       "<table border=\"1\" class=\"dataframe\">\n",
       "  <thead>\n",
       "    <tr style=\"text-align: right;\">\n",
       "      <th></th>\n",
       "      <th>mean_fit_time</th>\n",
       "      <th>std_fit_time</th>\n",
       "      <th>mean_score_time</th>\n",
       "      <th>std_score_time</th>\n",
       "      <th>param_ensemble__base_estimator__address_size</th>\n",
       "      <th>param_ensemble__max_features</th>\n",
       "      <th>param_ensemble__max_samples</th>\n",
       "      <th>param_ensemble__n_estimators</th>\n",
       "      <th>param_thermometer__n_bits</th>\n",
       "      <th>param_thermometer__quantile_based</th>\n",
       "      <th>params</th>\n",
       "      <th>split0_test_score</th>\n",
       "      <th>split1_test_score</th>\n",
       "      <th>split2_test_score</th>\n",
       "      <th>split3_test_score</th>\n",
       "      <th>split4_test_score</th>\n",
       "      <th>mean_test_score</th>\n",
       "      <th>std_test_score</th>\n",
       "      <th>rank_test_score</th>\n",
       "    </tr>\n",
       "  </thead>\n",
       "  <tbody>\n",
       "    <tr>\n",
       "      <th>0</th>\n",
       "      <td>220.618665</td>\n",
       "      <td>5.472168</td>\n",
       "      <td>105.341678</td>\n",
       "      <td>10.563803</td>\n",
       "      <td>8</td>\n",
       "      <td>0.8</td>\n",
       "      <td>0.9</td>\n",
       "      <td>15</td>\n",
       "      <td>60</td>\n",
       "      <td>True</td>\n",
       "      <td>{'ensemble__base_estimator__address_size': 8, ...</td>\n",
       "      <td>0.809155</td>\n",
       "      <td>0.906338</td>\n",
       "      <td>0.959068</td>\n",
       "      <td>0.938298</td>\n",
       "      <td>0.908605</td>\n",
       "      <td>0.904293</td>\n",
       "      <td>0.051441</td>\n",
       "      <td>1</td>\n",
       "    </tr>\n",
       "    <tr>\n",
       "      <th>1</th>\n",
       "      <td>262.201365</td>\n",
       "      <td>5.916876</td>\n",
       "      <td>106.399475</td>\n",
       "      <td>10.091802</td>\n",
       "      <td>8</td>\n",
       "      <td>0.8</td>\n",
       "      <td>1</td>\n",
       "      <td>15</td>\n",
       "      <td>60</td>\n",
       "      <td>True</td>\n",
       "      <td>{'ensemble__base_estimator__address_size': 8, ...</td>\n",
       "      <td>0.813380</td>\n",
       "      <td>0.901408</td>\n",
       "      <td>0.958363</td>\n",
       "      <td>0.937589</td>\n",
       "      <td>0.908605</td>\n",
       "      <td>0.903869</td>\n",
       "      <td>0.049645</td>\n",
       "      <td>2</td>\n",
       "    </tr>\n",
       "    <tr>\n",
       "      <th>2</th>\n",
       "      <td>222.922563</td>\n",
       "      <td>22.570282</td>\n",
       "      <td>87.268341</td>\n",
       "      <td>12.740411</td>\n",
       "      <td>8</td>\n",
       "      <td>0.9</td>\n",
       "      <td>1</td>\n",
       "      <td>10</td>\n",
       "      <td>60</td>\n",
       "      <td>True</td>\n",
       "      <td>{'ensemble__base_estimator__address_size': 8, ...</td>\n",
       "      <td>0.809859</td>\n",
       "      <td>0.903521</td>\n",
       "      <td>0.956246</td>\n",
       "      <td>0.935461</td>\n",
       "      <td>0.910386</td>\n",
       "      <td>0.903095</td>\n",
       "      <td>0.050237</td>\n",
       "      <td>3</td>\n",
       "    </tr>\n",
       "    <tr>\n",
       "      <th>3</th>\n",
       "      <td>385.864331</td>\n",
       "      <td>9.377112</td>\n",
       "      <td>144.019772</td>\n",
       "      <td>11.560433</td>\n",
       "      <td>8</td>\n",
       "      <td>0.9</td>\n",
       "      <td>1</td>\n",
       "      <td>15</td>\n",
       "      <td>60</td>\n",
       "      <td>True</td>\n",
       "      <td>{'ensemble__base_estimator__address_size': 8, ...</td>\n",
       "      <td>0.809155</td>\n",
       "      <td>0.900000</td>\n",
       "      <td>0.958363</td>\n",
       "      <td>0.938298</td>\n",
       "      <td>0.907418</td>\n",
       "      <td>0.902647</td>\n",
       "      <td>0.051275</td>\n",
       "      <td>4</td>\n",
       "    </tr>\n",
       "    <tr>\n",
       "      <th>4</th>\n",
       "      <td>344.957378</td>\n",
       "      <td>33.227657</td>\n",
       "      <td>145.967714</td>\n",
       "      <td>25.354244</td>\n",
       "      <td>8</td>\n",
       "      <td>1</td>\n",
       "      <td>0.9</td>\n",
       "      <td>15</td>\n",
       "      <td>60</td>\n",
       "      <td>True</td>\n",
       "      <td>{'ensemble__base_estimator__address_size': 8, ...</td>\n",
       "      <td>0.807746</td>\n",
       "      <td>0.901408</td>\n",
       "      <td>0.956951</td>\n",
       "      <td>0.937589</td>\n",
       "      <td>0.909199</td>\n",
       "      <td>0.902579</td>\n",
       "      <td>0.051421</td>\n",
       "      <td>5</td>\n",
       "    </tr>\n",
       "    <tr>\n",
       "      <th>5</th>\n",
       "      <td>364.126276</td>\n",
       "      <td>7.501191</td>\n",
       "      <td>143.496356</td>\n",
       "      <td>12.244413</td>\n",
       "      <td>8</td>\n",
       "      <td>0.8</td>\n",
       "      <td>1</td>\n",
       "      <td>20</td>\n",
       "      <td>60</td>\n",
       "      <td>True</td>\n",
       "      <td>{'ensemble__base_estimator__address_size': 8, ...</td>\n",
       "      <td>0.810563</td>\n",
       "      <td>0.898592</td>\n",
       "      <td>0.958363</td>\n",
       "      <td>0.936170</td>\n",
       "      <td>0.908605</td>\n",
       "      <td>0.902459</td>\n",
       "      <td>0.050516</td>\n",
       "      <td>6</td>\n",
       "    </tr>\n",
       "    <tr>\n",
       "      <th>6</th>\n",
       "      <td>229.251829</td>\n",
       "      <td>18.435776</td>\n",
       "      <td>96.706648</td>\n",
       "      <td>14.511416</td>\n",
       "      <td>8</td>\n",
       "      <td>1</td>\n",
       "      <td>0.9</td>\n",
       "      <td>10</td>\n",
       "      <td>60</td>\n",
       "      <td>True</td>\n",
       "      <td>{'ensemble__base_estimator__address_size': 8, ...</td>\n",
       "      <td>0.806338</td>\n",
       "      <td>0.900000</td>\n",
       "      <td>0.958363</td>\n",
       "      <td>0.938298</td>\n",
       "      <td>0.906825</td>\n",
       "      <td>0.901965</td>\n",
       "      <td>0.052293</td>\n",
       "      <td>7</td>\n",
       "    </tr>\n",
       "    <tr>\n",
       "      <th>7</th>\n",
       "      <td>216.061001</td>\n",
       "      <td>31.432382</td>\n",
       "      <td>103.499908</td>\n",
       "      <td>12.199534</td>\n",
       "      <td>8</td>\n",
       "      <td>1</td>\n",
       "      <td>0.8</td>\n",
       "      <td>10</td>\n",
       "      <td>60</td>\n",
       "      <td>True</td>\n",
       "      <td>{'ensemble__base_estimator__address_size': 8, ...</td>\n",
       "      <td>0.809155</td>\n",
       "      <td>0.900704</td>\n",
       "      <td>0.956951</td>\n",
       "      <td>0.940426</td>\n",
       "      <td>0.902077</td>\n",
       "      <td>0.901863</td>\n",
       "      <td>0.051221</td>\n",
       "      <td>8</td>\n",
       "    </tr>\n",
       "    <tr>\n",
       "      <th>8</th>\n",
       "      <td>269.805838</td>\n",
       "      <td>10.263349</td>\n",
       "      <td>133.518739</td>\n",
       "      <td>9.556536</td>\n",
       "      <td>8</td>\n",
       "      <td>0.9</td>\n",
       "      <td>0.8</td>\n",
       "      <td>15</td>\n",
       "      <td>60</td>\n",
       "      <td>True</td>\n",
       "      <td>{'ensemble__base_estimator__address_size': 8, ...</td>\n",
       "      <td>0.807746</td>\n",
       "      <td>0.901408</td>\n",
       "      <td>0.956951</td>\n",
       "      <td>0.936879</td>\n",
       "      <td>0.906231</td>\n",
       "      <td>0.901843</td>\n",
       "      <td>0.051260</td>\n",
       "      <td>9</td>\n",
       "    </tr>\n",
       "    <tr>\n",
       "      <th>9</th>\n",
       "      <td>538.057930</td>\n",
       "      <td>7.978776</td>\n",
       "      <td>214.740129</td>\n",
       "      <td>17.216271</td>\n",
       "      <td>8</td>\n",
       "      <td>1</td>\n",
       "      <td>0.9</td>\n",
       "      <td>20</td>\n",
       "      <td>60</td>\n",
       "      <td>True</td>\n",
       "      <td>{'ensemble__base_estimator__address_size': 8, ...</td>\n",
       "      <td>0.808451</td>\n",
       "      <td>0.902817</td>\n",
       "      <td>0.957657</td>\n",
       "      <td>0.931915</td>\n",
       "      <td>0.908012</td>\n",
       "      <td>0.901770</td>\n",
       "      <td>0.050558</td>\n",
       "      <td>10</td>\n",
       "    </tr>\n",
       "    <tr>\n",
       "      <th>10</th>\n",
       "      <td>613.046523</td>\n",
       "      <td>10.951620</td>\n",
       "      <td>218.011800</td>\n",
       "      <td>17.591939</td>\n",
       "      <td>8</td>\n",
       "      <td>1</td>\n",
       "      <td>1</td>\n",
       "      <td>20</td>\n",
       "      <td>60</td>\n",
       "      <td>True</td>\n",
       "      <td>{'ensemble__base_estimator__address_size': 8, ...</td>\n",
       "      <td>0.808451</td>\n",
       "      <td>0.901408</td>\n",
       "      <td>0.957657</td>\n",
       "      <td>0.932624</td>\n",
       "      <td>0.908605</td>\n",
       "      <td>0.901749</td>\n",
       "      <td>0.050657</td>\n",
       "      <td>11</td>\n",
       "    </tr>\n",
       "    <tr>\n",
       "      <th>11</th>\n",
       "      <td>253.502042</td>\n",
       "      <td>7.278503</td>\n",
       "      <td>136.795392</td>\n",
       "      <td>9.531805</td>\n",
       "      <td>8</td>\n",
       "      <td>0.8</td>\n",
       "      <td>0.8</td>\n",
       "      <td>20</td>\n",
       "      <td>60</td>\n",
       "      <td>True</td>\n",
       "      <td>{'ensemble__base_estimator__address_size': 8, ...</td>\n",
       "      <td>0.808451</td>\n",
       "      <td>0.897887</td>\n",
       "      <td>0.959068</td>\n",
       "      <td>0.932624</td>\n",
       "      <td>0.910386</td>\n",
       "      <td>0.901683</td>\n",
       "      <td>0.051055</td>\n",
       "      <td>12</td>\n",
       "    </tr>\n",
       "    <tr>\n",
       "      <th>12</th>\n",
       "      <td>424.588411</td>\n",
       "      <td>42.364206</td>\n",
       "      <td>178.189689</td>\n",
       "      <td>6.752331</td>\n",
       "      <td>8</td>\n",
       "      <td>0.9</td>\n",
       "      <td>0.9</td>\n",
       "      <td>20</td>\n",
       "      <td>60</td>\n",
       "      <td>True</td>\n",
       "      <td>{'ensemble__base_estimator__address_size': 8, ...</td>\n",
       "      <td>0.806338</td>\n",
       "      <td>0.899296</td>\n",
       "      <td>0.957657</td>\n",
       "      <td>0.939007</td>\n",
       "      <td>0.905638</td>\n",
       "      <td>0.901587</td>\n",
       "      <td>0.052227</td>\n",
       "      <td>13</td>\n",
       "    </tr>\n",
       "    <tr>\n",
       "      <th>13</th>\n",
       "      <td>285.110428</td>\n",
       "      <td>6.099435</td>\n",
       "      <td>105.551805</td>\n",
       "      <td>8.367050</td>\n",
       "      <td>8</td>\n",
       "      <td>1</td>\n",
       "      <td>1</td>\n",
       "      <td>10</td>\n",
       "      <td>60</td>\n",
       "      <td>True</td>\n",
       "      <td>{'ensemble__base_estimator__address_size': 8, ...</td>\n",
       "      <td>0.804930</td>\n",
       "      <td>0.902113</td>\n",
       "      <td>0.961186</td>\n",
       "      <td>0.934043</td>\n",
       "      <td>0.905638</td>\n",
       "      <td>0.901582</td>\n",
       "      <td>0.052848</td>\n",
       "      <td>14</td>\n",
       "    </tr>\n",
       "    <tr>\n",
       "      <th>14</th>\n",
       "      <td>323.295640</td>\n",
       "      <td>9.258464</td>\n",
       "      <td>139.972532</td>\n",
       "      <td>9.257166</td>\n",
       "      <td>8</td>\n",
       "      <td>0.9</td>\n",
       "      <td>0.9</td>\n",
       "      <td>15</td>\n",
       "      <td>60</td>\n",
       "      <td>True</td>\n",
       "      <td>{'ensemble__base_estimator__address_size': 8, ...</td>\n",
       "      <td>0.810563</td>\n",
       "      <td>0.896479</td>\n",
       "      <td>0.961186</td>\n",
       "      <td>0.933333</td>\n",
       "      <td>0.906231</td>\n",
       "      <td>0.901559</td>\n",
       "      <td>0.050779</td>\n",
       "      <td>15</td>\n",
       "    </tr>\n",
       "    <tr>\n",
       "      <th>15</th>\n",
       "      <td>413.262470</td>\n",
       "      <td>53.031040</td>\n",
       "      <td>195.928351</td>\n",
       "      <td>20.131906</td>\n",
       "      <td>8</td>\n",
       "      <td>1</td>\n",
       "      <td>0.8</td>\n",
       "      <td>20</td>\n",
       "      <td>60</td>\n",
       "      <td>True</td>\n",
       "      <td>{'ensemble__base_estimator__address_size': 8, ...</td>\n",
       "      <td>0.805634</td>\n",
       "      <td>0.900000</td>\n",
       "      <td>0.959774</td>\n",
       "      <td>0.934043</td>\n",
       "      <td>0.908012</td>\n",
       "      <td>0.901492</td>\n",
       "      <td>0.052326</td>\n",
       "      <td>16</td>\n",
       "    </tr>\n",
       "    <tr>\n",
       "      <th>16</th>\n",
       "      <td>331.946599</td>\n",
       "      <td>36.192549</td>\n",
       "      <td>146.895317</td>\n",
       "      <td>13.752593</td>\n",
       "      <td>8</td>\n",
       "      <td>0.8</td>\n",
       "      <td>0.9</td>\n",
       "      <td>20</td>\n",
       "      <td>60</td>\n",
       "      <td>True</td>\n",
       "      <td>{'ensemble__base_estimator__address_size': 8, ...</td>\n",
       "      <td>0.808451</td>\n",
       "      <td>0.900704</td>\n",
       "      <td>0.954128</td>\n",
       "      <td>0.939716</td>\n",
       "      <td>0.904451</td>\n",
       "      <td>0.901490</td>\n",
       "      <td>0.050789</td>\n",
       "      <td>17</td>\n",
       "    </tr>\n",
       "    <tr>\n",
       "      <th>17</th>\n",
       "      <td>446.564314</td>\n",
       "      <td>11.093808</td>\n",
       "      <td>161.594141</td>\n",
       "      <td>14.158782</td>\n",
       "      <td>8</td>\n",
       "      <td>1</td>\n",
       "      <td>1</td>\n",
       "      <td>15</td>\n",
       "      <td>60</td>\n",
       "      <td>True</td>\n",
       "      <td>{'ensemble__base_estimator__address_size': 8, ...</td>\n",
       "      <td>0.808451</td>\n",
       "      <td>0.896479</td>\n",
       "      <td>0.958363</td>\n",
       "      <td>0.934043</td>\n",
       "      <td>0.908605</td>\n",
       "      <td>0.901188</td>\n",
       "      <td>0.051041</td>\n",
       "      <td>18</td>\n",
       "    </tr>\n",
       "    <tr>\n",
       "      <th>18</th>\n",
       "      <td>186.490035</td>\n",
       "      <td>5.652897</td>\n",
       "      <td>103.031324</td>\n",
       "      <td>8.229415</td>\n",
       "      <td>8</td>\n",
       "      <td>0.8</td>\n",
       "      <td>0.8</td>\n",
       "      <td>15</td>\n",
       "      <td>60</td>\n",
       "      <td>True</td>\n",
       "      <td>{'ensemble__base_estimator__address_size': 8, ...</td>\n",
       "      <td>0.807746</td>\n",
       "      <td>0.897887</td>\n",
       "      <td>0.955540</td>\n",
       "      <td>0.934752</td>\n",
       "      <td>0.908012</td>\n",
       "      <td>0.900787</td>\n",
       "      <td>0.050732</td>\n",
       "      <td>19</td>\n",
       "    </tr>\n",
       "    <tr>\n",
       "      <th>19</th>\n",
       "      <td>204.626434</td>\n",
       "      <td>4.131402</td>\n",
       "      <td>91.946944</td>\n",
       "      <td>6.983931</td>\n",
       "      <td>8</td>\n",
       "      <td>0.9</td>\n",
       "      <td>0.9</td>\n",
       "      <td>10</td>\n",
       "      <td>60</td>\n",
       "      <td>True</td>\n",
       "      <td>{'ensemble__base_estimator__address_size': 8, ...</td>\n",
       "      <td>0.807042</td>\n",
       "      <td>0.897183</td>\n",
       "      <td>0.956246</td>\n",
       "      <td>0.934043</td>\n",
       "      <td>0.909199</td>\n",
       "      <td>0.900742</td>\n",
       "      <td>0.051095</td>\n",
       "      <td>20</td>\n",
       "    </tr>\n",
       "    <tr>\n",
       "      <th>20</th>\n",
       "      <td>504.843224</td>\n",
       "      <td>29.594636</td>\n",
       "      <td>183.824914</td>\n",
       "      <td>23.484785</td>\n",
       "      <td>8</td>\n",
       "      <td>0.9</td>\n",
       "      <td>1</td>\n",
       "      <td>20</td>\n",
       "      <td>60</td>\n",
       "      <td>True</td>\n",
       "      <td>{'ensemble__base_estimator__address_size': 8, ...</td>\n",
       "      <td>0.806338</td>\n",
       "      <td>0.899296</td>\n",
       "      <td>0.956951</td>\n",
       "      <td>0.936879</td>\n",
       "      <td>0.903858</td>\n",
       "      <td>0.900664</td>\n",
       "      <td>0.051748</td>\n",
       "      <td>21</td>\n",
       "    </tr>\n",
       "    <tr>\n",
       "      <th>21</th>\n",
       "      <td>174.075680</td>\n",
       "      <td>4.786380</td>\n",
       "      <td>87.392272</td>\n",
       "      <td>6.128266</td>\n",
       "      <td>8</td>\n",
       "      <td>0.9</td>\n",
       "      <td>0.8</td>\n",
       "      <td>10</td>\n",
       "      <td>60</td>\n",
       "      <td>True</td>\n",
       "      <td>{'ensemble__base_estimator__address_size': 8, ...</td>\n",
       "      <td>0.811268</td>\n",
       "      <td>0.897183</td>\n",
       "      <td>0.956951</td>\n",
       "      <td>0.931915</td>\n",
       "      <td>0.905638</td>\n",
       "      <td>0.900591</td>\n",
       "      <td>0.049343</td>\n",
       "      <td>22</td>\n",
       "    </tr>\n",
       "    <tr>\n",
       "      <th>22</th>\n",
       "      <td>101.120615</td>\n",
       "      <td>5.892162</td>\n",
       "      <td>58.610538</td>\n",
       "      <td>9.425971</td>\n",
       "      <td>8</td>\n",
       "      <td>0.8</td>\n",
       "      <td>0.8</td>\n",
       "      <td>10</td>\n",
       "      <td>60</td>\n",
       "      <td>True</td>\n",
       "      <td>{'ensemble__base_estimator__address_size': 8, ...</td>\n",
       "      <td>0.803521</td>\n",
       "      <td>0.899296</td>\n",
       "      <td>0.959068</td>\n",
       "      <td>0.933333</td>\n",
       "      <td>0.907418</td>\n",
       "      <td>0.900527</td>\n",
       "      <td>0.052844</td>\n",
       "      <td>23</td>\n",
       "    </tr>\n",
       "    <tr>\n",
       "      <th>23</th>\n",
       "      <td>173.221564</td>\n",
       "      <td>7.311928</td>\n",
       "      <td>72.396322</td>\n",
       "      <td>7.490746</td>\n",
       "      <td>8</td>\n",
       "      <td>0.8</td>\n",
       "      <td>1</td>\n",
       "      <td>10</td>\n",
       "      <td>60</td>\n",
       "      <td>True</td>\n",
       "      <td>{'ensemble__base_estimator__address_size': 8, ...</td>\n",
       "      <td>0.807042</td>\n",
       "      <td>0.896479</td>\n",
       "      <td>0.960480</td>\n",
       "      <td>0.926950</td>\n",
       "      <td>0.911573</td>\n",
       "      <td>0.900505</td>\n",
       "      <td>0.051323</td>\n",
       "      <td>24</td>\n",
       "    </tr>\n",
       "    <tr>\n",
       "      <th>24</th>\n",
       "      <td>367.564003</td>\n",
       "      <td>9.598783</td>\n",
       "      <td>179.017939</td>\n",
       "      <td>13.289732</td>\n",
       "      <td>8</td>\n",
       "      <td>0.9</td>\n",
       "      <td>0.8</td>\n",
       "      <td>20</td>\n",
       "      <td>60</td>\n",
       "      <td>True</td>\n",
       "      <td>{'ensemble__base_estimator__address_size': 8, ...</td>\n",
       "      <td>0.807042</td>\n",
       "      <td>0.900000</td>\n",
       "      <td>0.956951</td>\n",
       "      <td>0.934752</td>\n",
       "      <td>0.902671</td>\n",
       "      <td>0.900283</td>\n",
       "      <td>0.051184</td>\n",
       "      <td>25</td>\n",
       "    </tr>\n",
       "    <tr>\n",
       "      <th>25</th>\n",
       "      <td>327.653787</td>\n",
       "      <td>53.779294</td>\n",
       "      <td>143.401230</td>\n",
       "      <td>15.428542</td>\n",
       "      <td>8</td>\n",
       "      <td>1</td>\n",
       "      <td>0.8</td>\n",
       "      <td>15</td>\n",
       "      <td>60</td>\n",
       "      <td>True</td>\n",
       "      <td>{'ensemble__base_estimator__address_size': 8, ...</td>\n",
       "      <td>0.807042</td>\n",
       "      <td>0.897887</td>\n",
       "      <td>0.958363</td>\n",
       "      <td>0.928369</td>\n",
       "      <td>0.906231</td>\n",
       "      <td>0.899579</td>\n",
       "      <td>0.050783</td>\n",
       "      <td>26</td>\n",
       "    </tr>\n",
       "    <tr>\n",
       "      <th>26</th>\n",
       "      <td>144.830902</td>\n",
       "      <td>1.920638</td>\n",
       "      <td>68.203997</td>\n",
       "      <td>4.950961</td>\n",
       "      <td>8</td>\n",
       "      <td>0.8</td>\n",
       "      <td>0.9</td>\n",
       "      <td>10</td>\n",
       "      <td>60</td>\n",
       "      <td>True</td>\n",
       "      <td>{'ensemble__base_estimator__address_size': 8, ...</td>\n",
       "      <td>0.804225</td>\n",
       "      <td>0.893662</td>\n",
       "      <td>0.954834</td>\n",
       "      <td>0.932624</td>\n",
       "      <td>0.909199</td>\n",
       "      <td>0.898909</td>\n",
       "      <td>0.051697</td>\n",
       "      <td>27</td>\n",
       "    </tr>\n",
       "  </tbody>\n",
       "</table>\n",
       "</div>"
      ],
      "text/plain": [
       "    mean_fit_time  std_fit_time  mean_score_time  std_score_time  \\\n",
       "0      220.618665      5.472168       105.341678       10.563803   \n",
       "1      262.201365      5.916876       106.399475       10.091802   \n",
       "2      222.922563     22.570282        87.268341       12.740411   \n",
       "3      385.864331      9.377112       144.019772       11.560433   \n",
       "4      344.957378     33.227657       145.967714       25.354244   \n",
       "5      364.126276      7.501191       143.496356       12.244413   \n",
       "6      229.251829     18.435776        96.706648       14.511416   \n",
       "7      216.061001     31.432382       103.499908       12.199534   \n",
       "8      269.805838     10.263349       133.518739        9.556536   \n",
       "9      538.057930      7.978776       214.740129       17.216271   \n",
       "10     613.046523     10.951620       218.011800       17.591939   \n",
       "11     253.502042      7.278503       136.795392        9.531805   \n",
       "12     424.588411     42.364206       178.189689        6.752331   \n",
       "13     285.110428      6.099435       105.551805        8.367050   \n",
       "14     323.295640      9.258464       139.972532        9.257166   \n",
       "15     413.262470     53.031040       195.928351       20.131906   \n",
       "16     331.946599     36.192549       146.895317       13.752593   \n",
       "17     446.564314     11.093808       161.594141       14.158782   \n",
       "18     186.490035      5.652897       103.031324        8.229415   \n",
       "19     204.626434      4.131402        91.946944        6.983931   \n",
       "20     504.843224     29.594636       183.824914       23.484785   \n",
       "21     174.075680      4.786380        87.392272        6.128266   \n",
       "22     101.120615      5.892162        58.610538        9.425971   \n",
       "23     173.221564      7.311928        72.396322        7.490746   \n",
       "24     367.564003      9.598783       179.017939       13.289732   \n",
       "25     327.653787     53.779294       143.401230       15.428542   \n",
       "26     144.830902      1.920638        68.203997        4.950961   \n",
       "\n",
       "   param_ensemble__base_estimator__address_size param_ensemble__max_features  \\\n",
       "0                                             8                          0.8   \n",
       "1                                             8                          0.8   \n",
       "2                                             8                          0.9   \n",
       "3                                             8                          0.9   \n",
       "4                                             8                            1   \n",
       "5                                             8                          0.8   \n",
       "6                                             8                            1   \n",
       "7                                             8                            1   \n",
       "8                                             8                          0.9   \n",
       "9                                             8                            1   \n",
       "10                                            8                            1   \n",
       "11                                            8                          0.8   \n",
       "12                                            8                          0.9   \n",
       "13                                            8                            1   \n",
       "14                                            8                          0.9   \n",
       "15                                            8                            1   \n",
       "16                                            8                          0.8   \n",
       "17                                            8                            1   \n",
       "18                                            8                          0.8   \n",
       "19                                            8                          0.9   \n",
       "20                                            8                          0.9   \n",
       "21                                            8                          0.9   \n",
       "22                                            8                          0.8   \n",
       "23                                            8                          0.8   \n",
       "24                                            8                          0.9   \n",
       "25                                            8                            1   \n",
       "26                                            8                          0.8   \n",
       "\n",
       "   param_ensemble__max_samples param_ensemble__n_estimators  \\\n",
       "0                          0.9                           15   \n",
       "1                            1                           15   \n",
       "2                            1                           10   \n",
       "3                            1                           15   \n",
       "4                          0.9                           15   \n",
       "5                            1                           20   \n",
       "6                          0.9                           10   \n",
       "7                          0.8                           10   \n",
       "8                          0.8                           15   \n",
       "9                          0.9                           20   \n",
       "10                           1                           20   \n",
       "11                         0.8                           20   \n",
       "12                         0.9                           20   \n",
       "13                           1                           10   \n",
       "14                         0.9                           15   \n",
       "15                         0.8                           20   \n",
       "16                         0.9                           20   \n",
       "17                           1                           15   \n",
       "18                         0.8                           15   \n",
       "19                         0.9                           10   \n",
       "20                           1                           20   \n",
       "21                         0.8                           10   \n",
       "22                         0.8                           10   \n",
       "23                           1                           10   \n",
       "24                         0.8                           20   \n",
       "25                         0.8                           15   \n",
       "26                         0.9                           10   \n",
       "\n",
       "   param_thermometer__n_bits param_thermometer__quantile_based  \\\n",
       "0                         60                              True   \n",
       "1                         60                              True   \n",
       "2                         60                              True   \n",
       "3                         60                              True   \n",
       "4                         60                              True   \n",
       "5                         60                              True   \n",
       "6                         60                              True   \n",
       "7                         60                              True   \n",
       "8                         60                              True   \n",
       "9                         60                              True   \n",
       "10                        60                              True   \n",
       "11                        60                              True   \n",
       "12                        60                              True   \n",
       "13                        60                              True   \n",
       "14                        60                              True   \n",
       "15                        60                              True   \n",
       "16                        60                              True   \n",
       "17                        60                              True   \n",
       "18                        60                              True   \n",
       "19                        60                              True   \n",
       "20                        60                              True   \n",
       "21                        60                              True   \n",
       "22                        60                              True   \n",
       "23                        60                              True   \n",
       "24                        60                              True   \n",
       "25                        60                              True   \n",
       "26                        60                              True   \n",
       "\n",
       "                                               params  split0_test_score  \\\n",
       "0   {'ensemble__base_estimator__address_size': 8, ...           0.809155   \n",
       "1   {'ensemble__base_estimator__address_size': 8, ...           0.813380   \n",
       "2   {'ensemble__base_estimator__address_size': 8, ...           0.809859   \n",
       "3   {'ensemble__base_estimator__address_size': 8, ...           0.809155   \n",
       "4   {'ensemble__base_estimator__address_size': 8, ...           0.807746   \n",
       "5   {'ensemble__base_estimator__address_size': 8, ...           0.810563   \n",
       "6   {'ensemble__base_estimator__address_size': 8, ...           0.806338   \n",
       "7   {'ensemble__base_estimator__address_size': 8, ...           0.809155   \n",
       "8   {'ensemble__base_estimator__address_size': 8, ...           0.807746   \n",
       "9   {'ensemble__base_estimator__address_size': 8, ...           0.808451   \n",
       "10  {'ensemble__base_estimator__address_size': 8, ...           0.808451   \n",
       "11  {'ensemble__base_estimator__address_size': 8, ...           0.808451   \n",
       "12  {'ensemble__base_estimator__address_size': 8, ...           0.806338   \n",
       "13  {'ensemble__base_estimator__address_size': 8, ...           0.804930   \n",
       "14  {'ensemble__base_estimator__address_size': 8, ...           0.810563   \n",
       "15  {'ensemble__base_estimator__address_size': 8, ...           0.805634   \n",
       "16  {'ensemble__base_estimator__address_size': 8, ...           0.808451   \n",
       "17  {'ensemble__base_estimator__address_size': 8, ...           0.808451   \n",
       "18  {'ensemble__base_estimator__address_size': 8, ...           0.807746   \n",
       "19  {'ensemble__base_estimator__address_size': 8, ...           0.807042   \n",
       "20  {'ensemble__base_estimator__address_size': 8, ...           0.806338   \n",
       "21  {'ensemble__base_estimator__address_size': 8, ...           0.811268   \n",
       "22  {'ensemble__base_estimator__address_size': 8, ...           0.803521   \n",
       "23  {'ensemble__base_estimator__address_size': 8, ...           0.807042   \n",
       "24  {'ensemble__base_estimator__address_size': 8, ...           0.807042   \n",
       "25  {'ensemble__base_estimator__address_size': 8, ...           0.807042   \n",
       "26  {'ensemble__base_estimator__address_size': 8, ...           0.804225   \n",
       "\n",
       "    split1_test_score  split2_test_score  split3_test_score  \\\n",
       "0            0.906338           0.959068           0.938298   \n",
       "1            0.901408           0.958363           0.937589   \n",
       "2            0.903521           0.956246           0.935461   \n",
       "3            0.900000           0.958363           0.938298   \n",
       "4            0.901408           0.956951           0.937589   \n",
       "5            0.898592           0.958363           0.936170   \n",
       "6            0.900000           0.958363           0.938298   \n",
       "7            0.900704           0.956951           0.940426   \n",
       "8            0.901408           0.956951           0.936879   \n",
       "9            0.902817           0.957657           0.931915   \n",
       "10           0.901408           0.957657           0.932624   \n",
       "11           0.897887           0.959068           0.932624   \n",
       "12           0.899296           0.957657           0.939007   \n",
       "13           0.902113           0.961186           0.934043   \n",
       "14           0.896479           0.961186           0.933333   \n",
       "15           0.900000           0.959774           0.934043   \n",
       "16           0.900704           0.954128           0.939716   \n",
       "17           0.896479           0.958363           0.934043   \n",
       "18           0.897887           0.955540           0.934752   \n",
       "19           0.897183           0.956246           0.934043   \n",
       "20           0.899296           0.956951           0.936879   \n",
       "21           0.897183           0.956951           0.931915   \n",
       "22           0.899296           0.959068           0.933333   \n",
       "23           0.896479           0.960480           0.926950   \n",
       "24           0.900000           0.956951           0.934752   \n",
       "25           0.897887           0.958363           0.928369   \n",
       "26           0.893662           0.954834           0.932624   \n",
       "\n",
       "    split4_test_score  mean_test_score  std_test_score  rank_test_score  \n",
       "0            0.908605         0.904293        0.051441                1  \n",
       "1            0.908605         0.903869        0.049645                2  \n",
       "2            0.910386         0.903095        0.050237                3  \n",
       "3            0.907418         0.902647        0.051275                4  \n",
       "4            0.909199         0.902579        0.051421                5  \n",
       "5            0.908605         0.902459        0.050516                6  \n",
       "6            0.906825         0.901965        0.052293                7  \n",
       "7            0.902077         0.901863        0.051221                8  \n",
       "8            0.906231         0.901843        0.051260                9  \n",
       "9            0.908012         0.901770        0.050558               10  \n",
       "10           0.908605         0.901749        0.050657               11  \n",
       "11           0.910386         0.901683        0.051055               12  \n",
       "12           0.905638         0.901587        0.052227               13  \n",
       "13           0.905638         0.901582        0.052848               14  \n",
       "14           0.906231         0.901559        0.050779               15  \n",
       "15           0.908012         0.901492        0.052326               16  \n",
       "16           0.904451         0.901490        0.050789               17  \n",
       "17           0.908605         0.901188        0.051041               18  \n",
       "18           0.908012         0.900787        0.050732               19  \n",
       "19           0.909199         0.900742        0.051095               20  \n",
       "20           0.903858         0.900664        0.051748               21  \n",
       "21           0.905638         0.900591        0.049343               22  \n",
       "22           0.907418         0.900527        0.052844               23  \n",
       "23           0.911573         0.900505        0.051323               24  \n",
       "24           0.902671         0.900283        0.051184               25  \n",
       "25           0.906231         0.899579        0.050783               26  \n",
       "26           0.909199         0.898909        0.051697               27  "
      ]
     },
     "execution_count": 30,
     "metadata": {},
     "output_type": "execute_result"
    }
   ],
   "source": [
    "gs_model4 = pd.DataFrame(gs_model4).sort_values('rank_test_score').reset_index(drop=True)\n",
    "\n",
    "with open('results/model4_gs_results.pickle', 'wb') as file:\n",
    "    pickle.dump(gs_model4, file)\n",
    "\n",
    "gs_model4"
   ]
  },
  {
   "cell_type": "code",
   "execution_count": null,
   "metadata": {},
   "outputs": [],
   "source": [
    "with open('results/model4_gs_results.pickle', 'rb') as file:\n",
    "    gs_model4 = pickle.load(file)"
   ]
  },
  {
   "cell_type": "code",
   "execution_count": null,
   "metadata": {},
   "outputs": [],
   "source": [
    "with open('results/model4_best_params.pickle', 'rb') as file:\n",
    "    best_params_model4 = pickle.load(file)"
   ]
  },
  {
   "cell_type": "code",
   "execution_count": 40,
   "metadata": {},
   "outputs": [
    {
     "name": "stderr",
     "output_type": "stream",
     "text": [
      "C:\\Users\\bruno.silva\\AppData\\Local\\Continuum\\anaconda3\\envs\\wisard\\lib\\site-packages\\sklearn\\utils\\validation.py:63: DataConversionWarning: A column-vector y was passed when a 1d array was expected. Please change the shape of y to (n_samples, ), for example using ravel().\n",
      "  return f(*args, **kwargs)\n",
      "[Parallel(n_jobs=1)]: Using backend SequentialBackend with 1 concurrent workers.\n",
      "[Parallel(n_jobs=1)]: Done   1 out of   1 | elapsed:  5.2min finished\n",
      "[Parallel(n_jobs=1)]: Using backend SequentialBackend with 1 concurrent workers.\n",
      "[Parallel(n_jobs=1)]: Done   1 out of   1 | elapsed:  9.0min finished\n",
      "[Parallel(n_jobs=1)]: Using backend SequentialBackend with 1 concurrent workers.\n",
      "[Parallel(n_jobs=1)]: Done   1 out of   1 | elapsed:  3.4min finished\n"
     ]
    },
    {
     "name": "stdout",
     "output_type": "stream",
     "text": [
      "Training Accuracy: 0.9974\n",
      "Test Accuracy: 0.9250\n"
     ]
    },
    {
     "data": {
      "image/png": "[encoded data removed]",
      "text/plain": [
       "<Figure size 432x288 with 2 Axes>"
      ]
     },
     "metadata": {
      "needs_background": "light"
     },
     "output_type": "display_data"
    },
    {
     "data": {
      "image/png": "[encoded data removed]",
      "text/plain": [
       "<Figure size 432x288 with 2 Axes>"
      ]
     },
     "metadata": {
      "needs_background": "light"
     },
     "output_type": "display_data"
    }
   ],
   "source": [
    "ensemble = BaggingClassifier(WisardClassifier(), n_jobs=1, verbose=1)\n",
    "    \n",
    "model4 = Pipeline([('thermometer', ThermometerEncoder()), \n",
    "                 ('ensemble', ensemble)])\n",
    "\n",
    "model4.set_params(**best_params_model4)\n",
    "\n",
    "train_and_evaluate_model(model4, train_eng, train_labels, test_eng, test_labels)"
   ]
  },
  {
   "cell_type": "code",
   "execution_count": null,
   "metadata": {},
   "outputs": [],
   "source": []
  }
 ],
 "metadata": {
  "kernelspec": {
   "display_name": "Python 3",
   "language": "python",
   "name": "python3"
  },
  "language_info": {
   "codemirror_mode": {
    "name": "ipython",
    "version": 3
   },
   "file_extension": ".py",
   "mimetype": "text/x-python",
   "name": "python",
   "nbconvert_exporter": "python",
   "pygments_lexer": "ipython3",
   "version": "3.7.9"
  }
 },
 "nbformat": 4,
 "nbformat_minor": 4
}
