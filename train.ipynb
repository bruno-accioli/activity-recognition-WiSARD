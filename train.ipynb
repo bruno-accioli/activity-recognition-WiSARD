{
 "cells": [
  {
   "cell_type": "code",
   "execution_count": 1,
   "metadata": {},
   "outputs": [],
   "source": [
    "from pathlib import Path\n",
    "\n",
    "import numpy as np\n",
    "import pandas as pd\n",
    "import seaborn as sns\n",
    "\n",
    "dataset_dir = Path('UCI HAR Dataset')"
   ]
  },
  {
   "cell_type": "markdown",
   "metadata": {},
   "source": [
    "# Loading Data"
   ]
  },
  {
   "cell_type": "markdown",
   "metadata": {},
   "source": [
    "## Total Body acceleration"
   ]
  },
  {
   "cell_type": "code",
   "execution_count": 2,
   "metadata": {},
   "outputs": [],
   "source": [
    "train_total_acc_x = pd.read_csv(dataset_dir/'train/Inertial Signals/total_acc_x_train.txt', \n",
    "                          header=None, delim_whitespace=True).values\n",
    "train_total_acc_y = pd.read_csv(dataset_dir/'train/Inertial Signals/total_acc_y_train.txt', \n",
    "                          header=None, delim_whitespace=True).values\n",
    "train_total_acc_z = pd.read_csv(dataset_dir/'train/Inertial Signals/total_acc_z_train.txt', \n",
    "                          header=None, delim_whitespace=True).values\n",
    "\n",
    "test_total_acc_x = pd.read_csv(dataset_dir/'test/Inertial Signals/total_acc_x_test.txt', \n",
    "                          header=None, delim_whitespace=True).values\n",
    "test_total_acc_y = pd.read_csv(dataset_dir/'test/Inertial Signals/total_acc_y_test.txt', \n",
    "                          header=None, delim_whitespace=True).values\n",
    "test_total_acc_z = pd.read_csv(dataset_dir/'test/Inertial Signals/total_acc_z_test.txt', \n",
    "                          header=None, delim_whitespace=True).values"
   ]
  },
  {
   "cell_type": "code",
   "execution_count": 3,
   "metadata": {},
   "outputs": [
    {
     "data": {
      "text/plain": [
       "(7352, 128)"
      ]
     },
     "execution_count": 3,
     "metadata": {},
     "output_type": "execute_result"
    }
   ],
   "source": [
    "train_total_acc_x.shape"
   ]
  },
  {
   "cell_type": "code",
   "execution_count": 4,
   "metadata": {},
   "outputs": [
    {
     "data": {
      "text/plain": [
       "(2947, 128)"
      ]
     },
     "execution_count": 4,
     "metadata": {},
     "output_type": "execute_result"
    }
   ],
   "source": [
    "test_total_acc_x.shape"
   ]
  },
  {
   "cell_type": "markdown",
   "metadata": {},
   "source": [
    "## Estimated Body acceleration"
   ]
  },
  {
   "cell_type": "code",
   "execution_count": 5,
   "metadata": {},
   "outputs": [],
   "source": [
    "train_body_acc_x = pd.read_csv(dataset_dir/'train/Inertial Signals/body_acc_x_train.txt', \n",
    "                          header=None, delim_whitespace=True).values\n",
    "train_body_acc_y = pd.read_csv(dataset_dir/'train/Inertial Signals/body_acc_y_train.txt', \n",
    "                          header=None, delim_whitespace=True).values\n",
    "train_body_acc_z = pd.read_csv(dataset_dir/'train/Inertial Signals/body_acc_z_train.txt', \n",
    "                          header=None, delim_whitespace=True).values\n",
    "\n",
    "test_body_acc_x = pd.read_csv(dataset_dir/'test/Inertial Signals/body_acc_x_test.txt', \n",
    "                          header=None, delim_whitespace=True).values\n",
    "test_body_acc_y = pd.read_csv(dataset_dir/'test/Inertial Signals/body_acc_y_test.txt', \n",
    "                          header=None, delim_whitespace=True).values\n",
    "test_body_acc_z = pd.read_csv(dataset_dir/'test/Inertial Signals/body_acc_z_test.txt', \n",
    "                          header=None, delim_whitespace=True).values"
   ]
  },
  {
   "cell_type": "code",
   "execution_count": 6,
   "metadata": {},
   "outputs": [
    {
     "data": {
      "text/plain": [
       "(7352, 128)"
      ]
     },
     "execution_count": 6,
     "metadata": {},
     "output_type": "execute_result"
    }
   ],
   "source": [
    "train_body_acc_x.shape"
   ]
  },
  {
   "cell_type": "code",
   "execution_count": 7,
   "metadata": {},
   "outputs": [
    {
     "data": {
      "text/plain": [
       "(2947, 128)"
      ]
     },
     "execution_count": 7,
     "metadata": {},
     "output_type": "execute_result"
    }
   ],
   "source": [
    "test_body_acc_x.shape"
   ]
  },
  {
   "cell_type": "markdown",
   "metadata": {},
   "source": [
    "## Triaxial Angular velocity from the gyroscope"
   ]
  },
  {
   "cell_type": "code",
   "execution_count": 8,
   "metadata": {},
   "outputs": [],
   "source": [
    "train_gyro_x = pd.read_csv(dataset_dir/'train/Inertial Signals/body_gyro_x_train.txt', \n",
    "                          header=None, delim_whitespace=True).values\n",
    "train_gyro_y = pd.read_csv(dataset_dir/'train/Inertial Signals/body_gyro_y_train.txt', \n",
    "                          header=None, delim_whitespace=True).values\n",
    "train_gyro_z = pd.read_csv(dataset_dir/'train/Inertial Signals/body_gyro_z_train.txt', \n",
    "                          header=None, delim_whitespace=True).values\n",
    "\n",
    "test_gyro_x = pd.read_csv(dataset_dir/'test/Inertial Signals/body_gyro_x_test.txt', \n",
    "                          header=None, delim_whitespace=True).values\n",
    "test_gyro_y = pd.read_csv(dataset_dir/'test/Inertial Signals/body_gyro_y_test.txt', \n",
    "                          header=None, delim_whitespace=True).values\n",
    "test_gyro_z = pd.read_csv(dataset_dir/'test/Inertial Signals/body_gyro_z_test.txt', \n",
    "                          header=None, delim_whitespace=True).values"
   ]
  },
  {
   "cell_type": "code",
   "execution_count": 9,
   "metadata": {},
   "outputs": [
    {
     "data": {
      "text/plain": [
       "(7352, 128)"
      ]
     },
     "execution_count": 9,
     "metadata": {},
     "output_type": "execute_result"
    }
   ],
   "source": [
    "train_gyro_x.shape"
   ]
  },
  {
   "cell_type": "code",
   "execution_count": 10,
   "metadata": {},
   "outputs": [
    {
     "data": {
      "text/plain": [
       "(2947, 128)"
      ]
     },
     "execution_count": 10,
     "metadata": {},
     "output_type": "execute_result"
    }
   ],
   "source": [
    "test_gyro_x.shape"
   ]
  },
  {
   "cell_type": "markdown",
   "metadata": {},
   "source": [
    "## Engineered features"
   ]
  },
  {
   "cell_type": "code",
   "execution_count": 11,
   "metadata": {},
   "outputs": [],
   "source": [
    "train_eng = pd.read_csv(dataset_dir/'train/X_train.txt', \n",
    "                        header=None, delim_whitespace=True).values\n",
    "\n",
    "test_eng = pd.read_csv(dataset_dir/'test/X_test.txt', \n",
    "                       header=None, delim_whitespace=True).values"
   ]
  },
  {
   "cell_type": "code",
   "execution_count": 12,
   "metadata": {},
   "outputs": [
    {
     "data": {
      "text/plain": [
       "(7352, 561)"
      ]
     },
     "execution_count": 12,
     "metadata": {},
     "output_type": "execute_result"
    }
   ],
   "source": [
    "train_eng.shape"
   ]
  },
  {
   "cell_type": "code",
   "execution_count": 13,
   "metadata": {},
   "outputs": [
    {
     "data": {
      "text/plain": [
       "(2947, 561)"
      ]
     },
     "execution_count": 13,
     "metadata": {},
     "output_type": "execute_result"
    }
   ],
   "source": [
    "test_eng.shape"
   ]
  },
  {
   "cell_type": "markdown",
   "metadata": {},
   "source": [
    "## Subjects"
   ]
  },
  {
   "cell_type": "code",
   "execution_count": 14,
   "metadata": {},
   "outputs": [
    {
     "data": {
      "text/plain": [
       "(7352, 1)"
      ]
     },
     "execution_count": 14,
     "metadata": {},
     "output_type": "execute_result"
    }
   ],
   "source": [
    "train_subjects = pd.read_csv(dataset_dir/'train/subject_train.txt', delim_whitespace=True, header=None).values\n",
    "\n",
    "train_subjects.shape"
   ]
  },
  {
   "cell_type": "code",
   "execution_count": 15,
   "metadata": {},
   "outputs": [
    {
     "data": {
      "text/plain": [
       "(2947, 1)"
      ]
     },
     "execution_count": 15,
     "metadata": {},
     "output_type": "execute_result"
    }
   ],
   "source": [
    "test_subjects = pd.read_csv(dataset_dir/'test/subject_test.txt', delim_whitespace=True, header=None).values\n",
    "\n",
    "test_subjects.shape"
   ]
  },
  {
   "cell_type": "markdown",
   "metadata": {},
   "source": [
    "## Labels\n",
    "\n",
    "There are 6 types os activites to be recognized in the dataset:\n",
    "\n",
    "1. WALKING\n",
    "2. WALKING_UPSTAIRS\n",
    "3. WALKING_DOWNSTAIRS\n",
    "4. SITTING\n",
    "5. STANDING\n",
    "6. LAYING"
   ]
  },
  {
   "cell_type": "code",
   "execution_count": 16,
   "metadata": {},
   "outputs": [
    {
     "data": {
      "text/plain": [
       "(7352, 1)"
      ]
     },
     "execution_count": 16,
     "metadata": {},
     "output_type": "execute_result"
    }
   ],
   "source": [
    "train_labels = pd.read_csv(dataset_dir/'train/y_train.txt', delim_whitespace=True, header=None).values\n",
    "\n",
    "train_labels.shape"
   ]
  },
  {
   "cell_type": "code",
   "execution_count": 17,
   "metadata": {},
   "outputs": [
    {
     "data": {
      "text/plain": [
       "(2947, 1)"
      ]
     },
     "execution_count": 17,
     "metadata": {},
     "output_type": "execute_result"
    }
   ],
   "source": [
    "test_labels = pd.read_csv(dataset_dir/'test/y_test.txt', delim_whitespace=True, header=None).values\n",
    "\n",
    "test_labels.shape"
   ]
  },
  {
   "cell_type": "markdown",
   "metadata": {},
   "source": [
    "# 2. Data transformation\n",
    "\n",
    "The sampled signals will be transformed to a 2D matrix where each column represents a different feature and each row represents the subsequent timestep value of each feature. So, the final array will have indexes representing [sample, timestep, feature]."
   ]
  },
  {
   "cell_type": "code",
   "execution_count": 18,
   "metadata": {},
   "outputs": [],
   "source": [
    "def group_signals(signals_list):\n",
    "    signals_set = list()\n",
    "    for signal in signals_list:\n",
    "        signals_set.append(signal)\n",
    "    signals_set = np.dstack(signals_set)\n",
    "    return signals_set"
   ]
  },
  {
   "cell_type": "code",
   "execution_count": 19,
   "metadata": {},
   "outputs": [
    {
     "data": {
      "text/plain": [
       "(7352, 128, 9)"
      ]
     },
     "execution_count": 19,
     "metadata": {},
     "output_type": "execute_result"
    }
   ],
   "source": [
    "train_signals = [train_total_acc_x, train_total_acc_y, train_total_acc_z,\n",
    "                 train_body_acc_x, train_body_acc_y, train_body_acc_z,\n",
    "                 train_gyro_x, train_gyro_y, train_gyro_z]\n",
    "\n",
    "train_set_signals = group_signals(train_signals)\n",
    "train_set_signals.shape"
   ]
  },
  {
   "cell_type": "code",
   "execution_count": 20,
   "metadata": {},
   "outputs": [
    {
     "data": {
      "text/plain": [
       "(2947, 128, 9)"
      ]
     },
     "execution_count": 20,
     "metadata": {},
     "output_type": "execute_result"
    }
   ],
   "source": [
    "test_signals = [test_total_acc_x, test_total_acc_y, test_total_acc_z,\n",
    "                 test_body_acc_x, test_body_acc_y, test_body_acc_z,\n",
    "                 test_gyro_x, test_gyro_y, test_gyro_z]\n",
    "test_set_signals = group_signals(test_signals)\n",
    "test_set_signals.shape"
   ]
  },
  {
   "cell_type": "markdown",
   "metadata": {},
   "source": [
    "# 3. Model training"
   ]
  },
  {
   "cell_type": "markdown",
   "metadata": {},
   "source": [
    "## 3.1. Model 1: WiSARD\n",
    "\n",
    "This model uses Thermometer encoding and the enginnered features to make the prediction."
   ]
  },
  {
   "cell_type": "code",
   "execution_count": 21,
   "metadata": {},
   "outputs": [
    {
     "ename": "ModuleNotFoundError",
     "evalue": "No module named 'sklearn'",
     "output_type": "error",
     "traceback": [
      "\u001b[1;31m---------------------------------------------------------------------------\u001b[0m",
      "\u001b[1;31mModuleNotFoundError\u001b[0m                       Traceback (most recent call last)",
      "\u001b[1;32m<ipython-input-21-751c8de10579>\u001b[0m in \u001b[0;36m<module>\u001b[1;34m\u001b[0m\n\u001b[1;32m----> 1\u001b[1;33m \u001b[1;32mfrom\u001b[0m \u001b[0mthermometer_encoder\u001b[0m \u001b[1;32mimport\u001b[0m \u001b[0mThermometerEncoder\u001b[0m\u001b[1;33m\u001b[0m\u001b[1;33m\u001b[0m\u001b[0m\n\u001b[0m\u001b[0;32m      2\u001b[0m \u001b[1;32mimport\u001b[0m \u001b[0mwisardpkg\u001b[0m \u001b[1;32mas\u001b[0m \u001b[0mwp\u001b[0m\u001b[1;33m\u001b[0m\u001b[1;33m\u001b[0m\u001b[0m\n\u001b[0;32m      3\u001b[0m \u001b[1;32mfrom\u001b[0m \u001b[0mtime\u001b[0m \u001b[1;32mimport\u001b[0m \u001b[0mtime\u001b[0m\u001b[1;33m\u001b[0m\u001b[1;33m\u001b[0m\u001b[0m\n\u001b[0;32m      4\u001b[0m \u001b[1;32mfrom\u001b[0m \u001b[0msklearn\u001b[0m\u001b[1;33m.\u001b[0m\u001b[0mmetrics\u001b[0m \u001b[1;32mimport\u001b[0m \u001b[0maccuracy_score\u001b[0m\u001b[1;33m\u001b[0m\u001b[1;33m\u001b[0m\u001b[0m\n\u001b[0;32m      5\u001b[0m \u001b[1;32mfrom\u001b[0m \u001b[0msklearn\u001b[0m\u001b[1;33m.\u001b[0m\u001b[0mmodel_selection\u001b[0m \u001b[1;32mimport\u001b[0m \u001b[0mStratifiedKFold\u001b[0m\u001b[1;33m\u001b[0m\u001b[1;33m\u001b[0m\u001b[0m\n",
      "\u001b[1;32m~\\Desktop\\activity-recognition-WiSARD\\thermometer_encoder.py\u001b[0m in \u001b[0;36m<module>\u001b[1;34m\u001b[0m\n\u001b[1;32m----> 1\u001b[1;33m \u001b[1;32mfrom\u001b[0m \u001b[0msklearn\u001b[0m\u001b[1;33m.\u001b[0m\u001b[0mbase\u001b[0m \u001b[1;32mimport\u001b[0m \u001b[0mBaseEstimator\u001b[0m\u001b[1;33m,\u001b[0m \u001b[0mTransformerMixin\u001b[0m\u001b[1;33m\u001b[0m\u001b[1;33m\u001b[0m\u001b[0m\n\u001b[0m\u001b[0;32m      2\u001b[0m \u001b[1;32mfrom\u001b[0m \u001b[0mtyping\u001b[0m \u001b[1;32mimport\u001b[0m \u001b[0mList\u001b[0m\u001b[1;33m,\u001b[0m \u001b[0mOptional\u001b[0m\u001b[1;33m,\u001b[0m \u001b[0mUnion\u001b[0m\u001b[1;33m\u001b[0m\u001b[1;33m\u001b[0m\u001b[0m\n\u001b[0;32m      3\u001b[0m \u001b[1;32mimport\u001b[0m \u001b[0mnumpy\u001b[0m \u001b[1;32mas\u001b[0m \u001b[0mnp\u001b[0m\u001b[1;33m\u001b[0m\u001b[1;33m\u001b[0m\u001b[0m\n\u001b[0;32m      4\u001b[0m \u001b[1;33m\u001b[0m\u001b[0m\n\u001b[0;32m      5\u001b[0m \u001b[1;32mclass\u001b[0m \u001b[0mThermometerEncoder\u001b[0m\u001b[1;33m(\u001b[0m\u001b[0mBaseEstimator\u001b[0m\u001b[1;33m,\u001b[0m \u001b[0mTransformerMixin\u001b[0m\u001b[1;33m)\u001b[0m\u001b[1;33m:\u001b[0m\u001b[1;33m\u001b[0m\u001b[1;33m\u001b[0m\u001b[0m\n",
      "\u001b[1;31mModuleNotFoundError\u001b[0m: No module named 'sklearn'"
     ]
    }
   ],
   "source": [
    "from thermometer_encoder import ThermometerEncoder\n",
    "import wisardpkg as wp\n",
    "from time import time\n",
    "from sklearn.metrics import accuracy_score\n",
    "from sklearn.model_selection import StratifiedKFold\n",
    "from sklearn.model_selection import ParameterGrid\n",
    "from tqdm import tqdm\n",
    "import pickle\n",
    "\n",
    "def cross_validation_model1(X, y, n_splits=5, addressSize=[50], thermometer_size=[5], bleachingActivated=[True], \n",
    "                            thermometer_columns=None):\n",
    "    grid_search_results = []\n",
    "    best_params = None\n",
    "    best_accuracy = -1\n",
    "    \n",
    "    if not thermometer_columns:\n",
    "        thermometer_columns = list(range(X.shape[1]))\n",
    "    \n",
    "    param_grid_dict = dict()\n",
    "    param_grid_dict['thermometer_size'] = thermometer_size\n",
    "    param_grid_dict['addressSize'] = addressSize\n",
    "    param_grid_dict['bleachingActivated'] = bleachingActivated\n",
    "    \n",
    "    skf = StratifiedKFold(n_splits=n_splits)\n",
    "    \n",
    "    param_grid = ParameterGrid(param_grid_dict)\n",
    "    \n",
    "    param_grid_combinations = len(list(param_grid))\n",
    "    n_combs = n_splits * param_grid_combinations\n",
    "    progress = tqdm(total=n_combs, position=0, leave=True)\n",
    "    \n",
    "    for params in param_grid:\n",
    "        print(params)\n",
    "        training_time = []\n",
    "        training_prediction_time = []\n",
    "        validation_prediction_time = []\n",
    "        thermometer_time = []\n",
    "        training_accuracy = []\n",
    "        validation_accuracy = []\n",
    "        for train_index, val_index in skf.split(X, y):\n",
    "            X_train = X[train_index, :]\n",
    "            y_train = y[train_index]\n",
    "            y_train_str = [str(l) for l in y_train]\n",
    "            \n",
    "            X_val = X[val_index, :]\n",
    "            y_val = y[val_index]\n",
    "            y_val_str = [str(l) for l in y_val]\n",
    "            \n",
    "            model = wp.Wisard(params['addressSize'], bleachingActivated=params['bleachingActivated'])\n",
    "            thermometer = ThermometerEncoder(thermometer_columns, n_bits=params['thermometer_size'])\n",
    "            \n",
    "            start = time()\n",
    "            X_train = thermometer.fit_transform(X_train).astype(int).tolist()\n",
    "            X_val = thermometer.transform(X_val).astype(int).tolist()\n",
    "            end = time()\n",
    "            thermometer_time.append(end-start)\n",
    "            \n",
    "            start = time()\n",
    "            model.train(X_train, y_train_str)\n",
    "            end = time()\n",
    "            training_time.append(end-start)\n",
    "            \n",
    "            start = time()\n",
    "            pred_train = model.classify(X_train)\n",
    "            end = time()\n",
    "            training_prediction_time.append(end-start)\n",
    "            \n",
    "            start = time()\n",
    "            pred_val = model.classify(X_val)\n",
    "            end = time()\n",
    "            validation_prediction_time.append(end-start)\n",
    "            \n",
    "            training_accuracy.append(accuracy_score(y_train_str, pred_train))\n",
    "            \n",
    "            validation_accuracy.append(accuracy_score(y_val_str, pred_val))\n",
    "            \n",
    "            progress.update()\n",
    "        \n",
    "        cv_result = {'training_time_mean': np.mean(training_time),\n",
    "                     'training_time_std': np.std(training_time),\n",
    "                     'training_prediction_time_mean': np.mean(training_prediction_time),\n",
    "                     'training_prediction_time_std': np.std(training_prediction_time),\n",
    "                     'validation_prediction_time_mean': np.mean(validation_prediction_time),\n",
    "                     'validation_prediction_time_std': np.std(validation_prediction_time),\n",
    "                     'thermometer_time_mean': np.mean(thermometer_time),\n",
    "                     'thermometer_time_std': np.std(thermometer_time),\n",
    "                     'training_accuracy_mean': np.mean(training_accuracy),\n",
    "                     'training_accuracy_std': np.std(training_accuracy),\n",
    "                     'validation_accuracy_mean': np.mean(validation_accuracy),\n",
    "                     'validation_accuracy_std': np.std(validation_accuracy)}\n",
    "        \n",
    "        cv_result = {**params, **cv_result}\n",
    "        \n",
    "        grid_search_results.append(cv_result)\n",
    "        \n",
    "        if (cv_result['validation_accuracy_mean'] > best_accuracy):\n",
    "            best_accuracy = cv_result['validation_accuracy_mean']\n",
    "            best_params = params\n",
    "        \n",
    "        print(f\"Train acc. mean: {cv_result['training_accuracy_mean']:.4f} | Validation acc. mean: {cv_result['validation_accuracy_mean']:.4f}\\n\")\n",
    "    \n",
    "    grid_search_results = pd.DataFrame(grid_search_results)\n",
    "    grid_search_results['rank'] = grid_search_results['validation_accuracy_mean'].rank(ascending=False)\n",
    "    \n",
    "    return grid_search_results, best_params"
   ]
  },
  {
   "cell_type": "code",
   "execution_count": 31,
   "metadata": {
    "scrolled": true
   },
   "outputs": [
    {
     "name": "stderr",
     "output_type": "stream",
     "text": [
      "  0%|          | 0/600 [00:00<?, ?it/s]"
     ]
    },
    {
     "name": "stdout",
     "output_type": "stream",
     "text": [
      "{'addressSize': 10, 'bleachingActivated': True, 'thermometer_size': 4}\n"
     ]
    },
    {
     "name": "stderr",
     "output_type": "stream",
     "text": [
      "  0%|          | 0/600 [03:52<?, ?it/s]32.55s/it]\n",
      "  1%|          | 5/600 [02:43<5:28:07, 33.09s/it]"
     ]
    },
    {
     "name": "stdout",
     "output_type": "stream",
     "text": [
      "Train acc. mean: 0.9194 | Validation acc. mean: 0.7961\n",
      "\n",
      "{'addressSize': 10, 'bleachingActivated': True, 'thermometer_size': 5}\n"
     ]
    },
    {
     "name": "stderr",
     "output_type": "stream",
     "text": [
      "  2%|▏         | 10/600 [05:38<5:16:43, 32.21s/it]"
     ]
    },
    {
     "name": "stdout",
     "output_type": "stream",
     "text": [
      "Train acc. mean: 0.9343 | Validation acc. mean: 0.8152\n",
      "\n",
      "{'addressSize': 10, 'bleachingActivated': True, 'thermometer_size': 6}\n"
     ]
    },
    {
     "name": "stderr",
     "output_type": "stream",
     "text": [
      "  2%|▎         | 15/600 [08:14<4:57:59, 30.56s/it]"
     ]
    },
    {
     "name": "stdout",
     "output_type": "stream",
     "text": [
      "Train acc. mean: 0.9328 | Validation acc. mean: 0.8045\n",
      "\n",
      "{'addressSize': 10, 'bleachingActivated': True, 'thermometer_size': 7}\n"
     ]
    },
    {
     "name": "stderr",
     "output_type": "stream",
     "text": [
      "  3%|▎         | 20/600 [11:02<5:21:40, 33.28s/it]"
     ]
    },
    {
     "name": "stdout",
     "output_type": "stream",
     "text": [
      "Train acc. mean: 0.9432 | Validation acc. mean: 0.8225\n",
      "\n",
      "{'addressSize': 10, 'bleachingActivated': True, 'thermometer_size': 8}\n"
     ]
    },
    {
     "name": "stderr",
     "output_type": "stream",
     "text": [
      "  4%|▍         | 25/600 [15:00<7:12:44, 45.15s/it]"
     ]
    },
    {
     "name": "stdout",
     "output_type": "stream",
     "text": [
      "Train acc. mean: 0.9451 | Validation acc. mean: 0.8254\n",
      "\n",
      "{'addressSize': 10, 'bleachingActivated': True, 'thermometer_size': 9}\n"
     ]
    },
    {
     "name": "stderr",
     "output_type": "stream",
     "text": [
      "  5%|▌         | 30/600 [18:46<6:58:14, 44.02s/it]"
     ]
    },
    {
     "name": "stdout",
     "output_type": "stream",
     "text": [
      "Train acc. mean: 0.9549 | Validation acc. mean: 0.8339\n",
      "\n",
      "{'addressSize': 10, 'bleachingActivated': True, 'thermometer_size': 10}\n"
     ]
    },
    {
     "name": "stderr",
     "output_type": "stream",
     "text": [
      "  6%|▌         | 35/600 [22:43<7:25:40, 47.33s/it]"
     ]
    },
    {
     "name": "stdout",
     "output_type": "stream",
     "text": [
      "Train acc. mean: 0.9563 | Validation acc. mean: 0.8343\n",
      "\n",
      "{'addressSize': 10, 'bleachingActivated': True, 'thermometer_size': 11}\n"
     ]
    },
    {
     "name": "stderr",
     "output_type": "stream",
     "text": [
      "  7%|▋         | 40/600 [27:00<7:53:12, 50.70s/it]"
     ]
    },
    {
     "name": "stdout",
     "output_type": "stream",
     "text": [
      "Train acc. mean: 0.9531 | Validation acc. mean: 0.8341\n",
      "\n",
      "{'addressSize': 10, 'bleachingActivated': True, 'thermometer_size': 12}\n"
     ]
    },
    {
     "name": "stderr",
     "output_type": "stream",
     "text": [
      "  8%|▊         | 45/600 [31:36<8:24:38, 54.56s/it]"
     ]
    },
    {
     "name": "stdout",
     "output_type": "stream",
     "text": [
      "Train acc. mean: 0.9542 | Validation acc. mean: 0.8368\n",
      "\n",
      "{'addressSize': 10, 'bleachingActivated': True, 'thermometer_size': 13}\n"
     ]
    },
    {
     "name": "stderr",
     "output_type": "stream",
     "text": [
      "  8%|▊         | 50/600 [36:46<9:12:05, 60.23s/it]"
     ]
    },
    {
     "name": "stdout",
     "output_type": "stream",
     "text": [
      "Train acc. mean: 0.9595 | Validation acc. mean: 0.8339\n",
      "\n",
      "{'addressSize': 10, 'bleachingActivated': True, 'thermometer_size': 14}\n"
     ]
    },
    {
     "name": "stderr",
     "output_type": "stream",
     "text": [
      "  9%|▉         | 55/600 [42:12<9:44:39, 64.37s/it]"
     ]
    },
    {
     "name": "stdout",
     "output_type": "stream",
     "text": [
      "Train acc. mean: 0.9665 | Validation acc. mean: 0.8406\n",
      "\n",
      "{'addressSize': 10, 'bleachingActivated': True, 'thermometer_size': 15}\n"
     ]
    },
    {
     "name": "stderr",
     "output_type": "stream",
     "text": [
      " 10%|█         | 60/600 [48:07<10:22:14, 69.14s/it]"
     ]
    },
    {
     "name": "stdout",
     "output_type": "stream",
     "text": [
      "Train acc. mean: 0.9629 | Validation acc. mean: 0.8385\n",
      "\n",
      "{'addressSize': 10, 'bleachingActivated': False, 'thermometer_size': 4}\n"
     ]
    },
    {
     "name": "stderr",
     "output_type": "stream",
     "text": [
      " 11%|█         | 65/600 [49:39<4:01:09, 27.05s/it] "
     ]
    },
    {
     "name": "stdout",
     "output_type": "stream",
     "text": [
      "Train acc. mean: 0.8792 | Validation acc. mean: 0.7754\n",
      "\n",
      "{'addressSize': 10, 'bleachingActivated': False, 'thermometer_size': 5}\n"
     ]
    },
    {
     "name": "stderr",
     "output_type": "stream",
     "text": [
      " 12%|█▏        | 70/600 [51:35<3:29:51, 23.76s/it]"
     ]
    },
    {
     "name": "stdout",
     "output_type": "stream",
     "text": [
      "Train acc. mean: 0.9104 | Validation acc. mean: 0.8013\n",
      "\n",
      "{'addressSize': 10, 'bleachingActivated': False, 'thermometer_size': 6}\n"
     ]
    },
    {
     "name": "stderr",
     "output_type": "stream",
     "text": [
      " 12%|█▎        | 75/600 [53:57<3:59:50, 27.41s/it]"
     ]
    },
    {
     "name": "stdout",
     "output_type": "stream",
     "text": [
      "Train acc. mean: 0.9226 | Validation acc. mean: 0.8078\n",
      "\n",
      "{'addressSize': 10, 'bleachingActivated': False, 'thermometer_size': 7}\n"
     ]
    },
    {
     "name": "stderr",
     "output_type": "stream",
     "text": [
      " 13%|█▎        | 80/600 [56:39<4:33:31, 31.56s/it]"
     ]
    },
    {
     "name": "stdout",
     "output_type": "stream",
     "text": [
      "Train acc. mean: 0.9349 | Validation acc. mean: 0.8290\n",
      "\n",
      "{'addressSize': 10, 'bleachingActivated': False, 'thermometer_size': 8}\n"
     ]
    },
    {
     "name": "stderr",
     "output_type": "stream",
     "text": [
      " 14%|█▍        | 85/600 [59:40<5:03:42, 35.38s/it]"
     ]
    },
    {
     "name": "stdout",
     "output_type": "stream",
     "text": [
      "Train acc. mean: 0.9348 | Validation acc. mean: 0.8092\n",
      "\n",
      "{'addressSize': 10, 'bleachingActivated': False, 'thermometer_size': 9}\n"
     ]
    },
    {
     "name": "stderr",
     "output_type": "stream",
     "text": [
      " 15%|█▌        | 90/600 [1:03:13<5:54:41, 41.73s/it]"
     ]
    },
    {
     "name": "stdout",
     "output_type": "stream",
     "text": [
      "Train acc. mean: 0.9393 | Validation acc. mean: 0.8225\n",
      "\n",
      "{'addressSize': 10, 'bleachingActivated': False, 'thermometer_size': 10}\n"
     ]
    },
    {
     "name": "stderr",
     "output_type": "stream",
     "text": [
      " 16%|█▌        | 95/600 [1:07:02<6:20:57, 45.26s/it]"
     ]
    },
    {
     "name": "stdout",
     "output_type": "stream",
     "text": [
      "Train acc. mean: 0.9443 | Validation acc. mean: 0.8292\n",
      "\n",
      "{'addressSize': 10, 'bleachingActivated': False, 'thermometer_size': 11}\n"
     ]
    },
    {
     "name": "stderr",
     "output_type": "stream",
     "text": [
      " 17%|█▋        | 100/600 [1:11:18<6:59:45, 50.37s/it]"
     ]
    },
    {
     "name": "stdout",
     "output_type": "stream",
     "text": [
      "Train acc. mean: 0.9460 | Validation acc. mean: 0.8385\n",
      "\n",
      "{'addressSize': 10, 'bleachingActivated': False, 'thermometer_size': 12}\n"
     ]
    },
    {
     "name": "stderr",
     "output_type": "stream",
     "text": [
      " 18%|█▊        | 105/600 [1:16:07<7:39:16, 55.67s/it]"
     ]
    },
    {
     "name": "stdout",
     "output_type": "stream",
     "text": [
      "Train acc. mean: 0.9502 | Validation acc. mean: 0.8305\n",
      "\n",
      "{'addressSize': 10, 'bleachingActivated': False, 'thermometer_size': 13}\n"
     ]
    },
    {
     "name": "stderr",
     "output_type": "stream",
     "text": [
      " 18%|█▊        | 110/600 [1:21:08<8:05:48, 59.49s/it]"
     ]
    },
    {
     "name": "stdout",
     "output_type": "stream",
     "text": [
      "Train acc. mean: 0.9541 | Validation acc. mean: 0.8388\n",
      "\n",
      "{'addressSize': 10, 'bleachingActivated': False, 'thermometer_size': 14}\n"
     ]
    },
    {
     "name": "stderr",
     "output_type": "stream",
     "text": [
      " 19%|█▉        | 115/600 [1:26:33<8:36:14, 63.86s/it]"
     ]
    },
    {
     "name": "stdout",
     "output_type": "stream",
     "text": [
      "Train acc. mean: 0.9560 | Validation acc. mean: 0.8407\n",
      "\n",
      "{'addressSize': 10, 'bleachingActivated': False, 'thermometer_size': 15}\n"
     ]
    },
    {
     "name": "stderr",
     "output_type": "stream",
     "text": [
      " 20%|██        | 120/600 [1:32:18<9:05:43, 68.22s/it]"
     ]
    },
    {
     "name": "stdout",
     "output_type": "stream",
     "text": [
      "Train acc. mean: 0.9592 | Validation acc. mean: 0.8396\n",
      "\n",
      "{'addressSize': 20, 'bleachingActivated': True, 'thermometer_size': 4}\n"
     ]
    },
    {
     "name": "stderr",
     "output_type": "stream",
     "text": [
      " 21%|██        | 125/600 [1:33:52<3:30:54, 26.64s/it]"
     ]
    },
    {
     "name": "stdout",
     "output_type": "stream",
     "text": [
      "Train acc. mean: 0.9520 | Validation acc. mean: 0.8180\n",
      "\n",
      "{'addressSize': 20, 'bleachingActivated': True, 'thermometer_size': 5}\n"
     ]
    },
    {
     "name": "stderr",
     "output_type": "stream",
     "text": [
      " 22%|██▏       | 130/600 [1:35:46<3:03:52, 23.47s/it]"
     ]
    },
    {
     "name": "stdout",
     "output_type": "stream",
     "text": [
      "Train acc. mean: 0.9603 | Validation acc. mean: 0.8334\n",
      "\n",
      "{'addressSize': 20, 'bleachingActivated': True, 'thermometer_size': 6}\n"
     ]
    },
    {
     "name": "stderr",
     "output_type": "stream",
     "text": [
      " 22%|██▎       | 135/600 [1:38:01<3:24:37, 26.40s/it]"
     ]
    },
    {
     "name": "stdout",
     "output_type": "stream",
     "text": [
      "Train acc. mean: 0.9595 | Validation acc. mean: 0.8298\n",
      "\n",
      "{'addressSize': 20, 'bleachingActivated': True, 'thermometer_size': 7}\n"
     ]
    },
    {
     "name": "stderr",
     "output_type": "stream",
     "text": [
      " 23%|██▎       | 140/600 [1:40:40<3:57:56, 31.04s/it]"
     ]
    },
    {
     "name": "stdout",
     "output_type": "stream",
     "text": [
      "Train acc. mean: 0.9645 | Validation acc. mean: 0.8440\n",
      "\n",
      "{'addressSize': 20, 'bleachingActivated': True, 'thermometer_size': 8}\n"
     ]
    },
    {
     "name": "stderr",
     "output_type": "stream",
     "text": [
      " 24%|██▍       | 145/600 [1:43:45<4:33:24, 36.05s/it]"
     ]
    },
    {
     "name": "stdout",
     "output_type": "stream",
     "text": [
      "Train acc. mean: 0.9702 | Validation acc. mean: 0.8451\n",
      "\n",
      "{'addressSize': 20, 'bleachingActivated': True, 'thermometer_size': 9}\n"
     ]
    },
    {
     "name": "stderr",
     "output_type": "stream",
     "text": [
      " 25%|██▌       | 150/600 [1:47:09<5:00:10, 40.02s/it]"
     ]
    },
    {
     "name": "stdout",
     "output_type": "stream",
     "text": [
      "Train acc. mean: 0.9714 | Validation acc. mean: 0.8554\n",
      "\n",
      "{'addressSize': 20, 'bleachingActivated': True, 'thermometer_size': 10}\n"
     ]
    },
    {
     "name": "stderr",
     "output_type": "stream",
     "text": [
      " 26%|██▌       | 155/600 [1:50:54<5:27:38, 44.18s/it]"
     ]
    },
    {
     "name": "stdout",
     "output_type": "stream",
     "text": [
      "Train acc. mean: 0.9752 | Validation acc. mean: 0.8511\n",
      "\n",
      "{'addressSize': 20, 'bleachingActivated': True, 'thermometer_size': 11}\n"
     ]
    },
    {
     "name": "stderr",
     "output_type": "stream",
     "text": [
      " 27%|██▋       | 160/600 [1:55:07<6:00:30, 49.16s/it]"
     ]
    },
    {
     "name": "stdout",
     "output_type": "stream",
     "text": [
      "Train acc. mean: 0.9775 | Validation acc. mean: 0.8536\n",
      "\n",
      "{'addressSize': 20, 'bleachingActivated': True, 'thermometer_size': 12}\n"
     ]
    },
    {
     "name": "stderr",
     "output_type": "stream",
     "text": [
      " 28%|██▊       | 165/600 [1:59:35<6:22:54, 52.82s/it]"
     ]
    },
    {
     "name": "stdout",
     "output_type": "stream",
     "text": [
      "Train acc. mean: 0.9807 | Validation acc. mean: 0.8619\n",
      "\n",
      "{'addressSize': 20, 'bleachingActivated': True, 'thermometer_size': 13}\n"
     ]
    },
    {
     "name": "stderr",
     "output_type": "stream",
     "text": [
      " 28%|██▊       | 170/600 [2:04:34<6:59:47, 58.58s/it]"
     ]
    },
    {
     "name": "stdout",
     "output_type": "stream",
     "text": [
      "Train acc. mean: 0.9825 | Validation acc. mean: 0.8550\n",
      "\n",
      "{'addressSize': 20, 'bleachingActivated': True, 'thermometer_size': 14}\n"
     ]
    },
    {
     "name": "stderr",
     "output_type": "stream",
     "text": [
      " 29%|██▉       | 175/600 [2:09:52<7:23:22, 62.59s/it]"
     ]
    },
    {
     "name": "stdout",
     "output_type": "stream",
     "text": [
      "Train acc. mean: 0.9837 | Validation acc. mean: 0.8573\n",
      "\n",
      "{'addressSize': 20, 'bleachingActivated': True, 'thermometer_size': 15}\n"
     ]
    },
    {
     "name": "stderr",
     "output_type": "stream",
     "text": [
      " 30%|███       | 180/600 [2:15:40<7:56:51, 68.12s/it]"
     ]
    },
    {
     "name": "stdout",
     "output_type": "stream",
     "text": [
      "Train acc. mean: 0.9842 | Validation acc. mean: 0.8617\n",
      "\n",
      "{'addressSize': 20, 'bleachingActivated': False, 'thermometer_size': 4}\n"
     ]
    },
    {
     "name": "stderr",
     "output_type": "stream",
     "text": [
      " 31%|███       | 185/600 [2:17:09<3:01:52, 26.29s/it]"
     ]
    },
    {
     "name": "stdout",
     "output_type": "stream",
     "text": [
      "Train acc. mean: 0.9403 | Validation acc. mean: 0.8166\n",
      "\n",
      "{'addressSize': 20, 'bleachingActivated': False, 'thermometer_size': 5}\n"
     ]
    },
    {
     "name": "stderr",
     "output_type": "stream",
     "text": [
      " 32%|███▏      | 190/600 [2:19:03<2:39:10, 23.29s/it]"
     ]
    },
    {
     "name": "stdout",
     "output_type": "stream",
     "text": [
      "Train acc. mean: 0.9604 | Validation acc. mean: 0.8301\n",
      "\n",
      "{'addressSize': 20, 'bleachingActivated': False, 'thermometer_size': 6}\n"
     ]
    },
    {
     "name": "stderr",
     "output_type": "stream",
     "text": [
      " 32%|███▎      | 195/600 [2:21:18<2:58:58, 26.52s/it]"
     ]
    },
    {
     "name": "stdout",
     "output_type": "stream",
     "text": [
      "Train acc. mean: 0.9570 | Validation acc. mean: 0.8301\n",
      "\n",
      "{'addressSize': 20, 'bleachingActivated': False, 'thermometer_size': 7}\n"
     ]
    },
    {
     "name": "stderr",
     "output_type": "stream",
     "text": [
      " 33%|███▎      | 200/600 [2:24:02<3:30:51, 31.63s/it]"
     ]
    },
    {
     "name": "stdout",
     "output_type": "stream",
     "text": [
      "Train acc. mean: 0.9661 | Validation acc. mean: 0.8399\n",
      "\n",
      "{'addressSize': 20, 'bleachingActivated': False, 'thermometer_size': 8}\n"
     ]
    },
    {
     "name": "stderr",
     "output_type": "stream",
     "text": [
      " 34%|███▍      | 205/600 [2:26:58<3:48:02, 34.64s/it]"
     ]
    },
    {
     "name": "stdout",
     "output_type": "stream",
     "text": [
      "Train acc. mean: 0.9670 | Validation acc. mean: 0.8481\n",
      "\n",
      "{'addressSize': 20, 'bleachingActivated': False, 'thermometer_size': 9}\n"
     ]
    },
    {
     "name": "stderr",
     "output_type": "stream",
     "text": [
      " 35%|███▌      | 210/600 [2:30:23<4:18:56, 39.84s/it]"
     ]
    },
    {
     "name": "stdout",
     "output_type": "stream",
     "text": [
      "Train acc. mean: 0.9693 | Validation acc. mean: 0.8520\n",
      "\n",
      "{'addressSize': 20, 'bleachingActivated': False, 'thermometer_size': 10}\n"
     ]
    },
    {
     "name": "stderr",
     "output_type": "stream",
     "text": [
      " 36%|███▌      | 215/600 [2:34:11<4:46:08, 44.59s/it]"
     ]
    },
    {
     "name": "stdout",
     "output_type": "stream",
     "text": [
      "Train acc. mean: 0.9733 | Validation acc. mean: 0.8546\n",
      "\n",
      "{'addressSize': 20, 'bleachingActivated': False, 'thermometer_size': 11}\n"
     ]
    },
    {
     "name": "stderr",
     "output_type": "stream",
     "text": [
      " 37%|███▋      | 220/600 [2:38:20<5:09:42, 48.90s/it]"
     ]
    },
    {
     "name": "stdout",
     "output_type": "stream",
     "text": [
      "Train acc. mean: 0.9734 | Validation acc. mean: 0.8494\n",
      "\n",
      "{'addressSize': 20, 'bleachingActivated': False, 'thermometer_size': 12}\n"
     ]
    },
    {
     "name": "stderr",
     "output_type": "stream",
     "text": [
      " 38%|███▊      | 225/600 [2:42:57<5:45:40, 55.31s/it]"
     ]
    },
    {
     "name": "stdout",
     "output_type": "stream",
     "text": [
      "Train acc. mean: 0.9795 | Validation acc. mean: 0.8477\n",
      "\n",
      "{'addressSize': 20, 'bleachingActivated': False, 'thermometer_size': 13}\n"
     ]
    },
    {
     "name": "stderr",
     "output_type": "stream",
     "text": [
      " 38%|███▊      | 230/600 [2:47:51<5:59:45, 58.34s/it]"
     ]
    },
    {
     "name": "stdout",
     "output_type": "stream",
     "text": [
      "Train acc. mean: 0.9792 | Validation acc. mean: 0.8583\n",
      "\n",
      "{'addressSize': 20, 'bleachingActivated': False, 'thermometer_size': 14}\n"
     ]
    },
    {
     "name": "stderr",
     "output_type": "stream",
     "text": [
      " 39%|███▉      | 235/600 [2:53:10<6:25:39, 63.40s/it]"
     ]
    },
    {
     "name": "stdout",
     "output_type": "stream",
     "text": [
      "Train acc. mean: 0.9835 | Validation acc. mean: 0.8532\n",
      "\n",
      "{'addressSize': 20, 'bleachingActivated': False, 'thermometer_size': 15}\n"
     ]
    },
    {
     "name": "stderr",
     "output_type": "stream",
     "text": [
      " 40%|████      | 240/600 [2:59:19<7:11:46, 71.96s/it]"
     ]
    },
    {
     "name": "stdout",
     "output_type": "stream",
     "text": [
      "Train acc. mean: 0.9828 | Validation acc. mean: 0.8618\n",
      "\n",
      "{'addressSize': 30, 'bleachingActivated': True, 'thermometer_size': 4}\n"
     ]
    },
    {
     "name": "stderr",
     "output_type": "stream",
     "text": [
      " 41%|████      | 245/600 [3:00:48<2:39:47, 27.01s/it]"
     ]
    },
    {
     "name": "stdout",
     "output_type": "stream",
     "text": [
      "Train acc. mean: 0.9709 | Validation acc. mean: 0.8436\n",
      "\n",
      "{'addressSize': 30, 'bleachingActivated': True, 'thermometer_size': 5}\n"
     ]
    },
    {
     "name": "stderr",
     "output_type": "stream",
     "text": [
      " 42%|████▏     | 250/600 [3:02:45<2:22:44, 24.47s/it]"
     ]
    },
    {
     "name": "stdout",
     "output_type": "stream",
     "text": [
      "Train acc. mean: 0.9768 | Validation acc. mean: 0.8432\n",
      "\n",
      "{'addressSize': 30, 'bleachingActivated': True, 'thermometer_size': 6}\n"
     ]
    },
    {
     "name": "stderr",
     "output_type": "stream",
     "text": [
      " 42%|████▎     | 255/600 [3:04:58<2:31:25, 26.34s/it]"
     ]
    },
    {
     "name": "stdout",
     "output_type": "stream",
     "text": [
      "Train acc. mean: 0.9802 | Validation acc. mean: 0.8466\n",
      "\n",
      "{'addressSize': 30, 'bleachingActivated': True, 'thermometer_size': 7}\n"
     ]
    },
    {
     "name": "stderr",
     "output_type": "stream",
     "text": [
      " 43%|████▎     | 260/600 [3:07:37<2:54:04, 30.72s/it]"
     ]
    },
    {
     "name": "stdout",
     "output_type": "stream",
     "text": [
      "Train acc. mean: 0.9851 | Validation acc. mean: 0.8483\n",
      "\n",
      "{'addressSize': 30, 'bleachingActivated': True, 'thermometer_size': 8}\n"
     ]
    },
    {
     "name": "stderr",
     "output_type": "stream",
     "text": [
      " 44%|████▍     | 265/600 [3:10:32<3:11:48, 34.35s/it]"
     ]
    },
    {
     "name": "stdout",
     "output_type": "stream",
     "text": [
      "Train acc. mean: 0.9880 | Validation acc. mean: 0.8590\n",
      "\n",
      "{'addressSize': 30, 'bleachingActivated': True, 'thermometer_size': 9}\n"
     ]
    },
    {
     "name": "stderr",
     "output_type": "stream",
     "text": [
      " 45%|████▌     | 270/600 [3:14:04<3:43:52, 40.71s/it]"
     ]
    },
    {
     "name": "stdout",
     "output_type": "stream",
     "text": [
      "Train acc. mean: 0.9888 | Validation acc. mean: 0.8624\n",
      "\n",
      "{'addressSize': 30, 'bleachingActivated': True, 'thermometer_size': 10}\n"
     ]
    },
    {
     "name": "stderr",
     "output_type": "stream",
     "text": [
      " 46%|████▌     | 275/600 [3:17:49<4:00:00, 44.31s/it]"
     ]
    },
    {
     "name": "stdout",
     "output_type": "stream",
     "text": [
      "Train acc. mean: 0.9899 | Validation acc. mean: 0.8572\n",
      "\n",
      "{'addressSize': 30, 'bleachingActivated': True, 'thermometer_size': 11}\n"
     ]
    },
    {
     "name": "stderr",
     "output_type": "stream",
     "text": [
      " 47%|████▋     | 280/600 [3:21:59<4:20:57, 48.93s/it]"
     ]
    },
    {
     "name": "stdout",
     "output_type": "stream",
     "text": [
      "Train acc. mean: 0.9922 | Validation acc. mean: 0.8602\n",
      "\n",
      "{'addressSize': 30, 'bleachingActivated': True, 'thermometer_size': 12}\n"
     ]
    },
    {
     "name": "stderr",
     "output_type": "stream",
     "text": [
      " 48%|████▊     | 285/600 [3:26:31<4:39:10, 53.18s/it]"
     ]
    },
    {
     "name": "stdout",
     "output_type": "stream",
     "text": [
      "Train acc. mean: 0.9920 | Validation acc. mean: 0.8682\n",
      "\n",
      "{'addressSize': 30, 'bleachingActivated': True, 'thermometer_size': 13}\n"
     ]
    },
    {
     "name": "stderr",
     "output_type": "stream",
     "text": [
      " 48%|████▊     | 290/600 [3:31:26<4:59:37, 57.99s/it]"
     ]
    },
    {
     "name": "stdout",
     "output_type": "stream",
     "text": [
      "Train acc. mean: 0.9937 | Validation acc. mean: 0.8672\n",
      "\n",
      "{'addressSize': 30, 'bleachingActivated': True, 'thermometer_size': 14}\n"
     ]
    },
    {
     "name": "stderr",
     "output_type": "stream",
     "text": [
      " 49%|████▉     | 295/600 [3:36:44<5:16:20, 62.23s/it]"
     ]
    },
    {
     "name": "stdout",
     "output_type": "stream",
     "text": [
      "Train acc. mean: 0.9946 | Validation acc. mean: 0.8690\n",
      "\n",
      "{'addressSize': 30, 'bleachingActivated': True, 'thermometer_size': 15}\n"
     ]
    },
    {
     "name": "stderr",
     "output_type": "stream",
     "text": [
      " 50%|█████     | 300/600 [3:42:28<5:40:47, 68.16s/it]"
     ]
    },
    {
     "name": "stdout",
     "output_type": "stream",
     "text": [
      "Train acc. mean: 0.9956 | Validation acc. mean: 0.8716\n",
      "\n",
      "{'addressSize': 30, 'bleachingActivated': False, 'thermometer_size': 4}\n"
     ]
    },
    {
     "name": "stderr",
     "output_type": "stream",
     "text": [
      " 51%|█████     | 305/600 [3:44:01<2:10:48, 26.61s/it]"
     ]
    },
    {
     "name": "stdout",
     "output_type": "stream",
     "text": [
      "Train acc. mean: 0.9609 | Validation acc. mean: 0.8186\n",
      "\n",
      "{'addressSize': 30, 'bleachingActivated': False, 'thermometer_size': 5}\n"
     ]
    },
    {
     "name": "stderr",
     "output_type": "stream",
     "text": [
      " 52%|█████▏    | 310/600 [3:45:54<1:52:06, 23.19s/it]"
     ]
    },
    {
     "name": "stdout",
     "output_type": "stream",
     "text": [
      "Train acc. mean: 0.9785 | Validation acc. mean: 0.8439\n",
      "\n",
      "{'addressSize': 30, 'bleachingActivated': False, 'thermometer_size': 6}\n"
     ]
    },
    {
     "name": "stderr",
     "output_type": "stream",
     "text": [
      " 52%|█████▎    | 315/600 [3:48:08<2:04:28, 26.21s/it]"
     ]
    },
    {
     "name": "stdout",
     "output_type": "stream",
     "text": [
      "Train acc. mean: 0.9768 | Validation acc. mean: 0.8392\n",
      "\n",
      "{'addressSize': 30, 'bleachingActivated': False, 'thermometer_size': 7}\n"
     ]
    },
    {
     "name": "stderr",
     "output_type": "stream",
     "text": [
      " 53%|█████▎    | 320/600 [3:50:46<2:23:19, 30.71s/it]"
     ]
    },
    {
     "name": "stdout",
     "output_type": "stream",
     "text": [
      "Train acc. mean: 0.9839 | Validation acc. mean: 0.8596\n",
      "\n",
      "{'addressSize': 30, 'bleachingActivated': False, 'thermometer_size': 8}\n"
     ]
    },
    {
     "name": "stderr",
     "output_type": "stream",
     "text": [
      " 54%|█████▍    | 325/600 [3:53:44<2:39:44, 34.85s/it]"
     ]
    },
    {
     "name": "stdout",
     "output_type": "stream",
     "text": [
      "Train acc. mean: 0.9877 | Validation acc. mean: 0.8628\n",
      "\n",
      "{'addressSize': 30, 'bleachingActivated': False, 'thermometer_size': 9}\n"
     ]
    },
    {
     "name": "stderr",
     "output_type": "stream",
     "text": [
      " 55%|█████▌    | 330/600 [3:57:07<2:58:01, 39.56s/it]"
     ]
    },
    {
     "name": "stdout",
     "output_type": "stream",
     "text": [
      "Train acc. mean: 0.9881 | Validation acc. mean: 0.8517\n",
      "\n",
      "{'addressSize': 30, 'bleachingActivated': False, 'thermometer_size': 10}\n"
     ]
    },
    {
     "name": "stderr",
     "output_type": "stream",
     "text": [
      " 56%|█████▌    | 335/600 [4:00:50<3:13:23, 43.79s/it]"
     ]
    },
    {
     "name": "stdout",
     "output_type": "stream",
     "text": [
      "Train acc. mean: 0.9905 | Validation acc. mean: 0.8626\n",
      "\n",
      "{'addressSize': 30, 'bleachingActivated': False, 'thermometer_size': 11}\n"
     ]
    },
    {
     "name": "stderr",
     "output_type": "stream",
     "text": [
      " 57%|█████▋    | 340/600 [4:05:01<3:31:46, 48.87s/it]"
     ]
    },
    {
     "name": "stdout",
     "output_type": "stream",
     "text": [
      "Train acc. mean: 0.9902 | Validation acc. mean: 0.8581\n",
      "\n",
      "{'addressSize': 30, 'bleachingActivated': False, 'thermometer_size': 12}\n"
     ]
    },
    {
     "name": "stderr",
     "output_type": "stream",
     "text": [
      " 57%|█████▊    | 345/600 [4:09:29<3:44:53, 52.92s/it]"
     ]
    },
    {
     "name": "stdout",
     "output_type": "stream",
     "text": [
      "Train acc. mean: 0.9914 | Validation acc. mean: 0.8686\n",
      "\n",
      "{'addressSize': 30, 'bleachingActivated': False, 'thermometer_size': 13}\n"
     ]
    },
    {
     "name": "stderr",
     "output_type": "stream",
     "text": [
      " 58%|█████▊    | 350/600 [4:14:32<4:06:42, 59.21s/it]"
     ]
    },
    {
     "name": "stdout",
     "output_type": "stream",
     "text": [
      "Train acc. mean: 0.9943 | Validation acc. mean: 0.8594\n",
      "\n",
      "{'addressSize': 30, 'bleachingActivated': False, 'thermometer_size': 14}\n"
     ]
    },
    {
     "name": "stderr",
     "output_type": "stream",
     "text": [
      " 59%|█████▉    | 355/600 [4:19:45<4:13:17, 62.03s/it]"
     ]
    },
    {
     "name": "stdout",
     "output_type": "stream",
     "text": [
      "Train acc. mean: 0.9933 | Validation acc. mean: 0.8696\n",
      "\n",
      "{'addressSize': 30, 'bleachingActivated': False, 'thermometer_size': 15}\n"
     ]
    },
    {
     "name": "stderr",
     "output_type": "stream",
     "text": [
      " 60%|██████    | 360/600 [4:25:26<4:28:03, 67.01s/it]"
     ]
    },
    {
     "name": "stdout",
     "output_type": "stream",
     "text": [
      "Train acc. mean: 0.9951 | Validation acc. mean: 0.8724\n",
      "\n",
      "{'addressSize': 40, 'bleachingActivated': True, 'thermometer_size': 4}\n"
     ]
    },
    {
     "name": "stderr",
     "output_type": "stream",
     "text": [
      " 61%|██████    | 365/600 [4:26:55<1:42:24, 26.15s/it]"
     ]
    },
    {
     "name": "stdout",
     "output_type": "stream",
     "text": [
      "Train acc. mean: 0.9861 | Validation acc. mean: 0.8445\n",
      "\n",
      "{'addressSize': 40, 'bleachingActivated': True, 'thermometer_size': 5}\n"
     ]
    },
    {
     "name": "stderr",
     "output_type": "stream",
     "text": [
      " 62%|██████▏   | 370/600 [4:28:47<1:28:28, 23.08s/it]"
     ]
    },
    {
     "name": "stdout",
     "output_type": "stream",
     "text": [
      "Train acc. mean: 0.9898 | Validation acc. mean: 0.8498\n",
      "\n",
      "{'addressSize': 40, 'bleachingActivated': True, 'thermometer_size': 6}\n"
     ]
    },
    {
     "name": "stderr",
     "output_type": "stream",
     "text": [
      " 62%|██████▎   | 375/600 [4:31:02<1:38:34, 26.28s/it]"
     ]
    },
    {
     "name": "stdout",
     "output_type": "stream",
     "text": [
      "Train acc. mean: 0.9925 | Validation acc. mean: 0.8500\n",
      "\n",
      "{'addressSize': 40, 'bleachingActivated': True, 'thermometer_size': 7}\n"
     ]
    },
    {
     "name": "stderr",
     "output_type": "stream",
     "text": [
      " 63%|██████▎   | 380/600 [4:33:43<1:54:31, 31.23s/it]"
     ]
    },
    {
     "name": "stdout",
     "output_type": "stream",
     "text": [
      "Train acc. mean: 0.9940 | Validation acc. mean: 0.8595\n",
      "\n",
      "{'addressSize': 40, 'bleachingActivated': True, 'thermometer_size': 8}\n"
     ]
    },
    {
     "name": "stderr",
     "output_type": "stream",
     "text": [
      " 64%|██████▍   | 385/600 [4:36:38<2:02:57, 34.31s/it]"
     ]
    },
    {
     "name": "stdout",
     "output_type": "stream",
     "text": [
      "Train acc. mean: 0.9960 | Validation acc. mean: 0.8587\n",
      "\n",
      "{'addressSize': 40, 'bleachingActivated': True, 'thermometer_size': 9}\n"
     ]
    },
    {
     "name": "stderr",
     "output_type": "stream",
     "text": [
      " 65%|██████▌   | 390/600 [4:40:01<2:18:23, 39.54s/it]"
     ]
    },
    {
     "name": "stdout",
     "output_type": "stream",
     "text": [
      "Train acc. mean: 0.9968 | Validation acc. mean: 0.8708\n",
      "\n",
      "{'addressSize': 40, 'bleachingActivated': True, 'thermometer_size': 10}\n"
     ]
    },
    {
     "name": "stderr",
     "output_type": "stream",
     "text": [
      " 66%|██████▌   | 395/600 [4:43:52<2:35:19, 45.46s/it]"
     ]
    },
    {
     "name": "stdout",
     "output_type": "stream",
     "text": [
      "Train acc. mean: 0.9966 | Validation acc. mean: 0.8663\n",
      "\n",
      "{'addressSize': 40, 'bleachingActivated': True, 'thermometer_size': 11}\n"
     ]
    },
    {
     "name": "stderr",
     "output_type": "stream",
     "text": [
      " 67%|██████▋   | 400/600 [4:48:00<2:43:00, 48.90s/it]"
     ]
    },
    {
     "name": "stdout",
     "output_type": "stream",
     "text": [
      "Train acc. mean: 0.9978 | Validation acc. mean: 0.8658\n",
      "\n",
      "{'addressSize': 40, 'bleachingActivated': True, 'thermometer_size': 12}\n"
     ]
    },
    {
     "name": "stderr",
     "output_type": "stream",
     "text": [
      " 68%|██████▊   | 405/600 [4:52:29<2:53:28, 53.38s/it]"
     ]
    },
    {
     "name": "stdout",
     "output_type": "stream",
     "text": [
      "Train acc. mean: 0.9984 | Validation acc. mean: 0.8770\n",
      "\n",
      "{'addressSize': 40, 'bleachingActivated': True, 'thermometer_size': 13}\n"
     ]
    },
    {
     "name": "stderr",
     "output_type": "stream",
     "text": [
      " 68%|██████▊   | 410/600 [4:57:23<3:02:52, 57.75s/it]"
     ]
    },
    {
     "name": "stdout",
     "output_type": "stream",
     "text": [
      "Train acc. mean: 0.9986 | Validation acc. mean: 0.8739\n",
      "\n",
      "{'addressSize': 40, 'bleachingActivated': True, 'thermometer_size': 14}\n"
     ]
    },
    {
     "name": "stderr",
     "output_type": "stream",
     "text": [
      " 69%|██████▉   | 415/600 [5:02:40<3:14:02, 62.93s/it]"
     ]
    },
    {
     "name": "stdout",
     "output_type": "stream",
     "text": [
      "Train acc. mean: 0.9993 | Validation acc. mean: 0.8751\n",
      "\n",
      "{'addressSize': 40, 'bleachingActivated': True, 'thermometer_size': 15}\n"
     ]
    },
    {
     "name": "stderr",
     "output_type": "stream",
     "text": [
      " 70%|███████   | 420/600 [5:08:17<3:19:45, 66.59s/it]"
     ]
    },
    {
     "name": "stdout",
     "output_type": "stream",
     "text": [
      "Train acc. mean: 0.9990 | Validation acc. mean: 0.8779\n",
      "\n",
      "{'addressSize': 40, 'bleachingActivated': False, 'thermometer_size': 4}\n"
     ]
    },
    {
     "name": "stderr",
     "output_type": "stream",
     "text": [
      " 71%|███████   | 425/600 [5:09:46<1:15:58, 26.05s/it]"
     ]
    },
    {
     "name": "stdout",
     "output_type": "stream",
     "text": [
      "Train acc. mean: 0.9844 | Validation acc. mean: 0.8422\n",
      "\n",
      "{'addressSize': 40, 'bleachingActivated': False, 'thermometer_size': 5}\n"
     ]
    },
    {
     "name": "stderr",
     "output_type": "stream",
     "text": [
      " 72%|███████▏  | 430/600 [5:11:39<1:05:46, 23.22s/it]"
     ]
    },
    {
     "name": "stdout",
     "output_type": "stream",
     "text": [
      "Train acc. mean: 0.9902 | Validation acc. mean: 0.8531\n",
      "\n",
      "{'addressSize': 40, 'bleachingActivated': False, 'thermometer_size': 6}\n"
     ]
    },
    {
     "name": "stderr",
     "output_type": "stream",
     "text": [
      " 72%|███████▎  | 435/600 [5:14:03<1:14:45, 27.18s/it]"
     ]
    },
    {
     "name": "stdout",
     "output_type": "stream",
     "text": [
      "Train acc. mean: 0.9905 | Validation acc. mean: 0.8526\n",
      "\n",
      "{'addressSize': 40, 'bleachingActivated': False, 'thermometer_size': 7}\n"
     ]
    },
    {
     "name": "stderr",
     "output_type": "stream",
     "text": [
      " 73%|███████▎  | 440/600 [5:16:40<1:22:01, 30.76s/it]"
     ]
    },
    {
     "name": "stdout",
     "output_type": "stream",
     "text": [
      "Train acc. mean: 0.9944 | Validation acc. mean: 0.8709\n",
      "\n",
      "{'addressSize': 40, 'bleachingActivated': False, 'thermometer_size': 8}\n"
     ]
    },
    {
     "name": "stderr",
     "output_type": "stream",
     "text": [
      " 74%|███████▍  | 445/600 [5:19:35<1:28:35, 34.29s/it]"
     ]
    },
    {
     "name": "stdout",
     "output_type": "stream",
     "text": [
      "Train acc. mean: 0.9951 | Validation acc. mean: 0.8602\n",
      "\n",
      "{'addressSize': 40, 'bleachingActivated': False, 'thermometer_size': 9}\n"
     ]
    },
    {
     "name": "stderr",
     "output_type": "stream",
     "text": [
      " 75%|███████▌  | 450/600 [5:23:03<1:41:56, 40.77s/it]"
     ]
    },
    {
     "name": "stdout",
     "output_type": "stream",
     "text": [
      "Train acc. mean: 0.9957 | Validation acc. mean: 0.8698\n",
      "\n",
      "{'addressSize': 40, 'bleachingActivated': False, 'thermometer_size': 10}\n"
     ]
    },
    {
     "name": "stderr",
     "output_type": "stream",
     "text": [
      " 76%|███████▌  | 455/600 [5:26:46<1:46:24, 44.03s/it]"
     ]
    },
    {
     "name": "stdout",
     "output_type": "stream",
     "text": [
      "Train acc. mean: 0.9979 | Validation acc. mean: 0.8682\n",
      "\n",
      "{'addressSize': 40, 'bleachingActivated': False, 'thermometer_size': 11}\n"
     ]
    },
    {
     "name": "stderr",
     "output_type": "stream",
     "text": [
      " 77%|███████▋  | 460/600 [5:30:54<1:53:26, 48.62s/it]"
     ]
    },
    {
     "name": "stdout",
     "output_type": "stream",
     "text": [
      "Train acc. mean: 0.9969 | Validation acc. mean: 0.8689\n",
      "\n",
      "{'addressSize': 40, 'bleachingActivated': False, 'thermometer_size': 12}\n"
     ]
    },
    {
     "name": "stderr",
     "output_type": "stream",
     "text": [
      " 78%|███████▊  | 465/600 [5:35:24<1:58:54, 52.85s/it]"
     ]
    },
    {
     "name": "stdout",
     "output_type": "stream",
     "text": [
      "Train acc. mean: 0.9981 | Validation acc. mean: 0.8663\n",
      "\n",
      "{'addressSize': 40, 'bleachingActivated': False, 'thermometer_size': 13}\n"
     ]
    },
    {
     "name": "stderr",
     "output_type": "stream",
     "text": [
      " 78%|███████▊  | 470/600 [5:40:17<2:05:00, 57.70s/it]"
     ]
    },
    {
     "name": "stdout",
     "output_type": "stream",
     "text": [
      "Train acc. mean: 0.9981 | Validation acc. mean: 0.8693\n",
      "\n",
      "{'addressSize': 40, 'bleachingActivated': False, 'thermometer_size': 14}\n"
     ]
    },
    {
     "name": "stderr",
     "output_type": "stream",
     "text": [
      " 79%|███████▉  | 475/600 [5:45:38<2:10:42, 62.74s/it]"
     ]
    },
    {
     "name": "stdout",
     "output_type": "stream",
     "text": [
      "Train acc. mean: 0.9989 | Validation acc. mean: 0.8740\n",
      "\n",
      "{'addressSize': 40, 'bleachingActivated': False, 'thermometer_size': 15}\n"
     ]
    },
    {
     "name": "stderr",
     "output_type": "stream",
     "text": [
      " 80%|████████  | 480/600 [5:51:15<2:13:17, 66.65s/it]"
     ]
    },
    {
     "name": "stdout",
     "output_type": "stream",
     "text": [
      "Train acc. mean: 0.9991 | Validation acc. mean: 0.8738\n",
      "\n",
      "{'addressSize': 50, 'bleachingActivated': True, 'thermometer_size': 4}\n"
     ]
    },
    {
     "name": "stderr",
     "output_type": "stream",
     "text": [
      " 81%|████████  | 485/600 [5:52:47<51:47, 27.03s/it]  "
     ]
    },
    {
     "name": "stdout",
     "output_type": "stream",
     "text": [
      "Train acc. mean: 0.9943 | Validation acc. mean: 0.8459\n",
      "\n",
      "{'addressSize': 50, 'bleachingActivated': True, 'thermometer_size': 5}\n"
     ]
    },
    {
     "name": "stderr",
     "output_type": "stream",
     "text": [
      " 82%|████████▏ | 490/600 [5:54:39<42:19, 23.08s/it]"
     ]
    },
    {
     "name": "stdout",
     "output_type": "stream",
     "text": [
      "Train acc. mean: 0.9961 | Validation acc. mean: 0.8566\n",
      "\n",
      "{'addressSize': 50, 'bleachingActivated': True, 'thermometer_size': 6}\n"
     ]
    },
    {
     "name": "stderr",
     "output_type": "stream",
     "text": [
      " 82%|████████▎ | 495/600 [5:56:51<45:15, 25.86s/it]"
     ]
    },
    {
     "name": "stdout",
     "output_type": "stream",
     "text": [
      "Train acc. mean: 0.9975 | Validation acc. mean: 0.8554\n",
      "\n",
      "{'addressSize': 50, 'bleachingActivated': True, 'thermometer_size': 7}\n"
     ]
    },
    {
     "name": "stderr",
     "output_type": "stream",
     "text": [
      " 83%|████████▎ | 500/600 [5:59:28<50:44, 30.44s/it]"
     ]
    },
    {
     "name": "stdout",
     "output_type": "stream",
     "text": [
      "Train acc. mean: 0.9987 | Validation acc. mean: 0.8689\n",
      "\n",
      "{'addressSize': 50, 'bleachingActivated': True, 'thermometer_size': 8}\n"
     ]
    },
    {
     "name": "stderr",
     "output_type": "stream",
     "text": [
      " 84%|████████▍ | 505/600 [6:02:23<54:41, 34.54s/it]"
     ]
    },
    {
     "name": "stdout",
     "output_type": "stream",
     "text": [
      "Train acc. mean: 0.9990 | Validation acc. mean: 0.8649\n",
      "\n",
      "{'addressSize': 50, 'bleachingActivated': True, 'thermometer_size': 9}\n"
     ]
    },
    {
     "name": "stderr",
     "output_type": "stream",
     "text": [
      " 85%|████████▌ | 510/600 [6:05:48<59:46, 39.85s/it]"
     ]
    },
    {
     "name": "stdout",
     "output_type": "stream",
     "text": [
      "Train acc. mean: 0.9993 | Validation acc. mean: 0.8652\n",
      "\n",
      "{'addressSize': 50, 'bleachingActivated': True, 'thermometer_size': 10}\n"
     ]
    },
    {
     "name": "stderr",
     "output_type": "stream",
     "text": [
      " 86%|████████▌ | 515/600 [6:09:31<1:02:04, 43.82s/it]"
     ]
    },
    {
     "name": "stdout",
     "output_type": "stream",
     "text": [
      "Train acc. mean: 0.9996 | Validation acc. mean: 0.8702\n",
      "\n",
      "{'addressSize': 50, 'bleachingActivated': True, 'thermometer_size': 11}\n"
     ]
    },
    {
     "name": "stderr",
     "output_type": "stream",
     "text": [
      " 87%|████████▋ | 520/600 [6:13:47<1:06:52, 50.16s/it]"
     ]
    },
    {
     "name": "stdout",
     "output_type": "stream",
     "text": [
      "Train acc. mean: 0.9996 | Validation acc. mean: 0.8662\n",
      "\n",
      "{'addressSize': 50, 'bleachingActivated': True, 'thermometer_size': 12}\n"
     ]
    },
    {
     "name": "stderr",
     "output_type": "stream",
     "text": [
      " 88%|████████▊ | 525/600 [6:18:12<1:05:36, 52.48s/it]"
     ]
    },
    {
     "name": "stdout",
     "output_type": "stream",
     "text": [
      "Train acc. mean: 0.9996 | Validation acc. mean: 0.8704\n",
      "\n",
      "{'addressSize': 50, 'bleachingActivated': True, 'thermometer_size': 13}\n"
     ]
    },
    {
     "name": "stderr",
     "output_type": "stream",
     "text": [
      " 88%|████████▊ | 530/600 [6:23:08<1:08:16, 58.53s/it]"
     ]
    },
    {
     "name": "stdout",
     "output_type": "stream",
     "text": [
      "Train acc. mean: 0.9997 | Validation acc. mean: 0.8749\n",
      "\n",
      "{'addressSize': 50, 'bleachingActivated': True, 'thermometer_size': 14}\n"
     ]
    },
    {
     "name": "stderr",
     "output_type": "stream",
     "text": [
      " 89%|████████▉ | 535/600 [6:28:19<1:06:50, 61.70s/it]"
     ]
    },
    {
     "name": "stdout",
     "output_type": "stream",
     "text": [
      "Train acc. mean: 0.9999 | Validation acc. mean: 0.8707\n",
      "\n",
      "{'addressSize': 50, 'bleachingActivated': True, 'thermometer_size': 15}\n"
     ]
    },
    {
     "name": "stderr",
     "output_type": "stream",
     "text": [
      " 90%|█████████ | 540/600 [6:33:59<1:06:59, 66.99s/it]"
     ]
    },
    {
     "name": "stdout",
     "output_type": "stream",
     "text": [
      "Train acc. mean: 0.9998 | Validation acc. mean: 0.8751\n",
      "\n",
      "{'addressSize': 50, 'bleachingActivated': False, 'thermometer_size': 4}\n"
     ]
    },
    {
     "name": "stderr",
     "output_type": "stream",
     "text": [
      " 91%|█████████ | 545/600 [6:35:27<23:46, 25.94s/it]  "
     ]
    },
    {
     "name": "stdout",
     "output_type": "stream",
     "text": [
      "Train acc. mean: 0.9913 | Validation acc. mean: 0.8307\n",
      "\n",
      "{'addressSize': 50, 'bleachingActivated': False, 'thermometer_size': 5}\n"
     ]
    },
    {
     "name": "stderr",
     "output_type": "stream",
     "text": [
      " 92%|█████████▏| 550/600 [6:37:18<19:05, 22.91s/it]"
     ]
    },
    {
     "name": "stdout",
     "output_type": "stream",
     "text": [
      "Train acc. mean: 0.9959 | Validation acc. mean: 0.8444\n",
      "\n",
      "{'addressSize': 50, 'bleachingActivated': False, 'thermometer_size': 6}\n"
     ]
    },
    {
     "name": "stderr",
     "output_type": "stream",
     "text": [
      " 92%|█████████▎| 555/600 [6:39:30<19:27, 25.94s/it]"
     ]
    },
    {
     "name": "stdout",
     "output_type": "stream",
     "text": [
      "Train acc. mean: 0.9969 | Validation acc. mean: 0.8508\n",
      "\n",
      "{'addressSize': 50, 'bleachingActivated': False, 'thermometer_size': 7}\n"
     ]
    },
    {
     "name": "stderr",
     "output_type": "stream",
     "text": [
      " 93%|█████████▎| 560/600 [6:42:07<20:24, 30.62s/it]"
     ]
    },
    {
     "name": "stdout",
     "output_type": "stream",
     "text": [
      "Train acc. mean: 0.9982 | Validation acc. mean: 0.8629\n",
      "\n",
      "{'addressSize': 50, 'bleachingActivated': False, 'thermometer_size': 8}\n"
     ]
    },
    {
     "name": "stderr",
     "output_type": "stream",
     "text": [
      " 94%|█████████▍| 565/600 [6:45:08<20:11, 34.60s/it]"
     ]
    },
    {
     "name": "stdout",
     "output_type": "stream",
     "text": [
      "Train acc. mean: 0.9986 | Validation acc. mean: 0.8606\n",
      "\n",
      "{'addressSize': 50, 'bleachingActivated': False, 'thermometer_size': 9}\n"
     ]
    },
    {
     "name": "stderr",
     "output_type": "stream",
     "text": [
      " 95%|█████████▌| 570/600 [6:48:29<19:36, 39.22s/it]"
     ]
    },
    {
     "name": "stdout",
     "output_type": "stream",
     "text": [
      "Train acc. mean: 0.9990 | Validation acc. mean: 0.8719\n",
      "\n",
      "{'addressSize': 50, 'bleachingActivated': False, 'thermometer_size': 10}\n"
     ]
    },
    {
     "name": "stderr",
     "output_type": "stream",
     "text": [
      " 96%|█████████▌| 575/600 [6:52:11<18:09, 43.56s/it]"
     ]
    },
    {
     "name": "stdout",
     "output_type": "stream",
     "text": [
      "Train acc. mean: 0.9995 | Validation acc. mean: 0.8697\n",
      "\n",
      "{'addressSize': 50, 'bleachingActivated': False, 'thermometer_size': 11}\n"
     ]
    },
    {
     "name": "stderr",
     "output_type": "stream",
     "text": [
      " 97%|█████████▋| 580/600 [6:56:21<16:07, 48.36s/it]"
     ]
    },
    {
     "name": "stdout",
     "output_type": "stream",
     "text": [
      "Train acc. mean: 0.9996 | Validation acc. mean: 0.8719\n",
      "\n",
      "{'addressSize': 50, 'bleachingActivated': False, 'thermometer_size': 12}\n"
     ]
    },
    {
     "name": "stderr",
     "output_type": "stream",
     "text": [
      " 98%|█████████▊| 585/600 [7:00:44<12:57, 51.84s/it]"
     ]
    },
    {
     "name": "stdout",
     "output_type": "stream",
     "text": [
      "Train acc. mean: 0.9998 | Validation acc. mean: 0.8675\n",
      "\n",
      "{'addressSize': 50, 'bleachingActivated': False, 'thermometer_size': 13}\n"
     ]
    },
    {
     "name": "stderr",
     "output_type": "stream",
     "text": [
      " 98%|█████████▊| 590/600 [7:05:38<09:34, 57.42s/it]"
     ]
    },
    {
     "name": "stdout",
     "output_type": "stream",
     "text": [
      "Train acc. mean: 0.9996 | Validation acc. mean: 0.8776\n",
      "\n",
      "{'addressSize': 50, 'bleachingActivated': False, 'thermometer_size': 14}\n"
     ]
    },
    {
     "name": "stderr",
     "output_type": "stream",
     "text": [
      " 99%|█████████▉| 595/600 [7:10:49<05:06, 61.40s/it]"
     ]
    },
    {
     "name": "stdout",
     "output_type": "stream",
     "text": [
      "Train acc. mean: 0.9999 | Validation acc. mean: 0.8785\n",
      "\n",
      "{'addressSize': 50, 'bleachingActivated': False, 'thermometer_size': 15}\n"
     ]
    },
    {
     "name": "stderr",
     "output_type": "stream",
     "text": [
      "100%|██████████| 600/600 [7:16:31<00:00, 66.71s/it]"
     ]
    },
    {
     "name": "stdout",
     "output_type": "stream",
     "text": [
      "Train acc. mean: 0.9998 | Validation acc. mean: 0.8754\n",
      "\n"
     ]
    }
   ],
   "source": [
    "gs_model1, best_params_model1 = cross_validation_model1(train_eng, train_labels, n_splits=5, addressSize=[10, 20, 30, 40, 50], \n",
    "                                                        thermometer_size=[4, 5, 6, 7, 8, 9, 10, 11, 12, 13, 14, 15], \n",
    "                                                        bleachingActivated=[True, False], thermometer_columns=None)"
   ]
  },
  {
   "cell_type": "code",
   "execution_count": 33,
   "metadata": {},
   "outputs": [
    {
     "data": {
      "text/plain": [
       "{'addressSize': 50, 'bleachingActivated': False, 'thermometer_size': 14}"
      ]
     },
     "execution_count": 33,
     "metadata": {},
     "output_type": "execute_result"
    }
   ],
   "source": [
    "best_params_model1"
   ]
  },
  {
   "cell_type": "code",
   "execution_count": 37,
   "metadata": {},
   "outputs": [
    {
     "data": {
      "text/html": [
       "<div>\n",
       "<style scoped>\n",
       "    .dataframe tbody tr th:only-of-type {\n",
       "        vertical-align: middle;\n",
       "    }\n",
       "\n",
       "    .dataframe tbody tr th {\n",
       "        vertical-align: top;\n",
       "    }\n",
       "\n",
       "    .dataframe thead th {\n",
       "        text-align: right;\n",
       "    }\n",
       "</style>\n",
       "<table border=\"1\" class=\"dataframe\">\n",
       "  <thead>\n",
       "    <tr style=\"text-align: right;\">\n",
       "      <th></th>\n",
       "      <th>addressSize</th>\n",
       "      <th>bleachingActivated</th>\n",
       "      <th>thermometer_size</th>\n",
       "      <th>training_time_mean</th>\n",
       "      <th>training_time_std</th>\n",
       "      <th>training_prediction_time_mean</th>\n",
       "      <th>training_prediction_time_std</th>\n",
       "      <th>validation_prediction_time_mean</th>\n",
       "      <th>validation_prediction_time_std</th>\n",
       "      <th>thermometer_time_mean</th>\n",
       "      <th>thermometer_time_std</th>\n",
       "      <th>training_accuracy_mean</th>\n",
       "      <th>training_accuracy_std</th>\n",
       "      <th>validation_accuracy_mean</th>\n",
       "      <th>validation_accuracy_std</th>\n",
       "      <th>rank</th>\n",
       "    </tr>\n",
       "  </thead>\n",
       "  <tbody>\n",
       "    <tr>\n",
       "      <th>0</th>\n",
       "      <td>50</td>\n",
       "      <td>False</td>\n",
       "      <td>14</td>\n",
       "      <td>1.050038</td>\n",
       "      <td>0.100483</td>\n",
       "      <td>1.903664</td>\n",
       "      <td>0.107853</td>\n",
       "      <td>0.456213</td>\n",
       "      <td>0.036972</td>\n",
       "      <td>58.300183</td>\n",
       "      <td>0.414570</td>\n",
       "      <td>0.999864</td>\n",
       "      <td>0.000167</td>\n",
       "      <td>0.878538</td>\n",
       "      <td>0.020922</td>\n",
       "      <td>1.0</td>\n",
       "    </tr>\n",
       "    <tr>\n",
       "      <th>1</th>\n",
       "      <td>40</td>\n",
       "      <td>True</td>\n",
       "      <td>15</td>\n",
       "      <td>1.155015</td>\n",
       "      <td>0.142177</td>\n",
       "      <td>2.150205</td>\n",
       "      <td>0.087930</td>\n",
       "      <td>0.532353</td>\n",
       "      <td>0.067464</td>\n",
       "      <td>63.016580</td>\n",
       "      <td>0.343022</td>\n",
       "      <td>0.999014</td>\n",
       "      <td>0.000622</td>\n",
       "      <td>0.877860</td>\n",
       "      <td>0.021933</td>\n",
       "      <td>2.0</td>\n",
       "    </tr>\n",
       "    <tr>\n",
       "      <th>2</th>\n",
       "      <td>50</td>\n",
       "      <td>False</td>\n",
       "      <td>13</td>\n",
       "      <td>0.937289</td>\n",
       "      <td>0.039164</td>\n",
       "      <td>1.784808</td>\n",
       "      <td>0.125505</td>\n",
       "      <td>0.402436</td>\n",
       "      <td>0.041004</td>\n",
       "      <td>55.275979</td>\n",
       "      <td>1.661058</td>\n",
       "      <td>0.999626</td>\n",
       "      <td>0.000272</td>\n",
       "      <td>0.877587</td>\n",
       "      <td>0.020783</td>\n",
       "      <td>3.0</td>\n",
       "    </tr>\n",
       "    <tr>\n",
       "      <th>3</th>\n",
       "      <td>40</td>\n",
       "      <td>True</td>\n",
       "      <td>12</td>\n",
       "      <td>0.957398</td>\n",
       "      <td>0.140268</td>\n",
       "      <td>1.841147</td>\n",
       "      <td>0.225698</td>\n",
       "      <td>0.447434</td>\n",
       "      <td>0.092126</td>\n",
       "      <td>50.234657</td>\n",
       "      <td>0.790068</td>\n",
       "      <td>0.998436</td>\n",
       "      <td>0.000542</td>\n",
       "      <td>0.877042</td>\n",
       "      <td>0.021262</td>\n",
       "      <td>4.0</td>\n",
       "    </tr>\n",
       "    <tr>\n",
       "      <th>4</th>\n",
       "      <td>50</td>\n",
       "      <td>False</td>\n",
       "      <td>15</td>\n",
       "      <td>1.101405</td>\n",
       "      <td>0.091224</td>\n",
       "      <td>2.082378</td>\n",
       "      <td>0.122678</td>\n",
       "      <td>0.465581</td>\n",
       "      <td>0.016437</td>\n",
       "      <td>64.311114</td>\n",
       "      <td>3.366207</td>\n",
       "      <td>0.999796</td>\n",
       "      <td>0.000068</td>\n",
       "      <td>0.875410</td>\n",
       "      <td>0.022517</td>\n",
       "      <td>5.0</td>\n",
       "    </tr>\n",
       "    <tr>\n",
       "      <th>...</th>\n",
       "      <td>...</td>\n",
       "      <td>...</td>\n",
       "      <td>...</td>\n",
       "      <td>...</td>\n",
       "      <td>...</td>\n",
       "      <td>...</td>\n",
       "      <td>...</td>\n",
       "      <td>...</td>\n",
       "      <td>...</td>\n",
       "      <td>...</td>\n",
       "      <td>...</td>\n",
       "      <td>...</td>\n",
       "      <td>...</td>\n",
       "      <td>...</td>\n",
       "      <td>...</td>\n",
       "      <td>...</td>\n",
       "    </tr>\n",
       "    <tr>\n",
       "      <th>115</th>\n",
       "      <td>10</td>\n",
       "      <td>False</td>\n",
       "      <td>6</td>\n",
       "      <td>0.513411</td>\n",
       "      <td>0.074930</td>\n",
       "      <td>1.416754</td>\n",
       "      <td>0.224947</td>\n",
       "      <td>0.334889</td>\n",
       "      <td>0.049020</td>\n",
       "      <td>25.804531</td>\n",
       "      <td>0.997018</td>\n",
       "      <td>0.922572</td>\n",
       "      <td>0.004139</td>\n",
       "      <td>0.807810</td>\n",
       "      <td>0.023743</td>\n",
       "      <td>116.0</td>\n",
       "    </tr>\n",
       "    <tr>\n",
       "      <th>116</th>\n",
       "      <td>10</td>\n",
       "      <td>True</td>\n",
       "      <td>6</td>\n",
       "      <td>0.617270</td>\n",
       "      <td>0.283715</td>\n",
       "      <td>2.077487</td>\n",
       "      <td>0.666521</td>\n",
       "      <td>0.498939</td>\n",
       "      <td>0.180973</td>\n",
       "      <td>27.451635</td>\n",
       "      <td>2.912010</td>\n",
       "      <td>0.932773</td>\n",
       "      <td>0.004127</td>\n",
       "      <td>0.804545</td>\n",
       "      <td>0.033746</td>\n",
       "      <td>117.0</td>\n",
       "    </tr>\n",
       "    <tr>\n",
       "      <th>117</th>\n",
       "      <td>10</td>\n",
       "      <td>False</td>\n",
       "      <td>5</td>\n",
       "      <td>0.364300</td>\n",
       "      <td>0.034734</td>\n",
       "      <td>1.082309</td>\n",
       "      <td>0.083240</td>\n",
       "      <td>0.251343</td>\n",
       "      <td>0.011373</td>\n",
       "      <td>21.075563</td>\n",
       "      <td>0.124358</td>\n",
       "      <td>0.910432</td>\n",
       "      <td>0.015458</td>\n",
       "      <td>0.801282</td>\n",
       "      <td>0.031013</td>\n",
       "      <td>118.0</td>\n",
       "    </tr>\n",
       "    <tr>\n",
       "      <th>118</th>\n",
       "      <td>10</td>\n",
       "      <td>True</td>\n",
       "      <td>4</td>\n",
       "      <td>0.699621</td>\n",
       "      <td>0.119526</td>\n",
       "      <td>2.991878</td>\n",
       "      <td>0.238535</td>\n",
       "      <td>0.698589</td>\n",
       "      <td>0.106812</td>\n",
       "      <td>27.613680</td>\n",
       "      <td>1.154062</td>\n",
       "      <td>0.919410</td>\n",
       "      <td>0.011350</td>\n",
       "      <td>0.796112</td>\n",
       "      <td>0.031776</td>\n",
       "      <td>119.0</td>\n",
       "    </tr>\n",
       "    <tr>\n",
       "      <th>119</th>\n",
       "      <td>10</td>\n",
       "      <td>False</td>\n",
       "      <td>4</td>\n",
       "      <td>0.303018</td>\n",
       "      <td>0.023767</td>\n",
       "      <td>0.873024</td>\n",
       "      <td>0.051877</td>\n",
       "      <td>0.206442</td>\n",
       "      <td>0.013962</td>\n",
       "      <td>16.707501</td>\n",
       "      <td>0.231328</td>\n",
       "      <td>0.879217</td>\n",
       "      <td>0.005964</td>\n",
       "      <td>0.775434</td>\n",
       "      <td>0.021071</td>\n",
       "      <td>120.0</td>\n",
       "    </tr>\n",
       "  </tbody>\n",
       "</table>\n",
       "<p>120 rows × 16 columns</p>\n",
       "</div>"
      ],
      "text/plain": [
       "     addressSize  bleachingActivated  thermometer_size  training_time_mean  \\\n",
       "0             50               False                14            1.050038   \n",
       "1             40                True                15            1.155015   \n",
       "2             50               False                13            0.937289   \n",
       "3             40                True                12            0.957398   \n",
       "4             50               False                15            1.101405   \n",
       "..           ...                 ...               ...                 ...   \n",
       "115           10               False                 6            0.513411   \n",
       "116           10                True                 6            0.617270   \n",
       "117           10               False                 5            0.364300   \n",
       "118           10                True                 4            0.699621   \n",
       "119           10               False                 4            0.303018   \n",
       "\n",
       "     training_time_std  training_prediction_time_mean  \\\n",
       "0             0.100483                       1.903664   \n",
       "1             0.142177                       2.150205   \n",
       "2             0.039164                       1.784808   \n",
       "3             0.140268                       1.841147   \n",
       "4             0.091224                       2.082378   \n",
       "..                 ...                            ...   \n",
       "115           0.074930                       1.416754   \n",
       "116           0.283715                       2.077487   \n",
       "117           0.034734                       1.082309   \n",
       "118           0.119526                       2.991878   \n",
       "119           0.023767                       0.873024   \n",
       "\n",
       "     training_prediction_time_std  validation_prediction_time_mean  \\\n",
       "0                        0.107853                         0.456213   \n",
       "1                        0.087930                         0.532353   \n",
       "2                        0.125505                         0.402436   \n",
       "3                        0.225698                         0.447434   \n",
       "4                        0.122678                         0.465581   \n",
       "..                            ...                              ...   \n",
       "115                      0.224947                         0.334889   \n",
       "116                      0.666521                         0.498939   \n",
       "117                      0.083240                         0.251343   \n",
       "118                      0.238535                         0.698589   \n",
       "119                      0.051877                         0.206442   \n",
       "\n",
       "     validation_prediction_time_std  thermometer_time_mean  \\\n",
       "0                          0.036972              58.300183   \n",
       "1                          0.067464              63.016580   \n",
       "2                          0.041004              55.275979   \n",
       "3                          0.092126              50.234657   \n",
       "4                          0.016437              64.311114   \n",
       "..                              ...                    ...   \n",
       "115                        0.049020              25.804531   \n",
       "116                        0.180973              27.451635   \n",
       "117                        0.011373              21.075563   \n",
       "118                        0.106812              27.613680   \n",
       "119                        0.013962              16.707501   \n",
       "\n",
       "     thermometer_time_std  training_accuracy_mean  training_accuracy_std  \\\n",
       "0                0.414570                0.999864               0.000167   \n",
       "1                0.343022                0.999014               0.000622   \n",
       "2                1.661058                0.999626               0.000272   \n",
       "3                0.790068                0.998436               0.000542   \n",
       "4                3.366207                0.999796               0.000068   \n",
       "..                    ...                     ...                    ...   \n",
       "115              0.997018                0.922572               0.004139   \n",
       "116              2.912010                0.932773               0.004127   \n",
       "117              0.124358                0.910432               0.015458   \n",
       "118              1.154062                0.919410               0.011350   \n",
       "119              0.231328                0.879217               0.005964   \n",
       "\n",
       "     validation_accuracy_mean  validation_accuracy_std   rank  \n",
       "0                    0.878538                 0.020922    1.0  \n",
       "1                    0.877860                 0.021933    2.0  \n",
       "2                    0.877587                 0.020783    3.0  \n",
       "3                    0.877042                 0.021262    4.0  \n",
       "4                    0.875410                 0.022517    5.0  \n",
       "..                        ...                      ...    ...  \n",
       "115                  0.807810                 0.023743  116.0  \n",
       "116                  0.804545                 0.033746  117.0  \n",
       "117                  0.801282                 0.031013  118.0  \n",
       "118                  0.796112                 0.031776  119.0  \n",
       "119                  0.775434                 0.021071  120.0  \n",
       "\n",
       "[120 rows x 16 columns]"
      ]
     },
     "execution_count": 37,
     "metadata": {},
     "output_type": "execute_result"
    }
   ],
   "source": [
    "gs_model1 = gs_model1.sort_values('rank').reset_index(drop=True)\n",
    "\n",
    "with open('results/model1_gs_results.pickle', 'wb') as file:\n",
    "    pickle.dump(gs_model1, file)\n",
    "\n",
    "gs_model1"
   ]
  },
  {
   "cell_type": "code",
   "execution_count": null,
   "metadata": {},
   "outputs": [],
   "source": [
    "with open('results/model1_gs_results.pickle', 'rb') as file:\n",
    "    gs_model1 = pickle.load(file)"
   ]
  },
  {
   "cell_type": "code",
   "execution_count": 41,
   "metadata": {},
   "outputs": [
    {
     "name": "stdout",
     "output_type": "stream",
     "text": [
      "Training Accuracy: 0.9993\n",
      "Test Accuracy: 0.8924\n"
     ]
    }
   ],
   "source": [
    "# Preprocessing train_eng, train_labels\n",
    "y_train_str = [str(l) for l in train_labels]\n",
    "y_test_str = [str(l) for l in test_labels]\n",
    "\n",
    "model = wp.Wisard(best_params_model1['addressSize'], bleachingActivated=best_params_model1['bleachingActivated'])\n",
    "thermometer_columns = list(range(train_eng.shape[1]))\n",
    "thermometer = ThermometerEncoder(thermometer_columns, n_bits=best_params_model1['thermometer_size'])\n",
    "\n",
    "X_train = thermometer.fit_transform(train_eng).astype(int).tolist()\n",
    "X_test = thermometer.transform(test_eng).astype(int).tolist()\n",
    "\n",
    "# training\n",
    "model.train(X_train, y_train_str)\n",
    "\n",
    "pred_train = model.classify(X_train)\n",
    "pred_test = model.classify(X_test)\n",
    "\n",
    "training_accuracy = accuracy_score(y_train_str, pred_train)\n",
    "test_accuracy = accuracy_score(y_test_str, pred_test)\n",
    "\n",
    "print(f'Training Accuracy: {training_accuracy:.4f}')\n",
    "print(f'Test Accuracy: {test_accuracy:.4f}')"
   ]
  },
  {
   "cell_type": "code",
   "execution_count": 59,
   "metadata": {},
   "outputs": [],
   "source": [
    "import matplotlib.pyplot as plt\n",
    "from sklearn.metrics import ConfusionMatrixDisplay\n",
    "from sklearn.metrics import confusion_matrix\n",
    "\n",
    "def plot_confusion_matrix(y_true, y_pred, display_labels=None, normalize='true'):\n",
    "    if display_labels is None:\n",
    "        display_labels = np.unique(y_true)\n",
    "            \n",
    "    cm = confusion_matrix(y_true, y_pred, normalize=normalize)\n",
    "    disp = ConfusionMatrixDisplay(confusion_matrix=cm,\n",
    "                                  display_labels=display_labels)\n",
    "    disp.plot(xticks_rotation=90)\n",
    "    disp.ax_.grid(False)"
   ]
  },
  {
   "cell_type": "code",
   "execution_count": 60,
   "metadata": {},
   "outputs": [
    {
     "data": {
      "image/png": "[encoded data removed]",
      "text/plain": [
       "<Figure size 432x288 with 2 Axes>"
      ]
     },
     "metadata": {
      "needs_background": "light"
     },
     "output_type": "display_data"
    }
   ],
   "source": [
    "# NOTE: Fill all variables here with default values of the plot_confusion_matrix\n",
    "display_labels = ['WALKING', 'WALKING_UPSTAIRS', 'WALKING_DOWNSTAIRS',\n",
    "                  'SITTING', 'STANDING', 'LAYING']\n",
    "plot_confusion_matrix(y_test_str, pred_test, display_labels=display_labels)"
   ]
  },
  {
   "cell_type": "markdown",
   "metadata": {},
   "source": [
    "## 3.1. Model 1: WiSARD -> second try\n",
    "\n",
    "This model uses Thermometer encoding and the enginnered features to make the prediction."
   ]
  },
  {
   "cell_type": "code",
   "execution_count": 22,
   "metadata": {},
   "outputs": [],
   "source": [
    "from thermometer_encoder import ThermometerEncoder\n",
    "import wisardpkg as wp\n",
    "from time import time\n",
    "from sklearn.metrics import accuracy_score\n",
    "from sklearn.model_selection import StratifiedKFold\n",
    "from sklearn.model_selection import ParameterGrid\n",
    "from tqdm import tqdm\n",
    "import pickle\n",
    "\n",
    "def cross_validation_model1(X, y, n_splits=5, addressSize=[50], thermometer_size=[5], bleachingActivated=[True], \n",
    "                            thermometer_columns=None):\n",
    "    grid_search_results = []\n",
    "    best_params = None\n",
    "    best_accuracy = -1\n",
    "    \n",
    "    if not thermometer_columns:\n",
    "        thermometer_columns = list(range(X.shape[1]))\n",
    "    \n",
    "    param_grid_dict = dict()\n",
    "    param_grid_dict['thermometer_size'] = thermometer_size\n",
    "    param_grid_dict['addressSize'] = addressSize\n",
    "    param_grid_dict['bleachingActivated'] = bleachingActivated\n",
    "    \n",
    "    skf = StratifiedKFold(n_splits=n_splits)\n",
    "    \n",
    "    param_grid = ParameterGrid(param_grid_dict)\n",
    "    \n",
    "    param_grid_combinations = len(list(param_grid))\n",
    "    n_combs = n_splits * param_grid_combinations\n",
    "    progress = tqdm(total=n_combs, position=0, leave=True)\n",
    "    \n",
    "    for params in param_grid:\n",
    "        print(params)\n",
    "        training_time = []\n",
    "        training_prediction_time = []\n",
    "        validation_prediction_time = []\n",
    "        thermometer_time = []\n",
    "        training_accuracy = []\n",
    "        validation_accuracy = []\n",
    "        for train_index, val_index in skf.split(X, y):\n",
    "            X_train = X[train_index, :]\n",
    "            y_train = y[train_index]\n",
    "            y_train_str = [str(l) for l in y_train]\n",
    "            \n",
    "            X_val = X[val_index, :]\n",
    "            y_val = y[val_index]\n",
    "            y_val_str = [str(l) for l in y_val]\n",
    "            \n",
    "            model = wp.Wisard(params['addressSize'], bleachingActivated=params['bleachingActivated'])\n",
    "            thermometer = ThermometerEncoder(thermometer_columns, n_bits=params['thermometer_size'])\n",
    "            \n",
    "            start = time()\n",
    "            X_train = thermometer.fit_transform(X_train).astype(int).tolist()\n",
    "            X_val = thermometer.transform(X_val).astype(int).tolist()\n",
    "            end = time()\n",
    "            thermometer_time.append(end-start)\n",
    "            \n",
    "            start = time()\n",
    "            model.train(X_train, y_train_str)\n",
    "            end = time()\n",
    "            training_time.append(end-start)\n",
    "            \n",
    "            start = time()\n",
    "            pred_train = model.classify(X_train)\n",
    "            end = time()\n",
    "            training_prediction_time.append(end-start)\n",
    "            \n",
    "            start = time()\n",
    "            pred_val = model.classify(X_val)\n",
    "            end = time()\n",
    "            validation_prediction_time.append(end-start)\n",
    "            \n",
    "            training_accuracy.append(accuracy_score(y_train_str, pred_train))\n",
    "            \n",
    "            validation_accuracy.append(accuracy_score(y_val_str, pred_val))\n",
    "            \n",
    "            progress.update()\n",
    "        \n",
    "        cv_result = {'training_time_mean': np.mean(training_time),\n",
    "                     'training_time_std': np.std(training_time),\n",
    "                     'training_prediction_time_mean': np.mean(training_prediction_time),\n",
    "                     'training_prediction_time_std': np.std(training_prediction_time),\n",
    "                     'validation_prediction_time_mean': np.mean(validation_prediction_time),\n",
    "                     'validation_prediction_time_std': np.std(validation_prediction_time),\n",
    "                     'thermometer_time_mean': np.mean(thermometer_time),\n",
    "                     'thermometer_time_std': np.std(thermometer_time),\n",
    "                     'training_accuracy_mean': np.mean(training_accuracy),\n",
    "                     'training_accuracy_std': np.std(training_accuracy),\n",
    "                     'validation_accuracy_mean': np.mean(validation_accuracy),\n",
    "                     'validation_accuracy_std': np.std(validation_accuracy)}\n",
    "        \n",
    "        cv_result = {**params, **cv_result}\n",
    "        \n",
    "        grid_search_results.append(cv_result)\n",
    "        \n",
    "        if (cv_result['validation_accuracy_mean'] > best_accuracy):\n",
    "            best_accuracy = cv_result['validation_accuracy_mean']\n",
    "            best_params = params\n",
    "        \n",
    "        print(f\"Train acc. mean: {cv_result['training_accuracy_mean']:.4f} | Validation acc. mean: {cv_result['validation_accuracy_mean']:.4f}\\n\")\n",
    "    \n",
    "    grid_search_results = pd.DataFrame(grid_search_results)\n",
    "    grid_search_results['rank'] = grid_search_results['validation_accuracy_mean'].rank(ascending=False)\n",
    "    \n",
    "    return grid_search_results, best_params"
   ]
  },
  {
   "cell_type": "code",
   "execution_count": 27,
   "metadata": {
    "scrolled": true
   },
   "outputs": [
    {
     "name": "stderr",
     "output_type": "stream",
     "text": [
      "  0%|          | 0/1210 [00:00<?, ?it/s]"
     ]
    },
    {
     "name": "stdout",
     "output_type": "stream",
     "text": [
      "{'addressSize': 10, 'bleachingActivated': True, 'thermometer_size': 10}\n"
     ]
    },
    {
     "name": "stderr",
     "output_type": "stream",
     "text": [
      "  0%|          | 5/1210 [00:24<1:37:24,  4.85s/it]"
     ]
    },
    {
     "name": "stdout",
     "output_type": "stream",
     "text": [
      "Train acc. mean: 0.9561 | Validation acc. mean: 0.8308\n",
      "\n",
      "{'addressSize': 10, 'bleachingActivated': True, 'thermometer_size': 11}\n"
     ]
    },
    {
     "name": "stderr",
     "output_type": "stream",
     "text": [
      "  4%|▎         | 21/600 [18:57<8:42:32, 54.15s/it]\n",
      "  1%|          | 10/1210 [00:50<1:42:29,  5.12s/it]"
     ]
    },
    {
     "name": "stdout",
     "output_type": "stream",
     "text": [
      "Train acc. mean: 0.9573 | Validation acc. mean: 0.8392\n",
      "\n",
      "{'addressSize': 10, 'bleachingActivated': True, 'thermometer_size': 12}\n"
     ]
    },
    {
     "name": "stderr",
     "output_type": "stream",
     "text": [
      "  1%|          | 15/1210 [01:17<1:48:57,  5.47s/it]"
     ]
    },
    {
     "name": "stdout",
     "output_type": "stream",
     "text": [
      "Train acc. mean: 0.9591 | Validation acc. mean: 0.8346\n",
      "\n",
      "{'addressSize': 10, 'bleachingActivated': True, 'thermometer_size': 13}\n"
     ]
    },
    {
     "name": "stderr",
     "output_type": "stream",
     "text": [
      "  2%|▏         | 20/1210 [01:46<1:52:44,  5.68s/it]"
     ]
    },
    {
     "name": "stdout",
     "output_type": "stream",
     "text": [
      "Train acc. mean: 0.9601 | Validation acc. mean: 0.8350\n",
      "\n",
      "{'addressSize': 10, 'bleachingActivated': True, 'thermometer_size': 14}\n"
     ]
    },
    {
     "name": "stderr",
     "output_type": "stream",
     "text": [
      "  2%|▏         | 25/1210 [02:19<2:05:38,  6.36s/it]"
     ]
    },
    {
     "name": "stdout",
     "output_type": "stream",
     "text": [
      "Train acc. mean: 0.9614 | Validation acc. mean: 0.8385\n",
      "\n",
      "{'addressSize': 10, 'bleachingActivated': True, 'thermometer_size': 15}\n"
     ]
    },
    {
     "name": "stderr",
     "output_type": "stream",
     "text": [
      "  2%|▏         | 30/1210 [02:53<2:09:59,  6.61s/it]"
     ]
    },
    {
     "name": "stdout",
     "output_type": "stream",
     "text": [
      "Train acc. mean: 0.9606 | Validation acc. mean: 0.8392\n",
      "\n",
      "{'addressSize': 10, 'bleachingActivated': True, 'thermometer_size': 16}\n"
     ]
    },
    {
     "name": "stderr",
     "output_type": "stream",
     "text": [
      "  3%|▎         | 35/1210 [03:29<2:20:51,  7.19s/it]"
     ]
    },
    {
     "name": "stdout",
     "output_type": "stream",
     "text": [
      "Train acc. mean: 0.9645 | Validation acc. mean: 0.8396\n",
      "\n",
      "{'addressSize': 10, 'bleachingActivated': True, 'thermometer_size': 17}\n"
     ]
    },
    {
     "name": "stderr",
     "output_type": "stream",
     "text": [
      "  3%|▎         | 40/1210 [04:06<2:22:15,  7.30s/it]"
     ]
    },
    {
     "name": "stdout",
     "output_type": "stream",
     "text": [
      "Train acc. mean: 0.9645 | Validation acc. mean: 0.8356\n",
      "\n",
      "{'addressSize': 10, 'bleachingActivated': True, 'thermometer_size': 18}\n"
     ]
    },
    {
     "name": "stderr",
     "output_type": "stream",
     "text": [
      "  4%|▎         | 45/1210 [04:46<2:35:05,  7.99s/it]"
     ]
    },
    {
     "name": "stdout",
     "output_type": "stream",
     "text": [
      "Train acc. mean: 0.9650 | Validation acc. mean: 0.8391\n",
      "\n",
      "{'addressSize': 10, 'bleachingActivated': True, 'thermometer_size': 19}\n"
     ]
    },
    {
     "name": "stderr",
     "output_type": "stream",
     "text": [
      "  4%|▍         | 50/1210 [05:32<2:59:31,  9.29s/it]"
     ]
    },
    {
     "name": "stdout",
     "output_type": "stream",
     "text": [
      "Train acc. mean: 0.9661 | Validation acc. mean: 0.8453\n",
      "\n",
      "{'addressSize': 10, 'bleachingActivated': True, 'thermometer_size': 20}\n"
     ]
    },
    {
     "name": "stderr",
     "output_type": "stream",
     "text": [
      "  5%|▍         | 55/1210 [06:20<3:07:44,  9.75s/it]"
     ]
    },
    {
     "name": "stdout",
     "output_type": "stream",
     "text": [
      "Train acc. mean: 0.9682 | Validation acc. mean: 0.8413\n",
      "\n",
      "{'addressSize': 10, 'bleachingActivated': False, 'thermometer_size': 10}\n"
     ]
    },
    {
     "name": "stderr",
     "output_type": "stream",
     "text": [
      "  5%|▍         | 60/1210 [06:41<1:39:24,  5.19s/it]"
     ]
    },
    {
     "name": "stdout",
     "output_type": "stream",
     "text": [
      "Train acc. mean: 0.9463 | Validation acc. mean: 0.8199\n",
      "\n",
      "{'addressSize': 10, 'bleachingActivated': False, 'thermometer_size': 11}\n"
     ]
    },
    {
     "name": "stderr",
     "output_type": "stream",
     "text": [
      "  5%|▌         | 65/1210 [07:06<1:34:10,  4.93s/it]"
     ]
    },
    {
     "name": "stdout",
     "output_type": "stream",
     "text": [
      "Train acc. mean: 0.9465 | Validation acc. mean: 0.8251\n",
      "\n",
      "{'addressSize': 10, 'bleachingActivated': False, 'thermometer_size': 12}\n"
     ]
    },
    {
     "name": "stderr",
     "output_type": "stream",
     "text": [
      "  6%|▌         | 70/1210 [07:33<1:42:10,  5.38s/it]"
     ]
    },
    {
     "name": "stdout",
     "output_type": "stream",
     "text": [
      "Train acc. mean: 0.9500 | Validation acc. mean: 0.8274\n",
      "\n",
      "{'addressSize': 10, 'bleachingActivated': False, 'thermometer_size': 13}\n"
     ]
    },
    {
     "name": "stderr",
     "output_type": "stream",
     "text": [
      "  6%|▌         | 75/1210 [08:01<1:46:52,  5.65s/it]"
     ]
    },
    {
     "name": "stdout",
     "output_type": "stream",
     "text": [
      "Train acc. mean: 0.9515 | Validation acc. mean: 0.8357\n",
      "\n",
      "{'addressSize': 10, 'bleachingActivated': False, 'thermometer_size': 14}\n"
     ]
    },
    {
     "name": "stderr",
     "output_type": "stream",
     "text": [
      "  7%|▋         | 80/1210 [08:32<1:51:02,  5.90s/it]"
     ]
    },
    {
     "name": "stdout",
     "output_type": "stream",
     "text": [
      "Train acc. mean: 0.9524 | Validation acc. mean: 0.8406\n",
      "\n",
      "{'addressSize': 10, 'bleachingActivated': False, 'thermometer_size': 15}\n"
     ]
    },
    {
     "name": "stderr",
     "output_type": "stream",
     "text": [
      "  7%|▋         | 85/1210 [09:06<2:06:21,  6.74s/it]"
     ]
    },
    {
     "name": "stdout",
     "output_type": "stream",
     "text": [
      "Train acc. mean: 0.9533 | Validation acc. mean: 0.8350\n",
      "\n",
      "{'addressSize': 10, 'bleachingActivated': False, 'thermometer_size': 16}\n"
     ]
    },
    {
     "name": "stderr",
     "output_type": "stream",
     "text": [
      "  7%|▋         | 90/1210 [09:42<2:09:34,  6.94s/it]"
     ]
    },
    {
     "name": "stdout",
     "output_type": "stream",
     "text": [
      "Train acc. mean: 0.9560 | Validation acc. mean: 0.8369\n",
      "\n",
      "{'addressSize': 10, 'bleachingActivated': False, 'thermometer_size': 17}\n"
     ]
    },
    {
     "name": "stderr",
     "output_type": "stream",
     "text": [
      "  8%|▊         | 95/1210 [10:20<2:17:55,  7.42s/it]"
     ]
    },
    {
     "name": "stdout",
     "output_type": "stream",
     "text": [
      "Train acc. mean: 0.9567 | Validation acc. mean: 0.8343\n",
      "\n",
      "{'addressSize': 10, 'bleachingActivated': False, 'thermometer_size': 18}\n"
     ]
    },
    {
     "name": "stderr",
     "output_type": "stream",
     "text": [
      "  8%|▊         | 100/1210 [10:59<2:25:03,  7.84s/it]"
     ]
    },
    {
     "name": "stdout",
     "output_type": "stream",
     "text": [
      "Train acc. mean: 0.9599 | Validation acc. mean: 0.8398\n",
      "\n",
      "{'addressSize': 10, 'bleachingActivated': False, 'thermometer_size': 19}\n"
     ]
    },
    {
     "name": "stderr",
     "output_type": "stream",
     "text": [
      "  9%|▊         | 105/1210 [11:40<2:28:02,  8.04s/it]"
     ]
    },
    {
     "name": "stdout",
     "output_type": "stream",
     "text": [
      "Train acc. mean: 0.9624 | Validation acc. mean: 0.8392\n",
      "\n",
      "{'addressSize': 10, 'bleachingActivated': False, 'thermometer_size': 20}\n"
     ]
    },
    {
     "name": "stderr",
     "output_type": "stream",
     "text": [
      "  9%|▉         | 110/1210 [12:21<2:31:21,  8.26s/it]"
     ]
    },
    {
     "name": "stdout",
     "output_type": "stream",
     "text": [
      "Train acc. mean: 0.9602 | Validation acc. mean: 0.8313\n",
      "\n",
      "{'addressSize': 15, 'bleachingActivated': True, 'thermometer_size': 10}\n"
     ]
    },
    {
     "name": "stderr",
     "output_type": "stream",
     "text": [
      " 10%|▉         | 115/1210 [12:42<1:29:11,  4.89s/it]"
     ]
    },
    {
     "name": "stdout",
     "output_type": "stream",
     "text": [
      "Train acc. mean: 0.9672 | Validation acc. mean: 0.8415\n",
      "\n",
      "{'addressSize': 15, 'bleachingActivated': True, 'thermometer_size': 11}\n"
     ]
    },
    {
     "name": "stderr",
     "output_type": "stream",
     "text": [
      " 10%|▉         | 120/1210 [13:05<1:23:54,  4.62s/it]"
     ]
    },
    {
     "name": "stdout",
     "output_type": "stream",
     "text": [
      "Train acc. mean: 0.9703 | Validation acc. mean: 0.8467\n",
      "\n",
      "{'addressSize': 15, 'bleachingActivated': True, 'thermometer_size': 12}\n"
     ]
    },
    {
     "name": "stderr",
     "output_type": "stream",
     "text": [
      " 10%|█         | 125/1210 [13:33<1:33:49,  5.19s/it]"
     ]
    },
    {
     "name": "stdout",
     "output_type": "stream",
     "text": [
      "Train acc. mean: 0.9691 | Validation acc. mean: 0.8502\n",
      "\n",
      "{'addressSize': 15, 'bleachingActivated': True, 'thermometer_size': 13}\n"
     ]
    },
    {
     "name": "stderr",
     "output_type": "stream",
     "text": [
      " 11%|█         | 130/1210 [14:03<1:41:23,  5.63s/it]"
     ]
    },
    {
     "name": "stdout",
     "output_type": "stream",
     "text": [
      "Train acc. mean: 0.9735 | Validation acc. mean: 0.8471\n",
      "\n",
      "{'addressSize': 15, 'bleachingActivated': True, 'thermometer_size': 14}\n"
     ]
    },
    {
     "name": "stderr",
     "output_type": "stream",
     "text": [
      " 11%|█         | 135/1210 [14:32<1:43:08,  5.76s/it]"
     ]
    },
    {
     "name": "stdout",
     "output_type": "stream",
     "text": [
      "Train acc. mean: 0.9753 | Validation acc. mean: 0.8542\n",
      "\n",
      "{'addressSize': 15, 'bleachingActivated': True, 'thermometer_size': 15}\n"
     ]
    },
    {
     "name": "stderr",
     "output_type": "stream",
     "text": [
      " 12%|█▏        | 140/1210 [15:03<1:49:33,  6.14s/it]"
     ]
    },
    {
     "name": "stdout",
     "output_type": "stream",
     "text": [
      "Train acc. mean: 0.9748 | Validation acc. mean: 0.8547\n",
      "\n",
      "{'addressSize': 15, 'bleachingActivated': True, 'thermometer_size': 16}\n"
     ]
    },
    {
     "name": "stderr",
     "output_type": "stream",
     "text": [
      " 12%|█▏        | 145/1210 [15:38<2:02:40,  6.91s/it]"
     ]
    },
    {
     "name": "stdout",
     "output_type": "stream",
     "text": [
      "Train acc. mean: 0.9770 | Validation acc. mean: 0.8553\n",
      "\n",
      "{'addressSize': 15, 'bleachingActivated': True, 'thermometer_size': 17}\n"
     ]
    },
    {
     "name": "stderr",
     "output_type": "stream",
     "text": [
      " 12%|█▏        | 150/1210 [16:14<2:04:54,  7.07s/it]"
     ]
    },
    {
     "name": "stdout",
     "output_type": "stream",
     "text": [
      "Train acc. mean: 0.9749 | Validation acc. mean: 0.8504\n",
      "\n",
      "{'addressSize': 15, 'bleachingActivated': True, 'thermometer_size': 18}\n"
     ]
    },
    {
     "name": "stderr",
     "output_type": "stream",
     "text": [
      " 13%|█▎        | 155/1210 [16:54<2:13:30,  7.59s/it]"
     ]
    },
    {
     "name": "stdout",
     "output_type": "stream",
     "text": [
      "Train acc. mean: 0.9762 | Validation acc. mean: 0.8604\n",
      "\n",
      "{'addressSize': 15, 'bleachingActivated': True, 'thermometer_size': 19}\n"
     ]
    },
    {
     "name": "stderr",
     "output_type": "stream",
     "text": [
      " 13%|█▎        | 160/1210 [17:30<2:09:41,  7.41s/it]"
     ]
    },
    {
     "name": "stdout",
     "output_type": "stream",
     "text": [
      "Train acc. mean: 0.9798 | Validation acc. mean: 0.8591\n",
      "\n",
      "{'addressSize': 15, 'bleachingActivated': True, 'thermometer_size': 20}\n"
     ]
    },
    {
     "name": "stderr",
     "output_type": "stream",
     "text": [
      " 14%|█▎        | 165/1210 [18:12<2:28:38,  8.53s/it]"
     ]
    },
    {
     "name": "stdout",
     "output_type": "stream",
     "text": [
      "Train acc. mean: 0.9808 | Validation acc. mean: 0.8530\n",
      "\n",
      "{'addressSize': 15, 'bleachingActivated': False, 'thermometer_size': 10}\n"
     ]
    },
    {
     "name": "stderr",
     "output_type": "stream",
     "text": [
      " 14%|█▍        | 170/1210 [18:31<1:20:54,  4.67s/it]"
     ]
    },
    {
     "name": "stdout",
     "output_type": "stream",
     "text": [
      "Train acc. mean: 0.9624 | Validation acc. mean: 0.8379\n",
      "\n",
      "{'addressSize': 15, 'bleachingActivated': False, 'thermometer_size': 11}\n"
     ]
    },
    {
     "name": "stderr",
     "output_type": "stream",
     "text": [
      " 14%|█▍        | 175/1210 [18:52<1:12:39,  4.21s/it]"
     ]
    },
    {
     "name": "stdout",
     "output_type": "stream",
     "text": [
      "Train acc. mean: 0.9638 | Validation acc. mean: 0.8396\n",
      "\n",
      "{'addressSize': 15, 'bleachingActivated': False, 'thermometer_size': 12}\n"
     ]
    },
    {
     "name": "stderr",
     "output_type": "stream",
     "text": [
      " 15%|█▍        | 180/1210 [19:17<1:21:07,  4.73s/it]"
     ]
    },
    {
     "name": "stdout",
     "output_type": "stream",
     "text": [
      "Train acc. mean: 0.9669 | Validation acc. mean: 0.8391\n",
      "\n",
      "{'addressSize': 15, 'bleachingActivated': False, 'thermometer_size': 13}\n"
     ]
    },
    {
     "name": "stderr",
     "output_type": "stream",
     "text": [
      " 15%|█▌        | 185/1210 [19:41<1:23:37,  4.90s/it]"
     ]
    },
    {
     "name": "stdout",
     "output_type": "stream",
     "text": [
      "Train acc. mean: 0.9659 | Validation acc. mean: 0.8515\n",
      "\n",
      "{'addressSize': 15, 'bleachingActivated': False, 'thermometer_size': 14}\n"
     ]
    },
    {
     "name": "stderr",
     "output_type": "stream",
     "text": [
      " 16%|█▌        | 190/1210 [20:09<1:32:44,  5.46s/it]"
     ]
    },
    {
     "name": "stdout",
     "output_type": "stream",
     "text": [
      "Train acc. mean: 0.9723 | Validation acc. mean: 0.8500\n",
      "\n",
      "{'addressSize': 15, 'bleachingActivated': False, 'thermometer_size': 15}\n"
     ]
    },
    {
     "name": "stderr",
     "output_type": "stream",
     "text": [
      " 16%|█▌        | 195/1210 [20:38<1:36:51,  5.73s/it]"
     ]
    },
    {
     "name": "stdout",
     "output_type": "stream",
     "text": [
      "Train acc. mean: 0.9725 | Validation acc. mean: 0.8487\n",
      "\n",
      "{'addressSize': 15, 'bleachingActivated': False, 'thermometer_size': 16}\n"
     ]
    },
    {
     "name": "stderr",
     "output_type": "stream",
     "text": [
      " 17%|█▋        | 200/1210 [21:09<1:42:38,  6.10s/it]"
     ]
    },
    {
     "name": "stdout",
     "output_type": "stream",
     "text": [
      "Train acc. mean: 0.9744 | Validation acc. mean: 0.8587\n",
      "\n",
      "{'addressSize': 15, 'bleachingActivated': False, 'thermometer_size': 17}\n"
     ]
    },
    {
     "name": "stderr",
     "output_type": "stream",
     "text": [
      " 17%|█▋        | 205/1210 [21:41<1:46:16,  6.34s/it]"
     ]
    },
    {
     "name": "stdout",
     "output_type": "stream",
     "text": [
      "Train acc. mean: 0.9746 | Validation acc. mean: 0.8447\n",
      "\n",
      "{'addressSize': 15, 'bleachingActivated': False, 'thermometer_size': 18}\n"
     ]
    },
    {
     "name": "stderr",
     "output_type": "stream",
     "text": [
      " 17%|█▋        | 210/1210 [22:16<1:52:14,  6.73s/it]"
     ]
    },
    {
     "name": "stdout",
     "output_type": "stream",
     "text": [
      "Train acc. mean: 0.9731 | Validation acc. mean: 0.8557\n",
      "\n",
      "{'addressSize': 15, 'bleachingActivated': False, 'thermometer_size': 19}\n"
     ]
    },
    {
     "name": "stderr",
     "output_type": "stream",
     "text": [
      " 18%|█▊        | 215/1210 [22:53<2:06:33,  7.63s/it]"
     ]
    },
    {
     "name": "stdout",
     "output_type": "stream",
     "text": [
      "Train acc. mean: 0.9750 | Validation acc. mean: 0.8473\n",
      "\n",
      "{'addressSize': 15, 'bleachingActivated': False, 'thermometer_size': 20}\n"
     ]
    },
    {
     "name": "stderr",
     "output_type": "stream",
     "text": [
      " 18%|█▊        | 220/1210 [23:36<2:14:38,  8.16s/it]"
     ]
    },
    {
     "name": "stdout",
     "output_type": "stream",
     "text": [
      "Train acc. mean: 0.9772 | Validation acc. mean: 0.8507\n",
      "\n",
      "{'addressSize': 20, 'bleachingActivated': True, 'thermometer_size': 10}\n"
     ]
    },
    {
     "name": "stderr",
     "output_type": "stream",
     "text": [
      " 19%|█▊        | 225/1210 [23:54<1:12:08,  4.39s/it]"
     ]
    },
    {
     "name": "stdout",
     "output_type": "stream",
     "text": [
      "Train acc. mean: 0.9775 | Validation acc. mean: 0.8526\n",
      "\n",
      "{'addressSize': 20, 'bleachingActivated': True, 'thermometer_size': 11}\n"
     ]
    },
    {
     "name": "stderr",
     "output_type": "stream",
     "text": [
      " 19%|█▉        | 230/1210 [24:13<1:04:56,  3.98s/it]"
     ]
    },
    {
     "name": "stdout",
     "output_type": "stream",
     "text": [
      "Train acc. mean: 0.9779 | Validation acc. mean: 0.8553\n",
      "\n",
      "{'addressSize': 20, 'bleachingActivated': True, 'thermometer_size': 12}\n"
     ]
    },
    {
     "name": "stderr",
     "output_type": "stream",
     "text": [
      " 19%|█▉        | 235/1210 [24:35<1:08:21,  4.21s/it]"
     ]
    },
    {
     "name": "stdout",
     "output_type": "stream",
     "text": [
      "Train acc. mean: 0.9787 | Validation acc. mean: 0.8543\n",
      "\n",
      "{'addressSize': 20, 'bleachingActivated': True, 'thermometer_size': 13}\n"
     ]
    },
    {
     "name": "stderr",
     "output_type": "stream",
     "text": [
      " 20%|█▉        | 240/1210 [24:58<1:14:35,  4.61s/it]"
     ]
    },
    {
     "name": "stdout",
     "output_type": "stream",
     "text": [
      "Train acc. mean: 0.9799 | Validation acc. mean: 0.8536\n",
      "\n",
      "{'addressSize': 20, 'bleachingActivated': True, 'thermometer_size': 14}\n"
     ]
    },
    {
     "name": "stderr",
     "output_type": "stream",
     "text": [
      " 20%|██        | 245/1210 [25:27<1:35:36,  5.94s/it]"
     ]
    },
    {
     "name": "stdout",
     "output_type": "stream",
     "text": [
      "Train acc. mean: 0.9841 | Validation acc. mean: 0.8584\n",
      "\n",
      "{'addressSize': 20, 'bleachingActivated': True, 'thermometer_size': 15}\n"
     ]
    },
    {
     "name": "stderr",
     "output_type": "stream",
     "text": [
      " 21%|██        | 250/1210 [26:06<1:46:50,  6.68s/it]"
     ]
    },
    {
     "name": "stdout",
     "output_type": "stream",
     "text": [
      "Train acc. mean: 0.9848 | Validation acc. mean: 0.8590\n",
      "\n",
      "{'addressSize': 20, 'bleachingActivated': True, 'thermometer_size': 16}\n"
     ]
    },
    {
     "name": "stderr",
     "output_type": "stream",
     "text": [
      " 21%|██        | 255/1210 [26:35<1:34:48,  5.96s/it]"
     ]
    },
    {
     "name": "stdout",
     "output_type": "stream",
     "text": [
      "Train acc. mean: 0.9850 | Validation acc. mean: 0.8596\n",
      "\n",
      "{'addressSize': 20, 'bleachingActivated': True, 'thermometer_size': 17}\n"
     ]
    },
    {
     "name": "stderr",
     "output_type": "stream",
     "text": [
      " 21%|██▏       | 260/1210 [27:06<1:38:34,  6.23s/it]"
     ]
    },
    {
     "name": "stdout",
     "output_type": "stream",
     "text": [
      "Train acc. mean: 0.9866 | Validation acc. mean: 0.8637\n",
      "\n",
      "{'addressSize': 20, 'bleachingActivated': True, 'thermometer_size': 18}\n"
     ]
    },
    {
     "name": "stderr",
     "output_type": "stream",
     "text": [
      " 22%|██▏       | 265/1210 [27:45<1:56:51,  7.42s/it]"
     ]
    },
    {
     "name": "stdout",
     "output_type": "stream",
     "text": [
      "Train acc. mean: 0.9877 | Validation acc. mean: 0.8598\n",
      "\n",
      "{'addressSize': 20, 'bleachingActivated': True, 'thermometer_size': 19}\n"
     ]
    },
    {
     "name": "stderr",
     "output_type": "stream",
     "text": [
      " 22%|██▏       | 270/1210 [28:20<1:50:10,  7.03s/it]"
     ]
    },
    {
     "name": "stdout",
     "output_type": "stream",
     "text": [
      "Train acc. mean: 0.9881 | Validation acc. mean: 0.8662\n",
      "\n",
      "{'addressSize': 20, 'bleachingActivated': True, 'thermometer_size': 20}\n"
     ]
    },
    {
     "name": "stderr",
     "output_type": "stream",
     "text": [
      " 23%|██▎       | 275/1210 [28:55<1:50:28,  7.09s/it]"
     ]
    },
    {
     "name": "stdout",
     "output_type": "stream",
     "text": [
      "Train acc. mean: 0.9875 | Validation acc. mean: 0.8653\n",
      "\n",
      "{'addressSize': 20, 'bleachingActivated': False, 'thermometer_size': 10}\n"
     ]
    },
    {
     "name": "stderr",
     "output_type": "stream",
     "text": [
      " 23%|██▎       | 280/1210 [29:14<1:05:49,  4.25s/it]"
     ]
    },
    {
     "name": "stdout",
     "output_type": "stream",
     "text": [
      "Train acc. mean: 0.9770 | Validation acc. mean: 0.8534\n",
      "\n",
      "{'addressSize': 20, 'bleachingActivated': False, 'thermometer_size': 11}\n"
     ]
    },
    {
     "name": "stderr",
     "output_type": "stream",
     "text": [
      " 24%|██▎       | 285/1210 [29:34<1:01:53,  4.01s/it]"
     ]
    },
    {
     "name": "stdout",
     "output_type": "stream",
     "text": [
      "Train acc. mean: 0.9738 | Validation acc. mean: 0.8534\n",
      "\n",
      "{'addressSize': 20, 'bleachingActivated': False, 'thermometer_size': 12}\n"
     ]
    },
    {
     "name": "stderr",
     "output_type": "stream",
     "text": [
      " 24%|██▍       | 290/1210 [29:55<1:06:16,  4.32s/it]"
     ]
    },
    {
     "name": "stdout",
     "output_type": "stream",
     "text": [
      "Train acc. mean: 0.9773 | Validation acc. mean: 0.8473\n",
      "\n",
      "{'addressSize': 20, 'bleachingActivated': False, 'thermometer_size': 13}\n"
     ]
    },
    {
     "name": "stderr",
     "output_type": "stream",
     "text": [
      " 24%|██▍       | 295/1210 [30:19<1:12:05,  4.73s/it]"
     ]
    },
    {
     "name": "stdout",
     "output_type": "stream",
     "text": [
      "Train acc. mean: 0.9784 | Validation acc. mean: 0.8509\n",
      "\n",
      "{'addressSize': 20, 'bleachingActivated': False, 'thermometer_size': 14}\n"
     ]
    },
    {
     "name": "stderr",
     "output_type": "stream",
     "text": [
      " 25%|██▍       | 300/1210 [30:45<1:16:14,  5.03s/it]"
     ]
    },
    {
     "name": "stdout",
     "output_type": "stream",
     "text": [
      "Train acc. mean: 0.9821 | Validation acc. mean: 0.8614\n",
      "\n",
      "{'addressSize': 20, 'bleachingActivated': False, 'thermometer_size': 15}\n"
     ]
    },
    {
     "name": "stderr",
     "output_type": "stream",
     "text": [
      " 25%|██▌       | 305/1210 [31:12<1:21:24,  5.40s/it]"
     ]
    },
    {
     "name": "stdout",
     "output_type": "stream",
     "text": [
      "Train acc. mean: 0.9824 | Validation acc. mean: 0.8592\n",
      "\n",
      "{'addressSize': 20, 'bleachingActivated': False, 'thermometer_size': 16}\n"
     ]
    },
    {
     "name": "stderr",
     "output_type": "stream",
     "text": [
      " 26%|██▌       | 310/1210 [31:41<1:25:36,  5.71s/it]"
     ]
    },
    {
     "name": "stdout",
     "output_type": "stream",
     "text": [
      "Train acc. mean: 0.9835 | Validation acc. mean: 0.8630\n",
      "\n",
      "{'addressSize': 20, 'bleachingActivated': False, 'thermometer_size': 17}\n"
     ]
    },
    {
     "name": "stderr",
     "output_type": "stream",
     "text": [
      " 26%|██▌       | 315/1210 [32:12<1:31:07,  6.11s/it]"
     ]
    },
    {
     "name": "stdout",
     "output_type": "stream",
     "text": [
      "Train acc. mean: 0.9834 | Validation acc. mean: 0.8599\n",
      "\n",
      "{'addressSize': 20, 'bleachingActivated': False, 'thermometer_size': 18}\n"
     ]
    },
    {
     "name": "stderr",
     "output_type": "stream",
     "text": [
      " 26%|██▋       | 320/1210 [32:48<1:45:02,  7.08s/it]"
     ]
    },
    {
     "name": "stdout",
     "output_type": "stream",
     "text": [
      "Train acc. mean: 0.9848 | Validation acc. mean: 0.8679\n",
      "\n",
      "{'addressSize': 20, 'bleachingActivated': False, 'thermometer_size': 19}\n"
     ]
    },
    {
     "name": "stderr",
     "output_type": "stream",
     "text": [
      " 27%|██▋       | 325/1210 [33:29<2:02:11,  8.28s/it]"
     ]
    },
    {
     "name": "stdout",
     "output_type": "stream",
     "text": [
      "Train acc. mean: 0.9857 | Validation acc. mean: 0.8619\n",
      "\n",
      "{'addressSize': 20, 'bleachingActivated': False, 'thermometer_size': 20}\n"
     ]
    },
    {
     "name": "stderr",
     "output_type": "stream",
     "text": [
      " 27%|██▋       | 330/1210 [34:08<1:56:25,  7.94s/it]"
     ]
    },
    {
     "name": "stdout",
     "output_type": "stream",
     "text": [
      "Train acc. mean: 0.9861 | Validation acc. mean: 0.8572\n",
      "\n",
      "{'addressSize': 25, 'bleachingActivated': True, 'thermometer_size': 10}\n"
     ]
    },
    {
     "name": "stderr",
     "output_type": "stream",
     "text": [
      " 28%|██▊       | 335/1210 [34:27<1:04:23,  4.42s/it]"
     ]
    },
    {
     "name": "stdout",
     "output_type": "stream",
     "text": [
      "Train acc. mean: 0.9860 | Validation acc. mean: 0.8592\n",
      "\n",
      "{'addressSize': 25, 'bleachingActivated': True, 'thermometer_size': 11}\n"
     ]
    },
    {
     "name": "stderr",
     "output_type": "stream",
     "text": [
      " 28%|██▊       | 340/1210 [34:46<57:34,  3.97s/it]  "
     ]
    },
    {
     "name": "stdout",
     "output_type": "stream",
     "text": [
      "Train acc. mean: 0.9865 | Validation acc. mean: 0.8572\n",
      "\n",
      "{'addressSize': 25, 'bleachingActivated': True, 'thermometer_size': 12}\n"
     ]
    },
    {
     "name": "stderr",
     "output_type": "stream",
     "text": [
      " 29%|██▊       | 345/1210 [35:08<1:02:21,  4.33s/it]"
     ]
    },
    {
     "name": "stdout",
     "output_type": "stream",
     "text": [
      "Train acc. mean: 0.9880 | Validation acc. mean: 0.8609\n",
      "\n",
      "{'addressSize': 25, 'bleachingActivated': True, 'thermometer_size': 13}\n"
     ]
    },
    {
     "name": "stderr",
     "output_type": "stream",
     "text": [
      " 29%|██▉       | 350/1210 [35:33<1:11:55,  5.02s/it]"
     ]
    },
    {
     "name": "stdout",
     "output_type": "stream",
     "text": [
      "Train acc. mean: 0.9890 | Validation acc. mean: 0.8591\n",
      "\n",
      "{'addressSize': 25, 'bleachingActivated': True, 'thermometer_size': 14}\n"
     ]
    },
    {
     "name": "stderr",
     "output_type": "stream",
     "text": [
      " 29%|██▉       | 355/1210 [36:10<1:43:34,  7.27s/it]"
     ]
    },
    {
     "name": "stdout",
     "output_type": "stream",
     "text": [
      "Train acc. mean: 0.9884 | Validation acc. mean: 0.8626\n",
      "\n",
      "{'addressSize': 25, 'bleachingActivated': True, 'thermometer_size': 15}\n"
     ]
    },
    {
     "name": "stderr",
     "output_type": "stream",
     "text": [
      " 30%|██▉       | 360/1210 [36:47<1:44:20,  7.37s/it]"
     ]
    },
    {
     "name": "stdout",
     "output_type": "stream",
     "text": [
      "Train acc. mean: 0.9907 | Validation acc. mean: 0.8648\n",
      "\n",
      "{'addressSize': 25, 'bleachingActivated': True, 'thermometer_size': 16}\n"
     ]
    },
    {
     "name": "stderr",
     "output_type": "stream",
     "text": [
      " 30%|███       | 365/1210 [37:15<1:23:25,  5.92s/it]"
     ]
    },
    {
     "name": "stdout",
     "output_type": "stream",
     "text": [
      "Train acc. mean: 0.9919 | Validation acc. mean: 0.8622\n",
      "\n",
      "{'addressSize': 25, 'bleachingActivated': True, 'thermometer_size': 17}\n"
     ]
    },
    {
     "name": "stderr",
     "output_type": "stream",
     "text": [
      " 31%|███       | 370/1210 [37:46<1:26:19,  6.17s/it]"
     ]
    },
    {
     "name": "stdout",
     "output_type": "stream",
     "text": [
      "Train acc. mean: 0.9925 | Validation acc. mean: 0.8628\n",
      "\n",
      "{'addressSize': 25, 'bleachingActivated': True, 'thermometer_size': 18}\n"
     ]
    },
    {
     "name": "stderr",
     "output_type": "stream",
     "text": [
      " 31%|███       | 375/1210 [38:18<1:26:25,  6.21s/it]"
     ]
    },
    {
     "name": "stdout",
     "output_type": "stream",
     "text": [
      "Train acc. mean: 0.9925 | Validation acc. mean: 0.8678\n",
      "\n",
      "{'addressSize': 25, 'bleachingActivated': True, 'thermometer_size': 19}\n"
     ]
    },
    {
     "name": "stderr",
     "output_type": "stream",
     "text": [
      " 31%|███▏      | 380/1210 [38:53<1:34:29,  6.83s/it]"
     ]
    },
    {
     "name": "stdout",
     "output_type": "stream",
     "text": [
      "Train acc. mean: 0.9937 | Validation acc. mean: 0.8641\n",
      "\n",
      "{'addressSize': 25, 'bleachingActivated': True, 'thermometer_size': 20}\n"
     ]
    },
    {
     "name": "stderr",
     "output_type": "stream",
     "text": [
      " 32%|███▏      | 385/1210 [39:29<1:38:03,  7.13s/it]"
     ]
    },
    {
     "name": "stdout",
     "output_type": "stream",
     "text": [
      "Train acc. mean: 0.9938 | Validation acc. mean: 0.8690\n",
      "\n",
      "{'addressSize': 25, 'bleachingActivated': False, 'thermometer_size': 10}\n"
     ]
    },
    {
     "name": "stderr",
     "output_type": "stream",
     "text": [
      " 32%|███▏      | 390/1210 [39:47<57:27,  4.20s/it]  "
     ]
    },
    {
     "name": "stdout",
     "output_type": "stream",
     "text": [
      "Train acc. mean: 0.9834 | Validation acc. mean: 0.8594\n",
      "\n",
      "{'addressSize': 25, 'bleachingActivated': False, 'thermometer_size': 11}\n"
     ]
    },
    {
     "name": "stderr",
     "output_type": "stream",
     "text": [
      " 33%|███▎      | 395/1210 [40:06<52:23,  3.86s/it]"
     ]
    },
    {
     "name": "stdout",
     "output_type": "stream",
     "text": [
      "Train acc. mean: 0.9857 | Validation acc. mean: 0.8549\n",
      "\n",
      "{'addressSize': 25, 'bleachingActivated': False, 'thermometer_size': 12}\n"
     ]
    },
    {
     "name": "stderr",
     "output_type": "stream",
     "text": [
      " 33%|███▎      | 400/1210 [40:29<59:52,  4.43s/it]"
     ]
    },
    {
     "name": "stdout",
     "output_type": "stream",
     "text": [
      "Train acc. mean: 0.9852 | Validation acc. mean: 0.8581\n",
      "\n",
      "{'addressSize': 25, 'bleachingActivated': False, 'thermometer_size': 13}\n"
     ]
    },
    {
     "name": "stderr",
     "output_type": "stream",
     "text": [
      " 33%|███▎      | 405/1210 [40:51<59:39,  4.45s/it]  "
     ]
    },
    {
     "name": "stdout",
     "output_type": "stream",
     "text": [
      "Train acc. mean: 0.9876 | Validation acc. mean: 0.8519\n",
      "\n",
      "{'addressSize': 25, 'bleachingActivated': False, 'thermometer_size': 14}\n"
     ]
    },
    {
     "name": "stderr",
     "output_type": "stream",
     "text": [
      " 34%|███▍      | 410/1210 [41:16<1:05:06,  4.88s/it]"
     ]
    },
    {
     "name": "stdout",
     "output_type": "stream",
     "text": [
      "Train acc. mean: 0.9899 | Validation acc. mean: 0.8617\n",
      "\n",
      "{'addressSize': 25, 'bleachingActivated': False, 'thermometer_size': 15}\n"
     ]
    },
    {
     "name": "stderr",
     "output_type": "stream",
     "text": [
      " 34%|███▍      | 415/1210 [41:42<1:08:00,  5.13s/it]"
     ]
    },
    {
     "name": "stdout",
     "output_type": "stream",
     "text": [
      "Train acc. mean: 0.9898 | Validation acc. mean: 0.8647\n",
      "\n",
      "{'addressSize': 25, 'bleachingActivated': False, 'thermometer_size': 16}\n"
     ]
    },
    {
     "name": "stderr",
     "output_type": "stream",
     "text": [
      " 35%|███▍      | 420/1210 [42:09<1:10:29,  5.35s/it]"
     ]
    },
    {
     "name": "stdout",
     "output_type": "stream",
     "text": [
      "Train acc. mean: 0.9906 | Validation acc. mean: 0.8615\n",
      "\n",
      "{'addressSize': 25, 'bleachingActivated': False, 'thermometer_size': 17}\n"
     ]
    },
    {
     "name": "stderr",
     "output_type": "stream",
     "text": [
      " 35%|███▌      | 425/1210 [42:40<1:21:05,  6.20s/it]"
     ]
    },
    {
     "name": "stdout",
     "output_type": "stream",
     "text": [
      "Train acc. mean: 0.9916 | Validation acc. mean: 0.8648\n",
      "\n",
      "{'addressSize': 25, 'bleachingActivated': False, 'thermometer_size': 18}\n"
     ]
    },
    {
     "name": "stderr",
     "output_type": "stream",
     "text": [
      " 36%|███▌      | 430/1210 [43:14<1:25:56,  6.61s/it]"
     ]
    },
    {
     "name": "stdout",
     "output_type": "stream",
     "text": [
      "Train acc. mean: 0.9906 | Validation acc. mean: 0.8656\n",
      "\n",
      "{'addressSize': 25, 'bleachingActivated': False, 'thermometer_size': 19}\n"
     ]
    },
    {
     "name": "stderr",
     "output_type": "stream",
     "text": [
      " 36%|███▌      | 435/1210 [43:46<1:23:52,  6.49s/it]"
     ]
    },
    {
     "name": "stdout",
     "output_type": "stream",
     "text": [
      "Train acc. mean: 0.9920 | Validation acc. mean: 0.8645\n",
      "\n",
      "{'addressSize': 25, 'bleachingActivated': False, 'thermometer_size': 20}\n"
     ]
    },
    {
     "name": "stderr",
     "output_type": "stream",
     "text": [
      " 36%|███▋      | 440/1210 [44:20<1:26:39,  6.75s/it]"
     ]
    },
    {
     "name": "stdout",
     "output_type": "stream",
     "text": [
      "Train acc. mean: 0.9928 | Validation acc. mean: 0.8647\n",
      "\n",
      "{'addressSize': 30, 'bleachingActivated': True, 'thermometer_size': 10}\n"
     ]
    },
    {
     "name": "stderr",
     "output_type": "stream",
     "text": [
      " 37%|███▋      | 445/1210 [44:36<49:45,  3.90s/it]  "
     ]
    },
    {
     "name": "stdout",
     "output_type": "stream",
     "text": [
      "Train acc. mean: 0.9907 | Validation acc. mean: 0.8600\n",
      "\n",
      "{'addressSize': 30, 'bleachingActivated': True, 'thermometer_size': 11}\n"
     ]
    },
    {
     "name": "stderr",
     "output_type": "stream",
     "text": [
      " 37%|███▋      | 450/1210 [44:55<46:37,  3.68s/it]"
     ]
    },
    {
     "name": "stdout",
     "output_type": "stream",
     "text": [
      "Train acc. mean: 0.9918 | Validation acc. mean: 0.8649\n",
      "\n",
      "{'addressSize': 30, 'bleachingActivated': True, 'thermometer_size': 12}\n"
     ]
    },
    {
     "name": "stderr",
     "output_type": "stream",
     "text": [
      " 38%|███▊      | 455/1210 [45:15<50:44,  4.03s/it]"
     ]
    },
    {
     "name": "stdout",
     "output_type": "stream",
     "text": [
      "Train acc. mean: 0.9923 | Validation acc. mean: 0.8645\n",
      "\n",
      "{'addressSize': 30, 'bleachingActivated': True, 'thermometer_size': 13}\n"
     ]
    },
    {
     "name": "stderr",
     "output_type": "stream",
     "text": [
      " 38%|███▊      | 460/1210 [45:39<57:00,  4.56s/it]"
     ]
    },
    {
     "name": "stdout",
     "output_type": "stream",
     "text": [
      "Train acc. mean: 0.9949 | Validation acc. mean: 0.8697\n",
      "\n",
      "{'addressSize': 30, 'bleachingActivated': True, 'thermometer_size': 14}\n"
     ]
    },
    {
     "name": "stderr",
     "output_type": "stream",
     "text": [
      " 38%|███▊      | 465/1210 [46:01<56:10,  4.52s/it]"
     ]
    },
    {
     "name": "stdout",
     "output_type": "stream",
     "text": [
      "Train acc. mean: 0.9952 | Validation acc. mean: 0.8750\n",
      "\n",
      "{'addressSize': 30, 'bleachingActivated': True, 'thermometer_size': 15}\n"
     ]
    },
    {
     "name": "stderr",
     "output_type": "stream",
     "text": [
      " 39%|███▉      | 470/1210 [46:26<59:12,  4.80s/it]"
     ]
    },
    {
     "name": "stdout",
     "output_type": "stream",
     "text": [
      "Train acc. mean: 0.9955 | Validation acc. mean: 0.8685\n",
      "\n",
      "{'addressSize': 30, 'bleachingActivated': True, 'thermometer_size': 16}\n"
     ]
    },
    {
     "name": "stderr",
     "output_type": "stream",
     "text": [
      " 39%|███▉      | 475/1210 [46:52<1:02:23,  5.09s/it]"
     ]
    },
    {
     "name": "stdout",
     "output_type": "stream",
     "text": [
      "Train acc. mean: 0.9950 | Validation acc. mean: 0.8683\n",
      "\n",
      "{'addressSize': 30, 'bleachingActivated': True, 'thermometer_size': 17}\n"
     ]
    },
    {
     "name": "stderr",
     "output_type": "stream",
     "text": [
      " 40%|███▉      | 480/1210 [47:19<1:07:13,  5.53s/it]"
     ]
    },
    {
     "name": "stdout",
     "output_type": "stream",
     "text": [
      "Train acc. mean: 0.9955 | Validation acc. mean: 0.8727\n",
      "\n",
      "{'addressSize': 30, 'bleachingActivated': True, 'thermometer_size': 18}\n"
     ]
    },
    {
     "name": "stderr",
     "output_type": "stream",
     "text": [
      " 40%|████      | 485/1210 [47:52<1:16:50,  6.36s/it]"
     ]
    },
    {
     "name": "stdout",
     "output_type": "stream",
     "text": [
      "Train acc. mean: 0.9967 | Validation acc. mean: 0.8747\n",
      "\n",
      "{'addressSize': 30, 'bleachingActivated': True, 'thermometer_size': 19}\n"
     ]
    },
    {
     "name": "stderr",
     "output_type": "stream",
     "text": [
      " 40%|████      | 490/1210 [48:25<1:18:47,  6.57s/it]"
     ]
    },
    {
     "name": "stdout",
     "output_type": "stream",
     "text": [
      "Train acc. mean: 0.9973 | Validation acc. mean: 0.8753\n",
      "\n",
      "{'addressSize': 30, 'bleachingActivated': True, 'thermometer_size': 20}\n"
     ]
    },
    {
     "name": "stderr",
     "output_type": "stream",
     "text": [
      " 41%|████      | 495/1210 [48:59<1:20:21,  6.74s/it]"
     ]
    },
    {
     "name": "stdout",
     "output_type": "stream",
     "text": [
      "Train acc. mean: 0.9963 | Validation acc. mean: 0.8700\n",
      "\n",
      "{'addressSize': 30, 'bleachingActivated': False, 'thermometer_size': 10}\n"
     ]
    },
    {
     "name": "stderr",
     "output_type": "stream",
     "text": [
      " 41%|████▏     | 500/1210 [49:17<47:33,  4.02s/it]  "
     ]
    },
    {
     "name": "stdout",
     "output_type": "stream",
     "text": [
      "Train acc. mean: 0.9897 | Validation acc. mean: 0.8640\n",
      "\n",
      "{'addressSize': 30, 'bleachingActivated': False, 'thermometer_size': 11}\n"
     ]
    },
    {
     "name": "stderr",
     "output_type": "stream",
     "text": [
      " 42%|████▏     | 505/1210 [49:36<45:15,  3.85s/it]"
     ]
    },
    {
     "name": "stdout",
     "output_type": "stream",
     "text": [
      "Train acc. mean: 0.9903 | Validation acc. mean: 0.8588\n",
      "\n",
      "{'addressSize': 30, 'bleachingActivated': False, 'thermometer_size': 12}\n"
     ]
    },
    {
     "name": "stderr",
     "output_type": "stream",
     "text": [
      " 42%|████▏     | 510/1210 [49:57<47:20,  4.06s/it]"
     ]
    },
    {
     "name": "stdout",
     "output_type": "stream",
     "text": [
      "Train acc. mean: 0.9923 | Validation acc. mean: 0.8640\n",
      "\n",
      "{'addressSize': 30, 'bleachingActivated': False, 'thermometer_size': 13}\n"
     ]
    },
    {
     "name": "stderr",
     "output_type": "stream",
     "text": [
      " 43%|████▎     | 515/1210 [50:19<50:21,  4.35s/it]"
     ]
    },
    {
     "name": "stdout",
     "output_type": "stream",
     "text": [
      "Train acc. mean: 0.9922 | Validation acc. mean: 0.8670\n",
      "\n",
      "{'addressSize': 30, 'bleachingActivated': False, 'thermometer_size': 14}\n"
     ]
    },
    {
     "name": "stderr",
     "output_type": "stream",
     "text": [
      " 43%|████▎     | 520/1210 [50:42<53:37,  4.66s/it]"
     ]
    },
    {
     "name": "stdout",
     "output_type": "stream",
     "text": [
      "Train acc. mean: 0.9936 | Validation acc. mean: 0.8709\n",
      "\n",
      "{'addressSize': 30, 'bleachingActivated': False, 'thermometer_size': 15}\n"
     ]
    },
    {
     "name": "stderr",
     "output_type": "stream",
     "text": [
      " 43%|████▎     | 525/1210 [51:07<55:19,  4.85s/it]"
     ]
    },
    {
     "name": "stdout",
     "output_type": "stream",
     "text": [
      "Train acc. mean: 0.9953 | Validation acc. mean: 0.8664\n",
      "\n",
      "{'addressSize': 30, 'bleachingActivated': False, 'thermometer_size': 16}\n"
     ]
    },
    {
     "name": "stderr",
     "output_type": "stream",
     "text": [
      " 44%|████▍     | 530/1210 [51:34<1:00:22,  5.33s/it]"
     ]
    },
    {
     "name": "stdout",
     "output_type": "stream",
     "text": [
      "Train acc. mean: 0.9942 | Validation acc. mean: 0.8667\n",
      "\n",
      "{'addressSize': 30, 'bleachingActivated': False, 'thermometer_size': 17}\n"
     ]
    },
    {
     "name": "stderr",
     "output_type": "stream",
     "text": [
      " 44%|████▍     | 535/1210 [52:02<1:02:18,  5.54s/it]"
     ]
    },
    {
     "name": "stdout",
     "output_type": "stream",
     "text": [
      "Train acc. mean: 0.9956 | Validation acc. mean: 0.8730\n",
      "\n",
      "{'addressSize': 30, 'bleachingActivated': False, 'thermometer_size': 18}\n"
     ]
    },
    {
     "name": "stderr",
     "output_type": "stream",
     "text": [
      " 45%|████▍     | 540/1210 [52:33<1:08:35,  6.14s/it]"
     ]
    },
    {
     "name": "stdout",
     "output_type": "stream",
     "text": [
      "Train acc. mean: 0.9958 | Validation acc. mean: 0.8677\n",
      "\n",
      "{'addressSize': 30, 'bleachingActivated': False, 'thermometer_size': 19}\n"
     ]
    },
    {
     "name": "stderr",
     "output_type": "stream",
     "text": [
      " 45%|████▌     | 545/1210 [53:05<1:10:09,  6.33s/it]"
     ]
    },
    {
     "name": "stdout",
     "output_type": "stream",
     "text": [
      "Train acc. mean: 0.9961 | Validation acc. mean: 0.8728\n",
      "\n",
      "{'addressSize': 30, 'bleachingActivated': False, 'thermometer_size': 20}\n"
     ]
    },
    {
     "name": "stderr",
     "output_type": "stream",
     "text": [
      " 45%|████▌     | 550/1210 [53:38<1:12:35,  6.60s/it]"
     ]
    },
    {
     "name": "stdout",
     "output_type": "stream",
     "text": [
      "Train acc. mean: 0.9963 | Validation acc. mean: 0.8653\n",
      "\n",
      "{'addressSize': 35, 'bleachingActivated': True, 'thermometer_size': 10}\n"
     ]
    },
    {
     "name": "stderr",
     "output_type": "stream",
     "text": [
      " 46%|████▌     | 555/1210 [53:55<42:49,  3.92s/it]  "
     ]
    },
    {
     "name": "stdout",
     "output_type": "stream",
     "text": [
      "Train acc. mean: 0.9953 | Validation acc. mean: 0.8659\n",
      "\n",
      "{'addressSize': 35, 'bleachingActivated': True, 'thermometer_size': 11}\n"
     ]
    },
    {
     "name": "stderr",
     "output_type": "stream",
     "text": [
      " 46%|████▋     | 560/1210 [54:13<40:48,  3.77s/it]"
     ]
    },
    {
     "name": "stdout",
     "output_type": "stream",
     "text": [
      "Train acc. mean: 0.9957 | Validation acc. mean: 0.8645\n",
      "\n",
      "{'addressSize': 35, 'bleachingActivated': True, 'thermometer_size': 12}\n"
     ]
    },
    {
     "name": "stderr",
     "output_type": "stream",
     "text": [
      " 47%|████▋     | 565/1210 [54:33<41:59,  3.91s/it]"
     ]
    },
    {
     "name": "stdout",
     "output_type": "stream",
     "text": [
      "Train acc. mean: 0.9964 | Validation acc. mean: 0.8724\n",
      "\n",
      "{'addressSize': 35, 'bleachingActivated': True, 'thermometer_size': 13}\n"
     ]
    },
    {
     "name": "stderr",
     "output_type": "stream",
     "text": [
      " 47%|████▋     | 570/1210 [54:54<44:29,  4.17s/it]"
     ]
    },
    {
     "name": "stdout",
     "output_type": "stream",
     "text": [
      "Train acc. mean: 0.9966 | Validation acc. mean: 0.8720\n",
      "\n",
      "{'addressSize': 35, 'bleachingActivated': True, 'thermometer_size': 14}\n"
     ]
    },
    {
     "name": "stderr",
     "output_type": "stream",
     "text": [
      " 48%|████▊     | 575/1210 [55:18<48:55,  4.62s/it]"
     ]
    },
    {
     "name": "stdout",
     "output_type": "stream",
     "text": [
      "Train acc. mean: 0.9969 | Validation acc. mean: 0.8766\n",
      "\n",
      "{'addressSize': 35, 'bleachingActivated': True, 'thermometer_size': 15}\n"
     ]
    },
    {
     "name": "stderr",
     "output_type": "stream",
     "text": [
      " 48%|████▊     | 580/1210 [55:48<57:17,  5.46s/it]  "
     ]
    },
    {
     "name": "stdout",
     "output_type": "stream",
     "text": [
      "Train acc. mean: 0.9983 | Validation acc. mean: 0.8761\n",
      "\n",
      "{'addressSize': 35, 'bleachingActivated': True, 'thermometer_size': 16}\n"
     ]
    },
    {
     "name": "stderr",
     "output_type": "stream",
     "text": [
      " 48%|████▊     | 585/1210 [56:13<54:27,  5.23s/it]"
     ]
    },
    {
     "name": "stdout",
     "output_type": "stream",
     "text": [
      "Train acc. mean: 0.9981 | Validation acc. mean: 0.8764\n",
      "\n",
      "{'addressSize': 35, 'bleachingActivated': True, 'thermometer_size': 17}\n"
     ]
    },
    {
     "name": "stderr",
     "output_type": "stream",
     "text": [
      " 49%|████▉     | 590/1210 [56:41<56:46,  5.49s/it]"
     ]
    },
    {
     "name": "stdout",
     "output_type": "stream",
     "text": [
      "Train acc. mean: 0.9984 | Validation acc. mean: 0.8833\n",
      "\n",
      "{'addressSize': 35, 'bleachingActivated': True, 'thermometer_size': 18}\n"
     ]
    },
    {
     "name": "stderr",
     "output_type": "stream",
     "text": [
      " 49%|████▉     | 595/1210 [57:11<59:52,  5.84s/it]"
     ]
    },
    {
     "name": "stdout",
     "output_type": "stream",
     "text": [
      "Train acc. mean: 0.9984 | Validation acc. mean: 0.8784\n",
      "\n",
      "{'addressSize': 35, 'bleachingActivated': True, 'thermometer_size': 19}\n"
     ]
    },
    {
     "name": "stderr",
     "output_type": "stream",
     "text": [
      " 50%|████▉     | 600/1210 [57:42<1:03:14,  6.22s/it]"
     ]
    },
    {
     "name": "stdout",
     "output_type": "stream",
     "text": [
      "Train acc. mean: 0.9990 | Validation acc. mean: 0.8755\n",
      "\n",
      "{'addressSize': 35, 'bleachingActivated': True, 'thermometer_size': 20}\n"
     ]
    },
    {
     "name": "stderr",
     "output_type": "stream",
     "text": [
      " 50%|█████     | 605/1210 [58:15<1:05:43,  6.52s/it]"
     ]
    },
    {
     "name": "stdout",
     "output_type": "stream",
     "text": [
      "Train acc. mean: 0.9989 | Validation acc. mean: 0.8730\n",
      "\n",
      "{'addressSize': 35, 'bleachingActivated': False, 'thermometer_size': 10}\n"
     ]
    },
    {
     "name": "stderr",
     "output_type": "stream",
     "text": [
      " 50%|█████     | 610/1210 [58:34<42:43,  4.27s/it]  "
     ]
    },
    {
     "name": "stdout",
     "output_type": "stream",
     "text": [
      "Train acc. mean: 0.9944 | Validation acc. mean: 0.8599\n",
      "\n",
      "{'addressSize': 35, 'bleachingActivated': False, 'thermometer_size': 11}\n"
     ]
    },
    {
     "name": "stderr",
     "output_type": "stream",
     "text": [
      " 51%|█████     | 615/1210 [58:52<37:20,  3.77s/it]"
     ]
    },
    {
     "name": "stdout",
     "output_type": "stream",
     "text": [
      "Train acc. mean: 0.9948 | Validation acc. mean: 0.8659\n",
      "\n",
      "{'addressSize': 35, 'bleachingActivated': False, 'thermometer_size': 12}\n"
     ]
    },
    {
     "name": "stderr",
     "output_type": "stream",
     "text": [
      " 51%|█████     | 620/1210 [59:12<39:51,  4.05s/it]"
     ]
    },
    {
     "name": "stdout",
     "output_type": "stream",
     "text": [
      "Train acc. mean: 0.9954 | Validation acc. mean: 0.8652\n",
      "\n",
      "{'addressSize': 35, 'bleachingActivated': False, 'thermometer_size': 13}\n"
     ]
    },
    {
     "name": "stderr",
     "output_type": "stream",
     "text": [
      " 52%|█████▏    | 625/1210 [59:36<43:28,  4.46s/it]"
     ]
    },
    {
     "name": "stdout",
     "output_type": "stream",
     "text": [
      "Train acc. mean: 0.9965 | Validation acc. mean: 0.8708\n",
      "\n",
      "{'addressSize': 35, 'bleachingActivated': False, 'thermometer_size': 14}\n"
     ]
    },
    {
     "name": "stderr",
     "output_type": "stream",
     "text": [
      " 52%|█████▏    | 630/1210 [59:58<43:32,  4.50s/it]"
     ]
    },
    {
     "name": "stdout",
     "output_type": "stream",
     "text": [
      "Train acc. mean: 0.9964 | Validation acc. mean: 0.8701\n",
      "\n",
      "{'addressSize': 35, 'bleachingActivated': False, 'thermometer_size': 15}\n"
     ]
    },
    {
     "name": "stderr",
     "output_type": "stream",
     "text": [
      " 52%|█████▏    | 635/1210 [1:00:23<46:33,  4.86s/it]"
     ]
    },
    {
     "name": "stdout",
     "output_type": "stream",
     "text": [
      "Train acc. mean: 0.9968 | Validation acc. mean: 0.8798\n",
      "\n",
      "{'addressSize': 35, 'bleachingActivated': False, 'thermometer_size': 16}\n"
     ]
    },
    {
     "name": "stderr",
     "output_type": "stream",
     "text": [
      " 53%|█████▎    | 640/1210 [1:00:49<48:38,  5.12s/it]"
     ]
    },
    {
     "name": "stdout",
     "output_type": "stream",
     "text": [
      "Train acc. mean: 0.9974 | Validation acc. mean: 0.8713\n",
      "\n",
      "{'addressSize': 35, 'bleachingActivated': False, 'thermometer_size': 17}\n"
     ]
    },
    {
     "name": "stderr",
     "output_type": "stream",
     "text": [
      " 53%|█████▎    | 645/1210 [1:01:17<52:29,  5.57s/it]"
     ]
    },
    {
     "name": "stdout",
     "output_type": "stream",
     "text": [
      "Train acc. mean: 0.9980 | Validation acc. mean: 0.8726\n",
      "\n",
      "{'addressSize': 35, 'bleachingActivated': False, 'thermometer_size': 18}\n"
     ]
    },
    {
     "name": "stderr",
     "output_type": "stream",
     "text": [
      " 54%|█████▎    | 650/1210 [1:01:47<55:02,  5.90s/it]"
     ]
    },
    {
     "name": "stdout",
     "output_type": "stream",
     "text": [
      "Train acc. mean: 0.9982 | Validation acc. mean: 0.8762\n",
      "\n",
      "{'addressSize': 35, 'bleachingActivated': False, 'thermometer_size': 19}\n"
     ]
    },
    {
     "name": "stderr",
     "output_type": "stream",
     "text": [
      " 54%|█████▍    | 655/1210 [1:02:19<59:50,  6.47s/it]"
     ]
    },
    {
     "name": "stdout",
     "output_type": "stream",
     "text": [
      "Train acc. mean: 0.9981 | Validation acc. mean: 0.8735\n",
      "\n",
      "{'addressSize': 35, 'bleachingActivated': False, 'thermometer_size': 20}\n"
     ]
    },
    {
     "name": "stderr",
     "output_type": "stream",
     "text": [
      " 55%|█████▍    | 660/1210 [1:02:52<59:55,  6.54s/it]  "
     ]
    },
    {
     "name": "stdout",
     "output_type": "stream",
     "text": [
      "Train acc. mean: 0.9988 | Validation acc. mean: 0.8711\n",
      "\n",
      "{'addressSize': 40, 'bleachingActivated': True, 'thermometer_size': 10}\n"
     ]
    },
    {
     "name": "stderr",
     "output_type": "stream",
     "text": [
      " 55%|█████▍    | 665/1210 [1:03:09<36:37,  4.03s/it]"
     ]
    },
    {
     "name": "stdout",
     "output_type": "stream",
     "text": [
      "Train acc. mean: 0.9975 | Validation acc. mean: 0.8659\n",
      "\n",
      "{'addressSize': 40, 'bleachingActivated': True, 'thermometer_size': 11}\n"
     ]
    },
    {
     "name": "stderr",
     "output_type": "stream",
     "text": [
      " 55%|█████▌    | 670/1210 [1:03:28<33:39,  3.74s/it]"
     ]
    },
    {
     "name": "stdout",
     "output_type": "stream",
     "text": [
      "Train acc. mean: 0.9983 | Validation acc. mean: 0.8708\n",
      "\n",
      "{'addressSize': 40, 'bleachingActivated': True, 'thermometer_size': 12}\n"
     ]
    },
    {
     "name": "stderr",
     "output_type": "stream",
     "text": [
      " 56%|█████▌    | 675/1210 [1:03:48<35:06,  3.94s/it]"
     ]
    },
    {
     "name": "stdout",
     "output_type": "stream",
     "text": [
      "Train acc. mean: 0.9983 | Validation acc. mean: 0.8708\n",
      "\n",
      "{'addressSize': 40, 'bleachingActivated': True, 'thermometer_size': 13}\n"
     ]
    },
    {
     "name": "stderr",
     "output_type": "stream",
     "text": [
      " 56%|█████▌    | 680/1210 [1:04:09<36:40,  4.15s/it]"
     ]
    },
    {
     "name": "stdout",
     "output_type": "stream",
     "text": [
      "Train acc. mean: 0.9985 | Validation acc. mean: 0.8727\n",
      "\n",
      "{'addressSize': 40, 'bleachingActivated': True, 'thermometer_size': 14}\n"
     ]
    },
    {
     "name": "stderr",
     "output_type": "stream",
     "text": [
      " 57%|█████▋    | 685/1210 [1:04:32<39:18,  4.49s/it]"
     ]
    },
    {
     "name": "stdout",
     "output_type": "stream",
     "text": [
      "Train acc. mean: 0.9991 | Validation acc. mean: 0.8755\n",
      "\n",
      "{'addressSize': 40, 'bleachingActivated': True, 'thermometer_size': 15}\n"
     ]
    },
    {
     "name": "stderr",
     "output_type": "stream",
     "text": [
      " 57%|█████▋    | 690/1210 [1:04:57<41:33,  4.80s/it]"
     ]
    },
    {
     "name": "stdout",
     "output_type": "stream",
     "text": [
      "Train acc. mean: 0.9987 | Validation acc. mean: 0.8749\n",
      "\n",
      "{'addressSize': 40, 'bleachingActivated': True, 'thermometer_size': 16}\n"
     ]
    },
    {
     "name": "stderr",
     "output_type": "stream",
     "text": [
      " 57%|█████▋    | 695/1210 [1:05:24<48:16,  5.62s/it]"
     ]
    },
    {
     "name": "stdout",
     "output_type": "stream",
     "text": [
      "Train acc. mean: 0.9992 | Validation acc. mean: 0.8784\n",
      "\n",
      "{'addressSize': 40, 'bleachingActivated': True, 'thermometer_size': 17}\n"
     ]
    },
    {
     "name": "stderr",
     "output_type": "stream",
     "text": [
      " 58%|█████▊    | 700/1210 [1:05:53<47:44,  5.62s/it]"
     ]
    },
    {
     "name": "stdout",
     "output_type": "stream",
     "text": [
      "Train acc. mean: 0.9991 | Validation acc. mean: 0.8757\n",
      "\n",
      "{'addressSize': 40, 'bleachingActivated': True, 'thermometer_size': 18}\n"
     ]
    },
    {
     "name": "stderr",
     "output_type": "stream",
     "text": [
      " 58%|█████▊    | 705/1210 [1:06:23<50:42,  6.03s/it]"
     ]
    },
    {
     "name": "stdout",
     "output_type": "stream",
     "text": [
      "Train acc. mean: 0.9994 | Validation acc. mean: 0.8787\n",
      "\n",
      "{'addressSize': 40, 'bleachingActivated': True, 'thermometer_size': 19}\n"
     ]
    },
    {
     "name": "stderr",
     "output_type": "stream",
     "text": [
      " 59%|█████▊    | 710/1210 [1:06:55<52:36,  6.31s/it]"
     ]
    },
    {
     "name": "stdout",
     "output_type": "stream",
     "text": [
      "Train acc. mean: 0.9995 | Validation acc. mean: 0.8832\n",
      "\n",
      "{'addressSize': 40, 'bleachingActivated': True, 'thermometer_size': 20}\n"
     ]
    },
    {
     "name": "stderr",
     "output_type": "stream",
     "text": [
      " 59%|█████▉    | 715/1210 [1:07:28<53:17,  6.46s/it]"
     ]
    },
    {
     "name": "stdout",
     "output_type": "stream",
     "text": [
      "Train acc. mean: 0.9997 | Validation acc. mean: 0.8806\n",
      "\n",
      "{'addressSize': 40, 'bleachingActivated': False, 'thermometer_size': 10}\n"
     ]
    },
    {
     "name": "stderr",
     "output_type": "stream",
     "text": [
      " 60%|█████▉    | 720/1210 [1:07:45<31:56,  3.91s/it]"
     ]
    },
    {
     "name": "stdout",
     "output_type": "stream",
     "text": [
      "Train acc. mean: 0.9968 | Validation acc. mean: 0.8677\n",
      "\n",
      "{'addressSize': 40, 'bleachingActivated': False, 'thermometer_size': 11}\n"
     ]
    },
    {
     "name": "stderr",
     "output_type": "stream",
     "text": [
      " 60%|█████▉    | 725/1210 [1:08:04<30:28,  3.77s/it]"
     ]
    },
    {
     "name": "stdout",
     "output_type": "stream",
     "text": [
      "Train acc. mean: 0.9975 | Validation acc. mean: 0.8677\n",
      "\n",
      "{'addressSize': 40, 'bleachingActivated': False, 'thermometer_size': 12}\n"
     ]
    },
    {
     "name": "stderr",
     "output_type": "stream",
     "text": [
      " 60%|██████    | 730/1210 [1:08:25<33:17,  4.16s/it]"
     ]
    },
    {
     "name": "stdout",
     "output_type": "stream",
     "text": [
      "Train acc. mean: 0.9983 | Validation acc. mean: 0.8764\n",
      "\n",
      "{'addressSize': 40, 'bleachingActivated': False, 'thermometer_size': 13}\n"
     ]
    },
    {
     "name": "stderr",
     "output_type": "stream",
     "text": [
      " 61%|██████    | 735/1210 [1:08:47<33:59,  4.29s/it]"
     ]
    },
    {
     "name": "stdout",
     "output_type": "stream",
     "text": [
      "Train acc. mean: 0.9979 | Validation acc. mean: 0.8713\n",
      "\n",
      "{'addressSize': 40, 'bleachingActivated': False, 'thermometer_size': 14}\n"
     ]
    },
    {
     "name": "stderr",
     "output_type": "stream",
     "text": [
      " 61%|██████    | 740/1210 [1:09:09<35:23,  4.52s/it]"
     ]
    },
    {
     "name": "stdout",
     "output_type": "stream",
     "text": [
      "Train acc. mean: 0.9985 | Validation acc. mean: 0.8764\n",
      "\n",
      "{'addressSize': 40, 'bleachingActivated': False, 'thermometer_size': 15}\n"
     ]
    },
    {
     "name": "stderr",
     "output_type": "stream",
     "text": [
      " 62%|██████▏   | 745/1210 [1:09:34<37:40,  4.86s/it]"
     ]
    },
    {
     "name": "stdout",
     "output_type": "stream",
     "text": [
      "Train acc. mean: 0.9985 | Validation acc. mean: 0.8821\n",
      "\n",
      "{'addressSize': 40, 'bleachingActivated': False, 'thermometer_size': 16}\n"
     ]
    },
    {
     "name": "stderr",
     "output_type": "stream",
     "text": [
      " 62%|██████▏   | 750/1210 [1:10:00<39:32,  5.16s/it]"
     ]
    },
    {
     "name": "stdout",
     "output_type": "stream",
     "text": [
      "Train acc. mean: 0.9989 | Validation acc. mean: 0.8796\n",
      "\n",
      "{'addressSize': 40, 'bleachingActivated': False, 'thermometer_size': 17}\n"
     ]
    },
    {
     "name": "stderr",
     "output_type": "stream",
     "text": [
      " 62%|██████▏   | 755/1210 [1:10:29<41:57,  5.53s/it]"
     ]
    },
    {
     "name": "stdout",
     "output_type": "stream",
     "text": [
      "Train acc. mean: 0.9992 | Validation acc. mean: 0.8755\n",
      "\n",
      "{'addressSize': 40, 'bleachingActivated': False, 'thermometer_size': 18}\n"
     ]
    },
    {
     "name": "stderr",
     "output_type": "stream",
     "text": [
      " 63%|██████▎   | 760/1210 [1:10:59<46:00,  6.13s/it]"
     ]
    },
    {
     "name": "stdout",
     "output_type": "stream",
     "text": [
      "Train acc. mean: 0.9990 | Validation acc. mean: 0.8753\n",
      "\n",
      "{'addressSize': 40, 'bleachingActivated': False, 'thermometer_size': 19}\n"
     ]
    },
    {
     "name": "stderr",
     "output_type": "stream",
     "text": [
      " 63%|██████▎   | 765/1210 [1:11:33<49:10,  6.63s/it]"
     ]
    },
    {
     "name": "stdout",
     "output_type": "stream",
     "text": [
      "Train acc. mean: 0.9996 | Validation acc. mean: 0.8796\n",
      "\n",
      "{'addressSize': 40, 'bleachingActivated': False, 'thermometer_size': 20}\n"
     ]
    },
    {
     "name": "stderr",
     "output_type": "stream",
     "text": [
      " 64%|██████▎   | 770/1210 [1:12:08<50:22,  6.87s/it]"
     ]
    },
    {
     "name": "stdout",
     "output_type": "stream",
     "text": [
      "Train acc. mean: 0.9995 | Validation acc. mean: 0.8818\n",
      "\n",
      "{'addressSize': 45, 'bleachingActivated': True, 'thermometer_size': 10}\n"
     ]
    },
    {
     "name": "stderr",
     "output_type": "stream",
     "text": [
      " 64%|██████▍   | 775/1210 [1:12:26<30:04,  4.15s/it]"
     ]
    },
    {
     "name": "stdout",
     "output_type": "stream",
     "text": [
      "Train acc. mean: 0.9987 | Validation acc. mean: 0.8662\n",
      "\n",
      "{'addressSize': 45, 'bleachingActivated': True, 'thermometer_size': 11}\n"
     ]
    },
    {
     "name": "stderr",
     "output_type": "stream",
     "text": [
      " 64%|██████▍   | 780/1210 [1:12:45<28:12,  3.94s/it]"
     ]
    },
    {
     "name": "stdout",
     "output_type": "stream",
     "text": [
      "Train acc. mean: 0.9991 | Validation acc. mean: 0.8659\n",
      "\n",
      "{'addressSize': 45, 'bleachingActivated': True, 'thermometer_size': 12}\n"
     ]
    },
    {
     "name": "stderr",
     "output_type": "stream",
     "text": [
      " 65%|██████▍   | 785/1210 [1:13:07<29:44,  4.20s/it]"
     ]
    },
    {
     "name": "stdout",
     "output_type": "stream",
     "text": [
      "Train acc. mean: 0.9992 | Validation acc. mean: 0.8740\n",
      "\n",
      "{'addressSize': 45, 'bleachingActivated': True, 'thermometer_size': 13}\n"
     ]
    },
    {
     "name": "stderr",
     "output_type": "stream",
     "text": [
      " 65%|██████▌   | 790/1210 [1:13:30<31:58,  4.57s/it]"
     ]
    },
    {
     "name": "stdout",
     "output_type": "stream",
     "text": [
      "Train acc. mean: 0.9995 | Validation acc. mean: 0.8742\n",
      "\n",
      "{'addressSize': 45, 'bleachingActivated': True, 'thermometer_size': 14}\n"
     ]
    },
    {
     "name": "stderr",
     "output_type": "stream",
     "text": [
      " 66%|██████▌   | 795/1210 [1:13:55<33:03,  4.78s/it]"
     ]
    },
    {
     "name": "stdout",
     "output_type": "stream",
     "text": [
      "Train acc. mean: 0.9997 | Validation acc. mean: 0.8758\n",
      "\n",
      "{'addressSize': 45, 'bleachingActivated': True, 'thermometer_size': 15}\n"
     ]
    },
    {
     "name": "stderr",
     "output_type": "stream",
     "text": [
      " 66%|██████▌   | 800/1210 [1:14:20<34:58,  5.12s/it]"
     ]
    },
    {
     "name": "stdout",
     "output_type": "stream",
     "text": [
      "Train acc. mean: 0.9996 | Validation acc. mean: 0.8742\n",
      "\n",
      "{'addressSize': 45, 'bleachingActivated': True, 'thermometer_size': 16}\n"
     ]
    },
    {
     "name": "stderr",
     "output_type": "stream",
     "text": [
      " 67%|██████▋   | 805/1210 [1:14:48<36:58,  5.48s/it]"
     ]
    },
    {
     "name": "stdout",
     "output_type": "stream",
     "text": [
      "Train acc. mean: 0.9997 | Validation acc. mean: 0.8768\n",
      "\n",
      "{'addressSize': 45, 'bleachingActivated': True, 'thermometer_size': 17}\n"
     ]
    },
    {
     "name": "stderr",
     "output_type": "stream",
     "text": [
      " 67%|██████▋   | 810/1210 [1:15:17<38:55,  5.84s/it]"
     ]
    },
    {
     "name": "stdout",
     "output_type": "stream",
     "text": [
      "Train acc. mean: 0.9999 | Validation acc. mean: 0.8730\n",
      "\n",
      "{'addressSize': 45, 'bleachingActivated': True, 'thermometer_size': 18}\n"
     ]
    },
    {
     "name": "stderr",
     "output_type": "stream",
     "text": [
      " 67%|██████▋   | 815/1210 [1:15:51<41:53,  6.36s/it]"
     ]
    },
    {
     "name": "stdout",
     "output_type": "stream",
     "text": [
      "Train acc. mean: 0.9999 | Validation acc. mean: 0.8792\n",
      "\n",
      "{'addressSize': 45, 'bleachingActivated': True, 'thermometer_size': 19}\n"
     ]
    },
    {
     "name": "stderr",
     "output_type": "stream",
     "text": [
      " 68%|██████▊   | 820/1210 [1:16:23<42:34,  6.55s/it]"
     ]
    },
    {
     "name": "stdout",
     "output_type": "stream",
     "text": [
      "Train acc. mean: 0.9998 | Validation acc. mean: 0.8847\n",
      "\n",
      "{'addressSize': 45, 'bleachingActivated': True, 'thermometer_size': 20}\n"
     ]
    },
    {
     "name": "stderr",
     "output_type": "stream",
     "text": [
      " 68%|██████▊   | 825/1210 [1:16:57<42:56,  6.69s/it]"
     ]
    },
    {
     "name": "stdout",
     "output_type": "stream",
     "text": [
      "Train acc. mean: 0.9998 | Validation acc. mean: 0.8764\n",
      "\n",
      "{'addressSize': 45, 'bleachingActivated': False, 'thermometer_size': 10}\n"
     ]
    },
    {
     "name": "stderr",
     "output_type": "stream",
     "text": [
      " 69%|██████▊   | 830/1210 [1:17:15<25:46,  4.07s/it]"
     ]
    },
    {
     "name": "stdout",
     "output_type": "stream",
     "text": [
      "Train acc. mean: 0.9988 | Validation acc. mean: 0.8664\n",
      "\n",
      "{'addressSize': 45, 'bleachingActivated': False, 'thermometer_size': 11}\n"
     ]
    },
    {
     "name": "stderr",
     "output_type": "stream",
     "text": [
      " 69%|██████▉   | 835/1210 [1:17:35<24:43,  3.96s/it]"
     ]
    },
    {
     "name": "stdout",
     "output_type": "stream",
     "text": [
      "Train acc. mean: 0.9988 | Validation acc. mean: 0.8679\n",
      "\n",
      "{'addressSize': 45, 'bleachingActivated': False, 'thermometer_size': 12}\n"
     ]
    },
    {
     "name": "stderr",
     "output_type": "stream",
     "text": [
      " 69%|██████▉   | 840/1210 [1:17:57<26:22,  4.28s/it]"
     ]
    },
    {
     "name": "stdout",
     "output_type": "stream",
     "text": [
      "Train acc. mean: 0.9990 | Validation acc. mean: 0.8692\n",
      "\n",
      "{'addressSize': 45, 'bleachingActivated': False, 'thermometer_size': 13}\n"
     ]
    },
    {
     "name": "stderr",
     "output_type": "stream",
     "text": [
      " 70%|██████▉   | 845/1210 [1:18:19<27:27,  4.51s/it]"
     ]
    },
    {
     "name": "stdout",
     "output_type": "stream",
     "text": [
      "Train acc. mean: 0.9994 | Validation acc. mean: 0.8730\n",
      "\n",
      "{'addressSize': 45, 'bleachingActivated': False, 'thermometer_size': 14}\n"
     ]
    },
    {
     "name": "stderr",
     "output_type": "stream",
     "text": [
      " 70%|███████   | 850/1210 [1:18:43<28:40,  4.78s/it]"
     ]
    },
    {
     "name": "stdout",
     "output_type": "stream",
     "text": [
      "Train acc. mean: 0.9993 | Validation acc. mean: 0.8745\n",
      "\n",
      "{'addressSize': 45, 'bleachingActivated': False, 'thermometer_size': 15}\n"
     ]
    },
    {
     "name": "stderr",
     "output_type": "stream",
     "text": [
      " 71%|███████   | 855/1210 [1:19:09<29:31,  4.99s/it]"
     ]
    },
    {
     "name": "stdout",
     "output_type": "stream",
     "text": [
      "Train acc. mean: 0.9995 | Validation acc. mean: 0.8768\n",
      "\n",
      "{'addressSize': 45, 'bleachingActivated': False, 'thermometer_size': 16}\n"
     ]
    },
    {
     "name": "stderr",
     "output_type": "stream",
     "text": [
      " 71%|███████   | 860/1210 [1:19:36<31:38,  5.42s/it]"
     ]
    },
    {
     "name": "stdout",
     "output_type": "stream",
     "text": [
      "Train acc. mean: 0.9996 | Validation acc. mean: 0.8828\n",
      "\n",
      "{'addressSize': 45, 'bleachingActivated': False, 'thermometer_size': 17}\n"
     ]
    },
    {
     "name": "stderr",
     "output_type": "stream",
     "text": [
      " 71%|███████▏  | 865/1210 [1:20:06<33:20,  5.80s/it]"
     ]
    },
    {
     "name": "stdout",
     "output_type": "stream",
     "text": [
      "Train acc. mean: 0.9997 | Validation acc. mean: 0.8784\n",
      "\n",
      "{'addressSize': 45, 'bleachingActivated': False, 'thermometer_size': 18}\n"
     ]
    },
    {
     "name": "stderr",
     "output_type": "stream",
     "text": [
      " 72%|███████▏  | 870/1210 [1:20:37<35:03,  6.19s/it]"
     ]
    },
    {
     "name": "stdout",
     "output_type": "stream",
     "text": [
      "Train acc. mean: 0.9997 | Validation acc. mean: 0.8857\n",
      "\n",
      "{'addressSize': 45, 'bleachingActivated': False, 'thermometer_size': 19}\n"
     ]
    },
    {
     "name": "stderr",
     "output_type": "stream",
     "text": [
      " 72%|███████▏  | 875/1210 [1:21:10<36:10,  6.48s/it]"
     ]
    },
    {
     "name": "stdout",
     "output_type": "stream",
     "text": [
      "Train acc. mean: 0.9998 | Validation acc. mean: 0.8807\n",
      "\n",
      "{'addressSize': 45, 'bleachingActivated': False, 'thermometer_size': 20}\n"
     ]
    },
    {
     "name": "stderr",
     "output_type": "stream",
     "text": [
      " 73%|███████▎  | 880/1210 [1:21:45<37:43,  6.86s/it]"
     ]
    },
    {
     "name": "stdout",
     "output_type": "stream",
     "text": [
      "Train acc. mean: 0.9999 | Validation acc. mean: 0.8747\n",
      "\n",
      "{'addressSize': 50, 'bleachingActivated': True, 'thermometer_size': 10}\n"
     ]
    },
    {
     "name": "stderr",
     "output_type": "stream",
     "text": [
      " 73%|███████▎  | 885/1210 [1:22:03<22:35,  4.17s/it]"
     ]
    },
    {
     "name": "stdout",
     "output_type": "stream",
     "text": [
      "Train acc. mean: 0.9993 | Validation acc. mean: 0.8700\n",
      "\n",
      "{'addressSize': 50, 'bleachingActivated': True, 'thermometer_size': 11}\n"
     ]
    },
    {
     "name": "stderr",
     "output_type": "stream",
     "text": [
      " 74%|███████▎  | 890/1210 [1:22:22<20:50,  3.91s/it]"
     ]
    },
    {
     "name": "stdout",
     "output_type": "stream",
     "text": [
      "Train acc. mean: 0.9994 | Validation acc. mean: 0.8685\n",
      "\n",
      "{'addressSize': 50, 'bleachingActivated': True, 'thermometer_size': 12}\n"
     ]
    },
    {
     "name": "stderr",
     "output_type": "stream",
     "text": [
      " 74%|███████▍  | 895/1210 [1:22:43<21:49,  4.16s/it]"
     ]
    },
    {
     "name": "stdout",
     "output_type": "stream",
     "text": [
      "Train acc. mean: 0.9994 | Validation acc. mean: 0.8757\n",
      "\n",
      "{'addressSize': 50, 'bleachingActivated': True, 'thermometer_size': 13}\n"
     ]
    },
    {
     "name": "stderr",
     "output_type": "stream",
     "text": [
      " 74%|███████▍  | 900/1210 [1:23:05<22:34,  4.37s/it]"
     ]
    },
    {
     "name": "stdout",
     "output_type": "stream",
     "text": [
      "Train acc. mean: 0.9997 | Validation acc. mean: 0.8746\n",
      "\n",
      "{'addressSize': 50, 'bleachingActivated': True, 'thermometer_size': 14}\n"
     ]
    },
    {
     "name": "stderr",
     "output_type": "stream",
     "text": [
      " 75%|███████▍  | 905/1210 [1:23:29<23:53,  4.70s/it]"
     ]
    },
    {
     "name": "stdout",
     "output_type": "stream",
     "text": [
      "Train acc. mean: 0.9998 | Validation acc. mean: 0.8736\n",
      "\n",
      "{'addressSize': 50, 'bleachingActivated': True, 'thermometer_size': 15}\n"
     ]
    },
    {
     "name": "stderr",
     "output_type": "stream",
     "text": [
      " 75%|███████▌  | 910/1210 [1:23:55<25:06,  5.02s/it]"
     ]
    },
    {
     "name": "stdout",
     "output_type": "stream",
     "text": [
      "Train acc. mean: 0.9998 | Validation acc. mean: 0.8799\n",
      "\n",
      "{'addressSize': 50, 'bleachingActivated': True, 'thermometer_size': 16}\n"
     ]
    },
    {
     "name": "stderr",
     "output_type": "stream",
     "text": [
      " 76%|███████▌  | 915/1210 [1:24:22<26:46,  5.45s/it]"
     ]
    },
    {
     "name": "stdout",
     "output_type": "stream",
     "text": [
      "Train acc. mean: 1.0000 | Validation acc. mean: 0.8716\n",
      "\n",
      "{'addressSize': 50, 'bleachingActivated': True, 'thermometer_size': 17}\n"
     ]
    },
    {
     "name": "stderr",
     "output_type": "stream",
     "text": [
      " 76%|███████▌  | 920/1210 [1:24:51<27:39,  5.72s/it]"
     ]
    },
    {
     "name": "stdout",
     "output_type": "stream",
     "text": [
      "Train acc. mean: 1.0000 | Validation acc. mean: 0.8829\n",
      "\n",
      "{'addressSize': 50, 'bleachingActivated': True, 'thermometer_size': 18}\n"
     ]
    },
    {
     "name": "stderr",
     "output_type": "stream",
     "text": [
      " 76%|███████▋  | 925/1210 [1:25:23<30:30,  6.42s/it]"
     ]
    },
    {
     "name": "stdout",
     "output_type": "stream",
     "text": [
      "Train acc. mean: 0.9999 | Validation acc. mean: 0.8727\n",
      "\n",
      "{'addressSize': 50, 'bleachingActivated': True, 'thermometer_size': 19}\n"
     ]
    },
    {
     "name": "stderr",
     "output_type": "stream",
     "text": [
      " 77%|███████▋  | 930/1210 [1:26:00<31:55,  6.84s/it]"
     ]
    },
    {
     "name": "stdout",
     "output_type": "stream",
     "text": [
      "Train acc. mean: 1.0000 | Validation acc. mean: 0.8803\n",
      "\n",
      "{'addressSize': 50, 'bleachingActivated': True, 'thermometer_size': 20}\n"
     ]
    },
    {
     "name": "stderr",
     "output_type": "stream",
     "text": [
      " 77%|███████▋  | 935/1210 [1:26:33<30:52,  6.74s/it]"
     ]
    },
    {
     "name": "stdout",
     "output_type": "stream",
     "text": [
      "Train acc. mean: 0.9999 | Validation acc. mean: 0.8774\n",
      "\n",
      "{'addressSize': 50, 'bleachingActivated': False, 'thermometer_size': 10}\n"
     ]
    },
    {
     "name": "stderr",
     "output_type": "stream",
     "text": [
      " 78%|███████▊  | 940/1210 [1:26:51<18:25,  4.10s/it]"
     ]
    },
    {
     "name": "stdout",
     "output_type": "stream",
     "text": [
      "Train acc. mean: 0.9994 | Validation acc. mean: 0.8674\n",
      "\n",
      "{'addressSize': 50, 'bleachingActivated': False, 'thermometer_size': 11}\n"
     ]
    },
    {
     "name": "stderr",
     "output_type": "stream",
     "text": [
      " 78%|███████▊  | 945/1210 [1:27:11<17:03,  3.86s/it]"
     ]
    },
    {
     "name": "stdout",
     "output_type": "stream",
     "text": [
      "Train acc. mean: 0.9994 | Validation acc. mean: 0.8711\n",
      "\n",
      "{'addressSize': 50, 'bleachingActivated': False, 'thermometer_size': 12}\n"
     ]
    },
    {
     "name": "stderr",
     "output_type": "stream",
     "text": [
      " 79%|███████▊  | 950/1210 [1:27:32<18:17,  4.22s/it]"
     ]
    },
    {
     "name": "stdout",
     "output_type": "stream",
     "text": [
      "Train acc. mean: 0.9996 | Validation acc. mean: 0.8678\n",
      "\n",
      "{'addressSize': 50, 'bleachingActivated': False, 'thermometer_size': 13}\n"
     ]
    },
    {
     "name": "stderr",
     "output_type": "stream",
     "text": [
      " 79%|███████▉  | 955/1210 [1:27:54<18:51,  4.44s/it]"
     ]
    },
    {
     "name": "stdout",
     "output_type": "stream",
     "text": [
      "Train acc. mean: 0.9997 | Validation acc. mean: 0.8705\n",
      "\n",
      "{'addressSize': 50, 'bleachingActivated': False, 'thermometer_size': 14}\n"
     ]
    },
    {
     "name": "stderr",
     "output_type": "stream",
     "text": [
      " 79%|███████▉  | 960/1210 [1:28:20<21:41,  5.21s/it]"
     ]
    },
    {
     "name": "stdout",
     "output_type": "stream",
     "text": [
      "Train acc. mean: 0.9997 | Validation acc. mean: 0.8739\n",
      "\n",
      "{'addressSize': 50, 'bleachingActivated': False, 'thermometer_size': 15}\n"
     ]
    },
    {
     "name": "stderr",
     "output_type": "stream",
     "text": [
      " 80%|███████▉  | 965/1210 [1:28:47<21:21,  5.23s/it]"
     ]
    },
    {
     "name": "stdout",
     "output_type": "stream",
     "text": [
      "Train acc. mean: 0.9998 | Validation acc. mean: 0.8692\n",
      "\n",
      "{'addressSize': 50, 'bleachingActivated': False, 'thermometer_size': 16}\n"
     ]
    },
    {
     "name": "stderr",
     "output_type": "stream",
     "text": [
      " 80%|████████  | 970/1210 [1:29:14<21:27,  5.37s/it]"
     ]
    },
    {
     "name": "stdout",
     "output_type": "stream",
     "text": [
      "Train acc. mean: 1.0000 | Validation acc. mean: 0.8730\n",
      "\n",
      "{'addressSize': 50, 'bleachingActivated': False, 'thermometer_size': 17}\n"
     ]
    },
    {
     "name": "stderr",
     "output_type": "stream",
     "text": [
      " 81%|████████  | 975/1210 [1:29:43<22:25,  5.72s/it]"
     ]
    },
    {
     "name": "stdout",
     "output_type": "stream",
     "text": [
      "Train acc. mean: 1.0000 | Validation acc. mean: 0.8784\n",
      "\n",
      "{'addressSize': 50, 'bleachingActivated': False, 'thermometer_size': 18}\n"
     ]
    },
    {
     "name": "stderr",
     "output_type": "stream",
     "text": [
      " 81%|████████  | 980/1210 [1:30:14<23:26,  6.12s/it]"
     ]
    },
    {
     "name": "stdout",
     "output_type": "stream",
     "text": [
      "Train acc. mean: 0.9999 | Validation acc. mean: 0.8709\n",
      "\n",
      "{'addressSize': 50, 'bleachingActivated': False, 'thermometer_size': 19}\n"
     ]
    },
    {
     "name": "stderr",
     "output_type": "stream",
     "text": [
      " 81%|████████▏ | 985/1210 [1:30:46<24:03,  6.41s/it]"
     ]
    },
    {
     "name": "stdout",
     "output_type": "stream",
     "text": [
      "Train acc. mean: 0.9999 | Validation acc. mean: 0.8773\n",
      "\n",
      "{'addressSize': 50, 'bleachingActivated': False, 'thermometer_size': 20}\n"
     ]
    },
    {
     "name": "stderr",
     "output_type": "stream",
     "text": [
      " 82%|████████▏ | 990/1210 [1:31:20<24:53,  6.79s/it]"
     ]
    },
    {
     "name": "stdout",
     "output_type": "stream",
     "text": [
      "Train acc. mean: 0.9999 | Validation acc. mean: 0.8802\n",
      "\n",
      "{'addressSize': 55, 'bleachingActivated': True, 'thermometer_size': 10}\n"
     ]
    },
    {
     "name": "stderr",
     "output_type": "stream",
     "text": [
      " 82%|████████▏ | 995/1210 [1:31:38<14:31,  4.06s/it]"
     ]
    },
    {
     "name": "stdout",
     "output_type": "stream",
     "text": [
      "Train acc. mean: 0.9998 | Validation acc. mean: 0.8614\n",
      "\n",
      "{'addressSize': 55, 'bleachingActivated': True, 'thermometer_size': 11}\n"
     ]
    },
    {
     "name": "stderr",
     "output_type": "stream",
     "text": [
      " 83%|████████▎ | 1000/1210 [1:31:57<13:28,  3.85s/it]"
     ]
    },
    {
     "name": "stdout",
     "output_type": "stream",
     "text": [
      "Train acc. mean: 1.0000 | Validation acc. mean: 0.8614\n",
      "\n",
      "{'addressSize': 55, 'bleachingActivated': True, 'thermometer_size': 12}\n"
     ]
    },
    {
     "name": "stderr",
     "output_type": "stream",
     "text": [
      " 83%|████████▎ | 1005/1210 [1:32:18<14:01,  4.10s/it]"
     ]
    },
    {
     "name": "stdout",
     "output_type": "stream",
     "text": [
      "Train acc. mean: 0.9999 | Validation acc. mean: 0.8739\n",
      "\n",
      "{'addressSize': 55, 'bleachingActivated': True, 'thermometer_size': 13}\n"
     ]
    },
    {
     "name": "stderr",
     "output_type": "stream",
     "text": [
      " 83%|████████▎ | 1010/1210 [1:32:43<15:33,  4.67s/it]"
     ]
    },
    {
     "name": "stdout",
     "output_type": "stream",
     "text": [
      "Train acc. mean: 0.9999 | Validation acc. mean: 0.8751\n",
      "\n",
      "{'addressSize': 55, 'bleachingActivated': True, 'thermometer_size': 14}\n"
     ]
    },
    {
     "name": "stderr",
     "output_type": "stream",
     "text": [
      " 84%|████████▍ | 1015/1210 [1:33:06<15:17,  4.70s/it]"
     ]
    },
    {
     "name": "stdout",
     "output_type": "stream",
     "text": [
      "Train acc. mean: 0.9999 | Validation acc. mean: 0.8697\n",
      "\n",
      "{'addressSize': 55, 'bleachingActivated': True, 'thermometer_size': 15}\n"
     ]
    },
    {
     "name": "stderr",
     "output_type": "stream",
     "text": [
      " 84%|████████▍ | 1020/1210 [1:33:32<16:03,  5.07s/it]"
     ]
    },
    {
     "name": "stdout",
     "output_type": "stream",
     "text": [
      "Train acc. mean: 1.0000 | Validation acc. mean: 0.8727\n",
      "\n",
      "{'addressSize': 55, 'bleachingActivated': True, 'thermometer_size': 16}\n"
     ]
    },
    {
     "name": "stderr",
     "output_type": "stream",
     "text": [
      " 85%|████████▍ | 1025/1210 [1:33:59<16:39,  5.40s/it]"
     ]
    },
    {
     "name": "stdout",
     "output_type": "stream",
     "text": [
      "Train acc. mean: 1.0000 | Validation acc. mean: 0.8787\n",
      "\n",
      "{'addressSize': 55, 'bleachingActivated': True, 'thermometer_size': 17}\n"
     ]
    },
    {
     "name": "stderr",
     "output_type": "stream",
     "text": [
      " 85%|████████▌ | 1030/1210 [1:34:27<17:05,  5.70s/it]"
     ]
    },
    {
     "name": "stdout",
     "output_type": "stream",
     "text": [
      "Train acc. mean: 0.9999 | Validation acc. mean: 0.8762\n",
      "\n",
      "{'addressSize': 55, 'bleachingActivated': True, 'thermometer_size': 18}\n"
     ]
    },
    {
     "name": "stderr",
     "output_type": "stream",
     "text": [
      " 86%|████████▌ | 1035/1210 [1:34:58<17:28,  5.99s/it]"
     ]
    },
    {
     "name": "stdout",
     "output_type": "stream",
     "text": [
      "Train acc. mean: 1.0000 | Validation acc. mean: 0.8788\n",
      "\n",
      "{'addressSize': 55, 'bleachingActivated': True, 'thermometer_size': 19}\n"
     ]
    },
    {
     "name": "stderr",
     "output_type": "stream",
     "text": [
      " 86%|████████▌ | 1040/1210 [1:35:32<19:35,  6.92s/it]"
     ]
    },
    {
     "name": "stdout",
     "output_type": "stream",
     "text": [
      "Train acc. mean: 1.0000 | Validation acc. mean: 0.8766\n",
      "\n",
      "{'addressSize': 55, 'bleachingActivated': True, 'thermometer_size': 20}\n"
     ]
    },
    {
     "name": "stderr",
     "output_type": "stream",
     "text": [
      " 86%|████████▋ | 1045/1210 [1:36:05<18:27,  6.71s/it]"
     ]
    },
    {
     "name": "stdout",
     "output_type": "stream",
     "text": [
      "Train acc. mean: 1.0000 | Validation acc. mean: 0.8834\n",
      "\n",
      "{'addressSize': 55, 'bleachingActivated': False, 'thermometer_size': 10}\n"
     ]
    },
    {
     "name": "stderr",
     "output_type": "stream",
     "text": [
      " 87%|████████▋ | 1050/1210 [1:36:23<10:43,  4.02s/it]"
     ]
    },
    {
     "name": "stdout",
     "output_type": "stream",
     "text": [
      "Train acc. mean: 0.9997 | Validation acc. mean: 0.8579\n",
      "\n",
      "{'addressSize': 55, 'bleachingActivated': False, 'thermometer_size': 11}\n"
     ]
    },
    {
     "name": "stderr",
     "output_type": "stream",
     "text": [
      " 87%|████████▋ | 1055/1210 [1:36:42<09:58,  3.86s/it]"
     ]
    },
    {
     "name": "stdout",
     "output_type": "stream",
     "text": [
      "Train acc. mean: 0.9998 | Validation acc. mean: 0.8664\n",
      "\n",
      "{'addressSize': 55, 'bleachingActivated': False, 'thermometer_size': 12}\n"
     ]
    },
    {
     "name": "stderr",
     "output_type": "stream",
     "text": [
      " 88%|████████▊ | 1060/1210 [1:37:03<10:20,  4.13s/it]"
     ]
    },
    {
     "name": "stdout",
     "output_type": "stream",
     "text": [
      "Train acc. mean: 0.9999 | Validation acc. mean: 0.8708\n",
      "\n",
      "{'addressSize': 55, 'bleachingActivated': False, 'thermometer_size': 13}\n"
     ]
    },
    {
     "name": "stderr",
     "output_type": "stream",
     "text": [
      " 88%|████████▊ | 1065/1210 [1:37:26<11:18,  4.68s/it]"
     ]
    },
    {
     "name": "stdout",
     "output_type": "stream",
     "text": [
      "Train acc. mean: 1.0000 | Validation acc. mean: 0.8711\n",
      "\n",
      "{'addressSize': 55, 'bleachingActivated': False, 'thermometer_size': 14}\n"
     ]
    },
    {
     "name": "stderr",
     "output_type": "stream",
     "text": [
      " 88%|████████▊ | 1070/1210 [1:37:52<11:20,  4.86s/it]"
     ]
    },
    {
     "name": "stdout",
     "output_type": "stream",
     "text": [
      "Train acc. mean: 1.0000 | Validation acc. mean: 0.8712\n",
      "\n",
      "{'addressSize': 55, 'bleachingActivated': False, 'thermometer_size': 15}\n"
     ]
    },
    {
     "name": "stderr",
     "output_type": "stream",
     "text": [
      " 89%|████████▉ | 1075/1210 [1:38:17<11:28,  5.10s/it]"
     ]
    },
    {
     "name": "stdout",
     "output_type": "stream",
     "text": [
      "Train acc. mean: 1.0000 | Validation acc. mean: 0.8766\n",
      "\n",
      "{'addressSize': 55, 'bleachingActivated': False, 'thermometer_size': 16}\n"
     ]
    },
    {
     "name": "stderr",
     "output_type": "stream",
     "text": [
      " 89%|████████▉ | 1080/1210 [1:38:45<11:39,  5.38s/it]"
     ]
    },
    {
     "name": "stdout",
     "output_type": "stream",
     "text": [
      "Train acc. mean: 1.0000 | Validation acc. mean: 0.8783\n",
      "\n",
      "{'addressSize': 55, 'bleachingActivated': False, 'thermometer_size': 17}\n"
     ]
    },
    {
     "name": "stderr",
     "output_type": "stream",
     "text": [
      " 90%|████████▉ | 1085/1210 [1:39:13<11:36,  5.57s/it]"
     ]
    },
    {
     "name": "stdout",
     "output_type": "stream",
     "text": [
      "Train acc. mean: 1.0000 | Validation acc. mean: 0.8730\n",
      "\n",
      "{'addressSize': 55, 'bleachingActivated': False, 'thermometer_size': 18}\n"
     ]
    },
    {
     "name": "stderr",
     "output_type": "stream",
     "text": [
      " 90%|█████████ | 1090/1210 [1:39:43<12:04,  6.04s/it]"
     ]
    },
    {
     "name": "stdout",
     "output_type": "stream",
     "text": [
      "Train acc. mean: 1.0000 | Validation acc. mean: 0.8783\n",
      "\n",
      "{'addressSize': 55, 'bleachingActivated': False, 'thermometer_size': 19}\n"
     ]
    },
    {
     "name": "stderr",
     "output_type": "stream",
     "text": [
      " 90%|█████████ | 1095/1210 [1:40:15<12:02,  6.28s/it]"
     ]
    },
    {
     "name": "stdout",
     "output_type": "stream",
     "text": [
      "Train acc. mean: 1.0000 | Validation acc. mean: 0.8757\n",
      "\n",
      "{'addressSize': 55, 'bleachingActivated': False, 'thermometer_size': 20}\n"
     ]
    },
    {
     "name": "stderr",
     "output_type": "stream",
     "text": [
      " 91%|█████████ | 1100/1210 [1:40:50<12:30,  6.82s/it]"
     ]
    },
    {
     "name": "stdout",
     "output_type": "stream",
     "text": [
      "Train acc. mean: 1.0000 | Validation acc. mean: 0.8787\n",
      "\n",
      "{'addressSize': 60, 'bleachingActivated': True, 'thermometer_size': 10}\n"
     ]
    },
    {
     "name": "stderr",
     "output_type": "stream",
     "text": [
      " 91%|█████████▏| 1105/1210 [1:41:07<07:04,  4.04s/it]"
     ]
    },
    {
     "name": "stdout",
     "output_type": "stream",
     "text": [
      "Train acc. mean: 1.0000 | Validation acc. mean: 0.8655\n",
      "\n",
      "{'addressSize': 60, 'bleachingActivated': True, 'thermometer_size': 11}\n"
     ]
    },
    {
     "name": "stderr",
     "output_type": "stream",
     "text": [
      " 92%|█████████▏| 1110/1210 [1:41:26<06:24,  3.84s/it]"
     ]
    },
    {
     "name": "stdout",
     "output_type": "stream",
     "text": [
      "Train acc. mean: 0.9999 | Validation acc. mean: 0.8648\n",
      "\n",
      "{'addressSize': 60, 'bleachingActivated': True, 'thermometer_size': 12}\n"
     ]
    },
    {
     "name": "stderr",
     "output_type": "stream",
     "text": [
      " 92%|█████████▏| 1115/1210 [1:41:47<06:30,  4.11s/it]"
     ]
    },
    {
     "name": "stdout",
     "output_type": "stream",
     "text": [
      "Train acc. mean: 0.9999 | Validation acc. mean: 0.8707\n",
      "\n",
      "{'addressSize': 60, 'bleachingActivated': True, 'thermometer_size': 13}\n"
     ]
    },
    {
     "name": "stderr",
     "output_type": "stream",
     "text": [
      " 93%|█████████▎| 1120/1210 [1:42:08<06:21,  4.24s/it]"
     ]
    },
    {
     "name": "stdout",
     "output_type": "stream",
     "text": [
      "Train acc. mean: 0.9999 | Validation acc. mean: 0.8692\n",
      "\n",
      "{'addressSize': 60, 'bleachingActivated': True, 'thermometer_size': 14}\n"
     ]
    },
    {
     "name": "stderr",
     "output_type": "stream",
     "text": [
      " 93%|█████████▎| 1125/1210 [1:42:33<06:51,  4.84s/it]"
     ]
    },
    {
     "name": "stdout",
     "output_type": "stream",
     "text": [
      "Train acc. mean: 1.0000 | Validation acc. mean: 0.8698\n",
      "\n",
      "{'addressSize': 60, 'bleachingActivated': True, 'thermometer_size': 15}\n"
     ]
    },
    {
     "name": "stderr",
     "output_type": "stream",
     "text": [
      " 93%|█████████▎| 1130/1210 [1:43:01<07:11,  5.39s/it]"
     ]
    },
    {
     "name": "stdout",
     "output_type": "stream",
     "text": [
      "Train acc. mean: 1.0000 | Validation acc. mean: 0.8772\n",
      "\n",
      "{'addressSize': 60, 'bleachingActivated': True, 'thermometer_size': 16}\n"
     ]
    },
    {
     "name": "stderr",
     "output_type": "stream",
     "text": [
      " 94%|█████████▍| 1135/1210 [1:43:28<06:45,  5.40s/it]"
     ]
    },
    {
     "name": "stdout",
     "output_type": "stream",
     "text": [
      "Train acc. mean: 1.0000 | Validation acc. mean: 0.8734\n",
      "\n",
      "{'addressSize': 60, 'bleachingActivated': True, 'thermometer_size': 17}\n"
     ]
    },
    {
     "name": "stderr",
     "output_type": "stream",
     "text": [
      " 94%|█████████▍| 1140/1210 [1:43:57<06:38,  5.70s/it]"
     ]
    },
    {
     "name": "stdout",
     "output_type": "stream",
     "text": [
      "Train acc. mean: 1.0000 | Validation acc. mean: 0.8739\n",
      "\n",
      "{'addressSize': 60, 'bleachingActivated': True, 'thermometer_size': 18}\n"
     ]
    },
    {
     "name": "stderr",
     "output_type": "stream",
     "text": [
      " 95%|█████████▍| 1145/1210 [1:44:27<06:29,  5.98s/it]"
     ]
    },
    {
     "name": "stdout",
     "output_type": "stream",
     "text": [
      "Train acc. mean: 1.0000 | Validation acc. mean: 0.8736\n",
      "\n",
      "{'addressSize': 60, 'bleachingActivated': True, 'thermometer_size': 19}\n"
     ]
    },
    {
     "name": "stderr",
     "output_type": "stream",
     "text": [
      " 95%|█████████▌| 1150/1210 [1:44:59<06:11,  6.20s/it]"
     ]
    },
    {
     "name": "stdout",
     "output_type": "stream",
     "text": [
      "Train acc. mean: 1.0000 | Validation acc. mean: 0.8735\n",
      "\n",
      "{'addressSize': 60, 'bleachingActivated': True, 'thermometer_size': 20}\n"
     ]
    },
    {
     "name": "stderr",
     "output_type": "stream",
     "text": [
      " 95%|█████████▌| 1155/1210 [1:45:34<06:32,  7.14s/it]"
     ]
    },
    {
     "name": "stdout",
     "output_type": "stream",
     "text": [
      "Train acc. mean: 1.0000 | Validation acc. mean: 0.8768\n",
      "\n",
      "{'addressSize': 60, 'bleachingActivated': False, 'thermometer_size': 10}\n"
     ]
    },
    {
     "name": "stderr",
     "output_type": "stream",
     "text": [
      " 96%|█████████▌| 1160/1210 [1:45:52<03:25,  4.10s/it]"
     ]
    },
    {
     "name": "stdout",
     "output_type": "stream",
     "text": [
      "Train acc. mean: 0.9998 | Validation acc. mean: 0.8611\n",
      "\n",
      "{'addressSize': 60, 'bleachingActivated': False, 'thermometer_size': 11}\n"
     ]
    },
    {
     "name": "stderr",
     "output_type": "stream",
     "text": [
      " 96%|█████████▋| 1165/1210 [1:46:11<02:52,  3.84s/it]"
     ]
    },
    {
     "name": "stdout",
     "output_type": "stream",
     "text": [
      "Train acc. mean: 1.0000 | Validation acc. mean: 0.8634\n",
      "\n",
      "{'addressSize': 60, 'bleachingActivated': False, 'thermometer_size': 12}\n"
     ]
    },
    {
     "name": "stderr",
     "output_type": "stream",
     "text": [
      " 97%|█████████▋| 1170/1210 [1:46:31<02:44,  4.12s/it]"
     ]
    },
    {
     "name": "stdout",
     "output_type": "stream",
     "text": [
      "Train acc. mean: 1.0000 | Validation acc. mean: 0.8641\n",
      "\n",
      "{'addressSize': 60, 'bleachingActivated': False, 'thermometer_size': 13}\n"
     ]
    },
    {
     "name": "stderr",
     "output_type": "stream",
     "text": [
      " 97%|█████████▋| 1175/1210 [1:46:53<02:29,  4.28s/it]"
     ]
    },
    {
     "name": "stdout",
     "output_type": "stream",
     "text": [
      "Train acc. mean: 1.0000 | Validation acc. mean: 0.8701\n",
      "\n",
      "{'addressSize': 60, 'bleachingActivated': False, 'thermometer_size': 14}\n"
     ]
    },
    {
     "name": "stderr",
     "output_type": "stream",
     "text": [
      " 98%|█████████▊| 1180/1210 [1:47:16<02:18,  4.62s/it]"
     ]
    },
    {
     "name": "stdout",
     "output_type": "stream",
     "text": [
      "Train acc. mean: 1.0000 | Validation acc. mean: 0.8674\n",
      "\n",
      "{'addressSize': 60, 'bleachingActivated': False, 'thermometer_size': 15}\n"
     ]
    },
    {
     "name": "stderr",
     "output_type": "stream",
     "text": [
      " 98%|█████████▊| 1185/1210 [1:47:42<02:03,  4.94s/it]"
     ]
    },
    {
     "name": "stdout",
     "output_type": "stream",
     "text": [
      "Train acc. mean: 1.0000 | Validation acc. mean: 0.8753\n",
      "\n",
      "{'addressSize': 60, 'bleachingActivated': False, 'thermometer_size': 16}\n"
     ]
    },
    {
     "name": "stderr",
     "output_type": "stream",
     "text": [
      " 98%|█████████▊| 1190/1210 [1:48:08<01:44,  5.23s/it]"
     ]
    },
    {
     "name": "stdout",
     "output_type": "stream",
     "text": [
      "Train acc. mean: 1.0000 | Validation acc. mean: 0.8692\n",
      "\n",
      "{'addressSize': 60, 'bleachingActivated': False, 'thermometer_size': 17}\n"
     ]
    },
    {
     "name": "stderr",
     "output_type": "stream",
     "text": [
      " 99%|█████████▉| 1195/1210 [1:48:37<01:25,  5.69s/it]"
     ]
    },
    {
     "name": "stdout",
     "output_type": "stream",
     "text": [
      "Train acc. mean: 1.0000 | Validation acc. mean: 0.8715\n",
      "\n",
      "{'addressSize': 60, 'bleachingActivated': False, 'thermometer_size': 18}\n"
     ]
    },
    {
     "name": "stderr",
     "output_type": "stream",
     "text": [
      " 99%|█████████▉| 1200/1210 [1:49:07<00:59,  5.92s/it]"
     ]
    },
    {
     "name": "stdout",
     "output_type": "stream",
     "text": [
      "Train acc. mean: 1.0000 | Validation acc. mean: 0.8755\n",
      "\n",
      "{'addressSize': 60, 'bleachingActivated': False, 'thermometer_size': 19}\n"
     ]
    },
    {
     "name": "stderr",
     "output_type": "stream",
     "text": [
      "100%|█████████▉| 1205/1210 [1:49:38<00:31,  6.30s/it]"
     ]
    },
    {
     "name": "stdout",
     "output_type": "stream",
     "text": [
      "Train acc. mean: 1.0000 | Validation acc. mean: 0.8779\n",
      "\n",
      "{'addressSize': 60, 'bleachingActivated': False, 'thermometer_size': 20}\n"
     ]
    },
    {
     "name": "stderr",
     "output_type": "stream",
     "text": [
      "100%|██████████| 1210/1210 [1:50:12<00:00,  6.61s/it]"
     ]
    },
    {
     "name": "stdout",
     "output_type": "stream",
     "text": [
      "Train acc. mean: 1.0000 | Validation acc. mean: 0.8760\n",
      "\n"
     ]
    }
   ],
   "source": [
    "thermometer_size = list(range(10, 21))\n",
    "addressSize = [10, 15, 20, 25, 30, 35, 40, 45, 50, 55, 60]\n",
    "gs_model1, best_params_model1 = cross_validation_model1(train_eng, train_labels, n_splits=5, addressSize=addressSize, \n",
    "                                                        thermometer_size=thermometer_size, \n",
    "                                                        bleachingActivated=[True, False], thermometer_columns=None)"
   ]
  },
  {
   "cell_type": "code",
   "execution_count": 29,
   "metadata": {},
   "outputs": [
    {
     "data": {
      "text/plain": [
       "{'addressSize': 45, 'bleachingActivated': False, 'thermometer_size': 18}"
      ]
     },
     "execution_count": 29,
     "metadata": {},
     "output_type": "execute_result"
    }
   ],
   "source": [
    "with open('results/model1_best_params.pickle', 'wb') as file:\n",
    "    pickle.dump(best_params_model1, file)\n",
    "    \n",
    "best_params_model1"
   ]
  },
  {
   "cell_type": "code",
   "execution_count": 30,
   "metadata": {},
   "outputs": [
    {
     "data": {
      "text/html": [
       "<div>\n",
       "<style scoped>\n",
       "    .dataframe tbody tr th:only-of-type {\n",
       "        vertical-align: middle;\n",
       "    }\n",
       "\n",
       "    .dataframe tbody tr th {\n",
       "        vertical-align: top;\n",
       "    }\n",
       "\n",
       "    .dataframe thead th {\n",
       "        text-align: right;\n",
       "    }\n",
       "</style>\n",
       "<table border=\"1\" class=\"dataframe\">\n",
       "  <thead>\n",
       "    <tr style=\"text-align: right;\">\n",
       "      <th></th>\n",
       "      <th>addressSize</th>\n",
       "      <th>bleachingActivated</th>\n",
       "      <th>thermometer_size</th>\n",
       "      <th>training_time_mean</th>\n",
       "      <th>training_time_std</th>\n",
       "      <th>training_prediction_time_mean</th>\n",
       "      <th>training_prediction_time_std</th>\n",
       "      <th>validation_prediction_time_mean</th>\n",
       "      <th>validation_prediction_time_std</th>\n",
       "      <th>thermometer_time_mean</th>\n",
       "      <th>thermometer_time_std</th>\n",
       "      <th>training_accuracy_mean</th>\n",
       "      <th>training_accuracy_std</th>\n",
       "      <th>validation_accuracy_mean</th>\n",
       "      <th>validation_accuracy_std</th>\n",
       "      <th>rank</th>\n",
       "    </tr>\n",
       "  </thead>\n",
       "  <tbody>\n",
       "    <tr>\n",
       "      <th>0</th>\n",
       "      <td>45</td>\n",
       "      <td>False</td>\n",
       "      <td>18</td>\n",
       "      <td>1.225517</td>\n",
       "      <td>0.089208</td>\n",
       "      <td>2.333161</td>\n",
       "      <td>0.053343</td>\n",
       "      <td>0.586855</td>\n",
       "      <td>0.050319</td>\n",
       "      <td>1.572608</td>\n",
       "      <td>0.066230</td>\n",
       "      <td>0.999694</td>\n",
       "      <td>0.000226</td>\n",
       "      <td>0.885747</td>\n",
       "      <td>0.021236</td>\n",
       "      <td>1.0</td>\n",
       "    </tr>\n",
       "    <tr>\n",
       "      <th>1</th>\n",
       "      <td>45</td>\n",
       "      <td>True</td>\n",
       "      <td>19</td>\n",
       "      <td>1.259250</td>\n",
       "      <td>0.025381</td>\n",
       "      <td>2.445298</td>\n",
       "      <td>0.075012</td>\n",
       "      <td>0.601988</td>\n",
       "      <td>0.027717</td>\n",
       "      <td>1.713403</td>\n",
       "      <td>0.207054</td>\n",
       "      <td>0.999796</td>\n",
       "      <td>0.000250</td>\n",
       "      <td>0.884659</td>\n",
       "      <td>0.020125</td>\n",
       "      <td>2.0</td>\n",
       "    </tr>\n",
       "    <tr>\n",
       "      <th>2</th>\n",
       "      <td>55</td>\n",
       "      <td>True</td>\n",
       "      <td>20</td>\n",
       "      <td>1.325044</td>\n",
       "      <td>0.061048</td>\n",
       "      <td>2.436110</td>\n",
       "      <td>0.087003</td>\n",
       "      <td>0.593997</td>\n",
       "      <td>0.012516</td>\n",
       "      <td>1.713235</td>\n",
       "      <td>0.092957</td>\n",
       "      <td>1.000000</td>\n",
       "      <td>0.000000</td>\n",
       "      <td>0.883437</td>\n",
       "      <td>0.025523</td>\n",
       "      <td>3.0</td>\n",
       "    </tr>\n",
       "    <tr>\n",
       "      <th>3</th>\n",
       "      <td>35</td>\n",
       "      <td>True</td>\n",
       "      <td>17</td>\n",
       "      <td>1.025265</td>\n",
       "      <td>0.021363</td>\n",
       "      <td>2.173602</td>\n",
       "      <td>0.077456</td>\n",
       "      <td>0.526612</td>\n",
       "      <td>0.038970</td>\n",
       "      <td>1.357173</td>\n",
       "      <td>0.090787</td>\n",
       "      <td>0.998368</td>\n",
       "      <td>0.000595</td>\n",
       "      <td>0.883299</td>\n",
       "      <td>0.027270</td>\n",
       "      <td>4.0</td>\n",
       "    </tr>\n",
       "    <tr>\n",
       "      <th>4</th>\n",
       "      <td>40</td>\n",
       "      <td>True</td>\n",
       "      <td>19</td>\n",
       "      <td>1.258255</td>\n",
       "      <td>0.086636</td>\n",
       "      <td>2.443665</td>\n",
       "      <td>0.108534</td>\n",
       "      <td>0.604597</td>\n",
       "      <td>0.041793</td>\n",
       "      <td>1.562037</td>\n",
       "      <td>0.115836</td>\n",
       "      <td>0.999490</td>\n",
       "      <td>0.000152</td>\n",
       "      <td>0.883163</td>\n",
       "      <td>0.024552</td>\n",
       "      <td>5.0</td>\n",
       "    </tr>\n",
       "    <tr>\n",
       "      <th>...</th>\n",
       "      <td>...</td>\n",
       "      <td>...</td>\n",
       "      <td>...</td>\n",
       "      <td>...</td>\n",
       "      <td>...</td>\n",
       "      <td>...</td>\n",
       "      <td>...</td>\n",
       "      <td>...</td>\n",
       "      <td>...</td>\n",
       "      <td>...</td>\n",
       "      <td>...</td>\n",
       "      <td>...</td>\n",
       "      <td>...</td>\n",
       "      <td>...</td>\n",
       "      <td>...</td>\n",
       "      <td>...</td>\n",
       "    </tr>\n",
       "    <tr>\n",
       "      <th>237</th>\n",
       "      <td>10</td>\n",
       "      <td>False</td>\n",
       "      <td>20</td>\n",
       "      <td>1.273177</td>\n",
       "      <td>0.036355</td>\n",
       "      <td>4.019080</td>\n",
       "      <td>0.153743</td>\n",
       "      <td>0.941500</td>\n",
       "      <td>0.013266</td>\n",
       "      <td>1.528330</td>\n",
       "      <td>0.029963</td>\n",
       "      <td>0.960181</td>\n",
       "      <td>0.003993</td>\n",
       "      <td>0.831340</td>\n",
       "      <td>0.026313</td>\n",
       "      <td>238.0</td>\n",
       "    </tr>\n",
       "    <tr>\n",
       "      <th>238</th>\n",
       "      <td>10</td>\n",
       "      <td>True</td>\n",
       "      <td>10</td>\n",
       "      <td>0.648478</td>\n",
       "      <td>0.082116</td>\n",
       "      <td>2.290786</td>\n",
       "      <td>0.589359</td>\n",
       "      <td>0.556837</td>\n",
       "      <td>0.107717</td>\n",
       "      <td>0.961680</td>\n",
       "      <td>0.124471</td>\n",
       "      <td>0.956100</td>\n",
       "      <td>0.003509</td>\n",
       "      <td>0.830798</td>\n",
       "      <td>0.036832</td>\n",
       "      <td>239.0</td>\n",
       "    </tr>\n",
       "    <tr>\n",
       "      <th>239</th>\n",
       "      <td>10</td>\n",
       "      <td>False</td>\n",
       "      <td>12</td>\n",
       "      <td>0.890166</td>\n",
       "      <td>0.105504</td>\n",
       "      <td>2.353353</td>\n",
       "      <td>0.089519</td>\n",
       "      <td>0.558783</td>\n",
       "      <td>0.028337</td>\n",
       "      <td>1.161834</td>\n",
       "      <td>0.110881</td>\n",
       "      <td>0.950048</td>\n",
       "      <td>0.005877</td>\n",
       "      <td>0.827392</td>\n",
       "      <td>0.024236</td>\n",
       "      <td>240.0</td>\n",
       "    </tr>\n",
       "    <tr>\n",
       "      <th>240</th>\n",
       "      <td>10</td>\n",
       "      <td>False</td>\n",
       "      <td>11</td>\n",
       "      <td>0.751850</td>\n",
       "      <td>0.081065</td>\n",
       "      <td>2.144676</td>\n",
       "      <td>0.222388</td>\n",
       "      <td>0.534587</td>\n",
       "      <td>0.050433</td>\n",
       "      <td>1.131117</td>\n",
       "      <td>0.234646</td>\n",
       "      <td>0.946511</td>\n",
       "      <td>0.005633</td>\n",
       "      <td>0.825084</td>\n",
       "      <td>0.024401</td>\n",
       "      <td>241.0</td>\n",
       "    </tr>\n",
       "    <tr>\n",
       "      <th>241</th>\n",
       "      <td>10</td>\n",
       "      <td>False</td>\n",
       "      <td>10</td>\n",
       "      <td>0.648464</td>\n",
       "      <td>0.050528</td>\n",
       "      <td>1.842671</td>\n",
       "      <td>0.030176</td>\n",
       "      <td>0.461581</td>\n",
       "      <td>0.014006</td>\n",
       "      <td>0.948873</td>\n",
       "      <td>0.041172</td>\n",
       "      <td>0.946341</td>\n",
       "      <td>0.005598</td>\n",
       "      <td>0.819912</td>\n",
       "      <td>0.033854</td>\n",
       "      <td>242.0</td>\n",
       "    </tr>\n",
       "  </tbody>\n",
       "</table>\n",
       "<p>242 rows × 16 columns</p>\n",
       "</div>"
      ],
      "text/plain": [
       "     addressSize  bleachingActivated  thermometer_size  training_time_mean  \\\n",
       "0             45               False                18            1.225517   \n",
       "1             45                True                19            1.259250   \n",
       "2             55                True                20            1.325044   \n",
       "3             35                True                17            1.025265   \n",
       "4             40                True                19            1.258255   \n",
       "..           ...                 ...               ...                 ...   \n",
       "237           10               False                20            1.273177   \n",
       "238           10                True                10            0.648478   \n",
       "239           10               False                12            0.890166   \n",
       "240           10               False                11            0.751850   \n",
       "241           10               False                10            0.648464   \n",
       "\n",
       "     training_time_std  training_prediction_time_mean  \\\n",
       "0             0.089208                       2.333161   \n",
       "1             0.025381                       2.445298   \n",
       "2             0.061048                       2.436110   \n",
       "3             0.021363                       2.173602   \n",
       "4             0.086636                       2.443665   \n",
       "..                 ...                            ...   \n",
       "237           0.036355                       4.019080   \n",
       "238           0.082116                       2.290786   \n",
       "239           0.105504                       2.353353   \n",
       "240           0.081065                       2.144676   \n",
       "241           0.050528                       1.842671   \n",
       "\n",
       "     training_prediction_time_std  validation_prediction_time_mean  \\\n",
       "0                        0.053343                         0.586855   \n",
       "1                        0.075012                         0.601988   \n",
       "2                        0.087003                         0.593997   \n",
       "3                        0.077456                         0.526612   \n",
       "4                        0.108534                         0.604597   \n",
       "..                            ...                              ...   \n",
       "237                      0.153743                         0.941500   \n",
       "238                      0.589359                         0.556837   \n",
       "239                      0.089519                         0.558783   \n",
       "240                      0.222388                         0.534587   \n",
       "241                      0.030176                         0.461581   \n",
       "\n",
       "     validation_prediction_time_std  thermometer_time_mean  \\\n",
       "0                          0.050319               1.572608   \n",
       "1                          0.027717               1.713403   \n",
       "2                          0.012516               1.713235   \n",
       "3                          0.038970               1.357173   \n",
       "4                          0.041793               1.562037   \n",
       "..                              ...                    ...   \n",
       "237                        0.013266               1.528330   \n",
       "238                        0.107717               0.961680   \n",
       "239                        0.028337               1.161834   \n",
       "240                        0.050433               1.131117   \n",
       "241                        0.014006               0.948873   \n",
       "\n",
       "     thermometer_time_std  training_accuracy_mean  training_accuracy_std  \\\n",
       "0                0.066230                0.999694               0.000226   \n",
       "1                0.207054                0.999796               0.000250   \n",
       "2                0.092957                1.000000               0.000000   \n",
       "3                0.090787                0.998368               0.000595   \n",
       "4                0.115836                0.999490               0.000152   \n",
       "..                    ...                     ...                    ...   \n",
       "237              0.029963                0.960181               0.003993   \n",
       "238              0.124471                0.956100               0.003509   \n",
       "239              0.110881                0.950048               0.005877   \n",
       "240              0.234646                0.946511               0.005633   \n",
       "241              0.041172                0.946341               0.005598   \n",
       "\n",
       "     validation_accuracy_mean  validation_accuracy_std   rank  \n",
       "0                    0.885747                 0.021236    1.0  \n",
       "1                    0.884659                 0.020125    2.0  \n",
       "2                    0.883437                 0.025523    3.0  \n",
       "3                    0.883299                 0.027270    4.0  \n",
       "4                    0.883163                 0.024552    5.0  \n",
       "..                        ...                      ...    ...  \n",
       "237                  0.831340                 0.026313  238.0  \n",
       "238                  0.830798                 0.036832  239.0  \n",
       "239                  0.827392                 0.024236  240.0  \n",
       "240                  0.825084                 0.024401  241.0  \n",
       "241                  0.819912                 0.033854  242.0  \n",
       "\n",
       "[242 rows x 16 columns]"
      ]
     },
     "execution_count": 30,
     "metadata": {},
     "output_type": "execute_result"
    }
   ],
   "source": [
    "gs_model1 = gs_model1.sort_values('rank').reset_index(drop=True)\n",
    "\n",
    "with open('results/model1_gs_results.pickle', 'wb') as file:\n",
    "    pickle.dump(gs_model1, file)\n",
    "\n",
    "gs_model1"
   ]
  },
  {
   "cell_type": "code",
   "execution_count": 34,
   "metadata": {},
   "outputs": [],
   "source": [
    "with open('results/model1_gs_results.pickle', 'rb') as file:\n",
    "    gs_model1 = pickle.load(file)"
   ]
  },
  {
   "cell_type": "code",
   "execution_count": 35,
   "metadata": {},
   "outputs": [],
   "source": [
    "with open('results/model1_best_params.pickle', 'rb') as file:\n",
    "    best_params_model1 = pickle.load(file)"
   ]
  },
  {
   "cell_type": "code",
   "execution_count": 31,
   "metadata": {},
   "outputs": [
    {
     "name": "stdout",
     "output_type": "stream",
     "text": [
      "Training Accuracy: 0.9997\n",
      "Test Accuracy: 0.9043\n"
     ]
    }
   ],
   "source": [
    "# Preprocessing train_eng, train_labels\n",
    "y_train_str = [str(l) for l in train_labels]\n",
    "y_test_str = [str(l) for l in test_labels]\n",
    "\n",
    "model = wp.Wisard(best_params_model1['addressSize'], bleachingActivated=best_params_model1['bleachingActivated'])\n",
    "thermometer_columns = list(range(train_eng.shape[1]))\n",
    "thermometer = ThermometerEncoder(thermometer_columns, n_bits=best_params_model1['thermometer_size'])\n",
    "\n",
    "X_train = thermometer.fit_transform(train_eng).astype(int).tolist()\n",
    "X_test = thermometer.transform(test_eng).astype(int).tolist()\n",
    "\n",
    "# training\n",
    "model.train(X_train, y_train_str)\n",
    "\n",
    "pred_train = model.classify(X_train)\n",
    "pred_test = model.classify(X_test)\n",
    "\n",
    "training_accuracy = accuracy_score(y_train_str, pred_train)\n",
    "test_accuracy = accuracy_score(y_test_str, pred_test)\n",
    "\n",
    "print(f'Training Accuracy: {training_accuracy:.4f}')\n",
    "print(f'Test Accuracy: {test_accuracy:.4f}')"
   ]
  },
  {
   "cell_type": "code",
   "execution_count": 32,
   "metadata": {},
   "outputs": [],
   "source": [
    "import matplotlib.pyplot as plt\n",
    "from sklearn.metrics import ConfusionMatrixDisplay\n",
    "from sklearn.metrics import confusion_matrix\n",
    "\n",
    "def plot_confusion_matrix(y_true, y_pred, display_labels=None, normalize='true'):\n",
    "    if display_labels is None:\n",
    "        display_labels = np.unique(y_true)\n",
    "            \n",
    "    cm = confusion_matrix(y_true, y_pred, normalize=normalize)\n",
    "    disp = ConfusionMatrixDisplay(confusion_matrix=cm,\n",
    "                                  display_labels=display_labels)\n",
    "    disp.plot(xticks_rotation=90)\n",
    "    disp.ax_.grid(False)"
   ]
  },
  {
   "cell_type": "code",
   "execution_count": 33,
   "metadata": {},
   "outputs": [
    {
     "data": {
      "image/png": "[encoded data removed]",
      "text/plain": [
       "<Figure size 432x288 with 2 Axes>"
      ]
     },
     "metadata": {
      "needs_background": "light"
     },
     "output_type": "display_data"
    }
   ],
   "source": [
    "# NOTE: Fill all variables here with default values of the plot_confusion_matrix\n",
    "display_labels = ['WALKING', 'WALKING_UPSTAIRS', 'WALKING_DOWNSTAIRS',\n",
    "                  'SITTING', 'STANDING', 'LAYING']\n",
    "plot_confusion_matrix(y_test_str, pred_test, display_labels=display_labels)"
   ]
  },
  {
   "cell_type": "markdown",
   "metadata": {},
   "source": [
    "## 3.2. Model 2: WiSARD\n",
    "\n",
    "This model uses Thermometer encoding with quantile based bins and the enginnered features to make the prediction."
   ]
  },
  {
   "cell_type": "code",
   "execution_count": 36,
   "metadata": {},
   "outputs": [],
   "source": [
    "from thermometer_encoder import ThermometerEncoder\n",
    "import wisardpkg as wp\n",
    "from time import time\n",
    "from sklearn.metrics import accuracy_score\n",
    "from sklearn.model_selection import StratifiedKFold\n",
    "from sklearn.model_selection import ParameterGrid\n",
    "from tqdm import tqdm\n",
    "import pickle\n",
    "\n",
    "def cross_validation_model1(X, y, n_splits=5, addressSize=[50], thermometer_size=[5], bleachingActivated=[True], \n",
    "                            thermometer_columns=None, quantile_based=[True]):\n",
    "    grid_search_results = []\n",
    "    best_params = None\n",
    "    best_accuracy = -1\n",
    "    \n",
    "    if not thermometer_columns:\n",
    "        thermometer_columns = list(range(X.shape[1]))\n",
    "    \n",
    "    param_grid_dict = dict()\n",
    "    param_grid_dict['thermometer_size'] = thermometer_size\n",
    "    param_grid_dict['addressSize'] = addressSize\n",
    "    param_grid_dict['bleachingActivated'] = bleachingActivated\n",
    "    param_grid_dict['quantile_based'] = quantile_based\n",
    "    \n",
    "    skf = StratifiedKFold(n_splits=n_splits)\n",
    "    \n",
    "    param_grid = ParameterGrid(param_grid_dict)\n",
    "    \n",
    "    param_grid_combinations = len(list(param_grid))\n",
    "    n_combs = n_splits * param_grid_combinations\n",
    "    progress = tqdm(total=n_combs, position=0, leave=True)\n",
    "    \n",
    "    for params in param_grid:\n",
    "        print(params)\n",
    "        training_time = []\n",
    "        training_prediction_time = []\n",
    "        validation_prediction_time = []\n",
    "        thermometer_time = []\n",
    "        training_accuracy = []\n",
    "        validation_accuracy = []\n",
    "        for train_index, val_index in skf.split(X, y):\n",
    "            X_train = X[train_index, :]\n",
    "            y_train = y[train_index]\n",
    "            y_train_str = [str(l) for l in y_train]\n",
    "            \n",
    "            X_val = X[val_index, :]\n",
    "            y_val = y[val_index]\n",
    "            y_val_str = [str(l) for l in y_val]\n",
    "            \n",
    "            model = wp.Wisard(params['addressSize'], bleachingActivated=params['bleachingActivated'])\n",
    "            thermometer = ThermometerEncoder(thermometer_columns, n_bits=params['thermometer_size'],\n",
    "                                            quantile_based=params['quantile_based'])\n",
    "            \n",
    "            start = time()\n",
    "            X_train = thermometer.fit_transform(X_train).astype(int).tolist()\n",
    "            X_val = thermometer.transform(X_val).astype(int).tolist()\n",
    "            end = time()\n",
    "            thermometer_time.append(end-start)\n",
    "            \n",
    "            start = time()\n",
    "            model.train(X_train, y_train_str)\n",
    "            end = time()\n",
    "            training_time.append(end-start)\n",
    "            \n",
    "            start = time()\n",
    "            pred_train = model.classify(X_train)\n",
    "            end = time()\n",
    "            training_prediction_time.append(end-start)\n",
    "            \n",
    "            start = time()\n",
    "            pred_val = model.classify(X_val)\n",
    "            end = time()\n",
    "            validation_prediction_time.append(end-start)\n",
    "            \n",
    "            training_accuracy.append(accuracy_score(y_train_str, pred_train))\n",
    "            \n",
    "            validation_accuracy.append(accuracy_score(y_val_str, pred_val))\n",
    "            \n",
    "            progress.update()\n",
    "        \n",
    "        cv_result = {'training_time_mean': np.mean(training_time),\n",
    "                     'training_time_std': np.std(training_time),\n",
    "                     'training_prediction_time_mean': np.mean(training_prediction_time),\n",
    "                     'training_prediction_time_std': np.std(training_prediction_time),\n",
    "                     'validation_prediction_time_mean': np.mean(validation_prediction_time),\n",
    "                     'validation_prediction_time_std': np.std(validation_prediction_time),\n",
    "                     'thermometer_time_mean': np.mean(thermometer_time),\n",
    "                     'thermometer_time_std': np.std(thermometer_time),\n",
    "                     'training_accuracy_mean': np.mean(training_accuracy),\n",
    "                     'training_accuracy_std': np.std(training_accuracy),\n",
    "                     'validation_accuracy_mean': np.mean(validation_accuracy),\n",
    "                     'validation_accuracy_std': np.std(validation_accuracy)}\n",
    "        \n",
    "        cv_result = {**params, **cv_result}\n",
    "        \n",
    "        grid_search_results.append(cv_result)\n",
    "        \n",
    "        if (cv_result['validation_accuracy_mean'] > best_accuracy):\n",
    "            best_accuracy = cv_result['validation_accuracy_mean']\n",
    "            best_params = params\n",
    "        \n",
    "        print(f\"Train acc. mean: {cv_result['training_accuracy_mean']:.4f} | Validation acc. mean: {cv_result['validation_accuracy_mean']:.4f}\\n\")\n",
    "    \n",
    "    grid_search_results = pd.DataFrame(grid_search_results)\n",
    "    grid_search_results['rank'] = grid_search_results['validation_accuracy_mean'].rank(ascending=False)\n",
    "    \n",
    "    return grid_search_results, best_params"
   ]
  },
  {
   "cell_type": "code",
   "execution_count": 37,
   "metadata": {
    "scrolled": true
   },
   "outputs": [
    {
     "name": "stderr",
     "output_type": "stream",
     "text": [
      "  0%|          | 0/1210 [00:00<?, ?it/s]"
     ]
    },
    {
     "name": "stdout",
     "output_type": "stream",
     "text": [
      "{'addressSize': 10, 'bleachingActivated': True, 'quantile_based': True, 'thermometer_size': 10}\n"
     ]
    },
    {
     "name": "stderr",
     "output_type": "stream",
     "text": [
      "  0%|          | 5/1210 [04:13<16:55:44, 50.58s/it]"
     ]
    },
    {
     "name": "stdout",
     "output_type": "stream",
     "text": [
      "Train acc. mean: 0.9613 | Validation acc. mean: 0.8334\n",
      "\n",
      "{'addressSize': 10, 'bleachingActivated': True, 'quantile_based': True, 'thermometer_size': 11}\n"
     ]
    },
    {
     "name": "stderr",
     "output_type": "stream",
     "text": [
      "100%|██████████| 1210/1210 [1:56:21<00:00,  5.77s/it]\n",
      "  1%|          | 10/1210 [08:33<17:04:06, 51.21s/it]"
     ]
    },
    {
     "name": "stdout",
     "output_type": "stream",
     "text": [
      "Train acc. mean: 0.9610 | Validation acc. mean: 0.8252\n",
      "\n",
      "{'addressSize': 10, 'bleachingActivated': True, 'quantile_based': True, 'thermometer_size': 12}\n"
     ]
    },
    {
     "name": "stderr",
     "output_type": "stream",
     "text": [
      "  1%|          | 15/1210 [13:00<17:40:35, 53.25s/it]"
     ]
    },
    {
     "name": "stdout",
     "output_type": "stream",
     "text": [
      "Train acc. mean: 0.9654 | Validation acc. mean: 0.8308\n",
      "\n",
      "{'addressSize': 10, 'bleachingActivated': True, 'quantile_based': True, 'thermometer_size': 13}\n"
     ]
    },
    {
     "name": "stderr",
     "output_type": "stream",
     "text": [
      "  2%|▏         | 20/1210 [17:40<18:35:28, 56.24s/it]"
     ]
    },
    {
     "name": "stdout",
     "output_type": "stream",
     "text": [
      "Train acc. mean: 0.9652 | Validation acc. mean: 0.8395\n",
      "\n",
      "{'addressSize': 10, 'bleachingActivated': True, 'quantile_based': True, 'thermometer_size': 14}\n"
     ]
    },
    {
     "name": "stderr",
     "output_type": "stream",
     "text": [
      "  2%|▏         | 25/1210 [22:29<18:42:48, 56.85s/it]"
     ]
    },
    {
     "name": "stdout",
     "output_type": "stream",
     "text": [
      "Train acc. mean: 0.9721 | Validation acc. mean: 0.8328\n",
      "\n",
      "{'addressSize': 10, 'bleachingActivated': True, 'quantile_based': True, 'thermometer_size': 15}\n"
     ]
    },
    {
     "name": "stderr",
     "output_type": "stream",
     "text": [
      "  2%|▏         | 30/1210 [27:16<18:44:27, 57.18s/it]"
     ]
    },
    {
     "name": "stdout",
     "output_type": "stream",
     "text": [
      "Train acc. mean: 0.9729 | Validation acc. mean: 0.8368\n",
      "\n",
      "{'addressSize': 10, 'bleachingActivated': True, 'quantile_based': True, 'thermometer_size': 16}\n"
     ]
    },
    {
     "name": "stderr",
     "output_type": "stream",
     "text": [
      "  3%|▎         | 35/1210 [32:09<19:09:53, 58.72s/it]"
     ]
    },
    {
     "name": "stdout",
     "output_type": "stream",
     "text": [
      "Train acc. mean: 0.9739 | Validation acc. mean: 0.8444\n",
      "\n",
      "{'addressSize': 10, 'bleachingActivated': True, 'quantile_based': True, 'thermometer_size': 17}\n"
     ]
    },
    {
     "name": "stderr",
     "output_type": "stream",
     "text": [
      "  3%|▎         | 40/1210 [37:10<19:33:39, 60.19s/it]"
     ]
    },
    {
     "name": "stdout",
     "output_type": "stream",
     "text": [
      "Train acc. mean: 0.9787 | Validation acc. mean: 0.8388\n",
      "\n",
      "{'addressSize': 10, 'bleachingActivated': True, 'quantile_based': True, 'thermometer_size': 18}\n"
     ]
    },
    {
     "name": "stderr",
     "output_type": "stream",
     "text": [
      "  4%|▎         | 45/1210 [42:15<19:32:00, 60.36s/it]"
     ]
    },
    {
     "name": "stdout",
     "output_type": "stream",
     "text": [
      "Train acc. mean: 0.9771 | Validation acc. mean: 0.8400\n",
      "\n",
      "{'addressSize': 10, 'bleachingActivated': True, 'quantile_based': True, 'thermometer_size': 19}\n"
     ]
    },
    {
     "name": "stderr",
     "output_type": "stream",
     "text": [
      "  4%|▍         | 50/1210 [47:29<20:09:37, 62.57s/it]"
     ]
    },
    {
     "name": "stdout",
     "output_type": "stream",
     "text": [
      "Train acc. mean: 0.9775 | Validation acc. mean: 0.8436\n",
      "\n",
      "{'addressSize': 10, 'bleachingActivated': True, 'quantile_based': True, 'thermometer_size': 20}\n"
     ]
    },
    {
     "name": "stderr",
     "output_type": "stream",
     "text": [
      "  5%|▍         | 55/1210 [52:46<20:30:19, 63.91s/it]"
     ]
    },
    {
     "name": "stdout",
     "output_type": "stream",
     "text": [
      "Train acc. mean: 0.9805 | Validation acc. mean: 0.8451\n",
      "\n",
      "{'addressSize': 10, 'bleachingActivated': False, 'quantile_based': True, 'thermometer_size': 10}\n"
     ]
    },
    {
     "name": "stderr",
     "output_type": "stream",
     "text": [
      "  5%|▍         | 60/1210 [57:02<16:57:13, 53.07s/it]"
     ]
    },
    {
     "name": "stdout",
     "output_type": "stream",
     "text": [
      "Train acc. mean: 0.9493 | Validation acc. mean: 0.8115\n",
      "\n",
      "{'addressSize': 10, 'bleachingActivated': False, 'quantile_based': True, 'thermometer_size': 11}\n"
     ]
    },
    {
     "name": "stderr",
     "output_type": "stream",
     "text": [
      "  5%|▌         | 65/1210 [1:01:19<16:21:38, 51.44s/it]"
     ]
    },
    {
     "name": "stdout",
     "output_type": "stream",
     "text": [
      "Train acc. mean: 0.9569 | Validation acc. mean: 0.8187\n",
      "\n",
      "{'addressSize': 10, 'bleachingActivated': False, 'quantile_based': True, 'thermometer_size': 12}\n"
     ]
    },
    {
     "name": "stderr",
     "output_type": "stream",
     "text": [
      "  6%|▌         | 70/1210 [1:05:50<17:13:40, 54.40s/it]"
     ]
    },
    {
     "name": "stdout",
     "output_type": "stream",
     "text": [
      "Train acc. mean: 0.9619 | Validation acc. mean: 0.8256\n",
      "\n",
      "{'addressSize': 10, 'bleachingActivated': False, 'quantile_based': True, 'thermometer_size': 13}\n"
     ]
    },
    {
     "name": "stderr",
     "output_type": "stream",
     "text": [
      "  6%|▌         | 75/1210 [1:10:27<17:19:53, 54.97s/it]"
     ]
    },
    {
     "name": "stdout",
     "output_type": "stream",
     "text": [
      "Train acc. mean: 0.9672 | Validation acc. mean: 0.8346\n",
      "\n",
      "{'addressSize': 10, 'bleachingActivated': False, 'quantile_based': True, 'thermometer_size': 14}\n"
     ]
    },
    {
     "name": "stderr",
     "output_type": "stream",
     "text": [
      "  7%|▋         | 80/1210 [1:15:08<17:37:16, 56.14s/it]"
     ]
    },
    {
     "name": "stdout",
     "output_type": "stream",
     "text": [
      "Train acc. mean: 0.9657 | Validation acc. mean: 0.8307\n",
      "\n",
      "{'addressSize': 10, 'bleachingActivated': False, 'quantile_based': True, 'thermometer_size': 15}\n"
     ]
    },
    {
     "name": "stderr",
     "output_type": "stream",
     "text": [
      "  7%|▋         | 85/1210 [1:19:53<17:44:56, 56.80s/it]"
     ]
    },
    {
     "name": "stdout",
     "output_type": "stream",
     "text": [
      "Train acc. mean: 0.9697 | Validation acc. mean: 0.8349\n",
      "\n",
      "{'addressSize': 10, 'bleachingActivated': False, 'quantile_based': True, 'thermometer_size': 16}\n"
     ]
    },
    {
     "name": "stderr",
     "output_type": "stream",
     "text": [
      "  7%|▋         | 90/1210 [1:24:46<18:12:32, 58.53s/it]"
     ]
    },
    {
     "name": "stdout",
     "output_type": "stream",
     "text": [
      "Train acc. mean: 0.9732 | Validation acc. mean: 0.8451\n",
      "\n",
      "{'addressSize': 10, 'bleachingActivated': False, 'quantile_based': True, 'thermometer_size': 17}\n"
     ]
    },
    {
     "name": "stderr",
     "output_type": "stream",
     "text": [
      "  8%|▊         | 95/1210 [1:29:45<18:28:00, 59.62s/it]"
     ]
    },
    {
     "name": "stdout",
     "output_type": "stream",
     "text": [
      "Train acc. mean: 0.9717 | Validation acc. mean: 0.8313\n",
      "\n",
      "{'addressSize': 10, 'bleachingActivated': False, 'quantile_based': True, 'thermometer_size': 18}\n"
     ]
    },
    {
     "name": "stderr",
     "output_type": "stream",
     "text": [
      "  8%|▊         | 100/1210 [1:34:47<18:31:18, 60.07s/it]"
     ]
    },
    {
     "name": "stdout",
     "output_type": "stream",
     "text": [
      "Train acc. mean: 0.9775 | Validation acc. mean: 0.8339\n",
      "\n",
      "{'addressSize': 10, 'bleachingActivated': False, 'quantile_based': True, 'thermometer_size': 19}\n"
     ]
    },
    {
     "name": "stderr",
     "output_type": "stream",
     "text": [
      "  9%|▊         | 105/1210 [1:40:06<19:16:59, 62.82s/it]"
     ]
    },
    {
     "name": "stdout",
     "output_type": "stream",
     "text": [
      "Train acc. mean: 0.9795 | Validation acc. mean: 0.8405\n",
      "\n",
      "{'addressSize': 10, 'bleachingActivated': False, 'quantile_based': True, 'thermometer_size': 20}\n"
     ]
    },
    {
     "name": "stderr",
     "output_type": "stream",
     "text": [
      "  9%|▉         | 110/1210 [1:45:20<19:16:41, 63.09s/it]"
     ]
    },
    {
     "name": "stdout",
     "output_type": "stream",
     "text": [
      "Train acc. mean: 0.9787 | Validation acc. mean: 0.8439\n",
      "\n",
      "{'addressSize': 15, 'bleachingActivated': True, 'quantile_based': True, 'thermometer_size': 10}\n"
     ]
    },
    {
     "name": "stderr",
     "output_type": "stream",
     "text": [
      " 10%|▉         | 115/1210 [1:49:31<15:53:36, 52.25s/it]"
     ]
    },
    {
     "name": "stdout",
     "output_type": "stream",
     "text": [
      "Train acc. mean: 0.9796 | Validation acc. mean: 0.8372\n",
      "\n",
      "{'addressSize': 15, 'bleachingActivated': True, 'quantile_based': True, 'thermometer_size': 11}\n"
     ]
    },
    {
     "name": "stderr",
     "output_type": "stream",
     "text": [
      " 10%|▉         | 120/1210 [1:53:52<15:55:26, 52.59s/it]"
     ]
    },
    {
     "name": "stdout",
     "output_type": "stream",
     "text": [
      "Train acc. mean: 0.9842 | Validation acc. mean: 0.8410\n",
      "\n",
      "{'addressSize': 15, 'bleachingActivated': True, 'quantile_based': True, 'thermometer_size': 12}\n"
     ]
    },
    {
     "name": "stderr",
     "output_type": "stream",
     "text": [
      " 10%|█         | 125/1210 [1:58:19<16:03:52, 53.30s/it]"
     ]
    },
    {
     "name": "stdout",
     "output_type": "stream",
     "text": [
      "Train acc. mean: 0.9826 | Validation acc. mean: 0.8458\n",
      "\n",
      "{'addressSize': 15, 'bleachingActivated': True, 'quantile_based': True, 'thermometer_size': 13}\n"
     ]
    },
    {
     "name": "stderr",
     "output_type": "stream",
     "text": [
      " 11%|█         | 130/1210 [2:02:47<16:08:19, 53.80s/it]"
     ]
    },
    {
     "name": "stdout",
     "output_type": "stream",
     "text": [
      "Train acc. mean: 0.9848 | Validation acc. mean: 0.8482\n",
      "\n",
      "{'addressSize': 15, 'bleachingActivated': True, 'quantile_based': True, 'thermometer_size': 14}\n"
     ]
    },
    {
     "name": "stderr",
     "output_type": "stream",
     "text": [
      " 11%|█         | 135/1210 [2:07:29<16:40:40, 55.85s/it]"
     ]
    },
    {
     "name": "stdout",
     "output_type": "stream",
     "text": [
      "Train acc. mean: 0.9875 | Validation acc. mean: 0.8509\n",
      "\n",
      "{'addressSize': 15, 'bleachingActivated': True, 'quantile_based': True, 'thermometer_size': 15}\n"
     ]
    },
    {
     "name": "stderr",
     "output_type": "stream",
     "text": [
      " 12%|█▏        | 140/1210 [2:12:12<16:48:33, 56.55s/it]"
     ]
    },
    {
     "name": "stdout",
     "output_type": "stream",
     "text": [
      "Train acc. mean: 0.9884 | Validation acc. mean: 0.8486\n",
      "\n",
      "{'addressSize': 15, 'bleachingActivated': True, 'quantile_based': True, 'thermometer_size': 16}\n"
     ]
    },
    {
     "name": "stderr",
     "output_type": "stream",
     "text": [
      " 12%|█▏        | 145/1210 [2:17:03<17:13:52, 58.25s/it]"
     ]
    },
    {
     "name": "stdout",
     "output_type": "stream",
     "text": [
      "Train acc. mean: 0.9901 | Validation acc. mean: 0.8494\n",
      "\n",
      "{'addressSize': 15, 'bleachingActivated': True, 'quantile_based': True, 'thermometer_size': 17}\n"
     ]
    },
    {
     "name": "stderr",
     "output_type": "stream",
     "text": [
      " 12%|█▏        | 150/1210 [2:21:57<17:15:54, 58.64s/it]"
     ]
    },
    {
     "name": "stdout",
     "output_type": "stream",
     "text": [
      "Train acc. mean: 0.9916 | Validation acc. mean: 0.8538\n",
      "\n",
      "{'addressSize': 15, 'bleachingActivated': True, 'quantile_based': True, 'thermometer_size': 18}\n"
     ]
    },
    {
     "name": "stderr",
     "output_type": "stream",
     "text": [
      " 13%|█▎        | 155/1210 [2:26:59<17:30:07, 59.72s/it]"
     ]
    },
    {
     "name": "stdout",
     "output_type": "stream",
     "text": [
      "Train acc. mean: 0.9923 | Validation acc. mean: 0.8636\n",
      "\n",
      "{'addressSize': 15, 'bleachingActivated': True, 'quantile_based': True, 'thermometer_size': 19}\n"
     ]
    },
    {
     "name": "stderr",
     "output_type": "stream",
     "text": [
      " 13%|█▎        | 160/1210 [2:32:09<18:03:20, 61.91s/it]"
     ]
    },
    {
     "name": "stdout",
     "output_type": "stream",
     "text": [
      "Train acc. mean: 0.9925 | Validation acc. mean: 0.8543\n",
      "\n",
      "{'addressSize': 15, 'bleachingActivated': True, 'quantile_based': True, 'thermometer_size': 20}\n"
     ]
    },
    {
     "name": "stderr",
     "output_type": "stream",
     "text": [
      " 14%|█▎        | 165/1210 [2:37:24<18:13:47, 62.80s/it]"
     ]
    },
    {
     "name": "stdout",
     "output_type": "stream",
     "text": [
      "Train acc. mean: 0.9928 | Validation acc. mean: 0.8523\n",
      "\n",
      "{'addressSize': 15, 'bleachingActivated': False, 'quantile_based': True, 'thermometer_size': 10}\n"
     ]
    },
    {
     "name": "stderr",
     "output_type": "stream",
     "text": [
      " 14%|█▍        | 170/1210 [2:41:35<15:04:29, 52.18s/it]"
     ]
    },
    {
     "name": "stdout",
     "output_type": "stream",
     "text": [
      "Train acc. mean: 0.9799 | Validation acc. mean: 0.8372\n",
      "\n",
      "{'addressSize': 15, 'bleachingActivated': False, 'quantile_based': True, 'thermometer_size': 11}\n"
     ]
    },
    {
     "name": "stderr",
     "output_type": "stream",
     "text": [
      " 14%|█▍        | 175/1210 [2:45:52<14:46:42, 51.40s/it]"
     ]
    },
    {
     "name": "stdout",
     "output_type": "stream",
     "text": [
      "Train acc. mean: 0.9821 | Validation acc. mean: 0.8390\n",
      "\n",
      "{'addressSize': 15, 'bleachingActivated': False, 'quantile_based': True, 'thermometer_size': 12}\n"
     ]
    },
    {
     "name": "stderr",
     "output_type": "stream",
     "text": [
      " 15%|█▍        | 180/1210 [2:50:17<15:10:09, 53.02s/it]"
     ]
    },
    {
     "name": "stdout",
     "output_type": "stream",
     "text": [
      "Train acc. mean: 0.9853 | Validation acc. mean: 0.8426\n",
      "\n",
      "{'addressSize': 15, 'bleachingActivated': False, 'quantile_based': True, 'thermometer_size': 13}\n"
     ]
    },
    {
     "name": "stderr",
     "output_type": "stream",
     "text": [
      " 15%|█▌        | 185/1210 [2:54:49<15:23:32, 54.06s/it]"
     ]
    },
    {
     "name": "stdout",
     "output_type": "stream",
     "text": [
      "Train acc. mean: 0.9868 | Validation acc. mean: 0.8485\n",
      "\n",
      "{'addressSize': 15, 'bleachingActivated': False, 'quantile_based': True, 'thermometer_size': 14}\n"
     ]
    },
    {
     "name": "stderr",
     "output_type": "stream",
     "text": [
      " 16%|█▌        | 190/1210 [2:59:28<15:36:08, 55.07s/it]"
     ]
    },
    {
     "name": "stdout",
     "output_type": "stream",
     "text": [
      "Train acc. mean: 0.9863 | Validation acc. mean: 0.8444\n",
      "\n",
      "{'addressSize': 15, 'bleachingActivated': False, 'quantile_based': True, 'thermometer_size': 15}\n"
     ]
    },
    {
     "name": "stderr",
     "output_type": "stream",
     "text": [
      " 16%|█▌        | 195/1210 [3:04:11<15:54:15, 56.41s/it]"
     ]
    },
    {
     "name": "stdout",
     "output_type": "stream",
     "text": [
      "Train acc. mean: 0.9887 | Validation acc. mean: 0.8541\n",
      "\n",
      "{'addressSize': 15, 'bleachingActivated': False, 'quantile_based': True, 'thermometer_size': 16}\n"
     ]
    },
    {
     "name": "stderr",
     "output_type": "stream",
     "text": [
      " 17%|█▋        | 200/1210 [3:09:05<16:17:57, 58.10s/it]"
     ]
    },
    {
     "name": "stdout",
     "output_type": "stream",
     "text": [
      "Train acc. mean: 0.9910 | Validation acc. mean: 0.8549\n",
      "\n",
      "{'addressSize': 15, 'bleachingActivated': False, 'quantile_based': True, 'thermometer_size': 17}\n"
     ]
    },
    {
     "name": "stderr",
     "output_type": "stream",
     "text": [
      " 17%|█▋        | 205/1210 [3:13:57<16:19:55, 58.50s/it]"
     ]
    },
    {
     "name": "stdout",
     "output_type": "stream",
     "text": [
      "Train acc. mean: 0.9908 | Validation acc. mean: 0.8561\n",
      "\n",
      "{'addressSize': 15, 'bleachingActivated': False, 'quantile_based': True, 'thermometer_size': 18}\n"
     ]
    },
    {
     "name": "stderr",
     "output_type": "stream",
     "text": [
      " 17%|█▋        | 210/1210 [3:18:58<16:33:49, 59.63s/it]"
     ]
    },
    {
     "name": "stdout",
     "output_type": "stream",
     "text": [
      "Train acc. mean: 0.9928 | Validation acc. mean: 0.8475\n",
      "\n",
      "{'addressSize': 15, 'bleachingActivated': False, 'quantile_based': True, 'thermometer_size': 19}\n"
     ]
    },
    {
     "name": "stderr",
     "output_type": "stream",
     "text": [
      " 18%|█▊        | 215/1210 [3:24:07<17:00:30, 61.54s/it]"
     ]
    },
    {
     "name": "stdout",
     "output_type": "stream",
     "text": [
      "Train acc. mean: 0.9922 | Validation acc. mean: 0.8558\n",
      "\n",
      "{'addressSize': 15, 'bleachingActivated': False, 'quantile_based': True, 'thermometer_size': 20}\n"
     ]
    },
    {
     "name": "stderr",
     "output_type": "stream",
     "text": [
      " 18%|█▊        | 220/1210 [3:29:17<17:03:03, 62.00s/it]"
     ]
    },
    {
     "name": "stdout",
     "output_type": "stream",
     "text": [
      "Train acc. mean: 0.9928 | Validation acc. mean: 0.8531\n",
      "\n",
      "{'addressSize': 20, 'bleachingActivated': True, 'quantile_based': True, 'thermometer_size': 10}\n"
     ]
    },
    {
     "name": "stderr",
     "output_type": "stream",
     "text": [
      " 19%|█▊        | 225/1210 [3:33:30<14:22:35, 52.54s/it]"
     ]
    },
    {
     "name": "stdout",
     "output_type": "stream",
     "text": [
      "Train acc. mean: 0.9924 | Validation acc. mean: 0.8560\n",
      "\n",
      "{'addressSize': 20, 'bleachingActivated': True, 'quantile_based': True, 'thermometer_size': 11}\n"
     ]
    },
    {
     "name": "stderr",
     "output_type": "stream",
     "text": [
      " 19%|█▉        | 230/1210 [3:37:46<13:51:37, 50.92s/it]"
     ]
    },
    {
     "name": "stdout",
     "output_type": "stream",
     "text": [
      "Train acc. mean: 0.9932 | Validation acc. mean: 0.8539\n",
      "\n",
      "{'addressSize': 20, 'bleachingActivated': True, 'quantile_based': True, 'thermometer_size': 12}\n"
     ]
    },
    {
     "name": "stderr",
     "output_type": "stream",
     "text": [
      " 19%|█▉        | 235/1210 [3:42:08<14:09:39, 52.29s/it]"
     ]
    },
    {
     "name": "stdout",
     "output_type": "stream",
     "text": [
      "Train acc. mean: 0.9935 | Validation acc. mean: 0.8541\n",
      "\n",
      "{'addressSize': 20, 'bleachingActivated': True, 'quantile_based': True, 'thermometer_size': 13}\n"
     ]
    },
    {
     "name": "stderr",
     "output_type": "stream",
     "text": [
      " 20%|█▉        | 240/1210 [3:46:38<14:27:53, 53.68s/it]"
     ]
    },
    {
     "name": "stdout",
     "output_type": "stream",
     "text": [
      "Train acc. mean: 0.9938 | Validation acc. mean: 0.8600\n",
      "\n",
      "{'addressSize': 20, 'bleachingActivated': True, 'quantile_based': True, 'thermometer_size': 14}\n"
     ]
    },
    {
     "name": "stderr",
     "output_type": "stream",
     "text": [
      " 20%|██        | 245/1210 [3:51:18<14:46:52, 55.14s/it]"
     ]
    },
    {
     "name": "stdout",
     "output_type": "stream",
     "text": [
      "Train acc. mean: 0.9939 | Validation acc. mean: 0.8502\n",
      "\n",
      "{'addressSize': 20, 'bleachingActivated': True, 'quantile_based': True, 'thermometer_size': 15}\n"
     ]
    },
    {
     "name": "stderr",
     "output_type": "stream",
     "text": [
      " 21%|██        | 250/1210 [3:56:03<15:05:41, 56.61s/it]"
     ]
    },
    {
     "name": "stdout",
     "output_type": "stream",
     "text": [
      "Train acc. mean: 0.9962 | Validation acc. mean: 0.8670\n",
      "\n",
      "{'addressSize': 20, 'bleachingActivated': True, 'quantile_based': True, 'thermometer_size': 16}\n"
     ]
    },
    {
     "name": "stderr",
     "output_type": "stream",
     "text": [
      " 21%|██        | 255/1210 [4:00:52<15:22:04, 57.93s/it]"
     ]
    },
    {
     "name": "stdout",
     "output_type": "stream",
     "text": [
      "Train acc. mean: 0.9967 | Validation acc. mean: 0.8626\n",
      "\n",
      "{'addressSize': 20, 'bleachingActivated': True, 'quantile_based': True, 'thermometer_size': 17}\n"
     ]
    },
    {
     "name": "stderr",
     "output_type": "stream",
     "text": [
      " 21%|██▏       | 260/1210 [4:05:31<15:09:24, 57.44s/it]"
     ]
    },
    {
     "name": "stdout",
     "output_type": "stream",
     "text": [
      "Train acc. mean: 0.9975 | Validation acc. mean: 0.8560\n",
      "\n",
      "{'addressSize': 20, 'bleachingActivated': True, 'quantile_based': True, 'thermometer_size': 18}\n"
     ]
    },
    {
     "name": "stderr",
     "output_type": "stream",
     "text": [
      " 22%|██▏       | 265/1210 [4:10:11<14:42:03, 56.00s/it]"
     ]
    },
    {
     "name": "stdout",
     "output_type": "stream",
     "text": [
      "Train acc. mean: 0.9981 | Validation acc. mean: 0.8630\n",
      "\n",
      "{'addressSize': 20, 'bleachingActivated': True, 'quantile_based': True, 'thermometer_size': 19}\n"
     ]
    },
    {
     "name": "stderr",
     "output_type": "stream",
     "text": [
      " 22%|██▏       | 270/1210 [4:15:29<16:29:25, 63.15s/it]"
     ]
    },
    {
     "name": "stdout",
     "output_type": "stream",
     "text": [
      "Train acc. mean: 0.9976 | Validation acc. mean: 0.8614\n",
      "\n",
      "{'addressSize': 20, 'bleachingActivated': True, 'quantile_based': True, 'thermometer_size': 20}\n"
     ]
    },
    {
     "name": "stderr",
     "output_type": "stream",
     "text": [
      " 23%|██▎       | 275/1210 [4:20:17<15:10:04, 58.40s/it]"
     ]
    },
    {
     "name": "stdout",
     "output_type": "stream",
     "text": [
      "Train acc. mean: 0.9977 | Validation acc. mean: 0.8682\n",
      "\n",
      "{'addressSize': 20, 'bleachingActivated': False, 'quantile_based': True, 'thermometer_size': 10}\n"
     ]
    },
    {
     "name": "stderr",
     "output_type": "stream",
     "text": [
      " 23%|██▎       | 280/1210 [4:24:16<12:53:48, 49.92s/it]"
     ]
    },
    {
     "name": "stdout",
     "output_type": "stream",
     "text": [
      "Train acc. mean: 0.9919 | Validation acc. mean: 0.8482\n",
      "\n",
      "{'addressSize': 20, 'bleachingActivated': False, 'quantile_based': True, 'thermometer_size': 11}\n"
     ]
    },
    {
     "name": "stderr",
     "output_type": "stream",
     "text": [
      " 24%|██▎       | 285/1210 [4:28:14<12:15:20, 47.70s/it]"
     ]
    },
    {
     "name": "stdout",
     "output_type": "stream",
     "text": [
      "Train acc. mean: 0.9951 | Validation acc. mean: 0.8509\n",
      "\n",
      "{'addressSize': 20, 'bleachingActivated': False, 'quantile_based': True, 'thermometer_size': 12}\n"
     ]
    },
    {
     "name": "stderr",
     "output_type": "stream",
     "text": [
      " 24%|██▍       | 290/1210 [4:32:20<12:33:02, 49.11s/it]"
     ]
    },
    {
     "name": "stdout",
     "output_type": "stream",
     "text": [
      "Train acc. mean: 0.9940 | Validation acc. mean: 0.8602\n",
      "\n",
      "{'addressSize': 20, 'bleachingActivated': False, 'quantile_based': True, 'thermometer_size': 13}\n"
     ]
    },
    {
     "name": "stderr",
     "output_type": "stream",
     "text": [
      " 24%|██▍       | 295/1210 [4:36:34<12:55:14, 50.84s/it]"
     ]
    },
    {
     "name": "stdout",
     "output_type": "stream",
     "text": [
      "Train acc. mean: 0.9944 | Validation acc. mean: 0.8556\n",
      "\n",
      "{'addressSize': 20, 'bleachingActivated': False, 'quantile_based': True, 'thermometer_size': 14}\n"
     ]
    },
    {
     "name": "stderr",
     "output_type": "stream",
     "text": [
      " 25%|██▍       | 300/1210 [4:40:54<12:58:48, 51.35s/it]"
     ]
    },
    {
     "name": "stdout",
     "output_type": "stream",
     "text": [
      "Train acc. mean: 0.9958 | Validation acc. mean: 0.8512\n",
      "\n",
      "{'addressSize': 20, 'bleachingActivated': False, 'quantile_based': True, 'thermometer_size': 15}\n"
     ]
    },
    {
     "name": "stderr",
     "output_type": "stream",
     "text": [
      " 25%|██▌       | 305/1210 [4:45:28<13:45:25, 54.72s/it]"
     ]
    },
    {
     "name": "stdout",
     "output_type": "stream",
     "text": [
      "Train acc. mean: 0.9952 | Validation acc. mean: 0.8599\n",
      "\n",
      "{'addressSize': 20, 'bleachingActivated': False, 'quantile_based': True, 'thermometer_size': 16}\n"
     ]
    },
    {
     "name": "stderr",
     "output_type": "stream",
     "text": [
      " 26%|██▌       | 310/1210 [4:49:53<13:26:06, 53.74s/it]"
     ]
    },
    {
     "name": "stdout",
     "output_type": "stream",
     "text": [
      "Train acc. mean: 0.9969 | Validation acc. mean: 0.8653\n",
      "\n",
      "{'addressSize': 20, 'bleachingActivated': False, 'quantile_based': True, 'thermometer_size': 17}\n"
     ]
    },
    {
     "name": "stderr",
     "output_type": "stream",
     "text": [
      " 26%|██▌       | 315/1210 [4:54:31<13:41:06, 55.05s/it]"
     ]
    },
    {
     "name": "stdout",
     "output_type": "stream",
     "text": [
      "Train acc. mean: 0.9974 | Validation acc. mean: 0.8674\n",
      "\n",
      "{'addressSize': 20, 'bleachingActivated': False, 'quantile_based': True, 'thermometer_size': 18}\n"
     ]
    },
    {
     "name": "stderr",
     "output_type": "stream",
     "text": [
      " 26%|██▋       | 320/1210 [4:59:13<13:52:20, 56.11s/it]"
     ]
    },
    {
     "name": "stdout",
     "output_type": "stream",
     "text": [
      "Train acc. mean: 0.9980 | Validation acc. mean: 0.8561\n",
      "\n",
      "{'addressSize': 20, 'bleachingActivated': False, 'quantile_based': True, 'thermometer_size': 19}\n"
     ]
    },
    {
     "name": "stderr",
     "output_type": "stream",
     "text": [
      " 27%|██▋       | 325/1210 [5:04:03<14:15:52, 58.03s/it]"
     ]
    },
    {
     "name": "stdout",
     "output_type": "stream",
     "text": [
      "Train acc. mean: 0.9979 | Validation acc. mean: 0.8685\n",
      "\n",
      "{'addressSize': 20, 'bleachingActivated': False, 'quantile_based': True, 'thermometer_size': 20}\n"
     ]
    },
    {
     "name": "stderr",
     "output_type": "stream",
     "text": [
      " 27%|██▋       | 330/1210 [5:09:00<14:31:43, 59.44s/it]"
     ]
    },
    {
     "name": "stdout",
     "output_type": "stream",
     "text": [
      "Train acc. mean: 0.9982 | Validation acc. mean: 0.8690\n",
      "\n",
      "{'addressSize': 25, 'bleachingActivated': True, 'quantile_based': True, 'thermometer_size': 10}\n"
     ]
    },
    {
     "name": "stderr",
     "output_type": "stream",
     "text": [
      " 28%|██▊       | 335/1210 [5:13:00<12:04:54, 49.71s/it]"
     ]
    },
    {
     "name": "stdout",
     "output_type": "stream",
     "text": [
      "Train acc. mean: 0.9972 | Validation acc. mean: 0.8621\n",
      "\n",
      "{'addressSize': 25, 'bleachingActivated': True, 'quantile_based': True, 'thermometer_size': 11}\n"
     ]
    },
    {
     "name": "stderr",
     "output_type": "stream",
     "text": [
      " 28%|██▊       | 340/1210 [5:17:01<11:33:00, 47.79s/it]"
     ]
    },
    {
     "name": "stdout",
     "output_type": "stream",
     "text": [
      "Train acc. mean: 0.9982 | Validation acc. mean: 0.8630\n",
      "\n",
      "{'addressSize': 25, 'bleachingActivated': True, 'quantile_based': True, 'thermometer_size': 12}\n"
     ]
    },
    {
     "name": "stderr",
     "output_type": "stream",
     "text": [
      " 29%|██▊       | 345/1210 [5:20:58<11:26:36, 47.63s/it]"
     ]
    },
    {
     "name": "stdout",
     "output_type": "stream",
     "text": [
      "Train acc. mean: 0.9980 | Validation acc. mean: 0.8678\n",
      "\n",
      "{'addressSize': 25, 'bleachingActivated': True, 'quantile_based': True, 'thermometer_size': 13}\n"
     ]
    },
    {
     "name": "stderr",
     "output_type": "stream",
     "text": [
      " 29%|██▉       | 350/1210 [5:25:03<11:48:17, 49.42s/it]"
     ]
    },
    {
     "name": "stdout",
     "output_type": "stream",
     "text": [
      "Train acc. mean: 0.9979 | Validation acc. mean: 0.8539\n",
      "\n",
      "{'addressSize': 25, 'bleachingActivated': True, 'quantile_based': True, 'thermometer_size': 14}\n"
     ]
    },
    {
     "name": "stderr",
     "output_type": "stream",
     "text": [
      " 29%|██▉       | 355/1210 [5:29:41<12:59:35, 54.71s/it]"
     ]
    },
    {
     "name": "stdout",
     "output_type": "stream",
     "text": [
      "Train acc. mean: 0.9983 | Validation acc. mean: 0.8648\n",
      "\n",
      "{'addressSize': 25, 'bleachingActivated': True, 'quantile_based': True, 'thermometer_size': 15}\n"
     ]
    },
    {
     "name": "stderr",
     "output_type": "stream",
     "text": [
      " 30%|██▉       | 360/1210 [5:34:18<13:04:09, 55.35s/it]"
     ]
    },
    {
     "name": "stdout",
     "output_type": "stream",
     "text": [
      "Train acc. mean: 0.9988 | Validation acc. mean: 0.8739\n",
      "\n",
      "{'addressSize': 25, 'bleachingActivated': True, 'quantile_based': True, 'thermometer_size': 16}\n"
     ]
    },
    {
     "name": "stderr",
     "output_type": "stream",
     "text": [
      " 30%|███       | 365/1210 [5:39:06<13:20:39, 56.85s/it]"
     ]
    },
    {
     "name": "stdout",
     "output_type": "stream",
     "text": [
      "Train acc. mean: 0.9989 | Validation acc. mean: 0.8686\n",
      "\n",
      "{'addressSize': 25, 'bleachingActivated': True, 'quantile_based': True, 'thermometer_size': 17}\n"
     ]
    },
    {
     "name": "stderr",
     "output_type": "stream",
     "text": [
      " 31%|███       | 370/1210 [5:43:52<13:22:15, 57.30s/it]"
     ]
    },
    {
     "name": "stdout",
     "output_type": "stream",
     "text": [
      "Train acc. mean: 0.9998 | Validation acc. mean: 0.8760\n",
      "\n",
      "{'addressSize': 25, 'bleachingActivated': True, 'quantile_based': True, 'thermometer_size': 18}\n"
     ]
    },
    {
     "name": "stderr",
     "output_type": "stream",
     "text": [
      " 31%|███       | 375/1210 [5:48:46<13:30:47, 58.26s/it]"
     ]
    },
    {
     "name": "stdout",
     "output_type": "stream",
     "text": [
      "Train acc. mean: 0.9993 | Validation acc. mean: 0.8704\n",
      "\n",
      "{'addressSize': 25, 'bleachingActivated': True, 'quantile_based': True, 'thermometer_size': 19}\n"
     ]
    },
    {
     "name": "stderr",
     "output_type": "stream",
     "text": [
      " 31%|███▏      | 380/1210 [5:53:50<14:00:12, 60.74s/it]"
     ]
    },
    {
     "name": "stdout",
     "output_type": "stream",
     "text": [
      "Train acc. mean: 0.9996 | Validation acc. mean: 0.8741\n",
      "\n",
      "{'addressSize': 25, 'bleachingActivated': True, 'quantile_based': True, 'thermometer_size': 20}\n"
     ]
    },
    {
     "name": "stderr",
     "output_type": "stream",
     "text": [
      " 32%|███▏      | 385/1210 [5:58:54<13:56:57, 60.87s/it]"
     ]
    },
    {
     "name": "stdout",
     "output_type": "stream",
     "text": [
      "Train acc. mean: 0.9997 | Validation acc. mean: 0.8754\n",
      "\n",
      "{'addressSize': 25, 'bleachingActivated': False, 'quantile_based': True, 'thermometer_size': 10}\n"
     ]
    },
    {
     "name": "stderr",
     "output_type": "stream",
     "text": [
      " 32%|███▏      | 390/1210 [6:03:09<11:57:17, 52.48s/it]"
     ]
    },
    {
     "name": "stdout",
     "output_type": "stream",
     "text": [
      "Train acc. mean: 0.9979 | Validation acc. mean: 0.8628\n",
      "\n",
      "{'addressSize': 25, 'bleachingActivated': False, 'quantile_based': True, 'thermometer_size': 11}\n"
     ]
    },
    {
     "name": "stderr",
     "output_type": "stream",
     "text": [
      " 33%|███▎      | 395/1210 [6:07:22<11:31:37, 50.92s/it]"
     ]
    },
    {
     "name": "stdout",
     "output_type": "stream",
     "text": [
      "Train acc. mean: 0.9976 | Validation acc. mean: 0.8554\n",
      "\n",
      "{'addressSize': 25, 'bleachingActivated': False, 'quantile_based': True, 'thermometer_size': 12}\n"
     ]
    },
    {
     "name": "stderr",
     "output_type": "stream",
     "text": [
      " 33%|███▎      | 400/1210 [6:11:41<11:38:14, 51.72s/it]"
     ]
    },
    {
     "name": "stdout",
     "output_type": "stream",
     "text": [
      "Train acc. mean: 0.9980 | Validation acc. mean: 0.8599\n",
      "\n",
      "{'addressSize': 25, 'bleachingActivated': False, 'quantile_based': True, 'thermometer_size': 13}\n"
     ]
    },
    {
     "name": "stderr",
     "output_type": "stream",
     "text": [
      " 33%|███▎      | 405/1210 [6:16:05<11:49:20, 52.87s/it]"
     ]
    },
    {
     "name": "stdout",
     "output_type": "stream",
     "text": [
      "Train acc. mean: 0.9982 | Validation acc. mean: 0.8662\n",
      "\n",
      "{'addressSize': 25, 'bleachingActivated': False, 'quantile_based': True, 'thermometer_size': 14}\n"
     ]
    },
    {
     "name": "stderr",
     "output_type": "stream",
     "text": [
      " 34%|███▍      | 410/1210 [6:20:37<11:57:27, 53.81s/it]"
     ]
    },
    {
     "name": "stdout",
     "output_type": "stream",
     "text": [
      "Train acc. mean: 0.9979 | Validation acc. mean: 0.8694\n",
      "\n",
      "{'addressSize': 25, 'bleachingActivated': False, 'quantile_based': True, 'thermometer_size': 15}\n"
     ]
    },
    {
     "name": "stderr",
     "output_type": "stream",
     "text": [
      " 34%|███▍      | 415/1210 [6:25:14<12:13:46, 55.38s/it]"
     ]
    },
    {
     "name": "stdout",
     "output_type": "stream",
     "text": [
      "Train acc. mean: 0.9992 | Validation acc. mean: 0.8712\n",
      "\n",
      "{'addressSize': 25, 'bleachingActivated': False, 'quantile_based': True, 'thermometer_size': 16}\n"
     ]
    },
    {
     "name": "stderr",
     "output_type": "stream",
     "text": [
      " 35%|███▍      | 420/1210 [6:29:57<12:25:15, 56.60s/it]"
     ]
    },
    {
     "name": "stdout",
     "output_type": "stream",
     "text": [
      "Train acc. mean: 0.9991 | Validation acc. mean: 0.8738\n",
      "\n",
      "{'addressSize': 25, 'bleachingActivated': False, 'quantile_based': True, 'thermometer_size': 17}\n"
     ]
    },
    {
     "name": "stderr",
     "output_type": "stream",
     "text": [
      " 35%|███▌      | 425/1210 [6:34:43<12:30:19, 57.35s/it]"
     ]
    },
    {
     "name": "stdout",
     "output_type": "stream",
     "text": [
      "Train acc. mean: 0.9996 | Validation acc. mean: 0.8716\n",
      "\n",
      "{'addressSize': 25, 'bleachingActivated': False, 'quantile_based': True, 'thermometer_size': 18}\n"
     ]
    },
    {
     "name": "stderr",
     "output_type": "stream",
     "text": [
      " 36%|███▌      | 430/1210 [6:39:41<12:40:14, 58.48s/it]"
     ]
    },
    {
     "name": "stdout",
     "output_type": "stream",
     "text": [
      "Train acc. mean: 0.9992 | Validation acc. mean: 0.8690\n",
      "\n",
      "{'addressSize': 25, 'bleachingActivated': False, 'quantile_based': True, 'thermometer_size': 19}\n"
     ]
    },
    {
     "name": "stderr",
     "output_type": "stream",
     "text": [
      " 36%|███▌      | 435/1210 [6:44:40<12:50:19, 59.64s/it]"
     ]
    },
    {
     "name": "stdout",
     "output_type": "stream",
     "text": [
      "Train acc. mean: 0.9996 | Validation acc. mean: 0.8683\n",
      "\n",
      "{'addressSize': 25, 'bleachingActivated': False, 'quantile_based': True, 'thermometer_size': 20}\n"
     ]
    },
    {
     "name": "stderr",
     "output_type": "stream",
     "text": [
      " 36%|███▋      | 440/1210 [6:49:44<12:57:01, 60.55s/it]"
     ]
    },
    {
     "name": "stdout",
     "output_type": "stream",
     "text": [
      "Train acc. mean: 0.9996 | Validation acc. mean: 0.8745\n",
      "\n",
      "{'addressSize': 30, 'bleachingActivated': True, 'quantile_based': True, 'thermometer_size': 10}\n"
     ]
    },
    {
     "name": "stderr",
     "output_type": "stream",
     "text": [
      " 37%|███▋      | 445/1210 [6:53:54<11:01:37, 51.89s/it]"
     ]
    },
    {
     "name": "stdout",
     "output_type": "stream",
     "text": [
      "Train acc. mean: 0.9994 | Validation acc. mean: 0.8713\n",
      "\n",
      "{'addressSize': 30, 'bleachingActivated': True, 'quantile_based': True, 'thermometer_size': 11}\n"
     ]
    },
    {
     "name": "stderr",
     "output_type": "stream",
     "text": [
      " 37%|███▋      | 450/1210 [6:58:03<10:30:25, 49.77s/it]"
     ]
    },
    {
     "name": "stdout",
     "output_type": "stream",
     "text": [
      "Train acc. mean: 0.9994 | Validation acc. mean: 0.8621\n",
      "\n",
      "{'addressSize': 30, 'bleachingActivated': True, 'quantile_based': True, 'thermometer_size': 12}\n"
     ]
    },
    {
     "name": "stderr",
     "output_type": "stream",
     "text": [
      " 38%|███▊      | 455/1210 [7:02:22<10:50:43, 51.71s/it]"
     ]
    },
    {
     "name": "stdout",
     "output_type": "stream",
     "text": [
      "Train acc. mean: 0.9991 | Validation acc. mean: 0.8731\n",
      "\n",
      "{'addressSize': 30, 'bleachingActivated': True, 'quantile_based': True, 'thermometer_size': 13}\n"
     ]
    },
    {
     "name": "stderr",
     "output_type": "stream",
     "text": [
      " 38%|███▊      | 460/1210 [7:06:47<11:04:56, 53.20s/it]"
     ]
    },
    {
     "name": "stdout",
     "output_type": "stream",
     "text": [
      "Train acc. mean: 0.9993 | Validation acc. mean: 0.8666\n",
      "\n",
      "{'addressSize': 30, 'bleachingActivated': True, 'quantile_based': True, 'thermometer_size': 14}\n"
     ]
    },
    {
     "name": "stderr",
     "output_type": "stream",
     "text": [
      " 38%|███▊      | 465/1210 [7:11:18<11:06:48, 53.70s/it]"
     ]
    },
    {
     "name": "stdout",
     "output_type": "stream",
     "text": [
      "Train acc. mean: 0.9996 | Validation acc. mean: 0.8716\n",
      "\n",
      "{'addressSize': 30, 'bleachingActivated': True, 'quantile_based': True, 'thermometer_size': 15}\n"
     ]
    },
    {
     "name": "stderr",
     "output_type": "stream",
     "text": [
      " 39%|███▉      | 470/1210 [7:16:36<13:09:27, 64.01s/it]"
     ]
    },
    {
     "name": "stdout",
     "output_type": "stream",
     "text": [
      "Train acc. mean: 0.9998 | Validation acc. mean: 0.8736\n",
      "\n",
      "{'addressSize': 30, 'bleachingActivated': True, 'quantile_based': True, 'thermometer_size': 16}\n"
     ]
    },
    {
     "name": "stderr",
     "output_type": "stream",
     "text": [
      " 39%|███▉      | 475/1210 [7:21:17<11:47:40, 57.77s/it]"
     ]
    },
    {
     "name": "stdout",
     "output_type": "stream",
     "text": [
      "Train acc. mean: 0.9999 | Validation acc. mean: 0.8832\n",
      "\n",
      "{'addressSize': 30, 'bleachingActivated': True, 'quantile_based': True, 'thermometer_size': 17}\n"
     ]
    },
    {
     "name": "stderr",
     "output_type": "stream",
     "text": [
      " 40%|███▉      | 480/1210 [7:26:02<11:38:41, 57.43s/it]"
     ]
    },
    {
     "name": "stdout",
     "output_type": "stream",
     "text": [
      "Train acc. mean: 0.9998 | Validation acc. mean: 0.8792\n",
      "\n",
      "{'addressSize': 30, 'bleachingActivated': True, 'quantile_based': True, 'thermometer_size': 18}\n"
     ]
    },
    {
     "name": "stderr",
     "output_type": "stream",
     "text": [
      " 40%|████      | 485/1210 [7:30:52<11:37:49, 57.75s/it]"
     ]
    },
    {
     "name": "stdout",
     "output_type": "stream",
     "text": [
      "Train acc. mean: 0.9998 | Validation acc. mean: 0.8813\n",
      "\n",
      "{'addressSize': 30, 'bleachingActivated': True, 'quantile_based': True, 'thermometer_size': 19}\n"
     ]
    },
    {
     "name": "stderr",
     "output_type": "stream",
     "text": [
      " 40%|████      | 490/1210 [7:35:56<12:10:25, 60.87s/it]"
     ]
    },
    {
     "name": "stdout",
     "output_type": "stream",
     "text": [
      "Train acc. mean: 0.9999 | Validation acc. mean: 0.8794\n",
      "\n",
      "{'addressSize': 30, 'bleachingActivated': True, 'quantile_based': True, 'thermometer_size': 20}\n"
     ]
    },
    {
     "name": "stderr",
     "output_type": "stream",
     "text": [
      " 41%|████      | 495/1210 [7:40:54<11:58:12, 60.27s/it]"
     ]
    },
    {
     "name": "stdout",
     "output_type": "stream",
     "text": [
      "Train acc. mean: 0.9999 | Validation acc. mean: 0.8864\n",
      "\n",
      "{'addressSize': 30, 'bleachingActivated': False, 'quantile_based': True, 'thermometer_size': 10}\n"
     ]
    },
    {
     "name": "stderr",
     "output_type": "stream",
     "text": [
      " 41%|████▏     | 500/1210 [7:44:58<9:59:39, 50.67s/it] "
     ]
    },
    {
     "name": "stdout",
     "output_type": "stream",
     "text": [
      "Train acc. mean: 0.9992 | Validation acc. mean: 0.8670\n",
      "\n",
      "{'addressSize': 30, 'bleachingActivated': False, 'quantile_based': True, 'thermometer_size': 11}\n"
     ]
    },
    {
     "name": "stderr",
     "output_type": "stream",
     "text": [
      " 42%|████▏     | 505/1210 [7:49:08<9:42:43, 49.59s/it] "
     ]
    },
    {
     "name": "stdout",
     "output_type": "stream",
     "text": [
      "Train acc. mean: 0.9995 | Validation acc. mean: 0.8668\n",
      "\n",
      "{'addressSize': 30, 'bleachingActivated': False, 'quantile_based': True, 'thermometer_size': 12}\n"
     ]
    },
    {
     "name": "stderr",
     "output_type": "stream",
     "text": [
      " 42%|████▏     | 510/1210 [7:53:31<10:10:46, 52.35s/it]"
     ]
    },
    {
     "name": "stdout",
     "output_type": "stream",
     "text": [
      "Train acc. mean: 0.9996 | Validation acc. mean: 0.8746\n",
      "\n",
      "{'addressSize': 30, 'bleachingActivated': False, 'quantile_based': True, 'thermometer_size': 13}\n"
     ]
    },
    {
     "name": "stderr",
     "output_type": "stream",
     "text": [
      " 43%|████▎     | 515/1210 [7:57:53<10:04:53, 52.22s/it]"
     ]
    },
    {
     "name": "stdout",
     "output_type": "stream",
     "text": [
      "Train acc. mean: 0.9995 | Validation acc. mean: 0.8749\n",
      "\n",
      "{'addressSize': 30, 'bleachingActivated': False, 'quantile_based': True, 'thermometer_size': 14}\n"
     ]
    },
    {
     "name": "stderr",
     "output_type": "stream",
     "text": [
      " 43%|████▎     | 520/1210 [8:02:22<10:15:25, 53.52s/it]"
     ]
    },
    {
     "name": "stdout",
     "output_type": "stream",
     "text": [
      "Train acc. mean: 0.9995 | Validation acc. mean: 0.8739\n",
      "\n",
      "{'addressSize': 30, 'bleachingActivated': False, 'quantile_based': True, 'thermometer_size': 15}\n"
     ]
    },
    {
     "name": "stderr",
     "output_type": "stream",
     "text": [
      " 43%|████▎     | 525/1210 [8:07:00<10:32:20, 55.39s/it]"
     ]
    },
    {
     "name": "stdout",
     "output_type": "stream",
     "text": [
      "Train acc. mean: 0.9996 | Validation acc. mean: 0.8750\n",
      "\n",
      "{'addressSize': 30, 'bleachingActivated': False, 'quantile_based': True, 'thermometer_size': 16}\n"
     ]
    },
    {
     "name": "stderr",
     "output_type": "stream",
     "text": [
      " 44%|████▍     | 530/1210 [8:11:40<10:35:26, 56.07s/it]"
     ]
    },
    {
     "name": "stdout",
     "output_type": "stream",
     "text": [
      "Train acc. mean: 0.9998 | Validation acc. mean: 0.8758\n",
      "\n",
      "{'addressSize': 30, 'bleachingActivated': False, 'quantile_based': True, 'thermometer_size': 17}\n"
     ]
    },
    {
     "name": "stderr",
     "output_type": "stream",
     "text": [
      " 44%|████▍     | 535/1210 [8:16:26<10:44:05, 57.25s/it]"
     ]
    },
    {
     "name": "stdout",
     "output_type": "stream",
     "text": [
      "Train acc. mean: 0.9999 | Validation acc. mean: 0.8798\n",
      "\n",
      "{'addressSize': 30, 'bleachingActivated': False, 'quantile_based': True, 'thermometer_size': 18}\n"
     ]
    },
    {
     "name": "stderr",
     "output_type": "stream",
     "text": [
      " 45%|████▍     | 540/1210 [8:21:15<10:41:00, 57.40s/it]"
     ]
    },
    {
     "name": "stdout",
     "output_type": "stream",
     "text": [
      "Train acc. mean: 1.0000 | Validation acc. mean: 0.8818\n",
      "\n",
      "{'addressSize': 30, 'bleachingActivated': False, 'quantile_based': True, 'thermometer_size': 19}\n"
     ]
    },
    {
     "name": "stderr",
     "output_type": "stream",
     "text": [
      " 45%|████▌     | 545/1210 [8:26:14<10:59:04, 59.47s/it]"
     ]
    },
    {
     "name": "stdout",
     "output_type": "stream",
     "text": [
      "Train acc. mean: 0.9999 | Validation acc. mean: 0.8754\n",
      "\n",
      "{'addressSize': 30, 'bleachingActivated': False, 'quantile_based': True, 'thermometer_size': 20}\n"
     ]
    },
    {
     "name": "stderr",
     "output_type": "stream",
     "text": [
      " 45%|████▌     | 550/1210 [8:31:12<10:56:13, 59.66s/it]"
     ]
    },
    {
     "name": "stdout",
     "output_type": "stream",
     "text": [
      "Train acc. mean: 0.9999 | Validation acc. mean: 0.8819\n",
      "\n",
      "{'addressSize': 35, 'bleachingActivated': True, 'quantile_based': True, 'thermometer_size': 10}\n"
     ]
    },
    {
     "name": "stderr",
     "output_type": "stream",
     "text": [
      " 46%|████▌     | 555/1210 [8:35:20<9:27:26, 51.98s/it] "
     ]
    },
    {
     "name": "stdout",
     "output_type": "stream",
     "text": [
      "Train acc. mean: 0.9997 | Validation acc. mean: 0.8768\n",
      "\n",
      "{'addressSize': 35, 'bleachingActivated': True, 'quantile_based': True, 'thermometer_size': 11}\n"
     ]
    },
    {
     "name": "stderr",
     "output_type": "stream",
     "text": [
      " 46%|████▋     | 560/1210 [8:39:26<8:55:13, 49.41s/it]"
     ]
    },
    {
     "name": "stdout",
     "output_type": "stream",
     "text": [
      "Train acc. mean: 0.9999 | Validation acc. mean: 0.8769\n",
      "\n",
      "{'addressSize': 35, 'bleachingActivated': True, 'quantile_based': True, 'thermometer_size': 12}\n"
     ]
    },
    {
     "name": "stderr",
     "output_type": "stream",
     "text": [
      " 47%|████▋     | 565/1210 [8:43:45<9:10:44, 51.23s/it]"
     ]
    },
    {
     "name": "stdout",
     "output_type": "stream",
     "text": [
      "Train acc. mean: 0.9999 | Validation acc. mean: 0.8772\n",
      "\n",
      "{'addressSize': 35, 'bleachingActivated': True, 'quantile_based': True, 'thermometer_size': 13}\n"
     ]
    },
    {
     "name": "stderr",
     "output_type": "stream",
     "text": [
      " 47%|████▋     | 570/1210 [8:48:07<9:16:43, 52.19s/it]"
     ]
    },
    {
     "name": "stdout",
     "output_type": "stream",
     "text": [
      "Train acc. mean: 0.9997 | Validation acc. mean: 0.8696\n",
      "\n",
      "{'addressSize': 35, 'bleachingActivated': True, 'quantile_based': True, 'thermometer_size': 14}\n"
     ]
    },
    {
     "name": "stderr",
     "output_type": "stream",
     "text": [
      " 48%|████▊     | 575/1210 [8:52:40<9:38:58, 54.71s/it]"
     ]
    },
    {
     "name": "stdout",
     "output_type": "stream",
     "text": [
      "Train acc. mean: 0.9999 | Validation acc. mean: 0.8750\n",
      "\n",
      "{'addressSize': 35, 'bleachingActivated': True, 'quantile_based': True, 'thermometer_size': 15}\n"
     ]
    },
    {
     "name": "stderr",
     "output_type": "stream",
     "text": [
      " 48%|████▊     | 580/1210 [8:57:15<9:36:09, 54.87s/it]"
     ]
    },
    {
     "name": "stdout",
     "output_type": "stream",
     "text": [
      "Train acc. mean: 1.0000 | Validation acc. mean: 0.8772\n",
      "\n",
      "{'addressSize': 35, 'bleachingActivated': True, 'quantile_based': True, 'thermometer_size': 16}\n"
     ]
    },
    {
     "name": "stderr",
     "output_type": "stream",
     "text": [
      " 48%|████▊     | 585/1210 [9:01:57<9:47:51, 56.43s/it]"
     ]
    },
    {
     "name": "stdout",
     "output_type": "stream",
     "text": [
      "Train acc. mean: 1.0000 | Validation acc. mean: 0.8818\n",
      "\n",
      "{'addressSize': 35, 'bleachingActivated': True, 'quantile_based': True, 'thermometer_size': 17}\n"
     ]
    },
    {
     "name": "stderr",
     "output_type": "stream",
     "text": [
      " 49%|████▉     | 590/1210 [9:06:45<9:57:32, 57.83s/it] "
     ]
    },
    {
     "name": "stdout",
     "output_type": "stream",
     "text": [
      "Train acc. mean: 1.0000 | Validation acc. mean: 0.8851\n",
      "\n",
      "{'addressSize': 35, 'bleachingActivated': True, 'quantile_based': True, 'thermometer_size': 18}\n"
     ]
    },
    {
     "name": "stderr",
     "output_type": "stream",
     "text": [
      " 49%|████▉     | 595/1210 [9:11:33<9:47:39, 57.33s/it]"
     ]
    },
    {
     "name": "stdout",
     "output_type": "stream",
     "text": [
      "Train acc. mean: 1.0000 | Validation acc. mean: 0.8751\n",
      "\n",
      "{'addressSize': 35, 'bleachingActivated': True, 'quantile_based': True, 'thermometer_size': 19}\n"
     ]
    },
    {
     "name": "stderr",
     "output_type": "stream",
     "text": [
      " 50%|████▉     | 600/1210 [9:16:32<10:04:29, 59.46s/it]"
     ]
    },
    {
     "name": "stdout",
     "output_type": "stream",
     "text": [
      "Train acc. mean: 1.0000 | Validation acc. mean: 0.8856\n",
      "\n",
      "{'addressSize': 35, 'bleachingActivated': True, 'quantile_based': True, 'thermometer_size': 20}\n"
     ]
    },
    {
     "name": "stderr",
     "output_type": "stream",
     "text": [
      " 50%|█████     | 605/1210 [9:21:29<9:59:27, 59.45s/it] "
     ]
    },
    {
     "name": "stdout",
     "output_type": "stream",
     "text": [
      "Train acc. mean: 1.0000 | Validation acc. mean: 0.8874\n",
      "\n",
      "{'addressSize': 35, 'bleachingActivated': False, 'quantile_based': True, 'thermometer_size': 10}\n"
     ]
    },
    {
     "name": "stderr",
     "output_type": "stream",
     "text": [
      " 50%|█████     | 610/1210 [9:25:35<8:31:43, 51.17s/it]"
     ]
    },
    {
     "name": "stdout",
     "output_type": "stream",
     "text": [
      "Train acc. mean: 0.9997 | Validation acc. mean: 0.8675\n",
      "\n",
      "{'addressSize': 35, 'bleachingActivated': False, 'quantile_based': True, 'thermometer_size': 11}\n"
     ]
    },
    {
     "name": "stderr",
     "output_type": "stream",
     "text": [
      " 51%|█████     | 615/1210 [9:29:42<8:10:22, 49.45s/it]"
     ]
    },
    {
     "name": "stdout",
     "output_type": "stream",
     "text": [
      "Train acc. mean: 0.9999 | Validation acc. mean: 0.8651\n",
      "\n",
      "{'addressSize': 35, 'bleachingActivated': False, 'quantile_based': True, 'thermometer_size': 12}\n"
     ]
    },
    {
     "name": "stderr",
     "output_type": "stream",
     "text": [
      " 51%|█████     | 620/1210 [9:33:59<8:22:29, 51.10s/it]"
     ]
    },
    {
     "name": "stdout",
     "output_type": "stream",
     "text": [
      "Train acc. mean: 1.0000 | Validation acc. mean: 0.8734\n",
      "\n",
      "{'addressSize': 35, 'bleachingActivated': False, 'quantile_based': True, 'thermometer_size': 13}\n"
     ]
    },
    {
     "name": "stderr",
     "output_type": "stream",
     "text": [
      " 52%|█████▏    | 625/1210 [9:38:30<8:38:32, 53.18s/it]"
     ]
    },
    {
     "name": "stdout",
     "output_type": "stream",
     "text": [
      "Train acc. mean: 0.9999 | Validation acc. mean: 0.8757\n",
      "\n",
      "{'addressSize': 35, 'bleachingActivated': False, 'quantile_based': True, 'thermometer_size': 14}\n"
     ]
    },
    {
     "name": "stderr",
     "output_type": "stream",
     "text": [
      " 52%|█████▏    | 630/1210 [9:43:02<8:40:02, 53.80s/it]"
     ]
    },
    {
     "name": "stdout",
     "output_type": "stream",
     "text": [
      "Train acc. mean: 1.0000 | Validation acc. mean: 0.8716\n",
      "\n",
      "{'addressSize': 35, 'bleachingActivated': False, 'quantile_based': True, 'thermometer_size': 15}\n"
     ]
    },
    {
     "name": "stderr",
     "output_type": "stream",
     "text": [
      " 52%|█████▏    | 635/1210 [9:47:38<8:48:19, 55.13s/it]"
     ]
    },
    {
     "name": "stdout",
     "output_type": "stream",
     "text": [
      "Train acc. mean: 0.9999 | Validation acc. mean: 0.8758\n",
      "\n",
      "{'addressSize': 35, 'bleachingActivated': False, 'quantile_based': True, 'thermometer_size': 16}\n"
     ]
    },
    {
     "name": "stderr",
     "output_type": "stream",
     "text": [
      " 53%|█████▎    | 640/1210 [9:52:20<9:00:41, 56.91s/it]"
     ]
    },
    {
     "name": "stdout",
     "output_type": "stream",
     "text": [
      "Train acc. mean: 1.0000 | Validation acc. mean: 0.8807\n",
      "\n",
      "{'addressSize': 35, 'bleachingActivated': False, 'quantile_based': True, 'thermometer_size': 17}\n"
     ]
    },
    {
     "name": "stderr",
     "output_type": "stream",
     "text": [
      " 53%|█████▎    | 645/1210 [9:57:12<9:03:47, 57.75s/it]"
     ]
    },
    {
     "name": "stdout",
     "output_type": "stream",
     "text": [
      "Train acc. mean: 1.0000 | Validation acc. mean: 0.8791\n",
      "\n",
      "{'addressSize': 35, 'bleachingActivated': False, 'quantile_based': True, 'thermometer_size': 18}\n"
     ]
    },
    {
     "name": "stderr",
     "output_type": "stream",
     "text": [
      " 54%|█████▎    | 650/1210 [10:02:01<8:55:44, 57.40s/it]"
     ]
    },
    {
     "name": "stdout",
     "output_type": "stream",
     "text": [
      "Train acc. mean: 1.0000 | Validation acc. mean: 0.8765\n",
      "\n",
      "{'addressSize': 35, 'bleachingActivated': False, 'quantile_based': True, 'thermometer_size': 19}\n"
     ]
    },
    {
     "name": "stderr",
     "output_type": "stream",
     "text": [
      " 54%|█████▍    | 655/1210 [10:07:02<9:16:40, 60.18s/it]"
     ]
    },
    {
     "name": "stdout",
     "output_type": "stream",
     "text": [
      "Train acc. mean: 1.0000 | Validation acc. mean: 0.8829\n",
      "\n",
      "{'addressSize': 35, 'bleachingActivated': False, 'quantile_based': True, 'thermometer_size': 20}\n"
     ]
    },
    {
     "name": "stderr",
     "output_type": "stream",
     "text": [
      " 55%|█████▍    | 660/1210 [10:12:00<9:07:51, 59.77s/it]"
     ]
    },
    {
     "name": "stdout",
     "output_type": "stream",
     "text": [
      "Train acc. mean: 1.0000 | Validation acc. mean: 0.8765\n",
      "\n",
      "{'addressSize': 40, 'bleachingActivated': True, 'quantile_based': True, 'thermometer_size': 10}\n"
     ]
    },
    {
     "name": "stderr",
     "output_type": "stream",
     "text": [
      " 55%|█████▍    | 665/1210 [10:16:07<7:43:20, 51.01s/it]"
     ]
    },
    {
     "name": "stdout",
     "output_type": "stream",
     "text": [
      "Train acc. mean: 1.0000 | Validation acc. mean: 0.8720\n",
      "\n",
      "{'addressSize': 40, 'bleachingActivated': True, 'quantile_based': True, 'thermometer_size': 11}\n"
     ]
    },
    {
     "name": "stderr",
     "output_type": "stream",
     "text": [
      " 55%|█████▌    | 670/1210 [10:20:14<7:24:40, 49.41s/it]"
     ]
    },
    {
     "name": "stdout",
     "output_type": "stream",
     "text": [
      "Train acc. mean: 1.0000 | Validation acc. mean: 0.8746\n",
      "\n",
      "{'addressSize': 40, 'bleachingActivated': True, 'quantile_based': True, 'thermometer_size': 12}\n"
     ]
    },
    {
     "name": "stderr",
     "output_type": "stream",
     "text": [
      " 56%|█████▌    | 675/1210 [10:24:30<7:36:01, 51.14s/it]"
     ]
    },
    {
     "name": "stdout",
     "output_type": "stream",
     "text": [
      "Train acc. mean: 1.0000 | Validation acc. mean: 0.8750\n",
      "\n",
      "{'addressSize': 40, 'bleachingActivated': True, 'quantile_based': True, 'thermometer_size': 13}\n"
     ]
    },
    {
     "name": "stderr",
     "output_type": "stream",
     "text": [
      " 56%|█████▌    | 680/1210 [10:28:52<7:38:16, 51.88s/it]"
     ]
    },
    {
     "name": "stdout",
     "output_type": "stream",
     "text": [
      "Train acc. mean: 1.0000 | Validation acc. mean: 0.8838\n",
      "\n",
      "{'addressSize': 40, 'bleachingActivated': True, 'quantile_based': True, 'thermometer_size': 14}\n"
     ]
    },
    {
     "name": "stderr",
     "output_type": "stream",
     "text": [
      " 57%|█████▋    | 685/1210 [10:33:21<7:47:13, 53.40s/it]"
     ]
    },
    {
     "name": "stdout",
     "output_type": "stream",
     "text": [
      "Train acc. mean: 1.0000 | Validation acc. mean: 0.8711\n",
      "\n",
      "{'addressSize': 40, 'bleachingActivated': True, 'quantile_based': True, 'thermometer_size': 15}\n"
     ]
    },
    {
     "name": "stderr",
     "output_type": "stream",
     "text": [
      " 57%|█████▋    | 690/1210 [10:37:59<7:56:14, 54.95s/it]"
     ]
    },
    {
     "name": "stdout",
     "output_type": "stream",
     "text": [
      "Train acc. mean: 0.9999 | Validation acc. mean: 0.8794\n",
      "\n",
      "{'addressSize': 40, 'bleachingActivated': True, 'quantile_based': True, 'thermometer_size': 16}\n"
     ]
    },
    {
     "name": "stderr",
     "output_type": "stream",
     "text": [
      " 57%|█████▋    | 695/1210 [10:42:38<7:59:47, 55.90s/it]"
     ]
    },
    {
     "name": "stdout",
     "output_type": "stream",
     "text": [
      "Train acc. mean: 1.0000 | Validation acc. mean: 0.8833\n",
      "\n",
      "{'addressSize': 40, 'bleachingActivated': True, 'quantile_based': True, 'thermometer_size': 17}\n"
     ]
    },
    {
     "name": "stderr",
     "output_type": "stream",
     "text": [
      " 58%|█████▊    | 700/1210 [10:47:23<8:04:18, 56.98s/it]"
     ]
    },
    {
     "name": "stdout",
     "output_type": "stream",
     "text": [
      "Train acc. mean: 1.0000 | Validation acc. mean: 0.8783\n",
      "\n",
      "{'addressSize': 40, 'bleachingActivated': True, 'quantile_based': True, 'thermometer_size': 18}\n"
     ]
    },
    {
     "name": "stderr",
     "output_type": "stream",
     "text": [
      " 58%|█████▊    | 705/1210 [10:52:13<8:06:26, 57.80s/it]"
     ]
    },
    {
     "name": "stdout",
     "output_type": "stream",
     "text": [
      "Train acc. mean: 1.0000 | Validation acc. mean: 0.8830\n",
      "\n",
      "{'addressSize': 40, 'bleachingActivated': True, 'quantile_based': True, 'thermometer_size': 19}\n"
     ]
    },
    {
     "name": "stderr",
     "output_type": "stream",
     "text": [
      " 59%|█████▊    | 710/1210 [10:57:16<8:18:28, 59.82s/it]"
     ]
    },
    {
     "name": "stdout",
     "output_type": "stream",
     "text": [
      "Train acc. mean: 1.0000 | Validation acc. mean: 0.8872\n",
      "\n",
      "{'addressSize': 40, 'bleachingActivated': True, 'quantile_based': True, 'thermometer_size': 20}\n"
     ]
    },
    {
     "name": "stderr",
     "output_type": "stream",
     "text": [
      " 59%|█████▉    | 715/1210 [11:02:23<8:28:11, 61.60s/it]"
     ]
    },
    {
     "name": "stdout",
     "output_type": "stream",
     "text": [
      "Train acc. mean: 1.0000 | Validation acc. mean: 0.8822\n",
      "\n",
      "{'addressSize': 40, 'bleachingActivated': False, 'quantile_based': True, 'thermometer_size': 10}\n"
     ]
    },
    {
     "name": "stderr",
     "output_type": "stream",
     "text": [
      " 60%|█████▉    | 720/1210 [11:06:34<7:06:01, 52.17s/it]"
     ]
    },
    {
     "name": "stdout",
     "output_type": "stream",
     "text": [
      "Train acc. mean: 0.9999 | Validation acc. mean: 0.8787\n",
      "\n",
      "{'addressSize': 40, 'bleachingActivated': False, 'quantile_based': True, 'thermometer_size': 11}\n"
     ]
    },
    {
     "name": "stderr",
     "output_type": "stream",
     "text": [
      " 60%|█████▉    | 725/1210 [11:10:42<6:41:15, 49.64s/it]"
     ]
    },
    {
     "name": "stdout",
     "output_type": "stream",
     "text": [
      "Train acc. mean: 0.9999 | Validation acc. mean: 0.8731\n",
      "\n",
      "{'addressSize': 40, 'bleachingActivated': False, 'quantile_based': True, 'thermometer_size': 12}\n"
     ]
    },
    {
     "name": "stderr",
     "output_type": "stream",
     "text": [
      " 60%|██████    | 730/1210 [11:14:58<6:47:44, 50.97s/it]"
     ]
    },
    {
     "name": "stdout",
     "output_type": "stream",
     "text": [
      "Train acc. mean: 1.0000 | Validation acc. mean: 0.8764\n",
      "\n",
      "{'addressSize': 40, 'bleachingActivated': False, 'quantile_based': True, 'thermometer_size': 13}\n"
     ]
    },
    {
     "name": "stderr",
     "output_type": "stream",
     "text": [
      " 61%|██████    | 735/1210 [11:19:19<6:50:56, 51.91s/it]"
     ]
    },
    {
     "name": "stdout",
     "output_type": "stream",
     "text": [
      "Train acc. mean: 1.0000 | Validation acc. mean: 0.8804\n",
      "\n",
      "{'addressSize': 40, 'bleachingActivated': False, 'quantile_based': True, 'thermometer_size': 14}\n"
     ]
    },
    {
     "name": "stderr",
     "output_type": "stream",
     "text": [
      " 61%|██████    | 740/1210 [11:23:48<6:58:14, 53.39s/it]"
     ]
    },
    {
     "name": "stdout",
     "output_type": "stream",
     "text": [
      "Train acc. mean: 1.0000 | Validation acc. mean: 0.8810\n",
      "\n",
      "{'addressSize': 40, 'bleachingActivated': False, 'quantile_based': True, 'thermometer_size': 15}\n"
     ]
    },
    {
     "name": "stderr",
     "output_type": "stream",
     "text": [
      " 62%|██████▏   | 745/1210 [11:28:22<7:01:56, 54.44s/it]"
     ]
    },
    {
     "name": "stdout",
     "output_type": "stream",
     "text": [
      "Train acc. mean: 1.0000 | Validation acc. mean: 0.8838\n",
      "\n",
      "{'addressSize': 40, 'bleachingActivated': False, 'quantile_based': True, 'thermometer_size': 16}\n"
     ]
    },
    {
     "name": "stderr",
     "output_type": "stream",
     "text": [
      " 62%|██████▏   | 750/1210 [11:33:01<7:07:41, 55.79s/it]"
     ]
    },
    {
     "name": "stdout",
     "output_type": "stream",
     "text": [
      "Train acc. mean: 1.0000 | Validation acc. mean: 0.8821\n",
      "\n",
      "{'addressSize': 40, 'bleachingActivated': False, 'quantile_based': True, 'thermometer_size': 17}\n"
     ]
    },
    {
     "name": "stderr",
     "output_type": "stream",
     "text": [
      " 62%|██████▏   | 755/1210 [11:37:48<7:14:39, 57.32s/it]"
     ]
    },
    {
     "name": "stdout",
     "output_type": "stream",
     "text": [
      "Train acc. mean: 1.0000 | Validation acc. mean: 0.8845\n",
      "\n",
      "{'addressSize': 40, 'bleachingActivated': False, 'quantile_based': True, 'thermometer_size': 18}\n"
     ]
    },
    {
     "name": "stderr",
     "output_type": "stream",
     "text": [
      " 63%|██████▎   | 760/1210 [11:42:36<7:10:58, 57.46s/it]"
     ]
    },
    {
     "name": "stdout",
     "output_type": "stream",
     "text": [
      "Train acc. mean: 1.0000 | Validation acc. mean: 0.8837\n",
      "\n",
      "{'addressSize': 40, 'bleachingActivated': False, 'quantile_based': True, 'thermometer_size': 19}\n"
     ]
    },
    {
     "name": "stderr",
     "output_type": "stream",
     "text": [
      " 63%|██████▎   | 765/1210 [11:47:36<7:24:07, 59.88s/it]"
     ]
    },
    {
     "name": "stdout",
     "output_type": "stream",
     "text": [
      "Train acc. mean: 1.0000 | Validation acc. mean: 0.8833\n",
      "\n",
      "{'addressSize': 40, 'bleachingActivated': False, 'quantile_based': True, 'thermometer_size': 20}\n"
     ]
    },
    {
     "name": "stderr",
     "output_type": "stream",
     "text": [
      " 64%|██████▎   | 770/1210 [11:52:37<7:25:10, 60.70s/it]"
     ]
    },
    {
     "name": "stdout",
     "output_type": "stream",
     "text": [
      "Train acc. mean: 1.0000 | Validation acc. mean: 0.8807\n",
      "\n",
      "{'addressSize': 45, 'bleachingActivated': True, 'quantile_based': True, 'thermometer_size': 10}\n"
     ]
    },
    {
     "name": "stderr",
     "output_type": "stream",
     "text": [
      " 64%|██████▍   | 775/1210 [11:56:47<6:15:06, 51.74s/it]"
     ]
    },
    {
     "name": "stdout",
     "output_type": "stream",
     "text": [
      "Train acc. mean: 1.0000 | Validation acc. mean: 0.8727\n",
      "\n",
      "{'addressSize': 45, 'bleachingActivated': True, 'quantile_based': True, 'thermometer_size': 11}\n"
     ]
    },
    {
     "name": "stderr",
     "output_type": "stream",
     "text": [
      " 64%|██████▍   | 780/1210 [12:00:52<5:53:45, 49.36s/it]"
     ]
    },
    {
     "name": "stdout",
     "output_type": "stream",
     "text": [
      "Train acc. mean: 1.0000 | Validation acc. mean: 0.8762\n",
      "\n",
      "{'addressSize': 45, 'bleachingActivated': True, 'quantile_based': True, 'thermometer_size': 12}\n"
     ]
    },
    {
     "name": "stderr",
     "output_type": "stream",
     "text": [
      " 65%|██████▍   | 785/1210 [12:05:12<6:10:12, 52.27s/it]"
     ]
    },
    {
     "name": "stdout",
     "output_type": "stream",
     "text": [
      "Train acc. mean: 1.0000 | Validation acc. mean: 0.8766\n",
      "\n",
      "{'addressSize': 45, 'bleachingActivated': True, 'quantile_based': True, 'thermometer_size': 13}\n"
     ]
    },
    {
     "name": "stderr",
     "output_type": "stream",
     "text": [
      " 65%|██████▌   | 790/1210 [12:09:34<6:06:50, 52.41s/it]"
     ]
    },
    {
     "name": "stdout",
     "output_type": "stream",
     "text": [
      "Train acc. mean: 1.0000 | Validation acc. mean: 0.8780\n",
      "\n",
      "{'addressSize': 45, 'bleachingActivated': True, 'quantile_based': True, 'thermometer_size': 14}\n"
     ]
    },
    {
     "name": "stderr",
     "output_type": "stream",
     "text": [
      " 66%|██████▌   | 795/1210 [12:14:02<6:07:51, 53.19s/it]"
     ]
    },
    {
     "name": "stdout",
     "output_type": "stream",
     "text": [
      "Train acc. mean: 1.0000 | Validation acc. mean: 0.8735\n",
      "\n",
      "{'addressSize': 45, 'bleachingActivated': True, 'quantile_based': True, 'thermometer_size': 15}\n"
     ]
    },
    {
     "name": "stderr",
     "output_type": "stream",
     "text": [
      " 66%|██████▌   | 800/1210 [12:18:36<6:12:13, 54.47s/it]"
     ]
    },
    {
     "name": "stdout",
     "output_type": "stream",
     "text": [
      "Train acc. mean: 1.0000 | Validation acc. mean: 0.8825\n",
      "\n",
      "{'addressSize': 45, 'bleachingActivated': True, 'quantile_based': True, 'thermometer_size': 16}\n"
     ]
    },
    {
     "name": "stderr",
     "output_type": "stream",
     "text": [
      " 67%|██████▋   | 805/1210 [12:23:15<6:16:39, 55.80s/it]"
     ]
    },
    {
     "name": "stdout",
     "output_type": "stream",
     "text": [
      "Train acc. mean: 1.0000 | Validation acc. mean: 0.8825\n",
      "\n",
      "{'addressSize': 45, 'bleachingActivated': True, 'quantile_based': True, 'thermometer_size': 17}\n"
     ]
    },
    {
     "name": "stderr",
     "output_type": "stream",
     "text": [
      " 67%|██████▋   | 810/1210 [12:27:58<6:17:26, 56.62s/it]"
     ]
    },
    {
     "name": "stdout",
     "output_type": "stream",
     "text": [
      "Train acc. mean: 1.0000 | Validation acc. mean: 0.8860\n",
      "\n",
      "{'addressSize': 45, 'bleachingActivated': True, 'quantile_based': True, 'thermometer_size': 18}\n"
     ]
    },
    {
     "name": "stderr",
     "output_type": "stream",
     "text": [
      " 67%|██████▋   | 815/1210 [12:32:47<6:16:41, 57.22s/it]"
     ]
    },
    {
     "name": "stdout",
     "output_type": "stream",
     "text": [
      "Train acc. mean: 1.0000 | Validation acc. mean: 0.8825\n",
      "\n",
      "{'addressSize': 45, 'bleachingActivated': True, 'quantile_based': True, 'thermometer_size': 19}\n"
     ]
    },
    {
     "name": "stderr",
     "output_type": "stream",
     "text": [
      " 68%|██████▊   | 820/1210 [12:37:47<6:28:29, 59.77s/it]"
     ]
    },
    {
     "name": "stdout",
     "output_type": "stream",
     "text": [
      "Train acc. mean: 1.0000 | Validation acc. mean: 0.8882\n",
      "\n",
      "{'addressSize': 45, 'bleachingActivated': True, 'quantile_based': True, 'thermometer_size': 20}\n"
     ]
    },
    {
     "name": "stderr",
     "output_type": "stream",
     "text": [
      " 68%|██████▊   | 825/1210 [12:42:43<6:20:55, 59.37s/it]"
     ]
    },
    {
     "name": "stdout",
     "output_type": "stream",
     "text": [
      "Train acc. mean: 1.0000 | Validation acc. mean: 0.8885\n",
      "\n",
      "{'addressSize': 45, 'bleachingActivated': False, 'quantile_based': True, 'thermometer_size': 10}\n"
     ]
    },
    {
     "name": "stderr",
     "output_type": "stream",
     "text": [
      " 69%|██████▊   | 830/1210 [12:46:50<5:22:57, 50.99s/it]"
     ]
    },
    {
     "name": "stdout",
     "output_type": "stream",
     "text": [
      "Train acc. mean: 1.0000 | Validation acc. mean: 0.8709\n",
      "\n",
      "{'addressSize': 45, 'bleachingActivated': False, 'quantile_based': True, 'thermometer_size': 11}\n"
     ]
    },
    {
     "name": "stderr",
     "output_type": "stream",
     "text": [
      " 69%|██████▉   | 835/1210 [12:50:57<5:09:38, 49.54s/it]"
     ]
    },
    {
     "name": "stdout",
     "output_type": "stream",
     "text": [
      "Train acc. mean: 1.0000 | Validation acc. mean: 0.8764\n",
      "\n",
      "{'addressSize': 45, 'bleachingActivated': False, 'quantile_based': True, 'thermometer_size': 12}\n"
     ]
    },
    {
     "name": "stderr",
     "output_type": "stream",
     "text": [
      " 69%|██████▉   | 840/1210 [12:55:21<5:23:55, 52.53s/it]"
     ]
    },
    {
     "name": "stdout",
     "output_type": "stream",
     "text": [
      "Train acc. mean: 1.0000 | Validation acc. mean: 0.8738\n",
      "\n",
      "{'addressSize': 45, 'bleachingActivated': False, 'quantile_based': True, 'thermometer_size': 13}\n"
     ]
    },
    {
     "name": "stderr",
     "output_type": "stream",
     "text": [
      " 70%|██████▉   | 845/1210 [12:59:40<5:15:31, 51.87s/it]"
     ]
    },
    {
     "name": "stdout",
     "output_type": "stream",
     "text": [
      "Train acc. mean: 1.0000 | Validation acc. mean: 0.8741\n",
      "\n",
      "{'addressSize': 45, 'bleachingActivated': False, 'quantile_based': True, 'thermometer_size': 14}\n"
     ]
    },
    {
     "name": "stderr",
     "output_type": "stream",
     "text": [
      " 70%|███████   | 850/1210 [13:04:12<5:22:32, 53.76s/it]"
     ]
    },
    {
     "name": "stdout",
     "output_type": "stream",
     "text": [
      "Train acc. mean: 1.0000 | Validation acc. mean: 0.8766\n",
      "\n",
      "{'addressSize': 45, 'bleachingActivated': False, 'quantile_based': True, 'thermometer_size': 15}\n"
     ]
    },
    {
     "name": "stderr",
     "output_type": "stream",
     "text": [
      " 71%|███████   | 855/1210 [13:08:49<5:24:27, 54.84s/it]"
     ]
    },
    {
     "name": "stdout",
     "output_type": "stream",
     "text": [
      "Train acc. mean: 1.0000 | Validation acc. mean: 0.8815\n",
      "\n",
      "{'addressSize': 45, 'bleachingActivated': False, 'quantile_based': True, 'thermometer_size': 16}\n"
     ]
    },
    {
     "name": "stderr",
     "output_type": "stream",
     "text": [
      " 71%|███████   | 860/1210 [13:13:29<5:28:07, 56.25s/it]"
     ]
    },
    {
     "name": "stdout",
     "output_type": "stream",
     "text": [
      "Train acc. mean: 1.0000 | Validation acc. mean: 0.8860\n",
      "\n",
      "{'addressSize': 45, 'bleachingActivated': False, 'quantile_based': True, 'thermometer_size': 17}\n"
     ]
    },
    {
     "name": "stderr",
     "output_type": "stream",
     "text": [
      " 71%|███████▏  | 865/1210 [13:18:12<5:25:53, 56.68s/it]"
     ]
    },
    {
     "name": "stdout",
     "output_type": "stream",
     "text": [
      "Train acc. mean: 1.0000 | Validation acc. mean: 0.8810\n",
      "\n",
      "{'addressSize': 45, 'bleachingActivated': False, 'quantile_based': True, 'thermometer_size': 18}\n"
     ]
    },
    {
     "name": "stderr",
     "output_type": "stream",
     "text": [
      " 72%|███████▏  | 870/1210 [13:23:00<5:24:07, 57.20s/it]"
     ]
    },
    {
     "name": "stdout",
     "output_type": "stream",
     "text": [
      "Train acc. mean: 1.0000 | Validation acc. mean: 0.8768\n",
      "\n",
      "{'addressSize': 45, 'bleachingActivated': False, 'quantile_based': True, 'thermometer_size': 19}\n"
     ]
    },
    {
     "name": "stderr",
     "output_type": "stream",
     "text": [
      " 72%|███████▏  | 875/1210 [13:27:59<5:32:05, 59.48s/it]"
     ]
    },
    {
     "name": "stdout",
     "output_type": "stream",
     "text": [
      "Train acc. mean: 1.0000 | Validation acc. mean: 0.8811\n",
      "\n",
      "{'addressSize': 45, 'bleachingActivated': False, 'quantile_based': True, 'thermometer_size': 20}\n"
     ]
    },
    {
     "name": "stderr",
     "output_type": "stream",
     "text": [
      " 73%|███████▎  | 880/1210 [13:32:56<5:26:54, 59.44s/it]"
     ]
    },
    {
     "name": "stdout",
     "output_type": "stream",
     "text": [
      "Train acc. mean: 1.0000 | Validation acc. mean: 0.8859\n",
      "\n",
      "{'addressSize': 50, 'bleachingActivated': True, 'quantile_based': True, 'thermometer_size': 10}\n"
     ]
    },
    {
     "name": "stderr",
     "output_type": "stream",
     "text": [
      " 73%|███████▎  | 885/1210 [13:37:05<4:36:56, 51.13s/it]"
     ]
    },
    {
     "name": "stdout",
     "output_type": "stream",
     "text": [
      "Train acc. mean: 1.0000 | Validation acc. mean: 0.8738\n",
      "\n",
      "{'addressSize': 50, 'bleachingActivated': True, 'quantile_based': True, 'thermometer_size': 11}\n"
     ]
    },
    {
     "name": "stderr",
     "output_type": "stream",
     "text": [
      " 74%|███████▎  | 890/1210 [13:41:14<4:29:15, 50.48s/it]"
     ]
    },
    {
     "name": "stdout",
     "output_type": "stream",
     "text": [
      "Train acc. mean: 1.0000 | Validation acc. mean: 0.8726\n",
      "\n",
      "{'addressSize': 50, 'bleachingActivated': True, 'quantile_based': True, 'thermometer_size': 12}\n"
     ]
    },
    {
     "name": "stderr",
     "output_type": "stream",
     "text": [
      " 74%|███████▍  | 895/1210 [13:45:36<4:33:26, 52.09s/it]"
     ]
    },
    {
     "name": "stdout",
     "output_type": "stream",
     "text": [
      "Train acc. mean: 1.0000 | Validation acc. mean: 0.8821\n",
      "\n",
      "{'addressSize': 50, 'bleachingActivated': True, 'quantile_based': True, 'thermometer_size': 13}\n"
     ]
    },
    {
     "name": "stderr",
     "output_type": "stream",
     "text": [
      " 74%|███████▍  | 900/1210 [13:49:56<4:28:10, 51.90s/it]"
     ]
    },
    {
     "name": "stdout",
     "output_type": "stream",
     "text": [
      "Train acc. mean: 1.0000 | Validation acc. mean: 0.8770\n",
      "\n",
      "{'addressSize': 50, 'bleachingActivated': True, 'quantile_based': True, 'thermometer_size': 14}\n"
     ]
    },
    {
     "name": "stderr",
     "output_type": "stream",
     "text": [
      " 75%|███████▍  | 905/1210 [13:54:32<4:36:49, 54.46s/it]"
     ]
    },
    {
     "name": "stdout",
     "output_type": "stream",
     "text": [
      "Train acc. mean: 1.0000 | Validation acc. mean: 0.8761\n",
      "\n",
      "{'addressSize': 50, 'bleachingActivated': True, 'quantile_based': True, 'thermometer_size': 15}\n"
     ]
    },
    {
     "name": "stderr",
     "output_type": "stream",
     "text": [
      " 75%|███████▌  | 910/1210 [13:59:05<4:32:07, 54.42s/it]"
     ]
    },
    {
     "name": "stdout",
     "output_type": "stream",
     "text": [
      "Train acc. mean: 1.0000 | Validation acc. mean: 0.8832\n",
      "\n",
      "{'addressSize': 50, 'bleachingActivated': True, 'quantile_based': True, 'thermometer_size': 16}\n"
     ]
    },
    {
     "name": "stderr",
     "output_type": "stream",
     "text": [
      " 76%|███████▌  | 915/1210 [14:03:43<4:32:45, 55.48s/it]"
     ]
    },
    {
     "name": "stdout",
     "output_type": "stream",
     "text": [
      "Train acc. mean: 1.0000 | Validation acc. mean: 0.8832\n",
      "\n",
      "{'addressSize': 50, 'bleachingActivated': True, 'quantile_based': True, 'thermometer_size': 17}\n"
     ]
    },
    {
     "name": "stderr",
     "output_type": "stream",
     "text": [
      " 76%|███████▌  | 920/1210 [14:08:31<4:36:25, 57.19s/it]"
     ]
    },
    {
     "name": "stdout",
     "output_type": "stream",
     "text": [
      "Train acc. mean: 1.0000 | Validation acc. mean: 0.8874\n",
      "\n",
      "{'addressSize': 50, 'bleachingActivated': True, 'quantile_based': True, 'thermometer_size': 18}\n"
     ]
    },
    {
     "name": "stderr",
     "output_type": "stream",
     "text": [
      " 76%|███████▋  | 925/1210 [14:13:17<4:31:04, 57.07s/it]"
     ]
    },
    {
     "name": "stdout",
     "output_type": "stream",
     "text": [
      "Train acc. mean: 1.0000 | Validation acc. mean: 0.8840\n",
      "\n",
      "{'addressSize': 50, 'bleachingActivated': True, 'quantile_based': True, 'thermometer_size': 19}\n"
     ]
    },
    {
     "name": "stderr",
     "output_type": "stream",
     "text": [
      " 77%|███████▋  | 930/1210 [14:18:16<4:36:00, 59.14s/it]"
     ]
    },
    {
     "name": "stdout",
     "output_type": "stream",
     "text": [
      "Train acc. mean: 1.0000 | Validation acc. mean: 0.8864\n",
      "\n",
      "{'addressSize': 50, 'bleachingActivated': True, 'quantile_based': True, 'thermometer_size': 20}\n"
     ]
    },
    {
     "name": "stderr",
     "output_type": "stream",
     "text": [
      " 77%|███████▋  | 935/1210 [14:23:12<4:32:06, 59.37s/it]"
     ]
    },
    {
     "name": "stdout",
     "output_type": "stream",
     "text": [
      "Train acc. mean: 1.0000 | Validation acc. mean: 0.8894\n",
      "\n",
      "{'addressSize': 50, 'bleachingActivated': False, 'quantile_based': True, 'thermometer_size': 10}\n"
     ]
    },
    {
     "name": "stderr",
     "output_type": "stream",
     "text": [
      " 78%|███████▊  | 940/1210 [14:27:18<3:49:03, 50.90s/it]"
     ]
    },
    {
     "name": "stdout",
     "output_type": "stream",
     "text": [
      "Train acc. mean: 1.0000 | Validation acc. mean: 0.8753\n",
      "\n",
      "{'addressSize': 50, 'bleachingActivated': False, 'quantile_based': True, 'thermometer_size': 11}\n"
     ]
    },
    {
     "name": "stderr",
     "output_type": "stream",
     "text": [
      " 78%|███████▊  | 945/1210 [14:31:23<3:36:57, 49.12s/it]"
     ]
    },
    {
     "name": "stdout",
     "output_type": "stream",
     "text": [
      "Train acc. mean: 1.0000 | Validation acc. mean: 0.8713\n",
      "\n",
      "{'addressSize': 50, 'bleachingActivated': False, 'quantile_based': True, 'thermometer_size': 12}\n"
     ]
    },
    {
     "name": "stderr",
     "output_type": "stream",
     "text": [
      " 79%|███████▊  | 950/1210 [14:35:45<3:47:19, 52.46s/it]"
     ]
    },
    {
     "name": "stdout",
     "output_type": "stream",
     "text": [
      "Train acc. mean: 1.0000 | Validation acc. mean: 0.8734\n",
      "\n",
      "{'addressSize': 50, 'bleachingActivated': False, 'quantile_based': True, 'thermometer_size': 13}\n"
     ]
    },
    {
     "name": "stderr",
     "output_type": "stream",
     "text": [
      " 79%|███████▉  | 955/1210 [14:40:05<3:41:29, 52.12s/it]"
     ]
    },
    {
     "name": "stdout",
     "output_type": "stream",
     "text": [
      "Train acc. mean: 1.0000 | Validation acc. mean: 0.8764\n",
      "\n",
      "{'addressSize': 50, 'bleachingActivated': False, 'quantile_based': True, 'thermometer_size': 14}\n"
     ]
    },
    {
     "name": "stderr",
     "output_type": "stream",
     "text": [
      " 79%|███████▉  | 960/1210 [14:44:32<3:41:17, 53.11s/it]"
     ]
    },
    {
     "name": "stdout",
     "output_type": "stream",
     "text": [
      "Train acc. mean: 1.0000 | Validation acc. mean: 0.8760\n",
      "\n",
      "{'addressSize': 50, 'bleachingActivated': False, 'quantile_based': True, 'thermometer_size': 15}\n"
     ]
    },
    {
     "name": "stderr",
     "output_type": "stream",
     "text": [
      " 80%|███████▉  | 965/1210 [14:49:07<3:42:04, 54.39s/it]"
     ]
    },
    {
     "name": "stdout",
     "output_type": "stream",
     "text": [
      "Train acc. mean: 1.0000 | Validation acc. mean: 0.8845\n",
      "\n",
      "{'addressSize': 50, 'bleachingActivated': False, 'quantile_based': True, 'thermometer_size': 16}\n"
     ]
    },
    {
     "name": "stderr",
     "output_type": "stream",
     "text": [
      " 80%|████████  | 970/1210 [14:53:53<3:49:34, 57.39s/it]"
     ]
    },
    {
     "name": "stdout",
     "output_type": "stream",
     "text": [
      "Train acc. mean: 1.0000 | Validation acc. mean: 0.8791\n",
      "\n",
      "{'addressSize': 50, 'bleachingActivated': False, 'quantile_based': True, 'thermometer_size': 17}\n"
     ]
    },
    {
     "name": "stderr",
     "output_type": "stream",
     "text": [
      " 81%|████████  | 975/1210 [14:58:38<3:43:24, 57.04s/it]"
     ]
    },
    {
     "name": "stdout",
     "output_type": "stream",
     "text": [
      "Train acc. mean: 1.0000 | Validation acc. mean: 0.8821\n",
      "\n",
      "{'addressSize': 50, 'bleachingActivated': False, 'quantile_based': True, 'thermometer_size': 18}\n"
     ]
    },
    {
     "name": "stderr",
     "output_type": "stream",
     "text": [
      " 81%|████████  | 980/1210 [15:03:25<3:38:59, 57.13s/it]"
     ]
    },
    {
     "name": "stdout",
     "output_type": "stream",
     "text": [
      "Train acc. mean: 1.0000 | Validation acc. mean: 0.8860\n",
      "\n",
      "{'addressSize': 50, 'bleachingActivated': False, 'quantile_based': True, 'thermometer_size': 19}\n"
     ]
    },
    {
     "name": "stderr",
     "output_type": "stream",
     "text": [
      " 81%|████████▏ | 985/1210 [15:08:32<3:49:18, 61.15s/it]"
     ]
    },
    {
     "name": "stdout",
     "output_type": "stream",
     "text": [
      "Train acc. mean: 1.0000 | Validation acc. mean: 0.8877\n",
      "\n",
      "{'addressSize': 50, 'bleachingActivated': False, 'quantile_based': True, 'thermometer_size': 20}\n"
     ]
    },
    {
     "name": "stderr",
     "output_type": "stream",
     "text": [
      " 82%|████████▏ | 990/1210 [15:13:37<3:41:55, 60.53s/it]"
     ]
    },
    {
     "name": "stdout",
     "output_type": "stream",
     "text": [
      "Train acc. mean: 1.0000 | Validation acc. mean: 0.8866\n",
      "\n",
      "{'addressSize': 55, 'bleachingActivated': True, 'quantile_based': True, 'thermometer_size': 10}\n"
     ]
    },
    {
     "name": "stderr",
     "output_type": "stream",
     "text": [
      " 82%|████████▏ | 995/1210 [15:17:45<3:03:12, 51.13s/it]"
     ]
    },
    {
     "name": "stdout",
     "output_type": "stream",
     "text": [
      "Train acc. mean: 1.0000 | Validation acc. mean: 0.8728\n",
      "\n",
      "{'addressSize': 55, 'bleachingActivated': True, 'quantile_based': True, 'thermometer_size': 11}\n"
     ]
    },
    {
     "name": "stderr",
     "output_type": "stream",
     "text": [
      " 83%|████████▎ | 1000/1210 [15:21:50<2:52:00, 49.14s/it]"
     ]
    },
    {
     "name": "stdout",
     "output_type": "stream",
     "text": [
      "Train acc. mean: 1.0000 | Validation acc. mean: 0.8739\n",
      "\n",
      "{'addressSize': 55, 'bleachingActivated': True, 'quantile_based': True, 'thermometer_size': 12}\n"
     ]
    },
    {
     "name": "stderr",
     "output_type": "stream",
     "text": [
      " 83%|████████▎ | 1005/1210 [15:26:10<2:56:41, 51.71s/it]"
     ]
    },
    {
     "name": "stdout",
     "output_type": "stream",
     "text": [
      "Train acc. mean: 1.0000 | Validation acc. mean: 0.8779\n",
      "\n",
      "{'addressSize': 55, 'bleachingActivated': True, 'quantile_based': True, 'thermometer_size': 13}\n"
     ]
    },
    {
     "name": "stderr",
     "output_type": "stream",
     "text": [
      " 83%|████████▎ | 1010/1210 [15:30:28<2:52:08, 51.64s/it]"
     ]
    },
    {
     "name": "stdout",
     "output_type": "stream",
     "text": [
      "Train acc. mean: 1.0000 | Validation acc. mean: 0.8792\n",
      "\n",
      "{'addressSize': 55, 'bleachingActivated': True, 'quantile_based': True, 'thermometer_size': 14}\n"
     ]
    },
    {
     "name": "stderr",
     "output_type": "stream",
     "text": [
      " 84%|████████▍ | 1015/1210 [15:34:57<2:52:50, 53.18s/it]"
     ]
    },
    {
     "name": "stdout",
     "output_type": "stream",
     "text": [
      "Train acc. mean: 1.0000 | Validation acc. mean: 0.8792\n",
      "\n",
      "{'addressSize': 55, 'bleachingActivated': True, 'quantile_based': True, 'thermometer_size': 15}\n"
     ]
    },
    {
     "name": "stderr",
     "output_type": "stream",
     "text": [
      " 84%|████████▍ | 1020/1210 [15:39:34<2:53:09, 54.68s/it]"
     ]
    },
    {
     "name": "stdout",
     "output_type": "stream",
     "text": [
      "Train acc. mean: 1.0000 | Validation acc. mean: 0.8822\n",
      "\n",
      "{'addressSize': 55, 'bleachingActivated': True, 'quantile_based': True, 'thermometer_size': 16}\n"
     ]
    },
    {
     "name": "stderr",
     "output_type": "stream",
     "text": [
      " 85%|████████▍ | 1025/1210 [15:44:12<2:51:14, 55.54s/it]"
     ]
    },
    {
     "name": "stdout",
     "output_type": "stream",
     "text": [
      "Train acc. mean: 1.0000 | Validation acc. mean: 0.8807\n",
      "\n",
      "{'addressSize': 55, 'bleachingActivated': True, 'quantile_based': True, 'thermometer_size': 17}\n"
     ]
    },
    {
     "name": "stderr",
     "output_type": "stream",
     "text": [
      " 85%|████████▌ | 1030/1210 [15:48:38<2:39:41, 53.23s/it]"
     ]
    },
    {
     "name": "stdout",
     "output_type": "stream",
     "text": [
      "Train acc. mean: 1.0000 | Validation acc. mean: 0.8828\n",
      "\n",
      "{'addressSize': 55, 'bleachingActivated': True, 'quantile_based': True, 'thermometer_size': 18}\n"
     ]
    },
    {
     "name": "stderr",
     "output_type": "stream",
     "text": [
      " 86%|████████▌ | 1035/1210 [15:53:11<2:39:10, 54.58s/it]"
     ]
    },
    {
     "name": "stdout",
     "output_type": "stream",
     "text": [
      "Train acc. mean: 1.0000 | Validation acc. mean: 0.8874\n",
      "\n",
      "{'addressSize': 55, 'bleachingActivated': True, 'quantile_based': True, 'thermometer_size': 19}\n"
     ]
    },
    {
     "name": "stderr",
     "output_type": "stream",
     "text": [
      " 86%|████████▌ | 1040/1210 [15:58:15<2:49:21, 59.77s/it]"
     ]
    },
    {
     "name": "stdout",
     "output_type": "stream",
     "text": [
      "Train acc. mean: 1.0000 | Validation acc. mean: 0.8879\n",
      "\n",
      "{'addressSize': 55, 'bleachingActivated': True, 'quantile_based': True, 'thermometer_size': 20}\n"
     ]
    },
    {
     "name": "stderr",
     "output_type": "stream",
     "text": [
      " 86%|████████▋ | 1045/1210 [16:03:15<2:45:20, 60.13s/it]"
     ]
    },
    {
     "name": "stdout",
     "output_type": "stream",
     "text": [
      "Train acc. mean: 1.0000 | Validation acc. mean: 0.8930\n",
      "\n",
      "{'addressSize': 55, 'bleachingActivated': False, 'quantile_based': True, 'thermometer_size': 10}\n"
     ]
    },
    {
     "name": "stderr",
     "output_type": "stream",
     "text": [
      " 87%|████████▋ | 1050/1210 [16:07:28<2:18:59, 52.12s/it]"
     ]
    },
    {
     "name": "stdout",
     "output_type": "stream",
     "text": [
      "Train acc. mean: 1.0000 | Validation acc. mean: 0.8701\n",
      "\n",
      "{'addressSize': 55, 'bleachingActivated': False, 'quantile_based': True, 'thermometer_size': 11}\n"
     ]
    },
    {
     "name": "stderr",
     "output_type": "stream",
     "text": [
      " 87%|████████▋ | 1055/1210 [16:11:43<2:13:16, 51.59s/it]"
     ]
    },
    {
     "name": "stdout",
     "output_type": "stream",
     "text": [
      "Train acc. mean: 1.0000 | Validation acc. mean: 0.8712\n",
      "\n",
      "{'addressSize': 55, 'bleachingActivated': False, 'quantile_based': True, 'thermometer_size': 12}\n"
     ]
    },
    {
     "name": "stderr",
     "output_type": "stream",
     "text": [
      " 88%|████████▊ | 1060/1210 [16:16:42<2:26:41, 58.68s/it]"
     ]
    },
    {
     "name": "stdout",
     "output_type": "stream",
     "text": [
      "Train acc. mean: 1.0000 | Validation acc. mean: 0.8758\n",
      "\n",
      "{'addressSize': 55, 'bleachingActivated': False, 'quantile_based': True, 'thermometer_size': 13}\n"
     ]
    },
    {
     "name": "stderr",
     "output_type": "stream",
     "text": [
      " 88%|████████▊ | 1065/1210 [16:21:41<2:24:08, 59.65s/it]"
     ]
    },
    {
     "name": "stdout",
     "output_type": "stream",
     "text": [
      "Train acc. mean: 1.0000 | Validation acc. mean: 0.8794\n",
      "\n",
      "{'addressSize': 55, 'bleachingActivated': False, 'quantile_based': True, 'thermometer_size': 14}\n"
     ]
    },
    {
     "name": "stderr",
     "output_type": "stream",
     "text": [
      " 88%|████████▊ | 1070/1210 [16:26:43<2:17:31, 58.94s/it]"
     ]
    },
    {
     "name": "stdout",
     "output_type": "stream",
     "text": [
      "Train acc. mean: 1.0000 | Validation acc. mean: 0.8749\n",
      "\n",
      "{'addressSize': 55, 'bleachingActivated': False, 'quantile_based': True, 'thermometer_size': 15}\n"
     ]
    },
    {
     "name": "stderr",
     "output_type": "stream",
     "text": [
      " 89%|████████▉ | 1075/1210 [16:30:55<1:56:43, 51.88s/it]"
     ]
    },
    {
     "name": "stdout",
     "output_type": "stream",
     "text": [
      "Train acc. mean: 1.0000 | Validation acc. mean: 0.8837\n",
      "\n",
      "{'addressSize': 55, 'bleachingActivated': False, 'quantile_based': True, 'thermometer_size': 16}\n"
     ]
    },
    {
     "name": "stderr",
     "output_type": "stream",
     "text": [
      " 89%|████████▉ | 1080/1210 [16:35:47<2:07:21, 58.78s/it]"
     ]
    },
    {
     "name": "stdout",
     "output_type": "stream",
     "text": [
      "Train acc. mean: 1.0000 | Validation acc. mean: 0.8813\n",
      "\n",
      "{'addressSize': 55, 'bleachingActivated': False, 'quantile_based': True, 'thermometer_size': 17}\n"
     ]
    },
    {
     "name": "stderr",
     "output_type": "stream",
     "text": [
      " 90%|████████▉ | 1085/1210 [16:41:08<2:13:01, 63.85s/it]"
     ]
    },
    {
     "name": "stdout",
     "output_type": "stream",
     "text": [
      "Train acc. mean: 1.0000 | Validation acc. mean: 0.8847\n",
      "\n",
      "{'addressSize': 55, 'bleachingActivated': False, 'quantile_based': True, 'thermometer_size': 18}\n"
     ]
    },
    {
     "name": "stderr",
     "output_type": "stream",
     "text": [
      " 90%|█████████ | 1090/1210 [16:46:39<2:11:12, 65.60s/it]"
     ]
    },
    {
     "name": "stdout",
     "output_type": "stream",
     "text": [
      "Train acc. mean: 1.0000 | Validation acc. mean: 0.8872\n",
      "\n",
      "{'addressSize': 55, 'bleachingActivated': False, 'quantile_based': True, 'thermometer_size': 19}\n"
     ]
    },
    {
     "name": "stderr",
     "output_type": "stream",
     "text": [
      " 90%|█████████ | 1095/1210 [16:52:20<2:10:32, 68.11s/it]"
     ]
    },
    {
     "name": "stdout",
     "output_type": "stream",
     "text": [
      "Train acc. mean: 1.0000 | Validation acc. mean: 0.8896\n",
      "\n",
      "{'addressSize': 55, 'bleachingActivated': False, 'quantile_based': True, 'thermometer_size': 20}\n"
     ]
    },
    {
     "name": "stderr",
     "output_type": "stream",
     "text": [
      " 91%|█████████ | 1100/1210 [16:57:26<1:51:29, 60.82s/it]"
     ]
    },
    {
     "name": "stdout",
     "output_type": "stream",
     "text": [
      "Train acc. mean: 1.0000 | Validation acc. mean: 0.8857\n",
      "\n",
      "{'addressSize': 60, 'bleachingActivated': True, 'quantile_based': True, 'thermometer_size': 10}\n"
     ]
    },
    {
     "name": "stderr",
     "output_type": "stream",
     "text": [
      " 91%|█████████▏| 1105/1210 [17:01:12<1:23:55, 47.96s/it]"
     ]
    },
    {
     "name": "stdout",
     "output_type": "stream",
     "text": [
      "Train acc. mean: 1.0000 | Validation acc. mean: 0.8668\n",
      "\n",
      "{'addressSize': 60, 'bleachingActivated': True, 'quantile_based': True, 'thermometer_size': 11}\n"
     ]
    },
    {
     "name": "stderr",
     "output_type": "stream",
     "text": [
      " 92%|█████████▏| 1110/1210 [17:05:09<1:19:08, 47.48s/it]"
     ]
    },
    {
     "name": "stdout",
     "output_type": "stream",
     "text": [
      "Train acc. mean: 1.0000 | Validation acc. mean: 0.8732\n",
      "\n",
      "{'addressSize': 60, 'bleachingActivated': True, 'quantile_based': True, 'thermometer_size': 12}\n"
     ]
    },
    {
     "name": "stderr",
     "output_type": "stream",
     "text": [
      " 92%|█████████▏| 1115/1210 [17:09:08<1:15:41, 47.80s/it]"
     ]
    },
    {
     "name": "stdout",
     "output_type": "stream",
     "text": [
      "Train acc. mean: 1.0000 | Validation acc. mean: 0.8753\n",
      "\n",
      "{'addressSize': 60, 'bleachingActivated': True, 'quantile_based': True, 'thermometer_size': 13}\n"
     ]
    },
    {
     "name": "stderr",
     "output_type": "stream",
     "text": [
      " 93%|█████████▎| 1120/1210 [17:13:06<1:11:29, 47.66s/it]"
     ]
    },
    {
     "name": "stdout",
     "output_type": "stream",
     "text": [
      "Train acc. mean: 1.0000 | Validation acc. mean: 0.8775\n",
      "\n",
      "{'addressSize': 60, 'bleachingActivated': True, 'quantile_based': True, 'thermometer_size': 14}\n"
     ]
    },
    {
     "name": "stderr",
     "output_type": "stream",
     "text": [
      " 93%|█████████▎| 1125/1210 [17:17:13<1:09:10, 48.83s/it]"
     ]
    },
    {
     "name": "stdout",
     "output_type": "stream",
     "text": [
      "Train acc. mean: 1.0000 | Validation acc. mean: 0.8735\n",
      "\n",
      "{'addressSize': 60, 'bleachingActivated': True, 'quantile_based': True, 'thermometer_size': 15}\n"
     ]
    },
    {
     "name": "stderr",
     "output_type": "stream",
     "text": [
      " 93%|█████████▎| 1130/1210 [17:21:18<1:05:22, 49.04s/it]"
     ]
    },
    {
     "name": "stdout",
     "output_type": "stream",
     "text": [
      "Train acc. mean: 1.0000 | Validation acc. mean: 0.8792\n",
      "\n",
      "{'addressSize': 60, 'bleachingActivated': True, 'quantile_based': True, 'thermometer_size': 16}\n"
     ]
    },
    {
     "name": "stderr",
     "output_type": "stream",
     "text": [
      " 94%|█████████▍| 1135/1210 [17:37:01<2:05:27, 100.37s/it]"
     ]
    },
    {
     "name": "stdout",
     "output_type": "stream",
     "text": [
      "Train acc. mean: 1.0000 | Validation acc. mean: 0.8853\n",
      "\n",
      "{'addressSize': 60, 'bleachingActivated': True, 'quantile_based': True, 'thermometer_size': 17}\n"
     ]
    },
    {
     "name": "stderr",
     "output_type": "stream",
     "text": [
      " 94%|█████████▍| 1140/1210 [17:41:17<1:09:37, 59.68s/it] "
     ]
    },
    {
     "name": "stdout",
     "output_type": "stream",
     "text": [
      "Train acc. mean: 1.0000 | Validation acc. mean: 0.8900\n",
      "\n",
      "{'addressSize': 60, 'bleachingActivated': True, 'quantile_based': True, 'thermometer_size': 18}\n"
     ]
    },
    {
     "name": "stderr",
     "output_type": "stream",
     "text": [
      " 95%|█████████▍| 1145/1210 [17:45:42<58:22, 53.89s/it]  "
     ]
    },
    {
     "name": "stdout",
     "output_type": "stream",
     "text": [
      "Train acc. mean: 1.0000 | Validation acc. mean: 0.8792\n",
      "\n",
      "{'addressSize': 60, 'bleachingActivated': True, 'quantile_based': True, 'thermometer_size': 19}\n"
     ]
    },
    {
     "name": "stderr",
     "output_type": "stream",
     "text": [
      " 95%|█████████▌| 1150/1210 [17:50:17<54:41, 54.69s/it]"
     ]
    },
    {
     "name": "stdout",
     "output_type": "stream",
     "text": [
      "Train acc. mean: 1.0000 | Validation acc. mean: 0.8830\n",
      "\n",
      "{'addressSize': 60, 'bleachingActivated': True, 'quantile_based': True, 'thermometer_size': 20}\n"
     ]
    },
    {
     "name": "stderr",
     "output_type": "stream",
     "text": [
      " 95%|█████████▌| 1155/1210 [17:54:44<49:22, 53.86s/it]"
     ]
    },
    {
     "name": "stdout",
     "output_type": "stream",
     "text": [
      "Train acc. mean: 1.0000 | Validation acc. mean: 0.8857\n",
      "\n",
      "{'addressSize': 60, 'bleachingActivated': False, 'quantile_based': True, 'thermometer_size': 10}\n"
     ]
    },
    {
     "name": "stderr",
     "output_type": "stream",
     "text": [
      " 96%|█████████▋| 1165/1210 [18:42:30<2:43:47, 218.40s/it] "
     ]
    },
    {
     "name": "stdout",
     "output_type": "stream",
     "text": [
      "Train acc. mean: 1.0000 | Validation acc. mean: 0.8693\n",
      "\n",
      "{'addressSize': 60, 'bleachingActivated': False, 'quantile_based': True, 'thermometer_size': 12}\n"
     ]
    },
    {
     "name": "stderr",
     "output_type": "stream",
     "text": [
      " 97%|█████████▋| 1170/1210 [18:46:27<50:37, 75.95s/it]   "
     ]
    },
    {
     "name": "stdout",
     "output_type": "stream",
     "text": [
      "Train acc. mean: 1.0000 | Validation acc. mean: 0.8675\n",
      "\n",
      "{'addressSize': 60, 'bleachingActivated': False, 'quantile_based': True, 'thermometer_size': 13}\n"
     ]
    },
    {
     "name": "stderr",
     "output_type": "stream",
     "text": [
      " 97%|█████████▋| 1175/1210 [18:51:02<36:10, 62.02s/it]"
     ]
    },
    {
     "name": "stdout",
     "output_type": "stream",
     "text": [
      "Train acc. mean: 1.0000 | Validation acc. mean: 0.8724\n",
      "\n",
      "{'addressSize': 60, 'bleachingActivated': False, 'quantile_based': True, 'thermometer_size': 14}\n"
     ]
    },
    {
     "name": "stderr",
     "output_type": "stream",
     "text": [
      " 98%|█████████▊| 1180/1210 [18:56:24<31:32, 63.09s/it]"
     ]
    },
    {
     "name": "stdout",
     "output_type": "stream",
     "text": [
      "Train acc. mean: 1.0000 | Validation acc. mean: 0.8760\n",
      "\n",
      "{'addressSize': 60, 'bleachingActivated': False, 'quantile_based': True, 'thermometer_size': 15}\n"
     ]
    },
    {
     "name": "stderr",
     "output_type": "stream",
     "text": [
      " 98%|█████████▊| 1185/1210 [19:00:49<22:07, 53.10s/it]"
     ]
    },
    {
     "name": "stdout",
     "output_type": "stream",
     "text": [
      "Train acc. mean: 1.0000 | Validation acc. mean: 0.8784\n",
      "\n",
      "{'addressSize': 60, 'bleachingActivated': False, 'quantile_based': True, 'thermometer_size': 16}\n"
     ]
    },
    {
     "name": "stderr",
     "output_type": "stream",
     "text": [
      " 98%|█████████▊| 1190/1210 [19:05:38<19:40, 59.00s/it]"
     ]
    },
    {
     "name": "stdout",
     "output_type": "stream",
     "text": [
      "Train acc. mean: 1.0000 | Validation acc. mean: 0.8818\n",
      "\n",
      "{'addressSize': 60, 'bleachingActivated': False, 'quantile_based': True, 'thermometer_size': 17}\n"
     ]
    },
    {
     "name": "stderr",
     "output_type": "stream",
     "text": [
      " 99%|█████████▉| 1195/1210 [19:10:34<14:18, 57.26s/it]"
     ]
    },
    {
     "name": "stdout",
     "output_type": "stream",
     "text": [
      "Train acc. mean: 1.0000 | Validation acc. mean: 0.8845\n",
      "\n",
      "{'addressSize': 60, 'bleachingActivated': False, 'quantile_based': True, 'thermometer_size': 18}\n"
     ]
    },
    {
     "name": "stderr",
     "output_type": "stream",
     "text": [
      " 99%|█████████▉| 1200/1210 [19:14:55<08:47, 52.78s/it]"
     ]
    },
    {
     "name": "stdout",
     "output_type": "stream",
     "text": [
      "Train acc. mean: 1.0000 | Validation acc. mean: 0.8847\n",
      "\n",
      "{'addressSize': 60, 'bleachingActivated': False, 'quantile_based': True, 'thermometer_size': 19}\n"
     ]
    },
    {
     "name": "stderr",
     "output_type": "stream",
     "text": [
      "100%|█████████▉| 1205/1210 [19:19:26<04:29, 53.88s/it]"
     ]
    },
    {
     "name": "stdout",
     "output_type": "stream",
     "text": [
      "Train acc. mean: 1.0000 | Validation acc. mean: 0.8828\n",
      "\n",
      "{'addressSize': 60, 'bleachingActivated': False, 'quantile_based': True, 'thermometer_size': 20}\n"
     ]
    },
    {
     "name": "stderr",
     "output_type": "stream",
     "text": [
      "100%|██████████| 1210/1210 [19:24:23<00:00, 60.10s/it]"
     ]
    },
    {
     "name": "stdout",
     "output_type": "stream",
     "text": [
      "Train acc. mean: 1.0000 | Validation acc. mean: 0.8883\n",
      "\n"
     ]
    }
   ],
   "source": [
    "thermometer_size = list(range(10, 21))\n",
    "addressSize = [10, 15, 20, 25, 30, 35, 40, 45, 50, 55, 60]\n",
    "gs_model2, best_params_model2 = cross_validation_model1(train_eng, train_labels, n_splits=5, addressSize=addressSize, \n",
    "                                                        thermometer_size=thermometer_size, \n",
    "                                                        bleachingActivated=[True, False], thermometer_columns=None,\n",
    "                                                       quantile_based=[True])"
   ]
  },
  {
   "cell_type": "code",
   "execution_count": 38,
   "metadata": {},
   "outputs": [
    {
     "data": {
      "text/plain": [
       "{'addressSize': 55,\n",
       " 'bleachingActivated': True,\n",
       " 'quantile_based': True,\n",
       " 'thermometer_size': 20}"
      ]
     },
     "execution_count": 38,
     "metadata": {},
     "output_type": "execute_result"
    }
   ],
   "source": [
    "with open('results/model2_best_params.pickle', 'wb') as file:\n",
    "    pickle.dump(best_params_model2, file)\n",
    "    \n",
    "best_params_model2"
   ]
  },
  {
   "cell_type": "code",
   "execution_count": 39,
   "metadata": {},
   "outputs": [
    {
     "data": {
      "text/html": [
       "<div>\n",
       "<style scoped>\n",
       "    .dataframe tbody tr th:only-of-type {\n",
       "        vertical-align: middle;\n",
       "    }\n",
       "\n",
       "    .dataframe tbody tr th {\n",
       "        vertical-align: top;\n",
       "    }\n",
       "\n",
       "    .dataframe thead th {\n",
       "        text-align: right;\n",
       "    }\n",
       "</style>\n",
       "<table border=\"1\" class=\"dataframe\">\n",
       "  <thead>\n",
       "    <tr style=\"text-align: right;\">\n",
       "      <th></th>\n",
       "      <th>addressSize</th>\n",
       "      <th>bleachingActivated</th>\n",
       "      <th>quantile_based</th>\n",
       "      <th>thermometer_size</th>\n",
       "      <th>training_time_mean</th>\n",
       "      <th>training_time_std</th>\n",
       "      <th>training_prediction_time_mean</th>\n",
       "      <th>training_prediction_time_std</th>\n",
       "      <th>validation_prediction_time_mean</th>\n",
       "      <th>validation_prediction_time_std</th>\n",
       "      <th>thermometer_time_mean</th>\n",
       "      <th>thermometer_time_std</th>\n",
       "      <th>training_accuracy_mean</th>\n",
       "      <th>training_accuracy_std</th>\n",
       "      <th>validation_accuracy_mean</th>\n",
       "      <th>validation_accuracy_std</th>\n",
       "      <th>rank</th>\n",
       "    </tr>\n",
       "  </thead>\n",
       "  <tbody>\n",
       "    <tr>\n",
       "      <th>0</th>\n",
       "      <td>55</td>\n",
       "      <td>True</td>\n",
       "      <td>True</td>\n",
       "      <td>20</td>\n",
       "      <td>1.622067</td>\n",
       "      <td>0.029580</td>\n",
       "      <td>2.689816</td>\n",
       "      <td>0.014244</td>\n",
       "      <td>0.708716</td>\n",
       "      <td>0.047501</td>\n",
       "      <td>54.244749</td>\n",
       "      <td>0.845184</td>\n",
       "      <td>1.000000</td>\n",
       "      <td>0.000000</td>\n",
       "      <td>0.892957</td>\n",
       "      <td>0.021283</td>\n",
       "      <td>1.0</td>\n",
       "    </tr>\n",
       "    <tr>\n",
       "      <th>1</th>\n",
       "      <td>60</td>\n",
       "      <td>True</td>\n",
       "      <td>True</td>\n",
       "      <td>17</td>\n",
       "      <td>1.103059</td>\n",
       "      <td>0.035972</td>\n",
       "      <td>1.958751</td>\n",
       "      <td>0.049755</td>\n",
       "      <td>0.471940</td>\n",
       "      <td>0.004260</td>\n",
       "      <td>47.106877</td>\n",
       "      <td>0.621867</td>\n",
       "      <td>1.000000</td>\n",
       "      <td>0.000000</td>\n",
       "      <td>0.889966</td>\n",
       "      <td>0.024313</td>\n",
       "      <td>2.0</td>\n",
       "    </tr>\n",
       "    <tr>\n",
       "      <th>2</th>\n",
       "      <td>55</td>\n",
       "      <td>False</td>\n",
       "      <td>True</td>\n",
       "      <td>19</td>\n",
       "      <td>1.744137</td>\n",
       "      <td>0.180816</td>\n",
       "      <td>3.073003</td>\n",
       "      <td>0.222979</td>\n",
       "      <td>0.756793</td>\n",
       "      <td>0.042757</td>\n",
       "      <td>61.731424</td>\n",
       "      <td>0.812818</td>\n",
       "      <td>1.000000</td>\n",
       "      <td>0.000000</td>\n",
       "      <td>0.889556</td>\n",
       "      <td>0.026765</td>\n",
       "      <td>3.0</td>\n",
       "    </tr>\n",
       "    <tr>\n",
       "      <th>3</th>\n",
       "      <td>50</td>\n",
       "      <td>True</td>\n",
       "      <td>True</td>\n",
       "      <td>20</td>\n",
       "      <td>1.593741</td>\n",
       "      <td>0.139189</td>\n",
       "      <td>2.773217</td>\n",
       "      <td>0.082100</td>\n",
       "      <td>0.684790</td>\n",
       "      <td>0.007165</td>\n",
       "      <td>53.394073</td>\n",
       "      <td>0.983812</td>\n",
       "      <td>1.000000</td>\n",
       "      <td>0.000000</td>\n",
       "      <td>0.889421</td>\n",
       "      <td>0.022985</td>\n",
       "      <td>4.0</td>\n",
       "    </tr>\n",
       "    <tr>\n",
       "      <th>4</th>\n",
       "      <td>45</td>\n",
       "      <td>True</td>\n",
       "      <td>True</td>\n",
       "      <td>20</td>\n",
       "      <td>1.563248</td>\n",
       "      <td>0.044352</td>\n",
       "      <td>2.873549</td>\n",
       "      <td>0.144017</td>\n",
       "      <td>0.745826</td>\n",
       "      <td>0.053319</td>\n",
       "      <td>53.093407</td>\n",
       "      <td>0.812724</td>\n",
       "      <td>1.000000</td>\n",
       "      <td>0.000000</td>\n",
       "      <td>0.888467</td>\n",
       "      <td>0.020176</td>\n",
       "      <td>5.0</td>\n",
       "    </tr>\n",
       "    <tr>\n",
       "      <th>...</th>\n",
       "      <td>...</td>\n",
       "      <td>...</td>\n",
       "      <td>...</td>\n",
       "      <td>...</td>\n",
       "      <td>...</td>\n",
       "      <td>...</td>\n",
       "      <td>...</td>\n",
       "      <td>...</td>\n",
       "      <td>...</td>\n",
       "      <td>...</td>\n",
       "      <td>...</td>\n",
       "      <td>...</td>\n",
       "      <td>...</td>\n",
       "      <td>...</td>\n",
       "      <td>...</td>\n",
       "      <td>...</td>\n",
       "      <td>...</td>\n",
       "    </tr>\n",
       "    <tr>\n",
       "      <th>237</th>\n",
       "      <td>10</td>\n",
       "      <td>False</td>\n",
       "      <td>True</td>\n",
       "      <td>14</td>\n",
       "      <td>1.064188</td>\n",
       "      <td>0.112575</td>\n",
       "      <td>2.997021</td>\n",
       "      <td>0.376208</td>\n",
       "      <td>0.767965</td>\n",
       "      <td>0.117642</td>\n",
       "      <td>50.850222</td>\n",
       "      <td>0.699074</td>\n",
       "      <td>0.965656</td>\n",
       "      <td>0.004147</td>\n",
       "      <td>0.830658</td>\n",
       "      <td>0.027192</td>\n",
       "      <td>238.0</td>\n",
       "    </tr>\n",
       "    <tr>\n",
       "      <th>238</th>\n",
       "      <td>10</td>\n",
       "      <td>False</td>\n",
       "      <td>True</td>\n",
       "      <td>12</td>\n",
       "      <td>0.916464</td>\n",
       "      <td>0.044892</td>\n",
       "      <td>2.399633</td>\n",
       "      <td>0.063374</td>\n",
       "      <td>0.587396</td>\n",
       "      <td>0.017830</td>\n",
       "      <td>49.653549</td>\n",
       "      <td>2.324658</td>\n",
       "      <td>0.961915</td>\n",
       "      <td>0.004755</td>\n",
       "      <td>0.825628</td>\n",
       "      <td>0.024711</td>\n",
       "      <td>239.0</td>\n",
       "    </tr>\n",
       "    <tr>\n",
       "      <th>239</th>\n",
       "      <td>10</td>\n",
       "      <td>True</td>\n",
       "      <td>True</td>\n",
       "      <td>11</td>\n",
       "      <td>0.874863</td>\n",
       "      <td>0.193275</td>\n",
       "      <td>2.493332</td>\n",
       "      <td>0.450786</td>\n",
       "      <td>0.633322</td>\n",
       "      <td>0.094790</td>\n",
       "      <td>47.445952</td>\n",
       "      <td>2.235502</td>\n",
       "      <td>0.960963</td>\n",
       "      <td>0.004247</td>\n",
       "      <td>0.825219</td>\n",
       "      <td>0.037582</td>\n",
       "      <td>240.0</td>\n",
       "    </tr>\n",
       "    <tr>\n",
       "      <th>240</th>\n",
       "      <td>10</td>\n",
       "      <td>False</td>\n",
       "      <td>True</td>\n",
       "      <td>11</td>\n",
       "      <td>0.807050</td>\n",
       "      <td>0.048397</td>\n",
       "      <td>2.234605</td>\n",
       "      <td>0.051671</td>\n",
       "      <td>0.546941</td>\n",
       "      <td>0.031198</td>\n",
       "      <td>47.288705</td>\n",
       "      <td>1.102185</td>\n",
       "      <td>0.956882</td>\n",
       "      <td>0.007182</td>\n",
       "      <td>0.818689</td>\n",
       "      <td>0.023190</td>\n",
       "      <td>241.0</td>\n",
       "    </tr>\n",
       "    <tr>\n",
       "      <th>241</th>\n",
       "      <td>10</td>\n",
       "      <td>False</td>\n",
       "      <td>True</td>\n",
       "      <td>10</td>\n",
       "      <td>0.760772</td>\n",
       "      <td>0.044143</td>\n",
       "      <td>1.943404</td>\n",
       "      <td>0.014040</td>\n",
       "      <td>0.486702</td>\n",
       "      <td>0.028109</td>\n",
       "      <td>47.283406</td>\n",
       "      <td>1.396671</td>\n",
       "      <td>0.949265</td>\n",
       "      <td>0.002775</td>\n",
       "      <td>0.811479</td>\n",
       "      <td>0.029211</td>\n",
       "      <td>242.0</td>\n",
       "    </tr>\n",
       "  </tbody>\n",
       "</table>\n",
       "<p>242 rows × 17 columns</p>\n",
       "</div>"
      ],
      "text/plain": [
       "     addressSize  bleachingActivated  quantile_based  thermometer_size  \\\n",
       "0             55                True            True                20   \n",
       "1             60                True            True                17   \n",
       "2             55               False            True                19   \n",
       "3             50                True            True                20   \n",
       "4             45                True            True                20   \n",
       "..           ...                 ...             ...               ...   \n",
       "237           10               False            True                14   \n",
       "238           10               False            True                12   \n",
       "239           10                True            True                11   \n",
       "240           10               False            True                11   \n",
       "241           10               False            True                10   \n",
       "\n",
       "     training_time_mean  training_time_std  training_prediction_time_mean  \\\n",
       "0              1.622067           0.029580                       2.689816   \n",
       "1              1.103059           0.035972                       1.958751   \n",
       "2              1.744137           0.180816                       3.073003   \n",
       "3              1.593741           0.139189                       2.773217   \n",
       "4              1.563248           0.044352                       2.873549   \n",
       "..                  ...                ...                            ...   \n",
       "237            1.064188           0.112575                       2.997021   \n",
       "238            0.916464           0.044892                       2.399633   \n",
       "239            0.874863           0.193275                       2.493332   \n",
       "240            0.807050           0.048397                       2.234605   \n",
       "241            0.760772           0.044143                       1.943404   \n",
       "\n",
       "     training_prediction_time_std  validation_prediction_time_mean  \\\n",
       "0                        0.014244                         0.708716   \n",
       "1                        0.049755                         0.471940   \n",
       "2                        0.222979                         0.756793   \n",
       "3                        0.082100                         0.684790   \n",
       "4                        0.144017                         0.745826   \n",
       "..                            ...                              ...   \n",
       "237                      0.376208                         0.767965   \n",
       "238                      0.063374                         0.587396   \n",
       "239                      0.450786                         0.633322   \n",
       "240                      0.051671                         0.546941   \n",
       "241                      0.014040                         0.486702   \n",
       "\n",
       "     validation_prediction_time_std  thermometer_time_mean  \\\n",
       "0                          0.047501              54.244749   \n",
       "1                          0.004260              47.106877   \n",
       "2                          0.042757              61.731424   \n",
       "3                          0.007165              53.394073   \n",
       "4                          0.053319              53.093407   \n",
       "..                              ...                    ...   \n",
       "237                        0.117642              50.850222   \n",
       "238                        0.017830              49.653549   \n",
       "239                        0.094790              47.445952   \n",
       "240                        0.031198              47.288705   \n",
       "241                        0.028109              47.283406   \n",
       "\n",
       "     thermometer_time_std  training_accuracy_mean  training_accuracy_std  \\\n",
       "0                0.845184                1.000000               0.000000   \n",
       "1                0.621867                1.000000               0.000000   \n",
       "2                0.812818                1.000000               0.000000   \n",
       "3                0.983812                1.000000               0.000000   \n",
       "4                0.812724                1.000000               0.000000   \n",
       "..                    ...                     ...                    ...   \n",
       "237              0.699074                0.965656               0.004147   \n",
       "238              2.324658                0.961915               0.004755   \n",
       "239              2.235502                0.960963               0.004247   \n",
       "240              1.102185                0.956882               0.007182   \n",
       "241              1.396671                0.949265               0.002775   \n",
       "\n",
       "     validation_accuracy_mean  validation_accuracy_std   rank  \n",
       "0                    0.892957                 0.021283    1.0  \n",
       "1                    0.889966                 0.024313    2.0  \n",
       "2                    0.889556                 0.026765    3.0  \n",
       "3                    0.889421                 0.022985    4.0  \n",
       "4                    0.888467                 0.020176    5.0  \n",
       "..                        ...                      ...    ...  \n",
       "237                  0.830658                 0.027192  238.0  \n",
       "238                  0.825628                 0.024711  239.0  \n",
       "239                  0.825219                 0.037582  240.0  \n",
       "240                  0.818689                 0.023190  241.0  \n",
       "241                  0.811479                 0.029211  242.0  \n",
       "\n",
       "[242 rows x 17 columns]"
      ]
     },
     "execution_count": 39,
     "metadata": {},
     "output_type": "execute_result"
    }
   ],
   "source": [
    "gs_model2 = gs_model2.sort_values('rank').reset_index(drop=True)\n",
    "\n",
    "with open('results/model2_gs_results.pickle', 'wb') as file:\n",
    "    pickle.dump(gs_model2, file)\n",
    "\n",
    "gs_model2"
   ]
  },
  {
   "cell_type": "code",
   "execution_count": 40,
   "metadata": {},
   "outputs": [],
   "source": [
    "with open('results/model2_gs_results.pickle', 'rb') as file:\n",
    "    gs_model2 = pickle.load(file)"
   ]
  },
  {
   "cell_type": "code",
   "execution_count": 41,
   "metadata": {},
   "outputs": [],
   "source": [
    "with open('results/model2_best_params.pickle', 'rb') as file:\n",
    "    best_params_model2 = pickle.load(file)"
   ]
  },
  {
   "cell_type": "code",
   "execution_count": 42,
   "metadata": {},
   "outputs": [
    {
     "name": "stdout",
     "output_type": "stream",
     "text": [
      "Training Accuracy: 1.0000\n",
      "Test Accuracy: 0.9155\n"
     ]
    }
   ],
   "source": [
    "# Preprocessing train_eng, train_labels\n",
    "y_train_str = [str(l) for l in train_labels]\n",
    "y_test_str = [str(l) for l in test_labels]\n",
    "\n",
    "model = wp.Wisard(best_params_model2['addressSize'], bleachingActivated=best_params_model2['bleachingActivated'])\n",
    "thermometer_columns = list(range(train_eng.shape[1]))\n",
    "thermometer = ThermometerEncoder(thermometer_columns, n_bits=best_params_model2['thermometer_size'],\n",
    "                                quantile_based=best_params_model2['quantile_based'])\n",
    "\n",
    "X_train = thermometer.fit_transform(train_eng).astype(int).tolist()\n",
    "X_test = thermometer.transform(test_eng).astype(int).tolist()\n",
    "\n",
    "# training\n",
    "model.train(X_train, y_train_str)\n",
    "\n",
    "pred_train = model.classify(X_train)\n",
    "pred_test = model.classify(X_test)\n",
    "\n",
    "training_accuracy = accuracy_score(y_train_str, pred_train)\n",
    "test_accuracy = accuracy_score(y_test_str, pred_test)\n",
    "\n",
    "print(f'Training Accuracy: {training_accuracy:.4f}')\n",
    "print(f'Test Accuracy: {test_accuracy:.4f}')"
   ]
  },
  {
   "cell_type": "code",
   "execution_count": 43,
   "metadata": {},
   "outputs": [],
   "source": [
    "import matplotlib.pyplot as plt\n",
    "from sklearn.metrics import ConfusionMatrixDisplay\n",
    "from sklearn.metrics import confusion_matrix\n",
    "\n",
    "def plot_confusion_matrix(y_true, y_pred, display_labels=None, normalize='true'):\n",
    "    if display_labels is None:\n",
    "        display_labels = np.unique(y_true)\n",
    "            \n",
    "    cm = confusion_matrix(y_true, y_pred, normalize=normalize)\n",
    "    disp = ConfusionMatrixDisplay(confusion_matrix=cm,\n",
    "                                  display_labels=display_labels)\n",
    "    disp.plot(xticks_rotation=90)\n",
    "    disp.ax_.grid(False)"
   ]
  },
  {
   "cell_type": "code",
   "execution_count": 44,
   "metadata": {},
   "outputs": [
    {
     "data": {
      "image/png": "[encoded data removed]",
      "text/plain": [
       "<Figure size 432x288 with 2 Axes>"
      ]
     },
     "metadata": {
      "needs_background": "light"
     },
     "output_type": "display_data"
    }
   ],
   "source": [
    "# NOTE: Fill all variables here with default values of the plot_confusion_matrix\n",
    "display_labels = ['WALKING', 'WALKING_UPSTAIRS', 'WALKING_DOWNSTAIRS',\n",
    "                  'SITTING', 'STANDING', 'LAYING']\n",
    "plot_confusion_matrix(y_test_str, pred_test, display_labels=display_labels)"
   ]
  },
  {
   "cell_type": "code",
   "execution_count": 52,
   "metadata": {},
   "outputs": [
    {
     "data": {
      "text/plain": [
       "0.7975206611570248"
      ]
     },
     "execution_count": 52,
     "metadata": {},
     "output_type": "execute_result"
    }
   ],
   "source": [
    "quantile_based_results = gs_model2.sort_values(['addressSize', 'bleachingActivated', 'thermometer_size']).reset_index(drop=True)['validation_accuracy_mean'].values\n",
    "old_method_results = gs_model1.sort_values(['addressSize', 'bleachingActivated', 'thermometer_size']).reset_index(drop=True)['validation_accuracy_mean'].values\n",
    "\n",
    "(quantile_based_results > old_method_results).mean()"
   ]
  },
  {
   "cell_type": "code",
   "execution_count": 56,
   "metadata": {},
   "outputs": [
    {
     "data": {
      "text/plain": [
       "-0.0044276834195435206"
      ]
     },
     "execution_count": 56,
     "metadata": {},
     "output_type": "execute_result"
    }
   ],
   "source": [
    "(quantile_based_results - old_method_results)[quantile_based_results < old_method_results].mean()"
   ]
  },
  {
   "cell_type": "code",
   "execution_count": null,
   "metadata": {},
   "outputs": [],
   "source": []
  }
 ],
 "metadata": {
  "kernelspec": {
   "display_name": "Python 3",
   "language": "python",
   "name": "python3"
  },
  "language_info": {
   "codemirror_mode": {
    "name": "ipython",
    "version": 3
   },
   "file_extension": ".py",
   "mimetype": "text/x-python",
   "name": "python",
   "nbconvert_exporter": "python",
   "pygments_lexer": "ipython3",
   "version": "3.7.9"
  }
 },
 "nbformat": 4,
 "nbformat_minor": 4
}
