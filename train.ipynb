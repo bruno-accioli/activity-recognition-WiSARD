{
 "cells": [
  {
   "cell_type": "code",
   "execution_count": 1,
   "metadata": {},
   "outputs": [],
   "source": [
    "from pathlib import Path\n",
    "\n",
    "import numpy as np\n",
    "import pandas as pd\n",
    "import seaborn as sns\n",
    "\n",
    "dataset_dir = Path('UCI HAR Dataset')"
   ]
  },
  {
   "cell_type": "markdown",
   "metadata": {},
   "source": [
    "# Loading Data"
   ]
  },
  {
   "cell_type": "markdown",
   "metadata": {},
   "source": [
    "## Total Body acceleration"
   ]
  },
  {
   "cell_type": "code",
   "execution_count": 2,
   "metadata": {},
   "outputs": [],
   "source": [
    "train_total_acc_x = pd.read_csv(dataset_dir/'train/Inertial Signals/total_acc_x_train.txt', \n",
    "                          header=None, delim_whitespace=True).values\n",
    "train_total_acc_y = pd.read_csv(dataset_dir/'train/Inertial Signals/total_acc_y_train.txt', \n",
    "                          header=None, delim_whitespace=True).values\n",
    "train_total_acc_z = pd.read_csv(dataset_dir/'train/Inertial Signals/total_acc_z_train.txt', \n",
    "                          header=None, delim_whitespace=True).values\n",
    "\n",
    "test_total_acc_x = pd.read_csv(dataset_dir/'test/Inertial Signals/total_acc_x_test.txt', \n",
    "                          header=None, delim_whitespace=True).values\n",
    "test_total_acc_y = pd.read_csv(dataset_dir/'test/Inertial Signals/total_acc_y_test.txt', \n",
    "                          header=None, delim_whitespace=True).values\n",
    "test_total_acc_z = pd.read_csv(dataset_dir/'test/Inertial Signals/total_acc_z_test.txt', \n",
    "                          header=None, delim_whitespace=True).values"
   ]
  },
  {
   "cell_type": "code",
   "execution_count": 3,
   "metadata": {},
   "outputs": [
    {
     "data": {
      "text/plain": [
       "(7352, 128)"
      ]
     },
     "execution_count": 3,
     "metadata": {},
     "output_type": "execute_result"
    }
   ],
   "source": [
    "train_total_acc_x.shape"
   ]
  },
  {
   "cell_type": "code",
   "execution_count": 4,
   "metadata": {},
   "outputs": [
    {
     "data": {
      "text/plain": [
       "(2947, 128)"
      ]
     },
     "execution_count": 4,
     "metadata": {},
     "output_type": "execute_result"
    }
   ],
   "source": [
    "test_total_acc_x.shape"
   ]
  },
  {
   "cell_type": "markdown",
   "metadata": {},
   "source": [
    "## Estimated Body acceleration"
   ]
  },
  {
   "cell_type": "code",
   "execution_count": 5,
   "metadata": {},
   "outputs": [],
   "source": [
    "train_body_acc_x = pd.read_csv(dataset_dir/'train/Inertial Signals/body_acc_x_train.txt', \n",
    "                          header=None, delim_whitespace=True).values\n",
    "train_body_acc_y = pd.read_csv(dataset_dir/'train/Inertial Signals/body_acc_y_train.txt', \n",
    "                          header=None, delim_whitespace=True).values\n",
    "train_body_acc_z = pd.read_csv(dataset_dir/'train/Inertial Signals/body_acc_z_train.txt', \n",
    "                          header=None, delim_whitespace=True).values\n",
    "\n",
    "test_body_acc_x = pd.read_csv(dataset_dir/'test/Inertial Signals/body_acc_x_test.txt', \n",
    "                          header=None, delim_whitespace=True).values\n",
    "test_body_acc_y = pd.read_csv(dataset_dir/'test/Inertial Signals/body_acc_y_test.txt', \n",
    "                          header=None, delim_whitespace=True).values\n",
    "test_body_acc_z = pd.read_csv(dataset_dir/'test/Inertial Signals/body_acc_z_test.txt', \n",
    "                          header=None, delim_whitespace=True).values"
   ]
  },
  {
   "cell_type": "code",
   "execution_count": 6,
   "metadata": {},
   "outputs": [
    {
     "data": {
      "text/plain": [
       "(7352, 128)"
      ]
     },
     "execution_count": 6,
     "metadata": {},
     "output_type": "execute_result"
    }
   ],
   "source": [
    "train_body_acc_x.shape"
   ]
  },
  {
   "cell_type": "code",
   "execution_count": 7,
   "metadata": {},
   "outputs": [
    {
     "data": {
      "text/plain": [
       "(2947, 128)"
      ]
     },
     "execution_count": 7,
     "metadata": {},
     "output_type": "execute_result"
    }
   ],
   "source": [
    "test_body_acc_x.shape"
   ]
  },
  {
   "cell_type": "markdown",
   "metadata": {},
   "source": [
    "## Triaxial Angular velocity from the gyroscope"
   ]
  },
  {
   "cell_type": "code",
   "execution_count": 8,
   "metadata": {},
   "outputs": [],
   "source": [
    "train_gyro_x = pd.read_csv(dataset_dir/'train/Inertial Signals/body_gyro_x_train.txt', \n",
    "                          header=None, delim_whitespace=True).values\n",
    "train_gyro_y = pd.read_csv(dataset_dir/'train/Inertial Signals/body_gyro_y_train.txt', \n",
    "                          header=None, delim_whitespace=True).values\n",
    "train_gyro_z = pd.read_csv(dataset_dir/'train/Inertial Signals/body_gyro_z_train.txt', \n",
    "                          header=None, delim_whitespace=True).values\n",
    "\n",
    "test_gyro_x = pd.read_csv(dataset_dir/'test/Inertial Signals/body_gyro_x_test.txt', \n",
    "                          header=None, delim_whitespace=True).values\n",
    "test_gyro_y = pd.read_csv(dataset_dir/'test/Inertial Signals/body_gyro_y_test.txt', \n",
    "                          header=None, delim_whitespace=True).values\n",
    "test_gyro_z = pd.read_csv(dataset_dir/'test/Inertial Signals/body_gyro_z_test.txt', \n",
    "                          header=None, delim_whitespace=True).values"
   ]
  },
  {
   "cell_type": "code",
   "execution_count": 9,
   "metadata": {},
   "outputs": [
    {
     "data": {
      "text/plain": [
       "(7352, 128)"
      ]
     },
     "execution_count": 9,
     "metadata": {},
     "output_type": "execute_result"
    }
   ],
   "source": [
    "train_gyro_x.shape"
   ]
  },
  {
   "cell_type": "code",
   "execution_count": 10,
   "metadata": {},
   "outputs": [
    {
     "data": {
      "text/plain": [
       "(2947, 128)"
      ]
     },
     "execution_count": 10,
     "metadata": {},
     "output_type": "execute_result"
    }
   ],
   "source": [
    "test_gyro_x.shape"
   ]
  },
  {
   "cell_type": "markdown",
   "metadata": {},
   "source": [
    "## Engineered features"
   ]
  },
  {
   "cell_type": "code",
   "execution_count": 11,
   "metadata": {},
   "outputs": [],
   "source": [
    "train_eng = pd.read_csv(dataset_dir/'train/X_train.txt', \n",
    "                        header=None, delim_whitespace=True).values\n",
    "\n",
    "test_eng = pd.read_csv(dataset_dir/'test/X_test.txt', \n",
    "                       header=None, delim_whitespace=True).values"
   ]
  },
  {
   "cell_type": "code",
   "execution_count": 12,
   "metadata": {},
   "outputs": [
    {
     "data": {
      "text/plain": [
       "(7352, 561)"
      ]
     },
     "execution_count": 12,
     "metadata": {},
     "output_type": "execute_result"
    }
   ],
   "source": [
    "train_eng.shape"
   ]
  },
  {
   "cell_type": "code",
   "execution_count": 13,
   "metadata": {},
   "outputs": [
    {
     "data": {
      "text/plain": [
       "(2947, 561)"
      ]
     },
     "execution_count": 13,
     "metadata": {},
     "output_type": "execute_result"
    }
   ],
   "source": [
    "test_eng.shape"
   ]
  },
  {
   "cell_type": "markdown",
   "metadata": {},
   "source": [
    "## Subjects"
   ]
  },
  {
   "cell_type": "code",
   "execution_count": 14,
   "metadata": {},
   "outputs": [
    {
     "data": {
      "text/plain": [
       "(7352, 1)"
      ]
     },
     "execution_count": 14,
     "metadata": {},
     "output_type": "execute_result"
    }
   ],
   "source": [
    "train_subjects = pd.read_csv(dataset_dir/'train/subject_train.txt', delim_whitespace=True, header=None).values\n",
    "\n",
    "train_subjects.shape"
   ]
  },
  {
   "cell_type": "code",
   "execution_count": 15,
   "metadata": {},
   "outputs": [
    {
     "data": {
      "text/plain": [
       "(2947, 1)"
      ]
     },
     "execution_count": 15,
     "metadata": {},
     "output_type": "execute_result"
    }
   ],
   "source": [
    "test_subjects = pd.read_csv(dataset_dir/'test/subject_test.txt', delim_whitespace=True, header=None).values\n",
    "\n",
    "test_subjects.shape"
   ]
  },
  {
   "cell_type": "markdown",
   "metadata": {},
   "source": [
    "## Labels\n",
    "\n",
    "There are 6 types os activites to be recognized in the dataset:\n",
    "\n",
    "1. WALKING\n",
    "2. WALKING_UPSTAIRS\n",
    "3. WALKING_DOWNSTAIRS\n",
    "4. SITTING\n",
    "5. STANDING\n",
    "6. LAYING"
   ]
  },
  {
   "cell_type": "code",
   "execution_count": 16,
   "metadata": {},
   "outputs": [
    {
     "data": {
      "text/plain": [
       "(7352, 1)"
      ]
     },
     "execution_count": 16,
     "metadata": {},
     "output_type": "execute_result"
    }
   ],
   "source": [
    "train_labels = pd.read_csv(dataset_dir/'train/y_train.txt', delim_whitespace=True, header=None).values\n",
    "\n",
    "train_labels.shape"
   ]
  },
  {
   "cell_type": "code",
   "execution_count": 17,
   "metadata": {},
   "outputs": [
    {
     "data": {
      "text/plain": [
       "(2947, 1)"
      ]
     },
     "execution_count": 17,
     "metadata": {},
     "output_type": "execute_result"
    }
   ],
   "source": [
    "test_labels = pd.read_csv(dataset_dir/'test/y_test.txt', delim_whitespace=True, header=None).values\n",
    "\n",
    "test_labels.shape"
   ]
  },
  {
   "cell_type": "markdown",
   "metadata": {},
   "source": [
    "# 2. Data transformation\n",
    "\n",
    "The sampled signals will be transformed to a 2D matrix where each column represents a different feature and each row represents the subsequent timestep value of each feature. So, the final array will have indexes representing [sample, timestep, feature]."
   ]
  },
  {
   "cell_type": "code",
   "execution_count": 18,
   "metadata": {},
   "outputs": [],
   "source": [
    "def group_signals(signals_list):\n",
    "    signals_set = list()\n",
    "    for signal in signals_list:\n",
    "        signals_set.append(signal)\n",
    "    signals_set = np.dstack(signals_set)\n",
    "    return signals_set"
   ]
  },
  {
   "cell_type": "code",
   "execution_count": 19,
   "metadata": {},
   "outputs": [
    {
     "data": {
      "text/plain": [
       "(7352, 128, 9)"
      ]
     },
     "execution_count": 19,
     "metadata": {},
     "output_type": "execute_result"
    }
   ],
   "source": [
    "train_signals = [train_total_acc_x, train_total_acc_y, train_total_acc_z,\n",
    "                 train_body_acc_x, train_body_acc_y, train_body_acc_z,\n",
    "                 train_gyro_x, train_gyro_y, train_gyro_z]\n",
    "\n",
    "train_set_signals = group_signals(train_signals)\n",
    "train_set_signals.shape"
   ]
  },
  {
   "cell_type": "code",
   "execution_count": 20,
   "metadata": {},
   "outputs": [
    {
     "data": {
      "text/plain": [
       "(2947, 128, 9)"
      ]
     },
     "execution_count": 20,
     "metadata": {},
     "output_type": "execute_result"
    }
   ],
   "source": [
    "test_signals = [test_total_acc_x, test_total_acc_y, test_total_acc_z,\n",
    "                 test_body_acc_x, test_body_acc_y, test_body_acc_z,\n",
    "                 test_gyro_x, test_gyro_y, test_gyro_z]\n",
    "test_set_signals = group_signals(test_signals)\n",
    "test_set_signals.shape"
   ]
  },
  {
   "cell_type": "markdown",
   "metadata": {},
   "source": [
    "# 3. Model training"
   ]
  },
  {
   "cell_type": "markdown",
   "metadata": {},
   "source": [
    "## 3.1. Model 1: WiSARD\n",
    "\n",
    "This model uses Thermometer encoding and the enginnered features to make the prediction."
   ]
  },
  {
   "cell_type": "code",
   "execution_count": 36,
   "metadata": {},
   "outputs": [],
   "source": [
    "from thermometer_encoder import ThermometerEncoder\n",
    "import wisardpkg as wp\n",
    "from time import time\n",
    "from sklearn.metrics import accuracy_score\n",
    "from sklearn.model_selection import StratifiedKFold\n",
    "from sklearn.model_selection import ParameterGrid\n",
    "from tqdm import tqdm\n",
    "import pickle\n",
    "\n",
    "def cross_validation_model1(X, y, n_splits=5, addressSize=[50], thermometer_size=[5], bleachingActivated=[True], \n",
    "                            thermometer_columns=None):\n",
    "    grid_search_results = []\n",
    "    best_params = None\n",
    "    best_accuracy = -1\n",
    "    \n",
    "    if not thermometer_columns:\n",
    "        thermometer_columns = list(range(X.shape[1]))\n",
    "    \n",
    "    param_grid_dict = dict()\n",
    "    param_grid_dict['thermometer_size'] = thermometer_size\n",
    "    param_grid_dict['addressSize'] = addressSize\n",
    "    param_grid_dict['bleachingActivated'] = bleachingActivated\n",
    "    \n",
    "    skf = StratifiedKFold(n_splits=n_splits)\n",
    "    \n",
    "    param_grid = ParameterGrid(param_grid_dict)\n",
    "    \n",
    "    param_grid_combinations = len(list(param_grid))\n",
    "    n_combs = n_splits * param_grid_combinations\n",
    "    progress = tqdm(total=n_combs, position=0, leave=True)\n",
    "    \n",
    "    for params in param_grid:\n",
    "        print(params)\n",
    "        training_time = []\n",
    "        training_prediction_time = []\n",
    "        validation_prediction_time = []\n",
    "        thermometer_time = []\n",
    "        training_accuracy = []\n",
    "        validation_accuracy = []\n",
    "        for train_index, val_index in skf.split(X, y):\n",
    "            X_train = X[train_index, :]\n",
    "            y_train = y[train_index]\n",
    "            y_train_str = [str(l) for l in y_train]\n",
    "            \n",
    "            X_val = X[val_index, :]\n",
    "            y_val = y[val_index]\n",
    "            y_val_str = [str(l) for l in y_val]\n",
    "            \n",
    "            model = wp.Wisard(params['addressSize'], bleachingActivated=params['bleachingActivated'])\n",
    "            thermometer = ThermometerEncoder(thermometer_columns, n_bits=params['thermometer_size'])\n",
    "            \n",
    "            start = time()\n",
    "            X_train = thermometer.fit_transform(X_train).astype(int).tolist()\n",
    "            X_val = thermometer.transform(X_val).astype(int).tolist()\n",
    "            end = time()\n",
    "            thermometer_time.append(end-start)\n",
    "            \n",
    "            start = time()\n",
    "            model.train(X_train, y_train_str)\n",
    "            end = time()\n",
    "            training_time.append(end-start)\n",
    "            \n",
    "            start = time()\n",
    "            pred_train = model.classify(X_train)\n",
    "            end = time()\n",
    "            training_prediction_time.append(end-start)\n",
    "            \n",
    "            start = time()\n",
    "            pred_val = model.classify(X_val)\n",
    "            end = time()\n",
    "            validation_prediction_time.append(end-start)\n",
    "            \n",
    "            training_accuracy.append(accuracy_score(y_train_str, pred_train))\n",
    "            \n",
    "            validation_accuracy.append(accuracy_score(y_val_str, pred_val))\n",
    "            \n",
    "            progress.update()\n",
    "        \n",
    "        cv_result = {'training_time_mean': np.mean(training_time),\n",
    "                     'training_time_std': np.std(training_time),\n",
    "                     'training_prediction_time_mean': np.mean(training_prediction_time),\n",
    "                     'training_prediction_time_std': np.std(training_prediction_time),\n",
    "                     'validation_prediction_time_mean': np.mean(validation_prediction_time),\n",
    "                     'validation_prediction_time_std': np.std(validation_prediction_time),\n",
    "                     'thermometer_time_mean': np.mean(thermometer_time),\n",
    "                     'thermometer_time_std': np.std(thermometer_time),\n",
    "                     'training_accuracy_mean': np.mean(training_accuracy),\n",
    "                     'training_accuracy_std': np.std(training_accuracy),\n",
    "                     'validation_accuracy_mean': np.mean(validation_accuracy),\n",
    "                     'validation_accuracy_std': np.std(validation_accuracy)}\n",
    "        \n",
    "        cv_result = {**params, **cv_result}\n",
    "        \n",
    "        grid_search_results.append(cv_result)\n",
    "        \n",
    "        if (cv_result['validation_accuracy_mean'] > best_accuracy):\n",
    "            best_accuracy = cv_result['validation_accuracy_mean']\n",
    "            best_params = params\n",
    "        \n",
    "        print(f\"Train acc. mean: {cv_result['training_accuracy_mean']:.4f} | Validation acc. mean: {cv_result['validation_accuracy_mean']:.4f}\\n\")\n",
    "    \n",
    "    grid_search_results = pd.DataFrame(grid_search_results)\n",
    "    grid_search_results['rank'] = grid_search_results['validation_accuracy_mean'].rank(ascending=False)\n",
    "    \n",
    "    return grid_search_results, best_params"
   ]
  },
  {
   "cell_type": "code",
   "execution_count": 31,
   "metadata": {
    "scrolled": true
   },
   "outputs": [
    {
     "name": "stderr",
     "output_type": "stream",
     "text": [
      "  0%|          | 0/600 [00:00<?, ?it/s]"
     ]
    },
    {
     "name": "stdout",
     "output_type": "stream",
     "text": [
      "{'addressSize': 10, 'bleachingActivated': True, 'thermometer_size': 4}\n"
     ]
    },
    {
     "name": "stderr",
     "output_type": "stream",
     "text": [
      "  0%|          | 0/600 [03:52<?, ?it/s]32.55s/it]\n",
      "  1%|          | 5/600 [02:43<5:28:07, 33.09s/it]"
     ]
    },
    {
     "name": "stdout",
     "output_type": "stream",
     "text": [
      "Train acc. mean: 0.9194 | Validation acc. mean: 0.7961\n",
      "\n",
      "{'addressSize': 10, 'bleachingActivated': True, 'thermometer_size': 5}\n"
     ]
    },
    {
     "name": "stderr",
     "output_type": "stream",
     "text": [
      "  2%|▏         | 10/600 [05:38<5:16:43, 32.21s/it]"
     ]
    },
    {
     "name": "stdout",
     "output_type": "stream",
     "text": [
      "Train acc. mean: 0.9343 | Validation acc. mean: 0.8152\n",
      "\n",
      "{'addressSize': 10, 'bleachingActivated': True, 'thermometer_size': 6}\n"
     ]
    },
    {
     "name": "stderr",
     "output_type": "stream",
     "text": [
      "  2%|▎         | 15/600 [08:14<4:57:59, 30.56s/it]"
     ]
    },
    {
     "name": "stdout",
     "output_type": "stream",
     "text": [
      "Train acc. mean: 0.9328 | Validation acc. mean: 0.8045\n",
      "\n",
      "{'addressSize': 10, 'bleachingActivated': True, 'thermometer_size': 7}\n"
     ]
    },
    {
     "name": "stderr",
     "output_type": "stream",
     "text": [
      "  3%|▎         | 20/600 [11:02<5:21:40, 33.28s/it]"
     ]
    },
    {
     "name": "stdout",
     "output_type": "stream",
     "text": [
      "Train acc. mean: 0.9432 | Validation acc. mean: 0.8225\n",
      "\n",
      "{'addressSize': 10, 'bleachingActivated': True, 'thermometer_size': 8}\n"
     ]
    },
    {
     "name": "stderr",
     "output_type": "stream",
     "text": [
      "  4%|▍         | 25/600 [15:00<7:12:44, 45.15s/it]"
     ]
    },
    {
     "name": "stdout",
     "output_type": "stream",
     "text": [
      "Train acc. mean: 0.9451 | Validation acc. mean: 0.8254\n",
      "\n",
      "{'addressSize': 10, 'bleachingActivated': True, 'thermometer_size': 9}\n"
     ]
    },
    {
     "name": "stderr",
     "output_type": "stream",
     "text": [
      "  5%|▌         | 30/600 [18:46<6:58:14, 44.02s/it]"
     ]
    },
    {
     "name": "stdout",
     "output_type": "stream",
     "text": [
      "Train acc. mean: 0.9549 | Validation acc. mean: 0.8339\n",
      "\n",
      "{'addressSize': 10, 'bleachingActivated': True, 'thermometer_size': 10}\n"
     ]
    },
    {
     "name": "stderr",
     "output_type": "stream",
     "text": [
      "  6%|▌         | 35/600 [22:43<7:25:40, 47.33s/it]"
     ]
    },
    {
     "name": "stdout",
     "output_type": "stream",
     "text": [
      "Train acc. mean: 0.9563 | Validation acc. mean: 0.8343\n",
      "\n",
      "{'addressSize': 10, 'bleachingActivated': True, 'thermometer_size': 11}\n"
     ]
    },
    {
     "name": "stderr",
     "output_type": "stream",
     "text": [
      "  7%|▋         | 40/600 [27:00<7:53:12, 50.70s/it]"
     ]
    },
    {
     "name": "stdout",
     "output_type": "stream",
     "text": [
      "Train acc. mean: 0.9531 | Validation acc. mean: 0.8341\n",
      "\n",
      "{'addressSize': 10, 'bleachingActivated': True, 'thermometer_size': 12}\n"
     ]
    },
    {
     "name": "stderr",
     "output_type": "stream",
     "text": [
      "  8%|▊         | 45/600 [31:36<8:24:38, 54.56s/it]"
     ]
    },
    {
     "name": "stdout",
     "output_type": "stream",
     "text": [
      "Train acc. mean: 0.9542 | Validation acc. mean: 0.8368\n",
      "\n",
      "{'addressSize': 10, 'bleachingActivated': True, 'thermometer_size': 13}\n"
     ]
    },
    {
     "name": "stderr",
     "output_type": "stream",
     "text": [
      "  8%|▊         | 50/600 [36:46<9:12:05, 60.23s/it]"
     ]
    },
    {
     "name": "stdout",
     "output_type": "stream",
     "text": [
      "Train acc. mean: 0.9595 | Validation acc. mean: 0.8339\n",
      "\n",
      "{'addressSize': 10, 'bleachingActivated': True, 'thermometer_size': 14}\n"
     ]
    },
    {
     "name": "stderr",
     "output_type": "stream",
     "text": [
      "  9%|▉         | 55/600 [42:12<9:44:39, 64.37s/it]"
     ]
    },
    {
     "name": "stdout",
     "output_type": "stream",
     "text": [
      "Train acc. mean: 0.9665 | Validation acc. mean: 0.8406\n",
      "\n",
      "{'addressSize': 10, 'bleachingActivated': True, 'thermometer_size': 15}\n"
     ]
    },
    {
     "name": "stderr",
     "output_type": "stream",
     "text": [
      " 10%|█         | 60/600 [48:07<10:22:14, 69.14s/it]"
     ]
    },
    {
     "name": "stdout",
     "output_type": "stream",
     "text": [
      "Train acc. mean: 0.9629 | Validation acc. mean: 0.8385\n",
      "\n",
      "{'addressSize': 10, 'bleachingActivated': False, 'thermometer_size': 4}\n"
     ]
    },
    {
     "name": "stderr",
     "output_type": "stream",
     "text": [
      " 11%|█         | 65/600 [49:39<4:01:09, 27.05s/it] "
     ]
    },
    {
     "name": "stdout",
     "output_type": "stream",
     "text": [
      "Train acc. mean: 0.8792 | Validation acc. mean: 0.7754\n",
      "\n",
      "{'addressSize': 10, 'bleachingActivated': False, 'thermometer_size': 5}\n"
     ]
    },
    {
     "name": "stderr",
     "output_type": "stream",
     "text": [
      " 12%|█▏        | 70/600 [51:35<3:29:51, 23.76s/it]"
     ]
    },
    {
     "name": "stdout",
     "output_type": "stream",
     "text": [
      "Train acc. mean: 0.9104 | Validation acc. mean: 0.8013\n",
      "\n",
      "{'addressSize': 10, 'bleachingActivated': False, 'thermometer_size': 6}\n"
     ]
    },
    {
     "name": "stderr",
     "output_type": "stream",
     "text": [
      " 12%|█▎        | 75/600 [53:57<3:59:50, 27.41s/it]"
     ]
    },
    {
     "name": "stdout",
     "output_type": "stream",
     "text": [
      "Train acc. mean: 0.9226 | Validation acc. mean: 0.8078\n",
      "\n",
      "{'addressSize': 10, 'bleachingActivated': False, 'thermometer_size': 7}\n"
     ]
    },
    {
     "name": "stderr",
     "output_type": "stream",
     "text": [
      " 13%|█▎        | 80/600 [56:39<4:33:31, 31.56s/it]"
     ]
    },
    {
     "name": "stdout",
     "output_type": "stream",
     "text": [
      "Train acc. mean: 0.9349 | Validation acc. mean: 0.8290\n",
      "\n",
      "{'addressSize': 10, 'bleachingActivated': False, 'thermometer_size': 8}\n"
     ]
    },
    {
     "name": "stderr",
     "output_type": "stream",
     "text": [
      " 14%|█▍        | 85/600 [59:40<5:03:42, 35.38s/it]"
     ]
    },
    {
     "name": "stdout",
     "output_type": "stream",
     "text": [
      "Train acc. mean: 0.9348 | Validation acc. mean: 0.8092\n",
      "\n",
      "{'addressSize': 10, 'bleachingActivated': False, 'thermometer_size': 9}\n"
     ]
    },
    {
     "name": "stderr",
     "output_type": "stream",
     "text": [
      " 15%|█▌        | 90/600 [1:03:13<5:54:41, 41.73s/it]"
     ]
    },
    {
     "name": "stdout",
     "output_type": "stream",
     "text": [
      "Train acc. mean: 0.9393 | Validation acc. mean: 0.8225\n",
      "\n",
      "{'addressSize': 10, 'bleachingActivated': False, 'thermometer_size': 10}\n"
     ]
    },
    {
     "name": "stderr",
     "output_type": "stream",
     "text": [
      " 16%|█▌        | 95/600 [1:07:02<6:20:57, 45.26s/it]"
     ]
    },
    {
     "name": "stdout",
     "output_type": "stream",
     "text": [
      "Train acc. mean: 0.9443 | Validation acc. mean: 0.8292\n",
      "\n",
      "{'addressSize': 10, 'bleachingActivated': False, 'thermometer_size': 11}\n"
     ]
    },
    {
     "name": "stderr",
     "output_type": "stream",
     "text": [
      " 17%|█▋        | 100/600 [1:11:18<6:59:45, 50.37s/it]"
     ]
    },
    {
     "name": "stdout",
     "output_type": "stream",
     "text": [
      "Train acc. mean: 0.9460 | Validation acc. mean: 0.8385\n",
      "\n",
      "{'addressSize': 10, 'bleachingActivated': False, 'thermometer_size': 12}\n"
     ]
    },
    {
     "name": "stderr",
     "output_type": "stream",
     "text": [
      " 18%|█▊        | 105/600 [1:16:07<7:39:16, 55.67s/it]"
     ]
    },
    {
     "name": "stdout",
     "output_type": "stream",
     "text": [
      "Train acc. mean: 0.9502 | Validation acc. mean: 0.8305\n",
      "\n",
      "{'addressSize': 10, 'bleachingActivated': False, 'thermometer_size': 13}\n"
     ]
    },
    {
     "name": "stderr",
     "output_type": "stream",
     "text": [
      " 18%|█▊        | 110/600 [1:21:08<8:05:48, 59.49s/it]"
     ]
    },
    {
     "name": "stdout",
     "output_type": "stream",
     "text": [
      "Train acc. mean: 0.9541 | Validation acc. mean: 0.8388\n",
      "\n",
      "{'addressSize': 10, 'bleachingActivated': False, 'thermometer_size': 14}\n"
     ]
    },
    {
     "name": "stderr",
     "output_type": "stream",
     "text": [
      " 19%|█▉        | 115/600 [1:26:33<8:36:14, 63.86s/it]"
     ]
    },
    {
     "name": "stdout",
     "output_type": "stream",
     "text": [
      "Train acc. mean: 0.9560 | Validation acc. mean: 0.8407\n",
      "\n",
      "{'addressSize': 10, 'bleachingActivated': False, 'thermometer_size': 15}\n"
     ]
    },
    {
     "name": "stderr",
     "output_type": "stream",
     "text": [
      " 20%|██        | 120/600 [1:32:18<9:05:43, 68.22s/it]"
     ]
    },
    {
     "name": "stdout",
     "output_type": "stream",
     "text": [
      "Train acc. mean: 0.9592 | Validation acc. mean: 0.8396\n",
      "\n",
      "{'addressSize': 20, 'bleachingActivated': True, 'thermometer_size': 4}\n"
     ]
    },
    {
     "name": "stderr",
     "output_type": "stream",
     "text": [
      " 21%|██        | 125/600 [1:33:52<3:30:54, 26.64s/it]"
     ]
    },
    {
     "name": "stdout",
     "output_type": "stream",
     "text": [
      "Train acc. mean: 0.9520 | Validation acc. mean: 0.8180\n",
      "\n",
      "{'addressSize': 20, 'bleachingActivated': True, 'thermometer_size': 5}\n"
     ]
    },
    {
     "name": "stderr",
     "output_type": "stream",
     "text": [
      " 22%|██▏       | 130/600 [1:35:46<3:03:52, 23.47s/it]"
     ]
    },
    {
     "name": "stdout",
     "output_type": "stream",
     "text": [
      "Train acc. mean: 0.9603 | Validation acc. mean: 0.8334\n",
      "\n",
      "{'addressSize': 20, 'bleachingActivated': True, 'thermometer_size': 6}\n"
     ]
    },
    {
     "name": "stderr",
     "output_type": "stream",
     "text": [
      " 22%|██▎       | 135/600 [1:38:01<3:24:37, 26.40s/it]"
     ]
    },
    {
     "name": "stdout",
     "output_type": "stream",
     "text": [
      "Train acc. mean: 0.9595 | Validation acc. mean: 0.8298\n",
      "\n",
      "{'addressSize': 20, 'bleachingActivated': True, 'thermometer_size': 7}\n"
     ]
    },
    {
     "name": "stderr",
     "output_type": "stream",
     "text": [
      " 23%|██▎       | 140/600 [1:40:40<3:57:56, 31.04s/it]"
     ]
    },
    {
     "name": "stdout",
     "output_type": "stream",
     "text": [
      "Train acc. mean: 0.9645 | Validation acc. mean: 0.8440\n",
      "\n",
      "{'addressSize': 20, 'bleachingActivated': True, 'thermometer_size': 8}\n"
     ]
    },
    {
     "name": "stderr",
     "output_type": "stream",
     "text": [
      " 24%|██▍       | 145/600 [1:43:45<4:33:24, 36.05s/it]"
     ]
    },
    {
     "name": "stdout",
     "output_type": "stream",
     "text": [
      "Train acc. mean: 0.9702 | Validation acc. mean: 0.8451\n",
      "\n",
      "{'addressSize': 20, 'bleachingActivated': True, 'thermometer_size': 9}\n"
     ]
    },
    {
     "name": "stderr",
     "output_type": "stream",
     "text": [
      " 25%|██▌       | 150/600 [1:47:09<5:00:10, 40.02s/it]"
     ]
    },
    {
     "name": "stdout",
     "output_type": "stream",
     "text": [
      "Train acc. mean: 0.9714 | Validation acc. mean: 0.8554\n",
      "\n",
      "{'addressSize': 20, 'bleachingActivated': True, 'thermometer_size': 10}\n"
     ]
    },
    {
     "name": "stderr",
     "output_type": "stream",
     "text": [
      " 26%|██▌       | 155/600 [1:50:54<5:27:38, 44.18s/it]"
     ]
    },
    {
     "name": "stdout",
     "output_type": "stream",
     "text": [
      "Train acc. mean: 0.9752 | Validation acc. mean: 0.8511\n",
      "\n",
      "{'addressSize': 20, 'bleachingActivated': True, 'thermometer_size': 11}\n"
     ]
    },
    {
     "name": "stderr",
     "output_type": "stream",
     "text": [
      " 27%|██▋       | 160/600 [1:55:07<6:00:30, 49.16s/it]"
     ]
    },
    {
     "name": "stdout",
     "output_type": "stream",
     "text": [
      "Train acc. mean: 0.9775 | Validation acc. mean: 0.8536\n",
      "\n",
      "{'addressSize': 20, 'bleachingActivated': True, 'thermometer_size': 12}\n"
     ]
    },
    {
     "name": "stderr",
     "output_type": "stream",
     "text": [
      " 28%|██▊       | 165/600 [1:59:35<6:22:54, 52.82s/it]"
     ]
    },
    {
     "name": "stdout",
     "output_type": "stream",
     "text": [
      "Train acc. mean: 0.9807 | Validation acc. mean: 0.8619\n",
      "\n",
      "{'addressSize': 20, 'bleachingActivated': True, 'thermometer_size': 13}\n"
     ]
    },
    {
     "name": "stderr",
     "output_type": "stream",
     "text": [
      " 28%|██▊       | 170/600 [2:04:34<6:59:47, 58.58s/it]"
     ]
    },
    {
     "name": "stdout",
     "output_type": "stream",
     "text": [
      "Train acc. mean: 0.9825 | Validation acc. mean: 0.8550\n",
      "\n",
      "{'addressSize': 20, 'bleachingActivated': True, 'thermometer_size': 14}\n"
     ]
    },
    {
     "name": "stderr",
     "output_type": "stream",
     "text": [
      " 29%|██▉       | 175/600 [2:09:52<7:23:22, 62.59s/it]"
     ]
    },
    {
     "name": "stdout",
     "output_type": "stream",
     "text": [
      "Train acc. mean: 0.9837 | Validation acc. mean: 0.8573\n",
      "\n",
      "{'addressSize': 20, 'bleachingActivated': True, 'thermometer_size': 15}\n"
     ]
    },
    {
     "name": "stderr",
     "output_type": "stream",
     "text": [
      " 30%|███       | 180/600 [2:15:40<7:56:51, 68.12s/it]"
     ]
    },
    {
     "name": "stdout",
     "output_type": "stream",
     "text": [
      "Train acc. mean: 0.9842 | Validation acc. mean: 0.8617\n",
      "\n",
      "{'addressSize': 20, 'bleachingActivated': False, 'thermometer_size': 4}\n"
     ]
    },
    {
     "name": "stderr",
     "output_type": "stream",
     "text": [
      " 31%|███       | 185/600 [2:17:09<3:01:52, 26.29s/it]"
     ]
    },
    {
     "name": "stdout",
     "output_type": "stream",
     "text": [
      "Train acc. mean: 0.9403 | Validation acc. mean: 0.8166\n",
      "\n",
      "{'addressSize': 20, 'bleachingActivated': False, 'thermometer_size': 5}\n"
     ]
    },
    {
     "name": "stderr",
     "output_type": "stream",
     "text": [
      " 32%|███▏      | 190/600 [2:19:03<2:39:10, 23.29s/it]"
     ]
    },
    {
     "name": "stdout",
     "output_type": "stream",
     "text": [
      "Train acc. mean: 0.9604 | Validation acc. mean: 0.8301\n",
      "\n",
      "{'addressSize': 20, 'bleachingActivated': False, 'thermometer_size': 6}\n"
     ]
    },
    {
     "name": "stderr",
     "output_type": "stream",
     "text": [
      " 32%|███▎      | 195/600 [2:21:18<2:58:58, 26.52s/it]"
     ]
    },
    {
     "name": "stdout",
     "output_type": "stream",
     "text": [
      "Train acc. mean: 0.9570 | Validation acc. mean: 0.8301\n",
      "\n",
      "{'addressSize': 20, 'bleachingActivated': False, 'thermometer_size': 7}\n"
     ]
    },
    {
     "name": "stderr",
     "output_type": "stream",
     "text": [
      " 33%|███▎      | 200/600 [2:24:02<3:30:51, 31.63s/it]"
     ]
    },
    {
     "name": "stdout",
     "output_type": "stream",
     "text": [
      "Train acc. mean: 0.9661 | Validation acc. mean: 0.8399\n",
      "\n",
      "{'addressSize': 20, 'bleachingActivated': False, 'thermometer_size': 8}\n"
     ]
    },
    {
     "name": "stderr",
     "output_type": "stream",
     "text": [
      " 34%|███▍      | 205/600 [2:26:58<3:48:02, 34.64s/it]"
     ]
    },
    {
     "name": "stdout",
     "output_type": "stream",
     "text": [
      "Train acc. mean: 0.9670 | Validation acc. mean: 0.8481\n",
      "\n",
      "{'addressSize': 20, 'bleachingActivated': False, 'thermometer_size': 9}\n"
     ]
    },
    {
     "name": "stderr",
     "output_type": "stream",
     "text": [
      " 35%|███▌      | 210/600 [2:30:23<4:18:56, 39.84s/it]"
     ]
    },
    {
     "name": "stdout",
     "output_type": "stream",
     "text": [
      "Train acc. mean: 0.9693 | Validation acc. mean: 0.8520\n",
      "\n",
      "{'addressSize': 20, 'bleachingActivated': False, 'thermometer_size': 10}\n"
     ]
    },
    {
     "name": "stderr",
     "output_type": "stream",
     "text": [
      " 36%|███▌      | 215/600 [2:34:11<4:46:08, 44.59s/it]"
     ]
    },
    {
     "name": "stdout",
     "output_type": "stream",
     "text": [
      "Train acc. mean: 0.9733 | Validation acc. mean: 0.8546\n",
      "\n",
      "{'addressSize': 20, 'bleachingActivated': False, 'thermometer_size': 11}\n"
     ]
    },
    {
     "name": "stderr",
     "output_type": "stream",
     "text": [
      " 37%|███▋      | 220/600 [2:38:20<5:09:42, 48.90s/it]"
     ]
    },
    {
     "name": "stdout",
     "output_type": "stream",
     "text": [
      "Train acc. mean: 0.9734 | Validation acc. mean: 0.8494\n",
      "\n",
      "{'addressSize': 20, 'bleachingActivated': False, 'thermometer_size': 12}\n"
     ]
    },
    {
     "name": "stderr",
     "output_type": "stream",
     "text": [
      " 38%|███▊      | 225/600 [2:42:57<5:45:40, 55.31s/it]"
     ]
    },
    {
     "name": "stdout",
     "output_type": "stream",
     "text": [
      "Train acc. mean: 0.9795 | Validation acc. mean: 0.8477\n",
      "\n",
      "{'addressSize': 20, 'bleachingActivated': False, 'thermometer_size': 13}\n"
     ]
    },
    {
     "name": "stderr",
     "output_type": "stream",
     "text": [
      " 38%|███▊      | 230/600 [2:47:51<5:59:45, 58.34s/it]"
     ]
    },
    {
     "name": "stdout",
     "output_type": "stream",
     "text": [
      "Train acc. mean: 0.9792 | Validation acc. mean: 0.8583\n",
      "\n",
      "{'addressSize': 20, 'bleachingActivated': False, 'thermometer_size': 14}\n"
     ]
    },
    {
     "name": "stderr",
     "output_type": "stream",
     "text": [
      " 39%|███▉      | 235/600 [2:53:10<6:25:39, 63.40s/it]"
     ]
    },
    {
     "name": "stdout",
     "output_type": "stream",
     "text": [
      "Train acc. mean: 0.9835 | Validation acc. mean: 0.8532\n",
      "\n",
      "{'addressSize': 20, 'bleachingActivated': False, 'thermometer_size': 15}\n"
     ]
    },
    {
     "name": "stderr",
     "output_type": "stream",
     "text": [
      " 40%|████      | 240/600 [2:59:19<7:11:46, 71.96s/it]"
     ]
    },
    {
     "name": "stdout",
     "output_type": "stream",
     "text": [
      "Train acc. mean: 0.9828 | Validation acc. mean: 0.8618\n",
      "\n",
      "{'addressSize': 30, 'bleachingActivated': True, 'thermometer_size': 4}\n"
     ]
    },
    {
     "name": "stderr",
     "output_type": "stream",
     "text": [
      " 41%|████      | 245/600 [3:00:48<2:39:47, 27.01s/it]"
     ]
    },
    {
     "name": "stdout",
     "output_type": "stream",
     "text": [
      "Train acc. mean: 0.9709 | Validation acc. mean: 0.8436\n",
      "\n",
      "{'addressSize': 30, 'bleachingActivated': True, 'thermometer_size': 5}\n"
     ]
    },
    {
     "name": "stderr",
     "output_type": "stream",
     "text": [
      " 42%|████▏     | 250/600 [3:02:45<2:22:44, 24.47s/it]"
     ]
    },
    {
     "name": "stdout",
     "output_type": "stream",
     "text": [
      "Train acc. mean: 0.9768 | Validation acc. mean: 0.8432\n",
      "\n",
      "{'addressSize': 30, 'bleachingActivated': True, 'thermometer_size': 6}\n"
     ]
    },
    {
     "name": "stderr",
     "output_type": "stream",
     "text": [
      " 42%|████▎     | 255/600 [3:04:58<2:31:25, 26.34s/it]"
     ]
    },
    {
     "name": "stdout",
     "output_type": "stream",
     "text": [
      "Train acc. mean: 0.9802 | Validation acc. mean: 0.8466\n",
      "\n",
      "{'addressSize': 30, 'bleachingActivated': True, 'thermometer_size': 7}\n"
     ]
    },
    {
     "name": "stderr",
     "output_type": "stream",
     "text": [
      " 43%|████▎     | 260/600 [3:07:37<2:54:04, 30.72s/it]"
     ]
    },
    {
     "name": "stdout",
     "output_type": "stream",
     "text": [
      "Train acc. mean: 0.9851 | Validation acc. mean: 0.8483\n",
      "\n",
      "{'addressSize': 30, 'bleachingActivated': True, 'thermometer_size': 8}\n"
     ]
    },
    {
     "name": "stderr",
     "output_type": "stream",
     "text": [
      " 44%|████▍     | 265/600 [3:10:32<3:11:48, 34.35s/it]"
     ]
    },
    {
     "name": "stdout",
     "output_type": "stream",
     "text": [
      "Train acc. mean: 0.9880 | Validation acc. mean: 0.8590\n",
      "\n",
      "{'addressSize': 30, 'bleachingActivated': True, 'thermometer_size': 9}\n"
     ]
    },
    {
     "name": "stderr",
     "output_type": "stream",
     "text": [
      " 45%|████▌     | 270/600 [3:14:04<3:43:52, 40.71s/it]"
     ]
    },
    {
     "name": "stdout",
     "output_type": "stream",
     "text": [
      "Train acc. mean: 0.9888 | Validation acc. mean: 0.8624\n",
      "\n",
      "{'addressSize': 30, 'bleachingActivated': True, 'thermometer_size': 10}\n"
     ]
    },
    {
     "name": "stderr",
     "output_type": "stream",
     "text": [
      " 46%|████▌     | 275/600 [3:17:49<4:00:00, 44.31s/it]"
     ]
    },
    {
     "name": "stdout",
     "output_type": "stream",
     "text": [
      "Train acc. mean: 0.9899 | Validation acc. mean: 0.8572\n",
      "\n",
      "{'addressSize': 30, 'bleachingActivated': True, 'thermometer_size': 11}\n"
     ]
    },
    {
     "name": "stderr",
     "output_type": "stream",
     "text": [
      " 47%|████▋     | 280/600 [3:21:59<4:20:57, 48.93s/it]"
     ]
    },
    {
     "name": "stdout",
     "output_type": "stream",
     "text": [
      "Train acc. mean: 0.9922 | Validation acc. mean: 0.8602\n",
      "\n",
      "{'addressSize': 30, 'bleachingActivated': True, 'thermometer_size': 12}\n"
     ]
    },
    {
     "name": "stderr",
     "output_type": "stream",
     "text": [
      " 48%|████▊     | 285/600 [3:26:31<4:39:10, 53.18s/it]"
     ]
    },
    {
     "name": "stdout",
     "output_type": "stream",
     "text": [
      "Train acc. mean: 0.9920 | Validation acc. mean: 0.8682\n",
      "\n",
      "{'addressSize': 30, 'bleachingActivated': True, 'thermometer_size': 13}\n"
     ]
    },
    {
     "name": "stderr",
     "output_type": "stream",
     "text": [
      " 48%|████▊     | 290/600 [3:31:26<4:59:37, 57.99s/it]"
     ]
    },
    {
     "name": "stdout",
     "output_type": "stream",
     "text": [
      "Train acc. mean: 0.9937 | Validation acc. mean: 0.8672\n",
      "\n",
      "{'addressSize': 30, 'bleachingActivated': True, 'thermometer_size': 14}\n"
     ]
    },
    {
     "name": "stderr",
     "output_type": "stream",
     "text": [
      " 49%|████▉     | 295/600 [3:36:44<5:16:20, 62.23s/it]"
     ]
    },
    {
     "name": "stdout",
     "output_type": "stream",
     "text": [
      "Train acc. mean: 0.9946 | Validation acc. mean: 0.8690\n",
      "\n",
      "{'addressSize': 30, 'bleachingActivated': True, 'thermometer_size': 15}\n"
     ]
    },
    {
     "name": "stderr",
     "output_type": "stream",
     "text": [
      " 50%|█████     | 300/600 [3:42:28<5:40:47, 68.16s/it]"
     ]
    },
    {
     "name": "stdout",
     "output_type": "stream",
     "text": [
      "Train acc. mean: 0.9956 | Validation acc. mean: 0.8716\n",
      "\n",
      "{'addressSize': 30, 'bleachingActivated': False, 'thermometer_size': 4}\n"
     ]
    },
    {
     "name": "stderr",
     "output_type": "stream",
     "text": [
      " 51%|█████     | 305/600 [3:44:01<2:10:48, 26.61s/it]"
     ]
    },
    {
     "name": "stdout",
     "output_type": "stream",
     "text": [
      "Train acc. mean: 0.9609 | Validation acc. mean: 0.8186\n",
      "\n",
      "{'addressSize': 30, 'bleachingActivated': False, 'thermometer_size': 5}\n"
     ]
    },
    {
     "name": "stderr",
     "output_type": "stream",
     "text": [
      " 52%|█████▏    | 310/600 [3:45:54<1:52:06, 23.19s/it]"
     ]
    },
    {
     "name": "stdout",
     "output_type": "stream",
     "text": [
      "Train acc. mean: 0.9785 | Validation acc. mean: 0.8439\n",
      "\n",
      "{'addressSize': 30, 'bleachingActivated': False, 'thermometer_size': 6}\n"
     ]
    },
    {
     "name": "stderr",
     "output_type": "stream",
     "text": [
      " 52%|█████▎    | 315/600 [3:48:08<2:04:28, 26.21s/it]"
     ]
    },
    {
     "name": "stdout",
     "output_type": "stream",
     "text": [
      "Train acc. mean: 0.9768 | Validation acc. mean: 0.8392\n",
      "\n",
      "{'addressSize': 30, 'bleachingActivated': False, 'thermometer_size': 7}\n"
     ]
    },
    {
     "name": "stderr",
     "output_type": "stream",
     "text": [
      " 53%|█████▎    | 320/600 [3:50:46<2:23:19, 30.71s/it]"
     ]
    },
    {
     "name": "stdout",
     "output_type": "stream",
     "text": [
      "Train acc. mean: 0.9839 | Validation acc. mean: 0.8596\n",
      "\n",
      "{'addressSize': 30, 'bleachingActivated': False, 'thermometer_size': 8}\n"
     ]
    },
    {
     "name": "stderr",
     "output_type": "stream",
     "text": [
      " 54%|█████▍    | 325/600 [3:53:44<2:39:44, 34.85s/it]"
     ]
    },
    {
     "name": "stdout",
     "output_type": "stream",
     "text": [
      "Train acc. mean: 0.9877 | Validation acc. mean: 0.8628\n",
      "\n",
      "{'addressSize': 30, 'bleachingActivated': False, 'thermometer_size': 9}\n"
     ]
    },
    {
     "name": "stderr",
     "output_type": "stream",
     "text": [
      " 55%|█████▌    | 330/600 [3:57:07<2:58:01, 39.56s/it]"
     ]
    },
    {
     "name": "stdout",
     "output_type": "stream",
     "text": [
      "Train acc. mean: 0.9881 | Validation acc. mean: 0.8517\n",
      "\n",
      "{'addressSize': 30, 'bleachingActivated': False, 'thermometer_size': 10}\n"
     ]
    },
    {
     "name": "stderr",
     "output_type": "stream",
     "text": [
      " 56%|█████▌    | 335/600 [4:00:50<3:13:23, 43.79s/it]"
     ]
    },
    {
     "name": "stdout",
     "output_type": "stream",
     "text": [
      "Train acc. mean: 0.9905 | Validation acc. mean: 0.8626\n",
      "\n",
      "{'addressSize': 30, 'bleachingActivated': False, 'thermometer_size': 11}\n"
     ]
    },
    {
     "name": "stderr",
     "output_type": "stream",
     "text": [
      " 57%|█████▋    | 340/600 [4:05:01<3:31:46, 48.87s/it]"
     ]
    },
    {
     "name": "stdout",
     "output_type": "stream",
     "text": [
      "Train acc. mean: 0.9902 | Validation acc. mean: 0.8581\n",
      "\n",
      "{'addressSize': 30, 'bleachingActivated': False, 'thermometer_size': 12}\n"
     ]
    },
    {
     "name": "stderr",
     "output_type": "stream",
     "text": [
      " 57%|█████▊    | 345/600 [4:09:29<3:44:53, 52.92s/it]"
     ]
    },
    {
     "name": "stdout",
     "output_type": "stream",
     "text": [
      "Train acc. mean: 0.9914 | Validation acc. mean: 0.8686\n",
      "\n",
      "{'addressSize': 30, 'bleachingActivated': False, 'thermometer_size': 13}\n"
     ]
    },
    {
     "name": "stderr",
     "output_type": "stream",
     "text": [
      " 58%|█████▊    | 350/600 [4:14:32<4:06:42, 59.21s/it]"
     ]
    },
    {
     "name": "stdout",
     "output_type": "stream",
     "text": [
      "Train acc. mean: 0.9943 | Validation acc. mean: 0.8594\n",
      "\n",
      "{'addressSize': 30, 'bleachingActivated': False, 'thermometer_size': 14}\n"
     ]
    },
    {
     "name": "stderr",
     "output_type": "stream",
     "text": [
      " 59%|█████▉    | 355/600 [4:19:45<4:13:17, 62.03s/it]"
     ]
    },
    {
     "name": "stdout",
     "output_type": "stream",
     "text": [
      "Train acc. mean: 0.9933 | Validation acc. mean: 0.8696\n",
      "\n",
      "{'addressSize': 30, 'bleachingActivated': False, 'thermometer_size': 15}\n"
     ]
    },
    {
     "name": "stderr",
     "output_type": "stream",
     "text": [
      " 60%|██████    | 360/600 [4:25:26<4:28:03, 67.01s/it]"
     ]
    },
    {
     "name": "stdout",
     "output_type": "stream",
     "text": [
      "Train acc. mean: 0.9951 | Validation acc. mean: 0.8724\n",
      "\n",
      "{'addressSize': 40, 'bleachingActivated': True, 'thermometer_size': 4}\n"
     ]
    },
    {
     "name": "stderr",
     "output_type": "stream",
     "text": [
      " 61%|██████    | 365/600 [4:26:55<1:42:24, 26.15s/it]"
     ]
    },
    {
     "name": "stdout",
     "output_type": "stream",
     "text": [
      "Train acc. mean: 0.9861 | Validation acc. mean: 0.8445\n",
      "\n",
      "{'addressSize': 40, 'bleachingActivated': True, 'thermometer_size': 5}\n"
     ]
    },
    {
     "name": "stderr",
     "output_type": "stream",
     "text": [
      " 62%|██████▏   | 370/600 [4:28:47<1:28:28, 23.08s/it]"
     ]
    },
    {
     "name": "stdout",
     "output_type": "stream",
     "text": [
      "Train acc. mean: 0.9898 | Validation acc. mean: 0.8498\n",
      "\n",
      "{'addressSize': 40, 'bleachingActivated': True, 'thermometer_size': 6}\n"
     ]
    },
    {
     "name": "stderr",
     "output_type": "stream",
     "text": [
      " 62%|██████▎   | 375/600 [4:31:02<1:38:34, 26.28s/it]"
     ]
    },
    {
     "name": "stdout",
     "output_type": "stream",
     "text": [
      "Train acc. mean: 0.9925 | Validation acc. mean: 0.8500\n",
      "\n",
      "{'addressSize': 40, 'bleachingActivated': True, 'thermometer_size': 7}\n"
     ]
    },
    {
     "name": "stderr",
     "output_type": "stream",
     "text": [
      " 63%|██████▎   | 380/600 [4:33:43<1:54:31, 31.23s/it]"
     ]
    },
    {
     "name": "stdout",
     "output_type": "stream",
     "text": [
      "Train acc. mean: 0.9940 | Validation acc. mean: 0.8595\n",
      "\n",
      "{'addressSize': 40, 'bleachingActivated': True, 'thermometer_size': 8}\n"
     ]
    },
    {
     "name": "stderr",
     "output_type": "stream",
     "text": [
      " 64%|██████▍   | 385/600 [4:36:38<2:02:57, 34.31s/it]"
     ]
    },
    {
     "name": "stdout",
     "output_type": "stream",
     "text": [
      "Train acc. mean: 0.9960 | Validation acc. mean: 0.8587\n",
      "\n",
      "{'addressSize': 40, 'bleachingActivated': True, 'thermometer_size': 9}\n"
     ]
    },
    {
     "name": "stderr",
     "output_type": "stream",
     "text": [
      " 65%|██████▌   | 390/600 [4:40:01<2:18:23, 39.54s/it]"
     ]
    },
    {
     "name": "stdout",
     "output_type": "stream",
     "text": [
      "Train acc. mean: 0.9968 | Validation acc. mean: 0.8708\n",
      "\n",
      "{'addressSize': 40, 'bleachingActivated': True, 'thermometer_size': 10}\n"
     ]
    },
    {
     "name": "stderr",
     "output_type": "stream",
     "text": [
      " 66%|██████▌   | 395/600 [4:43:52<2:35:19, 45.46s/it]"
     ]
    },
    {
     "name": "stdout",
     "output_type": "stream",
     "text": [
      "Train acc. mean: 0.9966 | Validation acc. mean: 0.8663\n",
      "\n",
      "{'addressSize': 40, 'bleachingActivated': True, 'thermometer_size': 11}\n"
     ]
    },
    {
     "name": "stderr",
     "output_type": "stream",
     "text": [
      " 67%|██████▋   | 400/600 [4:48:00<2:43:00, 48.90s/it]"
     ]
    },
    {
     "name": "stdout",
     "output_type": "stream",
     "text": [
      "Train acc. mean: 0.9978 | Validation acc. mean: 0.8658\n",
      "\n",
      "{'addressSize': 40, 'bleachingActivated': True, 'thermometer_size': 12}\n"
     ]
    },
    {
     "name": "stderr",
     "output_type": "stream",
     "text": [
      " 68%|██████▊   | 405/600 [4:52:29<2:53:28, 53.38s/it]"
     ]
    },
    {
     "name": "stdout",
     "output_type": "stream",
     "text": [
      "Train acc. mean: 0.9984 | Validation acc. mean: 0.8770\n",
      "\n",
      "{'addressSize': 40, 'bleachingActivated': True, 'thermometer_size': 13}\n"
     ]
    },
    {
     "name": "stderr",
     "output_type": "stream",
     "text": [
      " 68%|██████▊   | 410/600 [4:57:23<3:02:52, 57.75s/it]"
     ]
    },
    {
     "name": "stdout",
     "output_type": "stream",
     "text": [
      "Train acc. mean: 0.9986 | Validation acc. mean: 0.8739\n",
      "\n",
      "{'addressSize': 40, 'bleachingActivated': True, 'thermometer_size': 14}\n"
     ]
    },
    {
     "name": "stderr",
     "output_type": "stream",
     "text": [
      " 69%|██████▉   | 415/600 [5:02:40<3:14:02, 62.93s/it]"
     ]
    },
    {
     "name": "stdout",
     "output_type": "stream",
     "text": [
      "Train acc. mean: 0.9993 | Validation acc. mean: 0.8751\n",
      "\n",
      "{'addressSize': 40, 'bleachingActivated': True, 'thermometer_size': 15}\n"
     ]
    },
    {
     "name": "stderr",
     "output_type": "stream",
     "text": [
      " 70%|███████   | 420/600 [5:08:17<3:19:45, 66.59s/it]"
     ]
    },
    {
     "name": "stdout",
     "output_type": "stream",
     "text": [
      "Train acc. mean: 0.9990 | Validation acc. mean: 0.8779\n",
      "\n",
      "{'addressSize': 40, 'bleachingActivated': False, 'thermometer_size': 4}\n"
     ]
    },
    {
     "name": "stderr",
     "output_type": "stream",
     "text": [
      " 71%|███████   | 425/600 [5:09:46<1:15:58, 26.05s/it]"
     ]
    },
    {
     "name": "stdout",
     "output_type": "stream",
     "text": [
      "Train acc. mean: 0.9844 | Validation acc. mean: 0.8422\n",
      "\n",
      "{'addressSize': 40, 'bleachingActivated': False, 'thermometer_size': 5}\n"
     ]
    },
    {
     "name": "stderr",
     "output_type": "stream",
     "text": [
      " 72%|███████▏  | 430/600 [5:11:39<1:05:46, 23.22s/it]"
     ]
    },
    {
     "name": "stdout",
     "output_type": "stream",
     "text": [
      "Train acc. mean: 0.9902 | Validation acc. mean: 0.8531\n",
      "\n",
      "{'addressSize': 40, 'bleachingActivated': False, 'thermometer_size': 6}\n"
     ]
    },
    {
     "name": "stderr",
     "output_type": "stream",
     "text": [
      " 72%|███████▎  | 435/600 [5:14:03<1:14:45, 27.18s/it]"
     ]
    },
    {
     "name": "stdout",
     "output_type": "stream",
     "text": [
      "Train acc. mean: 0.9905 | Validation acc. mean: 0.8526\n",
      "\n",
      "{'addressSize': 40, 'bleachingActivated': False, 'thermometer_size': 7}\n"
     ]
    },
    {
     "name": "stderr",
     "output_type": "stream",
     "text": [
      " 73%|███████▎  | 440/600 [5:16:40<1:22:01, 30.76s/it]"
     ]
    },
    {
     "name": "stdout",
     "output_type": "stream",
     "text": [
      "Train acc. mean: 0.9944 | Validation acc. mean: 0.8709\n",
      "\n",
      "{'addressSize': 40, 'bleachingActivated': False, 'thermometer_size': 8}\n"
     ]
    },
    {
     "name": "stderr",
     "output_type": "stream",
     "text": [
      " 74%|███████▍  | 445/600 [5:19:35<1:28:35, 34.29s/it]"
     ]
    },
    {
     "name": "stdout",
     "output_type": "stream",
     "text": [
      "Train acc. mean: 0.9951 | Validation acc. mean: 0.8602\n",
      "\n",
      "{'addressSize': 40, 'bleachingActivated': False, 'thermometer_size': 9}\n"
     ]
    },
    {
     "name": "stderr",
     "output_type": "stream",
     "text": [
      " 75%|███████▌  | 450/600 [5:23:03<1:41:56, 40.77s/it]"
     ]
    },
    {
     "name": "stdout",
     "output_type": "stream",
     "text": [
      "Train acc. mean: 0.9957 | Validation acc. mean: 0.8698\n",
      "\n",
      "{'addressSize': 40, 'bleachingActivated': False, 'thermometer_size': 10}\n"
     ]
    },
    {
     "name": "stderr",
     "output_type": "stream",
     "text": [
      " 76%|███████▌  | 455/600 [5:26:46<1:46:24, 44.03s/it]"
     ]
    },
    {
     "name": "stdout",
     "output_type": "stream",
     "text": [
      "Train acc. mean: 0.9979 | Validation acc. mean: 0.8682\n",
      "\n",
      "{'addressSize': 40, 'bleachingActivated': False, 'thermometer_size': 11}\n"
     ]
    },
    {
     "name": "stderr",
     "output_type": "stream",
     "text": [
      " 77%|███████▋  | 460/600 [5:30:54<1:53:26, 48.62s/it]"
     ]
    },
    {
     "name": "stdout",
     "output_type": "stream",
     "text": [
      "Train acc. mean: 0.9969 | Validation acc. mean: 0.8689\n",
      "\n",
      "{'addressSize': 40, 'bleachingActivated': False, 'thermometer_size': 12}\n"
     ]
    },
    {
     "name": "stderr",
     "output_type": "stream",
     "text": [
      " 78%|███████▊  | 465/600 [5:35:24<1:58:54, 52.85s/it]"
     ]
    },
    {
     "name": "stdout",
     "output_type": "stream",
     "text": [
      "Train acc. mean: 0.9981 | Validation acc. mean: 0.8663\n",
      "\n",
      "{'addressSize': 40, 'bleachingActivated': False, 'thermometer_size': 13}\n"
     ]
    },
    {
     "name": "stderr",
     "output_type": "stream",
     "text": [
      " 78%|███████▊  | 470/600 [5:40:17<2:05:00, 57.70s/it]"
     ]
    },
    {
     "name": "stdout",
     "output_type": "stream",
     "text": [
      "Train acc. mean: 0.9981 | Validation acc. mean: 0.8693\n",
      "\n",
      "{'addressSize': 40, 'bleachingActivated': False, 'thermometer_size': 14}\n"
     ]
    },
    {
     "name": "stderr",
     "output_type": "stream",
     "text": [
      " 79%|███████▉  | 475/600 [5:45:38<2:10:42, 62.74s/it]"
     ]
    },
    {
     "name": "stdout",
     "output_type": "stream",
     "text": [
      "Train acc. mean: 0.9989 | Validation acc. mean: 0.8740\n",
      "\n",
      "{'addressSize': 40, 'bleachingActivated': False, 'thermometer_size': 15}\n"
     ]
    },
    {
     "name": "stderr",
     "output_type": "stream",
     "text": [
      " 80%|████████  | 480/600 [5:51:15<2:13:17, 66.65s/it]"
     ]
    },
    {
     "name": "stdout",
     "output_type": "stream",
     "text": [
      "Train acc. mean: 0.9991 | Validation acc. mean: 0.8738\n",
      "\n",
      "{'addressSize': 50, 'bleachingActivated': True, 'thermometer_size': 4}\n"
     ]
    },
    {
     "name": "stderr",
     "output_type": "stream",
     "text": [
      " 81%|████████  | 485/600 [5:52:47<51:47, 27.03s/it]  "
     ]
    },
    {
     "name": "stdout",
     "output_type": "stream",
     "text": [
      "Train acc. mean: 0.9943 | Validation acc. mean: 0.8459\n",
      "\n",
      "{'addressSize': 50, 'bleachingActivated': True, 'thermometer_size': 5}\n"
     ]
    },
    {
     "name": "stderr",
     "output_type": "stream",
     "text": [
      " 82%|████████▏ | 490/600 [5:54:39<42:19, 23.08s/it]"
     ]
    },
    {
     "name": "stdout",
     "output_type": "stream",
     "text": [
      "Train acc. mean: 0.9961 | Validation acc. mean: 0.8566\n",
      "\n",
      "{'addressSize': 50, 'bleachingActivated': True, 'thermometer_size': 6}\n"
     ]
    },
    {
     "name": "stderr",
     "output_type": "stream",
     "text": [
      " 82%|████████▎ | 495/600 [5:56:51<45:15, 25.86s/it]"
     ]
    },
    {
     "name": "stdout",
     "output_type": "stream",
     "text": [
      "Train acc. mean: 0.9975 | Validation acc. mean: 0.8554\n",
      "\n",
      "{'addressSize': 50, 'bleachingActivated': True, 'thermometer_size': 7}\n"
     ]
    },
    {
     "name": "stderr",
     "output_type": "stream",
     "text": [
      " 83%|████████▎ | 500/600 [5:59:28<50:44, 30.44s/it]"
     ]
    },
    {
     "name": "stdout",
     "output_type": "stream",
     "text": [
      "Train acc. mean: 0.9987 | Validation acc. mean: 0.8689\n",
      "\n",
      "{'addressSize': 50, 'bleachingActivated': True, 'thermometer_size': 8}\n"
     ]
    },
    {
     "name": "stderr",
     "output_type": "stream",
     "text": [
      " 84%|████████▍ | 505/600 [6:02:23<54:41, 34.54s/it]"
     ]
    },
    {
     "name": "stdout",
     "output_type": "stream",
     "text": [
      "Train acc. mean: 0.9990 | Validation acc. mean: 0.8649\n",
      "\n",
      "{'addressSize': 50, 'bleachingActivated': True, 'thermometer_size': 9}\n"
     ]
    },
    {
     "name": "stderr",
     "output_type": "stream",
     "text": [
      " 85%|████████▌ | 510/600 [6:05:48<59:46, 39.85s/it]"
     ]
    },
    {
     "name": "stdout",
     "output_type": "stream",
     "text": [
      "Train acc. mean: 0.9993 | Validation acc. mean: 0.8652\n",
      "\n",
      "{'addressSize': 50, 'bleachingActivated': True, 'thermometer_size': 10}\n"
     ]
    },
    {
     "name": "stderr",
     "output_type": "stream",
     "text": [
      " 86%|████████▌ | 515/600 [6:09:31<1:02:04, 43.82s/it]"
     ]
    },
    {
     "name": "stdout",
     "output_type": "stream",
     "text": [
      "Train acc. mean: 0.9996 | Validation acc. mean: 0.8702\n",
      "\n",
      "{'addressSize': 50, 'bleachingActivated': True, 'thermometer_size': 11}\n"
     ]
    },
    {
     "name": "stderr",
     "output_type": "stream",
     "text": [
      " 87%|████████▋ | 520/600 [6:13:47<1:06:52, 50.16s/it]"
     ]
    },
    {
     "name": "stdout",
     "output_type": "stream",
     "text": [
      "Train acc. mean: 0.9996 | Validation acc. mean: 0.8662\n",
      "\n",
      "{'addressSize': 50, 'bleachingActivated': True, 'thermometer_size': 12}\n"
     ]
    },
    {
     "name": "stderr",
     "output_type": "stream",
     "text": [
      " 88%|████████▊ | 525/600 [6:18:12<1:05:36, 52.48s/it]"
     ]
    },
    {
     "name": "stdout",
     "output_type": "stream",
     "text": [
      "Train acc. mean: 0.9996 | Validation acc. mean: 0.8704\n",
      "\n",
      "{'addressSize': 50, 'bleachingActivated': True, 'thermometer_size': 13}\n"
     ]
    },
    {
     "name": "stderr",
     "output_type": "stream",
     "text": [
      " 88%|████████▊ | 530/600 [6:23:08<1:08:16, 58.53s/it]"
     ]
    },
    {
     "name": "stdout",
     "output_type": "stream",
     "text": [
      "Train acc. mean: 0.9997 | Validation acc. mean: 0.8749\n",
      "\n",
      "{'addressSize': 50, 'bleachingActivated': True, 'thermometer_size': 14}\n"
     ]
    },
    {
     "name": "stderr",
     "output_type": "stream",
     "text": [
      " 89%|████████▉ | 535/600 [6:28:19<1:06:50, 61.70s/it]"
     ]
    },
    {
     "name": "stdout",
     "output_type": "stream",
     "text": [
      "Train acc. mean: 0.9999 | Validation acc. mean: 0.8707\n",
      "\n",
      "{'addressSize': 50, 'bleachingActivated': True, 'thermometer_size': 15}\n"
     ]
    },
    {
     "name": "stderr",
     "output_type": "stream",
     "text": [
      " 90%|█████████ | 540/600 [6:33:59<1:06:59, 66.99s/it]"
     ]
    },
    {
     "name": "stdout",
     "output_type": "stream",
     "text": [
      "Train acc. mean: 0.9998 | Validation acc. mean: 0.8751\n",
      "\n",
      "{'addressSize': 50, 'bleachingActivated': False, 'thermometer_size': 4}\n"
     ]
    },
    {
     "name": "stderr",
     "output_type": "stream",
     "text": [
      " 91%|█████████ | 545/600 [6:35:27<23:46, 25.94s/it]  "
     ]
    },
    {
     "name": "stdout",
     "output_type": "stream",
     "text": [
      "Train acc. mean: 0.9913 | Validation acc. mean: 0.8307\n",
      "\n",
      "{'addressSize': 50, 'bleachingActivated': False, 'thermometer_size': 5}\n"
     ]
    },
    {
     "name": "stderr",
     "output_type": "stream",
     "text": [
      " 92%|█████████▏| 550/600 [6:37:18<19:05, 22.91s/it]"
     ]
    },
    {
     "name": "stdout",
     "output_type": "stream",
     "text": [
      "Train acc. mean: 0.9959 | Validation acc. mean: 0.8444\n",
      "\n",
      "{'addressSize': 50, 'bleachingActivated': False, 'thermometer_size': 6}\n"
     ]
    },
    {
     "name": "stderr",
     "output_type": "stream",
     "text": [
      " 92%|█████████▎| 555/600 [6:39:30<19:27, 25.94s/it]"
     ]
    },
    {
     "name": "stdout",
     "output_type": "stream",
     "text": [
      "Train acc. mean: 0.9969 | Validation acc. mean: 0.8508\n",
      "\n",
      "{'addressSize': 50, 'bleachingActivated': False, 'thermometer_size': 7}\n"
     ]
    },
    {
     "name": "stderr",
     "output_type": "stream",
     "text": [
      " 93%|█████████▎| 560/600 [6:42:07<20:24, 30.62s/it]"
     ]
    },
    {
     "name": "stdout",
     "output_type": "stream",
     "text": [
      "Train acc. mean: 0.9982 | Validation acc. mean: 0.8629\n",
      "\n",
      "{'addressSize': 50, 'bleachingActivated': False, 'thermometer_size': 8}\n"
     ]
    },
    {
     "name": "stderr",
     "output_type": "stream",
     "text": [
      " 94%|█████████▍| 565/600 [6:45:08<20:11, 34.60s/it]"
     ]
    },
    {
     "name": "stdout",
     "output_type": "stream",
     "text": [
      "Train acc. mean: 0.9986 | Validation acc. mean: 0.8606\n",
      "\n",
      "{'addressSize': 50, 'bleachingActivated': False, 'thermometer_size': 9}\n"
     ]
    },
    {
     "name": "stderr",
     "output_type": "stream",
     "text": [
      " 95%|█████████▌| 570/600 [6:48:29<19:36, 39.22s/it]"
     ]
    },
    {
     "name": "stdout",
     "output_type": "stream",
     "text": [
      "Train acc. mean: 0.9990 | Validation acc. mean: 0.8719\n",
      "\n",
      "{'addressSize': 50, 'bleachingActivated': False, 'thermometer_size': 10}\n"
     ]
    },
    {
     "name": "stderr",
     "output_type": "stream",
     "text": [
      " 96%|█████████▌| 575/600 [6:52:11<18:09, 43.56s/it]"
     ]
    },
    {
     "name": "stdout",
     "output_type": "stream",
     "text": [
      "Train acc. mean: 0.9995 | Validation acc. mean: 0.8697\n",
      "\n",
      "{'addressSize': 50, 'bleachingActivated': False, 'thermometer_size': 11}\n"
     ]
    },
    {
     "name": "stderr",
     "output_type": "stream",
     "text": [
      " 97%|█████████▋| 580/600 [6:56:21<16:07, 48.36s/it]"
     ]
    },
    {
     "name": "stdout",
     "output_type": "stream",
     "text": [
      "Train acc. mean: 0.9996 | Validation acc. mean: 0.8719\n",
      "\n",
      "{'addressSize': 50, 'bleachingActivated': False, 'thermometer_size': 12}\n"
     ]
    },
    {
     "name": "stderr",
     "output_type": "stream",
     "text": [
      " 98%|█████████▊| 585/600 [7:00:44<12:57, 51.84s/it]"
     ]
    },
    {
     "name": "stdout",
     "output_type": "stream",
     "text": [
      "Train acc. mean: 0.9998 | Validation acc. mean: 0.8675\n",
      "\n",
      "{'addressSize': 50, 'bleachingActivated': False, 'thermometer_size': 13}\n"
     ]
    },
    {
     "name": "stderr",
     "output_type": "stream",
     "text": [
      " 98%|█████████▊| 590/600 [7:05:38<09:34, 57.42s/it]"
     ]
    },
    {
     "name": "stdout",
     "output_type": "stream",
     "text": [
      "Train acc. mean: 0.9996 | Validation acc. mean: 0.8776\n",
      "\n",
      "{'addressSize': 50, 'bleachingActivated': False, 'thermometer_size': 14}\n"
     ]
    },
    {
     "name": "stderr",
     "output_type": "stream",
     "text": [
      " 99%|█████████▉| 595/600 [7:10:49<05:06, 61.40s/it]"
     ]
    },
    {
     "name": "stdout",
     "output_type": "stream",
     "text": [
      "Train acc. mean: 0.9999 | Validation acc. mean: 0.8785\n",
      "\n",
      "{'addressSize': 50, 'bleachingActivated': False, 'thermometer_size': 15}\n"
     ]
    },
    {
     "name": "stderr",
     "output_type": "stream",
     "text": [
      "100%|██████████| 600/600 [7:16:31<00:00, 66.71s/it]"
     ]
    },
    {
     "name": "stdout",
     "output_type": "stream",
     "text": [
      "Train acc. mean: 0.9998 | Validation acc. mean: 0.8754\n",
      "\n"
     ]
    }
   ],
   "source": [
    "gs_model1, best_params_model1 = cross_validation_model1(train_eng, train_labels, n_splits=5, addressSize=[10, 20, 30, 40, 50], \n",
    "                                                        thermometer_size=[4, 5, 6, 7, 8, 9, 10, 11, 12, 13, 14, 15], \n",
    "                                                        bleachingActivated=[True, False], thermometer_columns=None)"
   ]
  },
  {
   "cell_type": "code",
   "execution_count": 33,
   "metadata": {},
   "outputs": [
    {
     "data": {
      "text/plain": [
       "{'addressSize': 50, 'bleachingActivated': False, 'thermometer_size': 14}"
      ]
     },
     "execution_count": 33,
     "metadata": {},
     "output_type": "execute_result"
    }
   ],
   "source": [
    "best_params_model1"
   ]
  },
  {
   "cell_type": "code",
   "execution_count": 37,
   "metadata": {},
   "outputs": [
    {
     "data": {
      "text/html": [
       "<div>\n",
       "<style scoped>\n",
       "    .dataframe tbody tr th:only-of-type {\n",
       "        vertical-align: middle;\n",
       "    }\n",
       "\n",
       "    .dataframe tbody tr th {\n",
       "        vertical-align: top;\n",
       "    }\n",
       "\n",
       "    .dataframe thead th {\n",
       "        text-align: right;\n",
       "    }\n",
       "</style>\n",
       "<table border=\"1\" class=\"dataframe\">\n",
       "  <thead>\n",
       "    <tr style=\"text-align: right;\">\n",
       "      <th></th>\n",
       "      <th>addressSize</th>\n",
       "      <th>bleachingActivated</th>\n",
       "      <th>thermometer_size</th>\n",
       "      <th>training_time_mean</th>\n",
       "      <th>training_time_std</th>\n",
       "      <th>training_prediction_time_mean</th>\n",
       "      <th>training_prediction_time_std</th>\n",
       "      <th>validation_prediction_time_mean</th>\n",
       "      <th>validation_prediction_time_std</th>\n",
       "      <th>thermometer_time_mean</th>\n",
       "      <th>thermometer_time_std</th>\n",
       "      <th>training_accuracy_mean</th>\n",
       "      <th>training_accuracy_std</th>\n",
       "      <th>validation_accuracy_mean</th>\n",
       "      <th>validation_accuracy_std</th>\n",
       "      <th>rank</th>\n",
       "    </tr>\n",
       "  </thead>\n",
       "  <tbody>\n",
       "    <tr>\n",
       "      <th>0</th>\n",
       "      <td>50</td>\n",
       "      <td>False</td>\n",
       "      <td>14</td>\n",
       "      <td>1.050038</td>\n",
       "      <td>0.100483</td>\n",
       "      <td>1.903664</td>\n",
       "      <td>0.107853</td>\n",
       "      <td>0.456213</td>\n",
       "      <td>0.036972</td>\n",
       "      <td>58.300183</td>\n",
       "      <td>0.414570</td>\n",
       "      <td>0.999864</td>\n",
       "      <td>0.000167</td>\n",
       "      <td>0.878538</td>\n",
       "      <td>0.020922</td>\n",
       "      <td>1.0</td>\n",
       "    </tr>\n",
       "    <tr>\n",
       "      <th>1</th>\n",
       "      <td>40</td>\n",
       "      <td>True</td>\n",
       "      <td>15</td>\n",
       "      <td>1.155015</td>\n",
       "      <td>0.142177</td>\n",
       "      <td>2.150205</td>\n",
       "      <td>0.087930</td>\n",
       "      <td>0.532353</td>\n",
       "      <td>0.067464</td>\n",
       "      <td>63.016580</td>\n",
       "      <td>0.343022</td>\n",
       "      <td>0.999014</td>\n",
       "      <td>0.000622</td>\n",
       "      <td>0.877860</td>\n",
       "      <td>0.021933</td>\n",
       "      <td>2.0</td>\n",
       "    </tr>\n",
       "    <tr>\n",
       "      <th>2</th>\n",
       "      <td>50</td>\n",
       "      <td>False</td>\n",
       "      <td>13</td>\n",
       "      <td>0.937289</td>\n",
       "      <td>0.039164</td>\n",
       "      <td>1.784808</td>\n",
       "      <td>0.125505</td>\n",
       "      <td>0.402436</td>\n",
       "      <td>0.041004</td>\n",
       "      <td>55.275979</td>\n",
       "      <td>1.661058</td>\n",
       "      <td>0.999626</td>\n",
       "      <td>0.000272</td>\n",
       "      <td>0.877587</td>\n",
       "      <td>0.020783</td>\n",
       "      <td>3.0</td>\n",
       "    </tr>\n",
       "    <tr>\n",
       "      <th>3</th>\n",
       "      <td>40</td>\n",
       "      <td>True</td>\n",
       "      <td>12</td>\n",
       "      <td>0.957398</td>\n",
       "      <td>0.140268</td>\n",
       "      <td>1.841147</td>\n",
       "      <td>0.225698</td>\n",
       "      <td>0.447434</td>\n",
       "      <td>0.092126</td>\n",
       "      <td>50.234657</td>\n",
       "      <td>0.790068</td>\n",
       "      <td>0.998436</td>\n",
       "      <td>0.000542</td>\n",
       "      <td>0.877042</td>\n",
       "      <td>0.021262</td>\n",
       "      <td>4.0</td>\n",
       "    </tr>\n",
       "    <tr>\n",
       "      <th>4</th>\n",
       "      <td>50</td>\n",
       "      <td>False</td>\n",
       "      <td>15</td>\n",
       "      <td>1.101405</td>\n",
       "      <td>0.091224</td>\n",
       "      <td>2.082378</td>\n",
       "      <td>0.122678</td>\n",
       "      <td>0.465581</td>\n",
       "      <td>0.016437</td>\n",
       "      <td>64.311114</td>\n",
       "      <td>3.366207</td>\n",
       "      <td>0.999796</td>\n",
       "      <td>0.000068</td>\n",
       "      <td>0.875410</td>\n",
       "      <td>0.022517</td>\n",
       "      <td>5.0</td>\n",
       "    </tr>\n",
       "    <tr>\n",
       "      <th>...</th>\n",
       "      <td>...</td>\n",
       "      <td>...</td>\n",
       "      <td>...</td>\n",
       "      <td>...</td>\n",
       "      <td>...</td>\n",
       "      <td>...</td>\n",
       "      <td>...</td>\n",
       "      <td>...</td>\n",
       "      <td>...</td>\n",
       "      <td>...</td>\n",
       "      <td>...</td>\n",
       "      <td>...</td>\n",
       "      <td>...</td>\n",
       "      <td>...</td>\n",
       "      <td>...</td>\n",
       "      <td>...</td>\n",
       "    </tr>\n",
       "    <tr>\n",
       "      <th>115</th>\n",
       "      <td>10</td>\n",
       "      <td>False</td>\n",
       "      <td>6</td>\n",
       "      <td>0.513411</td>\n",
       "      <td>0.074930</td>\n",
       "      <td>1.416754</td>\n",
       "      <td>0.224947</td>\n",
       "      <td>0.334889</td>\n",
       "      <td>0.049020</td>\n",
       "      <td>25.804531</td>\n",
       "      <td>0.997018</td>\n",
       "      <td>0.922572</td>\n",
       "      <td>0.004139</td>\n",
       "      <td>0.807810</td>\n",
       "      <td>0.023743</td>\n",
       "      <td>116.0</td>\n",
       "    </tr>\n",
       "    <tr>\n",
       "      <th>116</th>\n",
       "      <td>10</td>\n",
       "      <td>True</td>\n",
       "      <td>6</td>\n",
       "      <td>0.617270</td>\n",
       "      <td>0.283715</td>\n",
       "      <td>2.077487</td>\n",
       "      <td>0.666521</td>\n",
       "      <td>0.498939</td>\n",
       "      <td>0.180973</td>\n",
       "      <td>27.451635</td>\n",
       "      <td>2.912010</td>\n",
       "      <td>0.932773</td>\n",
       "      <td>0.004127</td>\n",
       "      <td>0.804545</td>\n",
       "      <td>0.033746</td>\n",
       "      <td>117.0</td>\n",
       "    </tr>\n",
       "    <tr>\n",
       "      <th>117</th>\n",
       "      <td>10</td>\n",
       "      <td>False</td>\n",
       "      <td>5</td>\n",
       "      <td>0.364300</td>\n",
       "      <td>0.034734</td>\n",
       "      <td>1.082309</td>\n",
       "      <td>0.083240</td>\n",
       "      <td>0.251343</td>\n",
       "      <td>0.011373</td>\n",
       "      <td>21.075563</td>\n",
       "      <td>0.124358</td>\n",
       "      <td>0.910432</td>\n",
       "      <td>0.015458</td>\n",
       "      <td>0.801282</td>\n",
       "      <td>0.031013</td>\n",
       "      <td>118.0</td>\n",
       "    </tr>\n",
       "    <tr>\n",
       "      <th>118</th>\n",
       "      <td>10</td>\n",
       "      <td>True</td>\n",
       "      <td>4</td>\n",
       "      <td>0.699621</td>\n",
       "      <td>0.119526</td>\n",
       "      <td>2.991878</td>\n",
       "      <td>0.238535</td>\n",
       "      <td>0.698589</td>\n",
       "      <td>0.106812</td>\n",
       "      <td>27.613680</td>\n",
       "      <td>1.154062</td>\n",
       "      <td>0.919410</td>\n",
       "      <td>0.011350</td>\n",
       "      <td>0.796112</td>\n",
       "      <td>0.031776</td>\n",
       "      <td>119.0</td>\n",
       "    </tr>\n",
       "    <tr>\n",
       "      <th>119</th>\n",
       "      <td>10</td>\n",
       "      <td>False</td>\n",
       "      <td>4</td>\n",
       "      <td>0.303018</td>\n",
       "      <td>0.023767</td>\n",
       "      <td>0.873024</td>\n",
       "      <td>0.051877</td>\n",
       "      <td>0.206442</td>\n",
       "      <td>0.013962</td>\n",
       "      <td>16.707501</td>\n",
       "      <td>0.231328</td>\n",
       "      <td>0.879217</td>\n",
       "      <td>0.005964</td>\n",
       "      <td>0.775434</td>\n",
       "      <td>0.021071</td>\n",
       "      <td>120.0</td>\n",
       "    </tr>\n",
       "  </tbody>\n",
       "</table>\n",
       "<p>120 rows × 16 columns</p>\n",
       "</div>"
      ],
      "text/plain": [
       "     addressSize  bleachingActivated  thermometer_size  training_time_mean  \\\n",
       "0             50               False                14            1.050038   \n",
       "1             40                True                15            1.155015   \n",
       "2             50               False                13            0.937289   \n",
       "3             40                True                12            0.957398   \n",
       "4             50               False                15            1.101405   \n",
       "..           ...                 ...               ...                 ...   \n",
       "115           10               False                 6            0.513411   \n",
       "116           10                True                 6            0.617270   \n",
       "117           10               False                 5            0.364300   \n",
       "118           10                True                 4            0.699621   \n",
       "119           10               False                 4            0.303018   \n",
       "\n",
       "     training_time_std  training_prediction_time_mean  \\\n",
       "0             0.100483                       1.903664   \n",
       "1             0.142177                       2.150205   \n",
       "2             0.039164                       1.784808   \n",
       "3             0.140268                       1.841147   \n",
       "4             0.091224                       2.082378   \n",
       "..                 ...                            ...   \n",
       "115           0.074930                       1.416754   \n",
       "116           0.283715                       2.077487   \n",
       "117           0.034734                       1.082309   \n",
       "118           0.119526                       2.991878   \n",
       "119           0.023767                       0.873024   \n",
       "\n",
       "     training_prediction_time_std  validation_prediction_time_mean  \\\n",
       "0                        0.107853                         0.456213   \n",
       "1                        0.087930                         0.532353   \n",
       "2                        0.125505                         0.402436   \n",
       "3                        0.225698                         0.447434   \n",
       "4                        0.122678                         0.465581   \n",
       "..                            ...                              ...   \n",
       "115                      0.224947                         0.334889   \n",
       "116                      0.666521                         0.498939   \n",
       "117                      0.083240                         0.251343   \n",
       "118                      0.238535                         0.698589   \n",
       "119                      0.051877                         0.206442   \n",
       "\n",
       "     validation_prediction_time_std  thermometer_time_mean  \\\n",
       "0                          0.036972              58.300183   \n",
       "1                          0.067464              63.016580   \n",
       "2                          0.041004              55.275979   \n",
       "3                          0.092126              50.234657   \n",
       "4                          0.016437              64.311114   \n",
       "..                              ...                    ...   \n",
       "115                        0.049020              25.804531   \n",
       "116                        0.180973              27.451635   \n",
       "117                        0.011373              21.075563   \n",
       "118                        0.106812              27.613680   \n",
       "119                        0.013962              16.707501   \n",
       "\n",
       "     thermometer_time_std  training_accuracy_mean  training_accuracy_std  \\\n",
       "0                0.414570                0.999864               0.000167   \n",
       "1                0.343022                0.999014               0.000622   \n",
       "2                1.661058                0.999626               0.000272   \n",
       "3                0.790068                0.998436               0.000542   \n",
       "4                3.366207                0.999796               0.000068   \n",
       "..                    ...                     ...                    ...   \n",
       "115              0.997018                0.922572               0.004139   \n",
       "116              2.912010                0.932773               0.004127   \n",
       "117              0.124358                0.910432               0.015458   \n",
       "118              1.154062                0.919410               0.011350   \n",
       "119              0.231328                0.879217               0.005964   \n",
       "\n",
       "     validation_accuracy_mean  validation_accuracy_std   rank  \n",
       "0                    0.878538                 0.020922    1.0  \n",
       "1                    0.877860                 0.021933    2.0  \n",
       "2                    0.877587                 0.020783    3.0  \n",
       "3                    0.877042                 0.021262    4.0  \n",
       "4                    0.875410                 0.022517    5.0  \n",
       "..                        ...                      ...    ...  \n",
       "115                  0.807810                 0.023743  116.0  \n",
       "116                  0.804545                 0.033746  117.0  \n",
       "117                  0.801282                 0.031013  118.0  \n",
       "118                  0.796112                 0.031776  119.0  \n",
       "119                  0.775434                 0.021071  120.0  \n",
       "\n",
       "[120 rows x 16 columns]"
      ]
     },
     "execution_count": 37,
     "metadata": {},
     "output_type": "execute_result"
    }
   ],
   "source": [
    "gs_model1 = gs_model1.sort_values('rank').reset_index(drop=True)\n",
    "\n",
    "with open('results/model1_gs_results.pickle', 'wb') as file:\n",
    "    pickle.dump(gs_model1, file)\n",
    "\n",
    "gs_model1"
   ]
  },
  {
   "cell_type": "code",
   "execution_count": null,
   "metadata": {},
   "outputs": [],
   "source": [
    "with open('results/model1_gs_results.pickle', 'rb') as file:\n",
    "    gs_model1 = pickle.load(file)"
   ]
  },
  {
   "cell_type": "code",
   "execution_count": 41,
   "metadata": {},
   "outputs": [
    {
     "name": "stdout",
     "output_type": "stream",
     "text": [
      "Training Accuracy: 0.9993\n",
      "Test Accuracy: 0.8924\n"
     ]
    }
   ],
   "source": [
    "# Preprocessing train_eng, train_labels\n",
    "y_train_str = [str(l) for l in train_labels]\n",
    "y_test_str = [str(l) for l in test_labels]\n",
    "\n",
    "model = wp.Wisard(best_params_model1['addressSize'], bleachingActivated=best_params_model1['bleachingActivated'])\n",
    "thermometer_columns = list(range(train_eng.shape[1]))\n",
    "thermometer = ThermometerEncoder(thermometer_columns, n_bits=best_params_model1['thermometer_size'])\n",
    "\n",
    "X_train = thermometer.fit_transform(train_eng).astype(int).tolist()\n",
    "X_test = thermometer.transform(test_eng).astype(int).tolist()\n",
    "\n",
    "# training\n",
    "model.train(X_train, y_train_str)\n",
    "\n",
    "pred_train = model.classify(X_train)\n",
    "pred_test = model.classify(X_test)\n",
    "\n",
    "training_accuracy = accuracy_score(y_train_str, pred_train)\n",
    "test_accuracy = accuracy_score(y_test_str, pred_test)\n",
    "\n",
    "print(f'Training Accuracy: {training_accuracy:.4f}')\n",
    "print(f'Test Accuracy: {test_accuracy:.4f}')"
   ]
  },
  {
   "cell_type": "code",
   "execution_count": 59,
   "metadata": {},
   "outputs": [],
   "source": [
    "import matplotlib.pyplot as plt\n",
    "from sklearn.metrics import ConfusionMatrixDisplay\n",
    "from sklearn.metrics import confusion_matrix\n",
    "\n",
    "def plot_confusion_matrix(y_true, y_pred, display_labels=None, normalize='true'):\n",
    "    if display_labels is None:\n",
    "        display_labels = np.unique(y_true)\n",
    "            \n",
    "    cm = confusion_matrix(y_true, y_pred, normalize=normalize)\n",
    "    disp = ConfusionMatrixDisplay(confusion_matrix=cm,\n",
    "                                  display_labels=display_labels)\n",
    "    disp.plot(xticks_rotation=90)\n",
    "    disp.ax_.grid(False)"
   ]
  },
  {
   "cell_type": "code",
   "execution_count": 60,
   "metadata": {},
   "outputs": [
    {
     "data": {
      "image/png": "[encoded data removed]",
      "text/plain": [
       "<Figure size 432x288 with 2 Axes>"
      ]
     },
     "metadata": {
      "needs_background": "light"
     },
     "output_type": "display_data"
    }
   ],
   "source": [
    "# NOTE: Fill all variables here with default values of the plot_confusion_matrix\n",
    "display_labels = ['WALKING', 'WALKING_UPSTAIRS', 'WALKING_DOWNSTAIRS',\n",
    "                  'SITTING', 'STANDING', 'LAYING']\n",
    "plot_confusion_matrix(y_test_str, pred_test, display_labels=display_labels)"
   ]
  },
  {
   "cell_type": "code",
   "execution_count": null,
   "metadata": {},
   "outputs": [],
   "source": []
  }
 ],
 "metadata": {
  "kernelspec": {
   "display_name": "Python 3",
   "language": "python",
   "name": "python3"
  },
  "language_info": {
   "codemirror_mode": {
    "name": "ipython",
    "version": 3
   },
   "file_extension": ".py",
   "mimetype": "text/x-python",
   "name": "python",
   "nbconvert_exporter": "python",
   "pygments_lexer": "ipython3",
   "version": "3.7.9"
  }
 },
 "nbformat": 4,
 "nbformat_minor": 4
}
